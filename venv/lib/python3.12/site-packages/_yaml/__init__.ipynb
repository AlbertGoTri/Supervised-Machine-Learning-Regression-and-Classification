{
 "cells": [
  {
   "cell_type": "code",
   "execution_count": null,
   "id": "4a3ea0c5",
   "metadata": {},
   "outputs": [],
   "source": [
    "# This is a stub package designed to roughly emulate the _yaml\n",
    "# extension module, which previously existed as a standalone module\n",
    "# and has been moved into the `yaml` package namespace.\n",
    "# It does not perfectly mimic its old counterpart, but should get\n",
    "# close enough for anyone who's relying on it even when they shouldn't.\n",
    "import yaml"
   ]
  },
  {
   "cell_type": "code",
   "execution_count": null,
   "id": "ac7f96fd",
   "metadata": {},
   "outputs": [],
   "source": [
    "# in some circumstances, the yaml module we imoprted may be from a different version, so we need\n",
    "# to tread carefully when poking at it here (it may not have the attributes we expect)\n",
    "if not getattr(yaml, '__with_libyaml__', False):\n",
    "    from sys import version_info\n",
    "\n",
    "    exc = ModuleNotFoundError if version_info >= (3, 6) else ImportError\n",
    "    raise exc(\"No module named '_yaml'\")\n",
    "else:\n",
    "    from yaml._yaml import *\n",
    "    import warnings\n",
    "    warnings.warn(\n",
    "        'The _yaml extension module is now located at yaml._yaml'\n",
    "        ' and its location is subject to change.  To use the'\n",
    "        ' LibYAML-based parser and emitter, import from `yaml`:'\n",
    "        ' `from yaml import CLoader as Loader, CDumper as Dumper`.',\n",
    "        DeprecationWarning\n",
    "    )\n",
    "    del warnings\n",
    "    # Don't `del yaml` here because yaml is actually an existing\n",
    "    # namespace member of _yaml."
   ]
  },
  {
   "cell_type": "code",
   "execution_count": null,
   "id": "682b1d29",
   "metadata": {},
   "outputs": [],
   "source": [
    "__name__ = '_yaml'\n",
    "# If the module is top-level (i.e. not a part of any specific package)\n",
    "# then the attribute should be set to ''.\n",
    "# https://docs.python.org/3.8/library/types.html\n",
    "__package__ = ''"
   ]
  }
 ],
 "metadata": {
  "jupytext": {
   "cell_metadata_filter": "-all",
   "main_language": "python",
   "notebook_metadata_filter": "-all"
  }
 },
 "nbformat": 4,
 "nbformat_minor": 5
}
