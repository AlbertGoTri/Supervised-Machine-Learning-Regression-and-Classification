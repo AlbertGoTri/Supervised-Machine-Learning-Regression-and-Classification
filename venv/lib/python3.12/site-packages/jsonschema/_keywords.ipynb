{
 "cells": [
  {
   "cell_type": "code",
   "execution_count": null,
   "id": "ec0bcf38",
   "metadata": {},
   "outputs": [],
   "source": [
    "from fractions import Fraction\n",
    "import re"
   ]
  },
  {
   "cell_type": "code",
   "execution_count": null,
   "id": "d5da00a4",
   "metadata": {},
   "outputs": [],
   "source": [
    "from jsonschema._utils import (\n",
    "    ensure_list,\n",
    "    equal,\n",
    "    extras_msg,\n",
    "    find_additional_properties,\n",
    "    find_evaluated_item_indexes_by_schema,\n",
    "    find_evaluated_property_keys_by_schema,\n",
    "    uniq,\n",
    ")\n",
    "from jsonschema.exceptions import FormatError, ValidationError"
   ]
  },
  {
   "cell_type": "code",
   "execution_count": null,
   "id": "46a63bbb",
   "metadata": {},
   "outputs": [],
   "source": [
    "def patternProperties(validator, patternProperties, instance, schema):\n",
    "    if not validator.is_type(instance, \"object\"):\n",
    "        return\n",
    "\n",
    "    for pattern, subschema in patternProperties.items():\n",
    "        for k, v in instance.items():\n",
    "            if re.search(pattern, k):\n",
    "                yield from validator.descend(\n",
    "                    v, subschema, path=k, schema_path=pattern,\n",
    "                )"
   ]
  },
  {
   "cell_type": "code",
   "execution_count": null,
   "id": "daa7ddfc",
   "metadata": {},
   "outputs": [],
   "source": [
    "def propertyNames(validator, propertyNames, instance, schema):\n",
    "    if not validator.is_type(instance, \"object\"):\n",
    "        return\n",
    "\n",
    "    for property in instance:\n",
    "        yield from validator.descend(instance=property, schema=propertyNames)"
   ]
  },
  {
   "cell_type": "code",
   "execution_count": null,
   "id": "5b85802d",
   "metadata": {},
   "outputs": [],
   "source": [
    "def additionalProperties(validator, aP, instance, schema):\n",
    "    if not validator.is_type(instance, \"object\"):\n",
    "        return\n",
    "\n",
    "    extras = set(find_additional_properties(instance, schema))\n",
    "\n",
    "    if validator.is_type(aP, \"object\"):\n",
    "        for extra in extras:\n",
    "            yield from validator.descend(instance[extra], aP, path=extra)\n",
    "    elif not aP and extras:\n",
    "        if \"patternProperties\" in schema:\n",
    "            verb = \"does\" if len(extras) == 1 else \"do\"\n",
    "            joined = \", \".join(repr(each) for each in sorted(extras))\n",
    "            patterns = \", \".join(\n",
    "                repr(each) for each in sorted(schema[\"patternProperties\"])\n",
    "            )\n",
    "            error = f\"{joined} {verb} not match any of the regexes: {patterns}\"\n",
    "            yield ValidationError(error)\n",
    "        else:\n",
    "            error = \"Additional properties are not allowed (%s %s unexpected)\"\n",
    "            yield ValidationError(error % extras_msg(sorted(extras, key=str)))"
   ]
  },
  {
   "cell_type": "code",
   "execution_count": null,
   "id": "1e233866",
   "metadata": {},
   "outputs": [],
   "source": [
    "def items(validator, items, instance, schema):\n",
    "    if not validator.is_type(instance, \"array\"):\n",
    "        return\n",
    "\n",
    "    prefix = len(schema.get(\"prefixItems\", []))\n",
    "    total = len(instance)\n",
    "    extra = total - prefix\n",
    "    if extra <= 0:\n",
    "        return\n",
    "\n",
    "    if items is False:\n",
    "        rest = instance[prefix:] if extra != 1 else instance[prefix]\n",
    "        item = \"items\" if prefix != 1 else \"item\"\n",
    "        yield ValidationError(\n",
    "            f\"Expected at most {prefix} {item} but found {extra} \"\n",
    "            f\"extra: {rest!r}\",\n",
    "        )\n",
    "    else:\n",
    "        for index in range(prefix, total):\n",
    "            yield from validator.descend(\n",
    "                instance=instance[index],\n",
    "                schema=items,\n",
    "                path=index,\n",
    "            )"
   ]
  },
  {
   "cell_type": "code",
   "execution_count": null,
   "id": "82100815",
   "metadata": {},
   "outputs": [],
   "source": [
    "def const(validator, const, instance, schema):\n",
    "    if not equal(instance, const):\n",
    "        yield ValidationError(f\"{const!r} was expected\")"
   ]
  },
  {
   "cell_type": "code",
   "execution_count": null,
   "id": "7ad5c273",
   "metadata": {},
   "outputs": [],
   "source": [
    "def contains(validator, contains, instance, schema):\n",
    "    if not validator.is_type(instance, \"array\"):\n",
    "        return\n",
    "\n",
    "    matches = 0\n",
    "    min_contains = schema.get(\"minContains\", 1)\n",
    "    max_contains = schema.get(\"maxContains\", len(instance))\n",
    "\n",
    "    contains_validator = validator.evolve(schema=contains)\n",
    "\n",
    "    for each in instance:\n",
    "        if contains_validator.is_valid(each):\n",
    "            matches += 1\n",
    "            if matches > max_contains:\n",
    "                yield ValidationError(\n",
    "                    \"Too many items match the given schema \"\n",
    "                    f\"(expected at most {max_contains})\",\n",
    "                    validator=\"maxContains\",\n",
    "                    validator_value=max_contains,\n",
    "                )\n",
    "                return\n",
    "\n",
    "    if matches < min_contains:\n",
    "        if not matches:\n",
    "            yield ValidationError(\n",
    "                f\"{instance!r} does not contain items \"\n",
    "                \"matching the given schema\",\n",
    "            )\n",
    "        else:\n",
    "            yield ValidationError(\n",
    "                \"Too few items match the given schema (expected at least \"\n",
    "                f\"{min_contains} but only {matches} matched)\",\n",
    "                validator=\"minContains\",\n",
    "                validator_value=min_contains,\n",
    "            )"
   ]
  },
  {
   "cell_type": "code",
   "execution_count": null,
   "id": "5e852267",
   "metadata": {},
   "outputs": [],
   "source": [
    "def exclusiveMinimum(validator, minimum, instance, schema):\n",
    "    if not validator.is_type(instance, \"number\"):\n",
    "        return\n",
    "\n",
    "    if instance <= minimum:\n",
    "        yield ValidationError(\n",
    "            f\"{instance!r} is less than or equal to \"\n",
    "            f\"the minimum of {minimum!r}\",\n",
    "        )"
   ]
  },
  {
   "cell_type": "code",
   "execution_count": null,
   "id": "36080378",
   "metadata": {},
   "outputs": [],
   "source": [
    "def exclusiveMaximum(validator, maximum, instance, schema):\n",
    "    if not validator.is_type(instance, \"number\"):\n",
    "        return\n",
    "\n",
    "    if instance >= maximum:\n",
    "        yield ValidationError(\n",
    "            f\"{instance!r} is greater than or equal \"\n",
    "            f\"to the maximum of {maximum!r}\",\n",
    "        )"
   ]
  },
  {
   "cell_type": "code",
   "execution_count": null,
   "id": "2ec318a0",
   "metadata": {},
   "outputs": [],
   "source": [
    "def minimum(validator, minimum, instance, schema):\n",
    "    if not validator.is_type(instance, \"number\"):\n",
    "        return\n",
    "\n",
    "    if instance < minimum:\n",
    "        message = f\"{instance!r} is less than the minimum of {minimum!r}\"\n",
    "        yield ValidationError(message)"
   ]
  },
  {
   "cell_type": "code",
   "execution_count": null,
   "id": "a07573de",
   "metadata": {},
   "outputs": [],
   "source": [
    "def maximum(validator, maximum, instance, schema):\n",
    "    if not validator.is_type(instance, \"number\"):\n",
    "        return\n",
    "\n",
    "    if instance > maximum:\n",
    "        message = f\"{instance!r} is greater than the maximum of {maximum!r}\"\n",
    "        yield ValidationError(message)"
   ]
  },
  {
   "cell_type": "code",
   "execution_count": null,
   "id": "5f5f0bd3",
   "metadata": {},
   "outputs": [],
   "source": [
    "def multipleOf(validator, dB, instance, schema):\n",
    "    if not validator.is_type(instance, \"number\"):\n",
    "        return\n",
    "\n",
    "    if isinstance(dB, float):\n",
    "        quotient = instance / dB\n",
    "        try:\n",
    "            failed = int(quotient) != quotient\n",
    "        except OverflowError:\n",
    "            # When `instance` is large and `dB` is less than one,\n",
    "            # quotient can overflow to infinity; and then casting to int\n",
    "            # raises an error.\n",
    "            #\n",
    "            # In this case we fall back to Fraction logic, which is\n",
    "            # exact and cannot overflow.  The performance is also\n",
    "            # acceptable: we try the fast all-float option first, and\n",
    "            # we know that fraction(dB) can have at most a few hundred\n",
    "            # digits in each part.  The worst-case slowdown is therefore\n",
    "            # for already-slow enormous integers or Decimals.\n",
    "            failed = (Fraction(instance) / Fraction(dB)).denominator != 1\n",
    "    else:\n",
    "        failed = instance % dB\n",
    "\n",
    "    if failed:\n",
    "        yield ValidationError(f\"{instance!r} is not a multiple of {dB}\")"
   ]
  },
  {
   "cell_type": "code",
   "execution_count": null,
   "id": "2d303c47",
   "metadata": {},
   "outputs": [],
   "source": [
    "def minItems(validator, mI, instance, schema):\n",
    "    if validator.is_type(instance, \"array\") and len(instance) < mI:\n",
    "        message = \"should be non-empty\" if mI == 1 else \"is too short\"\n",
    "        yield ValidationError(f\"{instance!r} {message}\")"
   ]
  },
  {
   "cell_type": "code",
   "execution_count": null,
   "id": "65fb0957",
   "metadata": {},
   "outputs": [],
   "source": [
    "def maxItems(validator, mI, instance, schema):\n",
    "    if validator.is_type(instance, \"array\") and len(instance) > mI:\n",
    "        message = \"is expected to be empty\" if mI == 0 else \"is too long\"\n",
    "        yield ValidationError(f\"{instance!r} {message}\")"
   ]
  },
  {
   "cell_type": "code",
   "execution_count": null,
   "id": "5e6ab673",
   "metadata": {},
   "outputs": [],
   "source": [
    "def uniqueItems(validator, uI, instance, schema):\n",
    "    if (\n",
    "        uI\n",
    "        and validator.is_type(instance, \"array\")\n",
    "        and not uniq(instance)\n",
    "    ):\n",
    "        yield ValidationError(f\"{instance!r} has non-unique elements\")"
   ]
  },
  {
   "cell_type": "code",
   "execution_count": null,
   "id": "587b24f5",
   "metadata": {},
   "outputs": [],
   "source": [
    "def pattern(validator, patrn, instance, schema):\n",
    "    if (\n",
    "        validator.is_type(instance, \"string\")\n",
    "        and not re.search(patrn, instance)\n",
    "    ):\n",
    "        yield ValidationError(f\"{instance!r} does not match {patrn!r}\")"
   ]
  },
  {
   "cell_type": "code",
   "execution_count": null,
   "id": "73e13f10",
   "metadata": {},
   "outputs": [],
   "source": [
    "def format(validator, format, instance, schema):\n",
    "    if validator.format_checker is not None:\n",
    "        try:\n",
    "            validator.format_checker.check(instance, format)\n",
    "        except FormatError as error:\n",
    "            yield ValidationError(error.message, cause=error.cause)"
   ]
  },
  {
   "cell_type": "code",
   "execution_count": null,
   "id": "6d4ca536",
   "metadata": {},
   "outputs": [],
   "source": [
    "def minLength(validator, mL, instance, schema):\n",
    "    if validator.is_type(instance, \"string\") and len(instance) < mL:\n",
    "        message = \"should be non-empty\" if mL == 1 else \"is too short\"\n",
    "        yield ValidationError(f\"{instance!r} {message}\")"
   ]
  },
  {
   "cell_type": "code",
   "execution_count": null,
   "id": "777d5150",
   "metadata": {},
   "outputs": [],
   "source": [
    "def maxLength(validator, mL, instance, schema):\n",
    "    if validator.is_type(instance, \"string\") and len(instance) > mL:\n",
    "        message = \"is expected to be empty\" if mL == 0 else \"is too long\"\n",
    "        yield ValidationError(f\"{instance!r} {message}\")"
   ]
  },
  {
   "cell_type": "code",
   "execution_count": null,
   "id": "f5d75157",
   "metadata": {},
   "outputs": [],
   "source": [
    "def dependentRequired(validator, dependentRequired, instance, schema):\n",
    "    if not validator.is_type(instance, \"object\"):\n",
    "        return\n",
    "\n",
    "    for property, dependency in dependentRequired.items():\n",
    "        if property not in instance:\n",
    "            continue\n",
    "\n",
    "        for each in dependency:\n",
    "            if each not in instance:\n",
    "                message = f\"{each!r} is a dependency of {property!r}\"\n",
    "                yield ValidationError(message)"
   ]
  },
  {
   "cell_type": "code",
   "execution_count": null,
   "id": "074cab82",
   "metadata": {},
   "outputs": [],
   "source": [
    "def dependentSchemas(validator, dependentSchemas, instance, schema):\n",
    "    if not validator.is_type(instance, \"object\"):\n",
    "        return\n",
    "\n",
    "    for property, dependency in dependentSchemas.items():\n",
    "        if property not in instance:\n",
    "            continue\n",
    "        yield from validator.descend(\n",
    "            instance, dependency, schema_path=property,\n",
    "        )"
   ]
  },
  {
   "cell_type": "code",
   "execution_count": null,
   "id": "e6e966af",
   "metadata": {},
   "outputs": [],
   "source": [
    "def enum(validator, enums, instance, schema):\n",
    "    if all(not equal(each, instance) for each in enums):\n",
    "        yield ValidationError(f\"{instance!r} is not one of {enums!r}\")"
   ]
  },
  {
   "cell_type": "code",
   "execution_count": null,
   "id": "f5fa7889",
   "metadata": {},
   "outputs": [],
   "source": [
    "def ref(validator, ref, instance, schema):\n",
    "    yield from validator._validate_reference(ref=ref, instance=instance)"
   ]
  },
  {
   "cell_type": "code",
   "execution_count": null,
   "id": "8b5ff641",
   "metadata": {},
   "outputs": [],
   "source": [
    "def dynamicRef(validator, dynamicRef, instance, schema):\n",
    "    yield from validator._validate_reference(ref=dynamicRef, instance=instance)"
   ]
  },
  {
   "cell_type": "code",
   "execution_count": null,
   "id": "e28471a6",
   "metadata": {},
   "outputs": [],
   "source": [
    "def type(validator, types, instance, schema):\n",
    "    types = ensure_list(types)\n",
    "\n",
    "    if not any(validator.is_type(instance, type) for type in types):\n",
    "        reprs = \", \".join(repr(type) for type in types)\n",
    "        yield ValidationError(f\"{instance!r} is not of type {reprs}\")"
   ]
  },
  {
   "cell_type": "code",
   "execution_count": null,
   "id": "19d24b0b",
   "metadata": {},
   "outputs": [],
   "source": [
    "def properties(validator, properties, instance, schema):\n",
    "    if not validator.is_type(instance, \"object\"):\n",
    "        return\n",
    "\n",
    "    for property, subschema in properties.items():\n",
    "        if property in instance:\n",
    "            yield from validator.descend(\n",
    "                instance[property],\n",
    "                subschema,\n",
    "                path=property,\n",
    "                schema_path=property,\n",
    "            )"
   ]
  },
  {
   "cell_type": "code",
   "execution_count": null,
   "id": "a1864656",
   "metadata": {},
   "outputs": [],
   "source": [
    "def required(validator, required, instance, schema):\n",
    "    if not validator.is_type(instance, \"object\"):\n",
    "        return\n",
    "    for property in required:\n",
    "        if property not in instance:\n",
    "            yield ValidationError(f\"{property!r} is a required property\")"
   ]
  },
  {
   "cell_type": "code",
   "execution_count": null,
   "id": "43fbab52",
   "metadata": {},
   "outputs": [],
   "source": [
    "def minProperties(validator, mP, instance, schema):\n",
    "    if validator.is_type(instance, \"object\") and len(instance) < mP:\n",
    "        message = (\n",
    "            \"should be non-empty\" if mP == 1\n",
    "            else \"does not have enough properties\"\n",
    "        )\n",
    "        yield ValidationError(f\"{instance!r} {message}\")"
   ]
  },
  {
   "cell_type": "code",
   "execution_count": null,
   "id": "33d909f2",
   "metadata": {},
   "outputs": [],
   "source": [
    "def maxProperties(validator, mP, instance, schema):\n",
    "    if not validator.is_type(instance, \"object\"):\n",
    "        return\n",
    "    if validator.is_type(instance, \"object\") and len(instance) > mP:\n",
    "        message = (\n",
    "            \"is expected to be empty\" if mP == 0\n",
    "            else \"has too many properties\"\n",
    "        )\n",
    "        yield ValidationError(f\"{instance!r} {message}\")"
   ]
  },
  {
   "cell_type": "code",
   "execution_count": null,
   "id": "cfbc168f",
   "metadata": {},
   "outputs": [],
   "source": [
    "def allOf(validator, allOf, instance, schema):\n",
    "    for index, subschema in enumerate(allOf):\n",
    "        yield from validator.descend(instance, subschema, schema_path=index)"
   ]
  },
  {
   "cell_type": "code",
   "execution_count": null,
   "id": "622745da",
   "metadata": {},
   "outputs": [],
   "source": [
    "def anyOf(validator, anyOf, instance, schema):\n",
    "    all_errors = []\n",
    "    for index, subschema in enumerate(anyOf):\n",
    "        errs = list(validator.descend(instance, subschema, schema_path=index))\n",
    "        if not errs:\n",
    "            break\n",
    "        all_errors.extend(errs)\n",
    "    else:\n",
    "        yield ValidationError(\n",
    "            f\"{instance!r} is not valid under any of the given schemas\",\n",
    "            context=all_errors,\n",
    "        )"
   ]
  },
  {
   "cell_type": "code",
   "execution_count": null,
   "id": "81662de8",
   "metadata": {},
   "outputs": [],
   "source": [
    "def oneOf(validator, oneOf, instance, schema):\n",
    "    subschemas = enumerate(oneOf)\n",
    "    all_errors = []\n",
    "    for index, subschema in subschemas:\n",
    "        errs = list(validator.descend(instance, subschema, schema_path=index))\n",
    "        if not errs:\n",
    "            first_valid = subschema\n",
    "            break\n",
    "        all_errors.extend(errs)\n",
    "    else:\n",
    "        yield ValidationError(\n",
    "            f\"{instance!r} is not valid under any of the given schemas\",\n",
    "            context=all_errors,\n",
    "        )\n",
    "\n",
    "    more_valid = [\n",
    "        each for _, each in subschemas\n",
    "        if validator.evolve(schema=each).is_valid(instance)\n",
    "    ]\n",
    "    if more_valid:\n",
    "        more_valid.append(first_valid)\n",
    "        reprs = \", \".join(repr(schema) for schema in more_valid)\n",
    "        yield ValidationError(f\"{instance!r} is valid under each of {reprs}\")"
   ]
  },
  {
   "cell_type": "code",
   "execution_count": null,
   "id": "e1d7d0d2",
   "metadata": {},
   "outputs": [],
   "source": [
    "def not_(validator, not_schema, instance, schema):\n",
    "    if validator.evolve(schema=not_schema).is_valid(instance):\n",
    "        message = f\"{instance!r} should not be valid under {not_schema!r}\"\n",
    "        yield ValidationError(message)"
   ]
  },
  {
   "cell_type": "code",
   "execution_count": null,
   "id": "064ac86b",
   "metadata": {},
   "outputs": [],
   "source": [
    "def if_(validator, if_schema, instance, schema):\n",
    "    if validator.evolve(schema=if_schema).is_valid(instance):\n",
    "        if \"then\" in schema:\n",
    "            then = schema[\"then\"]\n",
    "            yield from validator.descend(instance, then, schema_path=\"then\")\n",
    "    elif \"else\" in schema:\n",
    "        else_ = schema[\"else\"]\n",
    "        yield from validator.descend(instance, else_, schema_path=\"else\")"
   ]
  },
  {
   "cell_type": "code",
   "execution_count": null,
   "id": "aad38f05",
   "metadata": {},
   "outputs": [],
   "source": [
    "def unevaluatedItems(validator, unevaluatedItems, instance, schema):\n",
    "    if not validator.is_type(instance, \"array\"):\n",
    "        return\n",
    "    evaluated_item_indexes = find_evaluated_item_indexes_by_schema(\n",
    "        validator, instance, schema,\n",
    "    )\n",
    "    unevaluated_items = [\n",
    "        item for index, item in enumerate(instance)\n",
    "        if index not in evaluated_item_indexes\n",
    "    ]\n",
    "    if unevaluated_items:\n",
    "        error = \"Unevaluated items are not allowed (%s %s unexpected)\"\n",
    "        yield ValidationError(error % extras_msg(unevaluated_items))"
   ]
  },
  {
   "cell_type": "code",
   "execution_count": null,
   "id": "bc75c81c",
   "metadata": {},
   "outputs": [],
   "source": [
    "def unevaluatedProperties(validator, unevaluatedProperties, instance, schema):\n",
    "    if not validator.is_type(instance, \"object\"):\n",
    "        return\n",
    "    evaluated_keys = find_evaluated_property_keys_by_schema(\n",
    "        validator, instance, schema,\n",
    "    )\n",
    "    unevaluated_keys = []\n",
    "    for property in instance:\n",
    "        if property not in evaluated_keys:\n",
    "            for _ in validator.descend(\n",
    "                instance[property],\n",
    "                unevaluatedProperties,\n",
    "                path=property,\n",
    "                schema_path=property,\n",
    "            ):\n",
    "                # FIXME: Include context for each unevaluated property\n",
    "                #        indicating why it's invalid under the subschema.\n",
    "                unevaluated_keys.append(property)  # noqa: PERF401\n",
    "\n",
    "    if unevaluated_keys:\n",
    "        if unevaluatedProperties is False:\n",
    "            error = \"Unevaluated properties are not allowed (%s %s unexpected)\"\n",
    "            extras = sorted(unevaluated_keys, key=str)\n",
    "            yield ValidationError(error % extras_msg(extras))\n",
    "        else:\n",
    "            error = (\n",
    "                \"Unevaluated properties are not valid under \"\n",
    "                \"the given schema (%s %s unevaluated and invalid)\"\n",
    "            )\n",
    "            yield ValidationError(error % extras_msg(unevaluated_keys))"
   ]
  },
  {
   "cell_type": "code",
   "execution_count": null,
   "id": "b492b436",
   "metadata": {},
   "outputs": [],
   "source": [
    "def prefixItems(validator, prefixItems, instance, schema):\n",
    "    if not validator.is_type(instance, \"array\"):\n",
    "        return\n",
    "\n",
    "    for (index, item), subschema in zip(enumerate(instance), prefixItems):\n",
    "        yield from validator.descend(\n",
    "            instance=item,\n",
    "            schema=subschema,\n",
    "            schema_path=index,\n",
    "            path=index,\n",
    "        )"
   ]
  }
 ],
 "metadata": {
  "jupytext": {
   "cell_metadata_filter": "-all",
   "main_language": "python",
   "notebook_metadata_filter": "-all"
  }
 },
 "nbformat": 4,
 "nbformat_minor": 5
}
