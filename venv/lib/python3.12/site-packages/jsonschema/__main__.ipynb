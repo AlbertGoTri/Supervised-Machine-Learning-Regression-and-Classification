{
 "cells": [
  {
   "cell_type": "code",
   "execution_count": null,
   "id": "41b929c7",
   "metadata": {},
   "outputs": [],
   "source": [
    "\"\"\"\n",
    "The jsonschema CLI is now deprecated in favor of check-jsonschema.\n",
    "\"\"\"\n",
    "from jsonschema.cli import main"
   ]
  },
  {
   "cell_type": "code",
   "execution_count": null,
   "id": "fc9f9d77",
   "metadata": {},
   "outputs": [],
   "source": [
    "main()"
   ]
  }
 ],
 "metadata": {
  "jupytext": {
   "cell_metadata_filter": "-all",
   "main_language": "python",
   "notebook_metadata_filter": "-all"
  }
 },
 "nbformat": 4,
 "nbformat_minor": 5
}
