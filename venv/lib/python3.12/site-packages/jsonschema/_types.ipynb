{
 "cells": [
  {
   "cell_type": "code",
   "execution_count": null,
   "id": "d664bb75",
   "metadata": {},
   "outputs": [],
   "source": [
    "from __future__ import annotations"
   ]
  },
  {
   "cell_type": "code",
   "execution_count": null,
   "id": "7f6f0538",
   "metadata": {},
   "outputs": [],
   "source": [
    "from typing import TYPE_CHECKING\n",
    "import numbers"
   ]
  },
  {
   "cell_type": "code",
   "execution_count": null,
   "id": "fdf0b4e3",
   "metadata": {},
   "outputs": [],
   "source": [
    "from attrs import evolve, field, frozen\n",
    "from rpds import HashTrieMap"
   ]
  },
  {
   "cell_type": "code",
   "execution_count": null,
   "id": "8f323619",
   "metadata": {},
   "outputs": [],
   "source": [
    "from jsonschema.exceptions import UndefinedTypeCheck"
   ]
  },
  {
   "cell_type": "code",
   "execution_count": null,
   "id": "d446204e",
   "metadata": {},
   "outputs": [],
   "source": [
    "if TYPE_CHECKING:\n",
    "    from collections.abc import Mapping\n",
    "    from typing import Any, Callable"
   ]
  },
  {
   "cell_type": "code",
   "execution_count": null,
   "id": "434116e6",
   "metadata": {},
   "outputs": [],
   "source": [
    "# unfortunately, the type of HashTrieMap is generic, and if used as an attrs\n",
    "# converter, the generic type is presented to mypy, which then fails to match\n",
    "# the concrete type of a type checker mapping\n",
    "# this \"do nothing\" wrapper presents the correct information to mypy\n",
    "def _typed_map_converter(\n",
    "    init_val: Mapping[str, Callable[[TypeChecker, Any], bool]],\n",
    ") -> HashTrieMap[str, Callable[[TypeChecker, Any], bool]]:\n",
    "    return HashTrieMap.convert(init_val)"
   ]
  },
  {
   "cell_type": "code",
   "execution_count": null,
   "id": "4220be50",
   "metadata": {},
   "outputs": [],
   "source": [
    "def is_array(checker, instance):\n",
    "    return isinstance(instance, list)"
   ]
  },
  {
   "cell_type": "code",
   "execution_count": null,
   "id": "f9e23371",
   "metadata": {},
   "outputs": [],
   "source": [
    "def is_bool(checker, instance):\n",
    "    return isinstance(instance, bool)"
   ]
  },
  {
   "cell_type": "code",
   "execution_count": null,
   "id": "1e5be64b",
   "metadata": {},
   "outputs": [],
   "source": [
    "def is_integer(checker, instance):\n",
    "    # bool inherits from int, so ensure bools aren't reported as ints\n",
    "    if isinstance(instance, bool):\n",
    "        return False\n",
    "    return isinstance(instance, int)"
   ]
  },
  {
   "cell_type": "code",
   "execution_count": null,
   "id": "636ae747",
   "metadata": {},
   "outputs": [],
   "source": [
    "def is_null(checker, instance):\n",
    "    return instance is None"
   ]
  },
  {
   "cell_type": "code",
   "execution_count": null,
   "id": "75ec9ff3",
   "metadata": {},
   "outputs": [],
   "source": [
    "def is_number(checker, instance):\n",
    "    # bool inherits from int, so ensure bools aren't reported as ints\n",
    "    if isinstance(instance, bool):\n",
    "        return False\n",
    "    return isinstance(instance, numbers.Number)"
   ]
  },
  {
   "cell_type": "code",
   "execution_count": null,
   "id": "aa97a524",
   "metadata": {},
   "outputs": [],
   "source": [
    "def is_object(checker, instance):\n",
    "    return isinstance(instance, dict)"
   ]
  },
  {
   "cell_type": "code",
   "execution_count": null,
   "id": "2beff7b8",
   "metadata": {},
   "outputs": [],
   "source": [
    "def is_string(checker, instance):\n",
    "    return isinstance(instance, str)"
   ]
  },
  {
   "cell_type": "code",
   "execution_count": null,
   "id": "ea60d8cc",
   "metadata": {},
   "outputs": [],
   "source": [
    "def is_any(checker, instance):\n",
    "    return True"
   ]
  },
  {
   "cell_type": "code",
   "execution_count": null,
   "id": "e732a88d",
   "metadata": {},
   "outputs": [],
   "source": [
    "@frozen(repr=False)\n",
    "class TypeChecker:\n",
    "    \"\"\"\n",
    "    A :kw:`type` property checker.\n",
    "\n",
    "    A `TypeChecker` performs type checking for a `Validator`, converting\n",
    "    between the defined JSON Schema types and some associated Python types or\n",
    "    objects.\n",
    "\n",
    "    Modifying the behavior just mentioned by redefining which Python objects\n",
    "    are considered to be of which JSON Schema types can be done using\n",
    "    `TypeChecker.redefine` or `TypeChecker.redefine_many`, and types can be\n",
    "    removed via `TypeChecker.remove`. Each of these return a new `TypeChecker`.\n",
    "\n",
    "    Arguments:\n",
    "\n",
    "        type_checkers:\n",
    "\n",
    "            The initial mapping of types to their checking functions.\n",
    "\n",
    "    \"\"\"\n",
    "\n",
    "    _type_checkers: HashTrieMap[\n",
    "        str, Callable[[TypeChecker, Any], bool],\n",
    "    ] = field(default=HashTrieMap(), converter=_typed_map_converter)\n",
    "\n",
    "    def __repr__(self):\n",
    "        types = \", \".join(repr(k) for k in sorted(self._type_checkers))\n",
    "        return f\"<{self.__class__.__name__} types={{{types}}}>\"\n",
    "\n",
    "    def is_type(self, instance, type: str) -> bool:\n",
    "        \"\"\"\n",
    "        Check if the instance is of the appropriate type.\n",
    "\n",
    "        Arguments:\n",
    "\n",
    "            instance:\n",
    "\n",
    "                The instance to check\n",
    "\n",
    "            type:\n",
    "\n",
    "                The name of the type that is expected.\n",
    "\n",
    "        Raises:\n",
    "\n",
    "            `jsonschema.exceptions.UndefinedTypeCheck`:\n",
    "\n",
    "                if ``type`` is unknown to this object.\n",
    "\n",
    "        \"\"\"\n",
    "        try:\n",
    "            fn = self._type_checkers[type]\n",
    "        except KeyError:\n",
    "            raise UndefinedTypeCheck(type) from None\n",
    "\n",
    "        return fn(self, instance)\n",
    "\n",
    "    def redefine(self, type: str, fn) -> TypeChecker:\n",
    "        \"\"\"\n",
    "        Produce a new checker with the given type redefined.\n",
    "\n",
    "        Arguments:\n",
    "\n",
    "            type:\n",
    "\n",
    "                The name of the type to check.\n",
    "\n",
    "            fn (collections.abc.Callable):\n",
    "\n",
    "                A callable taking exactly two parameters - the type\n",
    "                checker calling the function and the instance to check.\n",
    "                The function should return true if instance is of this\n",
    "                type and false otherwise.\n",
    "\n",
    "        \"\"\"\n",
    "        return self.redefine_many({type: fn})\n",
    "\n",
    "    def redefine_many(self, definitions=()) -> TypeChecker:\n",
    "        \"\"\"\n",
    "        Produce a new checker with the given types redefined.\n",
    "\n",
    "        Arguments:\n",
    "\n",
    "            definitions (dict):\n",
    "\n",
    "                A dictionary mapping types to their checking functions.\n",
    "\n",
    "        \"\"\"\n",
    "        type_checkers = self._type_checkers.update(definitions)\n",
    "        return evolve(self, type_checkers=type_checkers)\n",
    "\n",
    "    def remove(self, *types) -> TypeChecker:\n",
    "        \"\"\"\n",
    "        Produce a new checker with the given types forgotten.\n",
    "\n",
    "        Arguments:\n",
    "\n",
    "            types:\n",
    "\n",
    "                the names of the types to remove.\n",
    "\n",
    "        Raises:\n",
    "\n",
    "            `jsonschema.exceptions.UndefinedTypeCheck`:\n",
    "\n",
    "                if any given type is unknown to this object\n",
    "\n",
    "        \"\"\"\n",
    "        type_checkers = self._type_checkers\n",
    "        for each in types:\n",
    "            try:\n",
    "                type_checkers = type_checkers.remove(each)\n",
    "            except KeyError:\n",
    "                raise UndefinedTypeCheck(each) from None\n",
    "        return evolve(self, type_checkers=type_checkers)"
   ]
  },
  {
   "cell_type": "code",
   "execution_count": null,
   "id": "b3f64d13",
   "metadata": {},
   "outputs": [],
   "source": [
    "draft3_type_checker = TypeChecker(\n",
    "    {\n",
    "        \"any\": is_any,\n",
    "        \"array\": is_array,\n",
    "        \"boolean\": is_bool,\n",
    "        \"integer\": is_integer,\n",
    "        \"object\": is_object,\n",
    "        \"null\": is_null,\n",
    "        \"number\": is_number,\n",
    "        \"string\": is_string,\n",
    "    },\n",
    ")\n",
    "draft4_type_checker = draft3_type_checker.remove(\"any\")\n",
    "draft6_type_checker = draft4_type_checker.redefine(\n",
    "    \"integer\",\n",
    "    lambda checker, instance: (\n",
    "        is_integer(checker, instance)\n",
    "        or (isinstance(instance, float) and instance.is_integer())\n",
    "    ),\n",
    ")\n",
    "draft7_type_checker = draft6_type_checker\n",
    "draft201909_type_checker = draft7_type_checker\n",
    "draft202012_type_checker = draft201909_type_checker"
   ]
  }
 ],
 "metadata": {
  "jupytext": {
   "cell_metadata_filter": "-all",
   "main_language": "python",
   "notebook_metadata_filter": "-all"
  }
 },
 "nbformat": 4,
 "nbformat_minor": 5
}
