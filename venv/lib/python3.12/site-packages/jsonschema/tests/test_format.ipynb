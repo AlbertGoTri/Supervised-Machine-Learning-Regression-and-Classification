{
 "cells": [
  {
   "cell_type": "code",
   "execution_count": null,
   "id": "6f4e62bf",
   "metadata": {},
   "outputs": [],
   "source": [
    "\"\"\"\n",
    "Tests for the parts of jsonschema related to the :kw:`format` keyword.\n",
    "\"\"\""
   ]
  },
  {
   "cell_type": "code",
   "execution_count": null,
   "id": "82abe973",
   "metadata": {},
   "outputs": [],
   "source": [
    "from unittest import TestCase"
   ]
  },
  {
   "cell_type": "code",
   "execution_count": null,
   "id": "18915745",
   "metadata": {},
   "outputs": [],
   "source": [
    "from jsonschema import FormatChecker, ValidationError\n",
    "from jsonschema.exceptions import FormatError\n",
    "from jsonschema.validators import Draft4Validator"
   ]
  },
  {
   "cell_type": "code",
   "execution_count": null,
   "id": "7d7c9cb4",
   "metadata": {},
   "outputs": [],
   "source": [
    "BOOM = ValueError(\"Boom!\")\n",
    "BANG = ZeroDivisionError(\"Bang!\")"
   ]
  },
  {
   "cell_type": "code",
   "execution_count": null,
   "id": "94e31604",
   "metadata": {},
   "outputs": [],
   "source": [
    "def boom(thing):\n",
    "    if thing == \"bang\":\n",
    "        raise BANG\n",
    "    raise BOOM"
   ]
  },
  {
   "cell_type": "code",
   "execution_count": null,
   "id": "6474a0f1",
   "metadata": {},
   "outputs": [],
   "source": [
    "class TestFormatChecker(TestCase):\n",
    "    def test_it_can_validate_no_formats(self):\n",
    "        checker = FormatChecker(formats=())\n",
    "        self.assertFalse(checker.checkers)\n",
    "\n",
    "    def test_it_raises_a_key_error_for_unknown_formats(self):\n",
    "        with self.assertRaises(KeyError):\n",
    "            FormatChecker(formats=[\"o noes\"])\n",
    "\n",
    "    def test_it_can_register_cls_checkers(self):\n",
    "        original = dict(FormatChecker.checkers)\n",
    "        self.addCleanup(FormatChecker.checkers.pop, \"boom\")\n",
    "        with self.assertWarns(DeprecationWarning):\n",
    "            FormatChecker.cls_checks(\"boom\")(boom)\n",
    "        self.assertEqual(\n",
    "            FormatChecker.checkers,\n",
    "            dict(original, boom=(boom, ())),\n",
    "        )\n",
    "\n",
    "    def test_it_can_register_checkers(self):\n",
    "        checker = FormatChecker()\n",
    "        checker.checks(\"boom\")(boom)\n",
    "        self.assertEqual(\n",
    "            checker.checkers,\n",
    "            dict(FormatChecker.checkers, boom=(boom, ())),\n",
    "        )\n",
    "\n",
    "    def test_it_catches_registered_errors(self):\n",
    "        checker = FormatChecker()\n",
    "        checker.checks(\"boom\", raises=type(BOOM))(boom)\n",
    "\n",
    "        with self.assertRaises(FormatError) as cm:\n",
    "            checker.check(instance=12, format=\"boom\")\n",
    "\n",
    "        self.assertIs(cm.exception.cause, BOOM)\n",
    "        self.assertIs(cm.exception.__cause__, BOOM)\n",
    "        self.assertEqual(str(cm.exception), \"12 is not a 'boom'\")\n",
    "\n",
    "        # Unregistered errors should not be caught\n",
    "        with self.assertRaises(type(BANG)):\n",
    "            checker.check(instance=\"bang\", format=\"boom\")\n",
    "\n",
    "    def test_format_error_causes_become_validation_error_causes(self):\n",
    "        checker = FormatChecker()\n",
    "        checker.checks(\"boom\", raises=ValueError)(boom)\n",
    "        validator = Draft4Validator({\"format\": \"boom\"}, format_checker=checker)\n",
    "\n",
    "        with self.assertRaises(ValidationError) as cm:\n",
    "            validator.validate(\"BOOM\")\n",
    "\n",
    "        self.assertIs(cm.exception.cause, BOOM)\n",
    "        self.assertIs(cm.exception.__cause__, BOOM)\n",
    "\n",
    "    def test_format_checkers_come_with_defaults(self):\n",
    "        # This is bad :/ but relied upon.\n",
    "        # The docs for quite awhile recommended people do things like\n",
    "        # validate(..., format_checker=FormatChecker())\n",
    "        # We should change that, but we can't without deprecation...\n",
    "        checker = FormatChecker()\n",
    "        with self.assertRaises(FormatError):\n",
    "            checker.check(instance=\"not-an-ipv4\", format=\"ipv4\")\n",
    "\n",
    "    def test_repr(self):\n",
    "        checker = FormatChecker(formats=())\n",
    "        checker.checks(\"foo\")(lambda thing: True)  # pragma: no cover\n",
    "        checker.checks(\"bar\")(lambda thing: True)  # pragma: no cover\n",
    "        checker.checks(\"baz\")(lambda thing: True)  # pragma: no cover\n",
    "        self.assertEqual(\n",
    "            repr(checker),\n",
    "            \"<FormatChecker checkers=['bar', 'baz', 'foo']>\",\n",
    "        )"
   ]
  }
 ],
 "metadata": {
  "jupytext": {
   "cell_metadata_filter": "-all",
   "main_language": "python",
   "notebook_metadata_filter": "-all"
  }
 },
 "nbformat": 4,
 "nbformat_minor": 5
}
