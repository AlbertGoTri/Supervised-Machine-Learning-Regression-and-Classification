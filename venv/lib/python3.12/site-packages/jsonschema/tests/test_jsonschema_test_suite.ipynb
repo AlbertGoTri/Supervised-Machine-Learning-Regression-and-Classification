{
 "cells": [
  {
   "cell_type": "code",
   "execution_count": null,
   "id": "ddef0413",
   "metadata": {
    "lines_to_next_cell": 2
   },
   "outputs": [],
   "source": [
    "\"\"\"\n",
    "Test runner for the JSON Schema official test suite\n",
    "\n",
    "Tests comprehensive correctness of each draft's validator.\n",
    "\n",
    "See https://github.com/json-schema-org/JSON-Schema-Test-Suite for details.\n",
    "\"\"\""
   ]
  },
  {
   "cell_type": "code",
   "execution_count": null,
   "id": "e562a49e",
   "metadata": {},
   "outputs": [],
   "source": [
    "from jsonschema.tests._suite import Suite\n",
    "import jsonschema"
   ]
  },
  {
   "cell_type": "code",
   "execution_count": null,
   "id": "7826105e",
   "metadata": {},
   "outputs": [],
   "source": [
    "SUITE = Suite()\n",
    "DRAFT3 = SUITE.version(name=\"draft3\")\n",
    "DRAFT4 = SUITE.version(name=\"draft4\")\n",
    "DRAFT6 = SUITE.version(name=\"draft6\")\n",
    "DRAFT7 = SUITE.version(name=\"draft7\")\n",
    "DRAFT201909 = SUITE.version(name=\"draft2019-09\")\n",
    "DRAFT202012 = SUITE.version(name=\"draft2020-12\")"
   ]
  },
  {
   "cell_type": "code",
   "execution_count": null,
   "id": "ef071145",
   "metadata": {},
   "outputs": [],
   "source": [
    "def skip(message, **kwargs):\n",
    "    def skipper(test):\n",
    "        if all(value == getattr(test, attr) for attr, value in kwargs.items()):\n",
    "            return message\n",
    "    return skipper"
   ]
  },
  {
   "cell_type": "code",
   "execution_count": null,
   "id": "899b0b9f",
   "metadata": {},
   "outputs": [],
   "source": [
    "def ecmascript_regex(test):\n",
    "    if test.subject == \"ecmascript-regex\":\n",
    "        return \"ECMA regex support will be added in #1142.\""
   ]
  },
  {
   "cell_type": "code",
   "execution_count": null,
   "id": "05b6f962",
   "metadata": {},
   "outputs": [],
   "source": [
    "def missing_format(Validator):\n",
    "    def missing_format(test):  # pragma: no cover\n",
    "        schema = test.schema\n",
    "        if (\n",
    "            schema is True\n",
    "            or schema is False\n",
    "            or \"format\" not in schema\n",
    "            or schema[\"format\"] in Validator.FORMAT_CHECKER.checkers\n",
    "            or test.valid\n",
    "        ):\n",
    "            return\n",
    "\n",
    "        return f\"Format checker {schema['format']!r} not found.\"\n",
    "    return missing_format"
   ]
  },
  {
   "cell_type": "code",
   "execution_count": null,
   "id": "ff0880a8",
   "metadata": {},
   "outputs": [],
   "source": [
    "def complex_email_validation(test):\n",
    "    if test.subject != \"email\":\n",
    "        return\n",
    "\n",
    "    message = \"Complex email validation is (intentionally) unsupported.\"\n",
    "    return skip(\n",
    "        message=message,\n",
    "        description=\"an invalid domain\",\n",
    "    )(test) or skip(\n",
    "        message=message,\n",
    "        description=\"an invalid IPv4-address-literal\",\n",
    "    )(test) or skip(\n",
    "        message=message,\n",
    "        description=\"dot after local part is not valid\",\n",
    "    )(test) or skip(\n",
    "        message=message,\n",
    "        description=\"dot before local part is not valid\",\n",
    "    )(test) or skip(\n",
    "        message=message,\n",
    "        description=\"two subsequent dots inside local part are not valid\",\n",
    "    )(test)"
   ]
  },
  {
   "cell_type": "code",
   "execution_count": null,
   "id": "a471fa54",
   "metadata": {},
   "outputs": [],
   "source": [
    "def leap_second(test):\n",
    "    message = \"Leap seconds are unsupported.\"\n",
    "    return skip(\n",
    "        message=message,\n",
    "        subject=\"time\",\n",
    "        description=\"a valid time string with leap second\",\n",
    "    )(test) or skip(\n",
    "        message=message,\n",
    "        subject=\"time\",\n",
    "        description=\"a valid time string with leap second, Zulu\",\n",
    "    )(test) or skip(\n",
    "        message=message,\n",
    "        subject=\"time\",\n",
    "        description=\"a valid time string with leap second with offset\",\n",
    "    )(test) or skip(\n",
    "        message=message,\n",
    "        subject=\"time\",\n",
    "        description=\"valid leap second, positive time-offset\",\n",
    "    )(test) or skip(\n",
    "        message=message,\n",
    "        subject=\"time\",\n",
    "        description=\"valid leap second, negative time-offset\",\n",
    "    )(test) or skip(\n",
    "        message=message,\n",
    "        subject=\"time\",\n",
    "        description=\"valid leap second, large positive time-offset\",\n",
    "    )(test) or skip(\n",
    "        message=message,\n",
    "        subject=\"time\",\n",
    "        description=\"valid leap second, large negative time-offset\",\n",
    "    )(test) or skip(\n",
    "        message=message,\n",
    "        subject=\"time\",\n",
    "        description=\"valid leap second, zero time-offset\",\n",
    "    )(test) or skip(\n",
    "        message=message,\n",
    "        subject=\"date-time\",\n",
    "        description=\"a valid date-time with a leap second, UTC\",\n",
    "    )(test) or skip(\n",
    "        message=message,\n",
    "        subject=\"date-time\",\n",
    "        description=\"a valid date-time with a leap second, with minus offset\",\n",
    "    )(test)"
   ]
  },
  {
   "cell_type": "code",
   "execution_count": null,
   "id": "633292bb",
   "metadata": {
    "lines_to_next_cell": 2
   },
   "outputs": [],
   "source": [
    "TestDraft3 = DRAFT3.to_unittest_testcase(\n",
    "    DRAFT3.cases(),\n",
    "    DRAFT3.format_cases(),\n",
    "    DRAFT3.optional_cases_of(name=\"bignum\"),\n",
    "    DRAFT3.optional_cases_of(name=\"non-bmp-regex\"),\n",
    "    DRAFT3.optional_cases_of(name=\"zeroTerminatedFloats\"),\n",
    "    Validator=jsonschema.Draft3Validator,\n",
    "    format_checker=jsonschema.Draft3Validator.FORMAT_CHECKER,\n",
    "    skip=lambda test: (\n",
    "        ecmascript_regex(test)\n",
    "        or missing_format(jsonschema.Draft3Validator)(test)\n",
    "        or complex_email_validation(test)\n",
    "    ),\n",
    ")"
   ]
  },
  {
   "cell_type": "code",
   "execution_count": null,
   "id": "6742806d",
   "metadata": {
    "lines_to_next_cell": 2
   },
   "outputs": [],
   "source": [
    "TestDraft4 = DRAFT4.to_unittest_testcase(\n",
    "    DRAFT4.cases(),\n",
    "    DRAFT4.format_cases(),\n",
    "    DRAFT4.optional_cases_of(name=\"bignum\"),\n",
    "    DRAFT4.optional_cases_of(name=\"float-overflow\"),\n",
    "    DRAFT4.optional_cases_of(name=\"id\"),\n",
    "    DRAFT4.optional_cases_of(name=\"non-bmp-regex\"),\n",
    "    DRAFT4.optional_cases_of(name=\"zeroTerminatedFloats\"),\n",
    "    Validator=jsonschema.Draft4Validator,\n",
    "    format_checker=jsonschema.Draft4Validator.FORMAT_CHECKER,\n",
    "    skip=lambda test: (\n",
    "        ecmascript_regex(test)\n",
    "        or leap_second(test)\n",
    "        or missing_format(jsonschema.Draft4Validator)(test)\n",
    "        or complex_email_validation(test)\n",
    "    ),\n",
    ")"
   ]
  },
  {
   "cell_type": "code",
   "execution_count": null,
   "id": "f8695806",
   "metadata": {
    "lines_to_next_cell": 2
   },
   "outputs": [],
   "source": [
    "TestDraft6 = DRAFT6.to_unittest_testcase(\n",
    "    DRAFT6.cases(),\n",
    "    DRAFT6.format_cases(),\n",
    "    DRAFT6.optional_cases_of(name=\"bignum\"),\n",
    "    DRAFT6.optional_cases_of(name=\"float-overflow\"),\n",
    "    DRAFT6.optional_cases_of(name=\"id\"),\n",
    "    DRAFT6.optional_cases_of(name=\"non-bmp-regex\"),\n",
    "    Validator=jsonschema.Draft6Validator,\n",
    "    format_checker=jsonschema.Draft6Validator.FORMAT_CHECKER,\n",
    "    skip=lambda test: (\n",
    "        ecmascript_regex(test)\n",
    "        or leap_second(test)\n",
    "        or missing_format(jsonschema.Draft6Validator)(test)\n",
    "        or complex_email_validation(test)\n",
    "    ),\n",
    ")"
   ]
  },
  {
   "cell_type": "code",
   "execution_count": null,
   "id": "daba2432",
   "metadata": {
    "lines_to_next_cell": 2
   },
   "outputs": [],
   "source": [
    "TestDraft7 = DRAFT7.to_unittest_testcase(\n",
    "    DRAFT7.cases(),\n",
    "    DRAFT7.format_cases(),\n",
    "    DRAFT7.optional_cases_of(name=\"bignum\"),\n",
    "    DRAFT7.optional_cases_of(name=\"cross-draft\"),\n",
    "    DRAFT7.optional_cases_of(name=\"float-overflow\"),\n",
    "    DRAFT6.optional_cases_of(name=\"id\"),\n",
    "    DRAFT7.optional_cases_of(name=\"non-bmp-regex\"),\n",
    "    DRAFT7.optional_cases_of(name=\"unknownKeyword\"),\n",
    "    Validator=jsonschema.Draft7Validator,\n",
    "    format_checker=jsonschema.Draft7Validator.FORMAT_CHECKER,\n",
    "    skip=lambda test: (\n",
    "        ecmascript_regex(test)\n",
    "        or leap_second(test)\n",
    "        or missing_format(jsonschema.Draft7Validator)(test)\n",
    "        or complex_email_validation(test)\n",
    "    ),\n",
    ")"
   ]
  },
  {
   "cell_type": "code",
   "execution_count": null,
   "id": "f80f7dc8",
   "metadata": {
    "lines_to_next_cell": 2
   },
   "outputs": [],
   "source": [
    "TestDraft201909 = DRAFT201909.to_unittest_testcase(\n",
    "    DRAFT201909.cases(),\n",
    "    DRAFT201909.optional_cases_of(name=\"anchor\"),\n",
    "    DRAFT201909.optional_cases_of(name=\"bignum\"),\n",
    "    DRAFT201909.optional_cases_of(name=\"cross-draft\"),\n",
    "    DRAFT201909.optional_cases_of(name=\"float-overflow\"),\n",
    "    DRAFT201909.optional_cases_of(name=\"id\"),\n",
    "    DRAFT201909.optional_cases_of(name=\"no-schema\"),\n",
    "    DRAFT201909.optional_cases_of(name=\"non-bmp-regex\"),\n",
    "    DRAFT201909.optional_cases_of(name=\"refOfUnknownKeyword\"),\n",
    "    DRAFT201909.optional_cases_of(name=\"unknownKeyword\"),\n",
    "    Validator=jsonschema.Draft201909Validator,\n",
    "    skip=skip(\n",
    "        message=\"Vocabulary support is still in-progress.\",\n",
    "        subject=\"vocabulary\",\n",
    "        description=(\n",
    "            \"no validation: invalid number, but it still validates\"\n",
    "        ),\n",
    "    ),\n",
    ")"
   ]
  },
  {
   "cell_type": "code",
   "execution_count": null,
   "id": "be4e589a",
   "metadata": {
    "lines_to_next_cell": 2
   },
   "outputs": [],
   "source": [
    "TestDraft201909Format = DRAFT201909.to_unittest_testcase(\n",
    "    DRAFT201909.format_cases(),\n",
    "    name=\"TestDraft201909Format\",\n",
    "    Validator=jsonschema.Draft201909Validator,\n",
    "    format_checker=jsonschema.Draft201909Validator.FORMAT_CHECKER,\n",
    "    skip=lambda test: (\n",
    "        complex_email_validation(test)\n",
    "        or ecmascript_regex(test)\n",
    "        or leap_second(test)\n",
    "        or missing_format(jsonschema.Draft201909Validator)(test)\n",
    "        or complex_email_validation(test)\n",
    "    ),\n",
    ")"
   ]
  },
  {
   "cell_type": "code",
   "execution_count": null,
   "id": "9896b9f0",
   "metadata": {
    "lines_to_next_cell": 2
   },
   "outputs": [],
   "source": [
    "TestDraft202012 = DRAFT202012.to_unittest_testcase(\n",
    "    DRAFT202012.cases(),\n",
    "    DRAFT201909.optional_cases_of(name=\"anchor\"),\n",
    "    DRAFT202012.optional_cases_of(name=\"bignum\"),\n",
    "    DRAFT202012.optional_cases_of(name=\"cross-draft\"),\n",
    "    DRAFT202012.optional_cases_of(name=\"float-overflow\"),\n",
    "    DRAFT202012.optional_cases_of(name=\"id\"),\n",
    "    DRAFT202012.optional_cases_of(name=\"no-schema\"),\n",
    "    DRAFT202012.optional_cases_of(name=\"non-bmp-regex\"),\n",
    "    DRAFT202012.optional_cases_of(name=\"refOfUnknownKeyword\"),\n",
    "    DRAFT202012.optional_cases_of(name=\"unknownKeyword\"),\n",
    "    Validator=jsonschema.Draft202012Validator,\n",
    "    skip=skip(\n",
    "        message=\"Vocabulary support is still in-progress.\",\n",
    "        subject=\"vocabulary\",\n",
    "        description=(\n",
    "            \"no validation: invalid number, but it still validates\"\n",
    "        ),\n",
    "    ),\n",
    ")"
   ]
  },
  {
   "cell_type": "code",
   "execution_count": null,
   "id": "e1b4c665",
   "metadata": {},
   "outputs": [],
   "source": [
    "TestDraft202012Format = DRAFT202012.to_unittest_testcase(\n",
    "    DRAFT202012.format_cases(),\n",
    "    name=\"TestDraft202012Format\",\n",
    "    Validator=jsonschema.Draft202012Validator,\n",
    "    format_checker=jsonschema.Draft202012Validator.FORMAT_CHECKER,\n",
    "    skip=lambda test: (\n",
    "        complex_email_validation(test)\n",
    "        or ecmascript_regex(test)\n",
    "        or leap_second(test)\n",
    "        or missing_format(jsonschema.Draft202012Validator)(test)\n",
    "        or complex_email_validation(test)\n",
    "    ),\n",
    ")"
   ]
  }
 ],
 "metadata": {
  "jupytext": {
   "cell_metadata_filter": "-all",
   "main_language": "python",
   "notebook_metadata_filter": "-all"
  }
 },
 "nbformat": 4,
 "nbformat_minor": 5
}
