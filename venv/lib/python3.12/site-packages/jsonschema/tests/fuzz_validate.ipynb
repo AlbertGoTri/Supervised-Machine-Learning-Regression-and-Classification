{
 "cells": [
  {
   "cell_type": "code",
   "execution_count": null,
   "id": "8b61aee5",
   "metadata": {},
   "outputs": [],
   "source": [
    "\"\"\"\n",
    "Fuzzing setup for OSS-Fuzz.\n",
    "\n",
    "See https://github.com/google/oss-fuzz/tree/master/projects/jsonschema for the\n",
    "other half of the setup here.\n",
    "\"\"\"\n",
    "import sys"
   ]
  },
  {
   "cell_type": "code",
   "execution_count": null,
   "id": "a29aaba4",
   "metadata": {},
   "outputs": [],
   "source": [
    "from hypothesis import given, strategies"
   ]
  },
  {
   "cell_type": "code",
   "execution_count": null,
   "id": "092b143f",
   "metadata": {},
   "outputs": [],
   "source": [
    "import jsonschema"
   ]
  },
  {
   "cell_type": "code",
   "execution_count": null,
   "id": "4d95e37a",
   "metadata": {},
   "outputs": [],
   "source": [
    "PRIM = strategies.one_of(\n",
    "    strategies.booleans(),\n",
    "    strategies.integers(),\n",
    "    strategies.floats(allow_nan=False, allow_infinity=False),\n",
    "    strategies.text(),\n",
    ")\n",
    "DICT = strategies.recursive(\n",
    "    base=strategies.one_of(\n",
    "        strategies.booleans(),\n",
    "        strategies.dictionaries(strategies.text(), PRIM),\n",
    "    ),\n",
    "    extend=lambda inner: strategies.dictionaries(strategies.text(), inner),\n",
    ")"
   ]
  },
  {
   "cell_type": "code",
   "execution_count": null,
   "id": "67af6cf8",
   "metadata": {},
   "outputs": [],
   "source": [
    "@given(obj1=DICT, obj2=DICT)\n",
    "def test_schemas(obj1, obj2):\n",
    "    try:\n",
    "        jsonschema.validate(instance=obj1, schema=obj2)\n",
    "    except jsonschema.exceptions.ValidationError:\n",
    "        pass\n",
    "    except jsonschema.exceptions.SchemaError:\n",
    "        pass"
   ]
  },
  {
   "cell_type": "code",
   "execution_count": null,
   "id": "62e361d5",
   "metadata": {},
   "outputs": [],
   "source": [
    "def main():\n",
    "    atheris.instrument_all()\n",
    "    atheris.Setup(\n",
    "        sys.argv,\n",
    "        test_schemas.hypothesis.fuzz_one_input,\n",
    "        enable_python_coverage=True,\n",
    "    )\n",
    "    atheris.Fuzz()"
   ]
  },
  {
   "cell_type": "code",
   "execution_count": null,
   "id": "90348ca4",
   "metadata": {},
   "outputs": [],
   "source": [
    "if __name__ == \"__main__\":\n",
    "    import atheris\n",
    "    main()"
   ]
  }
 ],
 "metadata": {
  "jupytext": {
   "cell_metadata_filter": "-all",
   "main_language": "python",
   "notebook_metadata_filter": "-all"
  }
 },
 "nbformat": 4,
 "nbformat_minor": 5
}
