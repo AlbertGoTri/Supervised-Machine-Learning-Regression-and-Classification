{
 "cells": [
  {
   "cell_type": "code",
   "execution_count": null,
   "id": "23c8a033",
   "metadata": {},
   "outputs": [],
   "source": [
    "\"\"\"\n",
    "A performance benchmark using the example from issue #232.\n",
    "\n",
    "See https://github.com/python-jsonschema/jsonschema/pull/232.\n",
    "\"\"\"\n",
    "from pathlib import Path"
   ]
  },
  {
   "cell_type": "code",
   "execution_count": null,
   "id": "34034117",
   "metadata": {},
   "outputs": [],
   "source": [
    "from pyperf import Runner\n",
    "from referencing import Registry"
   ]
  },
  {
   "cell_type": "code",
   "execution_count": null,
   "id": "f95475bc",
   "metadata": {},
   "outputs": [],
   "source": [
    "from jsonschema.tests._suite import Version\n",
    "import jsonschema"
   ]
  },
  {
   "cell_type": "code",
   "execution_count": null,
   "id": "e42a49cc",
   "metadata": {
    "lines_to_next_cell": 2
   },
   "outputs": [],
   "source": [
    "issue232 = Version(\n",
    "    path=Path(__file__).parent / \"issue232\",\n",
    "    remotes=Registry(),\n",
    "    name=\"issue232\",\n",
    ")"
   ]
  },
  {
   "cell_type": "code",
   "execution_count": null,
   "id": "ac29efbc",
   "metadata": {},
   "outputs": [],
   "source": [
    "if __name__ == \"__main__\":\n",
    "    issue232.benchmark(\n",
    "        runner=Runner(),\n",
    "        Validator=jsonschema.Draft4Validator,\n",
    "    )"
   ]
  }
 ],
 "metadata": {
  "jupytext": {
   "cell_metadata_filter": "-all",
   "main_language": "python",
   "notebook_metadata_filter": "-all"
  }
 },
 "nbformat": 4,
 "nbformat_minor": 5
}
