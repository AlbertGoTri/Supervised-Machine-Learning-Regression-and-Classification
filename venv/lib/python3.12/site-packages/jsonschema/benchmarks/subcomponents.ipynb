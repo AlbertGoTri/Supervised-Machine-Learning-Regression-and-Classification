{
 "cells": [
  {
   "cell_type": "code",
   "execution_count": null,
   "id": "463ac420",
   "metadata": {},
   "outputs": [],
   "source": [
    "\"\"\"\n",
    "A benchmark which tries to compare the possible slow subparts of validation.\n",
    "\"\"\"\n",
    "from referencing import Registry\n",
    "from referencing.jsonschema import DRAFT202012\n",
    "from rpds import HashTrieMap, HashTrieSet"
   ]
  },
  {
   "cell_type": "code",
   "execution_count": null,
   "id": "c87c568d",
   "metadata": {},
   "outputs": [],
   "source": [
    "from jsonschema import Draft202012Validator"
   ]
  },
  {
   "cell_type": "code",
   "execution_count": null,
   "id": "b5e0140c",
   "metadata": {},
   "outputs": [],
   "source": [
    "schema = {\n",
    "    \"type\": \"array\",\n",
    "    \"minLength\": 1,\n",
    "    \"maxLength\": 1,\n",
    "    \"items\": {\"type\": \"integer\"},\n",
    "}"
   ]
  },
  {
   "cell_type": "code",
   "execution_count": null,
   "id": "e866aa80",
   "metadata": {},
   "outputs": [],
   "source": [
    "hmap = HashTrieMap()\n",
    "hset = HashTrieSet()"
   ]
  },
  {
   "cell_type": "code",
   "execution_count": null,
   "id": "0fa6a0b3",
   "metadata": {},
   "outputs": [],
   "source": [
    "registry = Registry()"
   ]
  },
  {
   "cell_type": "code",
   "execution_count": null,
   "id": "2b1ea7c3",
   "metadata": {},
   "outputs": [],
   "source": [
    "v = Draft202012Validator(schema)"
   ]
  },
  {
   "cell_type": "code",
   "execution_count": null,
   "id": "4674139f",
   "metadata": {},
   "outputs": [],
   "source": [
    "def registry_data_structures():\n",
    "    return hmap.insert(\"foo\", \"bar\"), hset.insert(\"foo\")"
   ]
  },
  {
   "cell_type": "code",
   "execution_count": null,
   "id": "c7438a51",
   "metadata": {},
   "outputs": [],
   "source": [
    "def registry_add():\n",
    "    resource = DRAFT202012.create_resource(schema)\n",
    "    return registry.with_resource(uri=\"urn:example\", resource=resource)"
   ]
  },
  {
   "cell_type": "code",
   "execution_count": null,
   "id": "7231af76",
   "metadata": {},
   "outputs": [],
   "source": [
    "if __name__ == \"__main__\":\n",
    "    from pyperf import Runner\n",
    "    runner = Runner()\n",
    "\n",
    "    runner.bench_func(\"HashMap/HashSet insertion\", registry_data_structures)\n",
    "    runner.bench_func(\"Registry insertion\", registry_add)\n",
    "    runner.bench_func(\"Success\", lambda: v.is_valid([1]))\n",
    "    runner.bench_func(\"Failure\", lambda: v.is_valid([\"foo\"]))\n",
    "    runner.bench_func(\"Metaschema validation\", lambda: v.check_schema(schema))"
   ]
  }
 ],
 "metadata": {
  "jupytext": {
   "cell_metadata_filter": "-all",
   "main_language": "python",
   "notebook_metadata_filter": "-all"
  }
 },
 "nbformat": 4,
 "nbformat_minor": 5
}
