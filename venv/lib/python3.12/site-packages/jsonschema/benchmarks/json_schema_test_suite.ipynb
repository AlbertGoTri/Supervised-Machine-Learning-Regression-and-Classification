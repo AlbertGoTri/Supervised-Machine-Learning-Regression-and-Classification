{
 "cells": [
  {
   "cell_type": "code",
   "execution_count": null,
   "id": "fb48376f",
   "metadata": {},
   "outputs": [],
   "source": [
    "\"\"\"\n",
    "A performance benchmark using the official test suite.\n",
    "\n",
    "This benchmarks jsonschema using every valid example in the\n",
    "JSON-Schema-Test-Suite. It will take some time to complete.\n",
    "\"\"\"\n",
    "from pyperf import Runner"
   ]
  },
  {
   "cell_type": "code",
   "execution_count": null,
   "id": "41c5ffe6",
   "metadata": {},
   "outputs": [],
   "source": [
    "from jsonschema.tests._suite import Suite"
   ]
  },
  {
   "cell_type": "code",
   "execution_count": null,
   "id": "ea60b0b9",
   "metadata": {},
   "outputs": [],
   "source": [
    "if __name__ == \"__main__\":\n",
    "    Suite().benchmark(runner=Runner())"
   ]
  }
 ],
 "metadata": {
  "jupytext": {
   "cell_metadata_filter": "-all",
   "main_language": "python",
   "notebook_metadata_filter": "-all"
  }
 },
 "nbformat": 4,
 "nbformat_minor": 5
}
