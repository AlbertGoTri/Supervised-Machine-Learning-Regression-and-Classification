{
 "cells": [
  {
   "cell_type": "code",
   "execution_count": null,
   "id": "5fb598bb",
   "metadata": {},
   "outputs": [],
   "source": [
    "\"\"\"\n",
    "Benchmarks for validation.\n",
    "\n",
    "This package is *not* public API.\n",
    "\"\"\""
   ]
  }
 ],
 "metadata": {
  "jupytext": {
   "cell_metadata_filter": "-all",
   "main_language": "python",
   "notebook_metadata_filter": "-all"
  }
 },
 "nbformat": 4,
 "nbformat_minor": 5
}
