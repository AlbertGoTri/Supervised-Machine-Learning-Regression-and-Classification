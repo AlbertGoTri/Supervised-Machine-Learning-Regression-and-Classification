{
 "cells": [
  {
   "cell_type": "code",
   "execution_count": null,
   "id": "fd10a24a",
   "metadata": {},
   "outputs": [],
   "source": [
    "\"\"\"\n",
    "An unused schema registry should not cause slower validation.\n",
    "\n",
    "\"Unused\" here means one where no reference resolution is occurring anyhow.\n",
    "\n",
    "See https://github.com/python-jsonschema/jsonschema/issues/1088.\n",
    "\"\"\"\n",
    "from pyperf import Runner\n",
    "from referencing import Registry\n",
    "from referencing.jsonschema import DRAFT201909"
   ]
  },
  {
   "cell_type": "code",
   "execution_count": null,
   "id": "80210e2f",
   "metadata": {},
   "outputs": [],
   "source": [
    "from jsonschema import Draft201909Validator"
   ]
  },
  {
   "cell_type": "code",
   "execution_count": null,
   "id": "c9092773",
   "metadata": {},
   "outputs": [],
   "source": [
    "registry = Registry().with_resource(\n",
    "    \"urn:example:foo\",\n",
    "    DRAFT201909.create_resource({}),\n",
    ")"
   ]
  },
  {
   "cell_type": "code",
   "execution_count": null,
   "id": "506ac100",
   "metadata": {},
   "outputs": [],
   "source": [
    "schema = {\"$ref\": \"https://json-schema.org/draft/2019-09/schema\"}\n",
    "instance = {\"maxLength\": 4}"
   ]
  },
  {
   "cell_type": "code",
   "execution_count": null,
   "id": "91ca2ab8",
   "metadata": {},
   "outputs": [],
   "source": [
    "no_registry = Draft201909Validator(schema)\n",
    "with_useless_registry = Draft201909Validator(schema, registry=registry)"
   ]
  },
  {
   "cell_type": "code",
   "execution_count": null,
   "id": "65b20c31",
   "metadata": {},
   "outputs": [],
   "source": [
    "if __name__ == \"__main__\":\n",
    "    runner = Runner()\n",
    "\n",
    "    runner.bench_func(\n",
    "        \"no registry\",\n",
    "        lambda: no_registry.is_valid(instance),\n",
    "    )\n",
    "    runner.bench_func(\n",
    "        \"useless registry\",\n",
    "        lambda: with_useless_registry.is_valid(instance),\n",
    "    )"
   ]
  }
 ],
 "metadata": {
  "jupytext": {
   "cell_metadata_filter": "-all",
   "main_language": "python",
   "notebook_metadata_filter": "-all"
  }
 },
 "nbformat": 4,
 "nbformat_minor": 5
}
