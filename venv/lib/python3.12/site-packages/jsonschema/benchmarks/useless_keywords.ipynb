{
 "cells": [
  {
   "cell_type": "code",
   "execution_count": null,
   "id": "706d249b",
   "metadata": {},
   "outputs": [],
   "source": [
    "\"\"\"\n",
    "A benchmark for validation of schemas containing lots of useless keywords.\n",
    "\n",
    "Checks we filter them out once, ahead of time.\n",
    "\"\"\""
   ]
  },
  {
   "cell_type": "code",
   "execution_count": null,
   "id": "69ef591b",
   "metadata": {},
   "outputs": [],
   "source": [
    "from pyperf import Runner"
   ]
  },
  {
   "cell_type": "code",
   "execution_count": null,
   "id": "bc80fdbc",
   "metadata": {},
   "outputs": [],
   "source": [
    "from jsonschema import Draft202012Validator"
   ]
  },
  {
   "cell_type": "code",
   "execution_count": null,
   "id": "93fa90cd",
   "metadata": {},
   "outputs": [],
   "source": [
    "NUM_USELESS = 100000\n",
    "schema = dict(\n",
    "    [\n",
    "        (\"not\", {\"const\": 42}),\n",
    "        *((str(i), i) for i in range(NUM_USELESS)),\n",
    "        (\"type\", \"integer\"),\n",
    "        *((str(i), i) for i in range(NUM_USELESS, NUM_USELESS)),\n",
    "        (\"minimum\", 37),\n",
    "    ],\n",
    ")\n",
    "validator = Draft202012Validator(schema)"
   ]
  },
  {
   "cell_type": "code",
   "execution_count": null,
   "id": "235b0805",
   "metadata": {
    "lines_to_next_cell": 2
   },
   "outputs": [],
   "source": [
    "valid = 3737\n",
    "invalid = 12"
   ]
  },
  {
   "cell_type": "code",
   "execution_count": null,
   "id": "25eaadd0",
   "metadata": {},
   "outputs": [],
   "source": [
    "if __name__ == \"__main__\":\n",
    "    runner = Runner()\n",
    "    runner.bench_func(\"beginning of schema\", lambda: validator.is_valid(42))\n",
    "    runner.bench_func(\"middle of schema\", lambda: validator.is_valid(\"foo\"))\n",
    "    runner.bench_func(\"end of schema\", lambda: validator.is_valid(12))\n",
    "    runner.bench_func(\"valid\", lambda: validator.is_valid(3737))"
   ]
  }
 ],
 "metadata": {
  "jupytext": {
   "cell_metadata_filter": "-all",
   "main_language": "python",
   "notebook_metadata_filter": "-all"
  }
 },
 "nbformat": 4,
 "nbformat_minor": 5
}
