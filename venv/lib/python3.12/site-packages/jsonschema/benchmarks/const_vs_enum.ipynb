{
 "cells": [
  {
   "cell_type": "code",
   "execution_count": null,
   "id": "0cba289c",
   "metadata": {},
   "outputs": [],
   "source": [
    "\"\"\"\n",
    "A benchmark for comparing equivalent validation of `const` and `enum`.\n",
    "\"\"\""
   ]
  },
  {
   "cell_type": "code",
   "execution_count": null,
   "id": "6996ff42",
   "metadata": {},
   "outputs": [],
   "source": [
    "from pyperf import Runner"
   ]
  },
  {
   "cell_type": "code",
   "execution_count": null,
   "id": "3b45c4ae",
   "metadata": {},
   "outputs": [],
   "source": [
    "from jsonschema import Draft202012Validator"
   ]
  },
  {
   "cell_type": "code",
   "execution_count": null,
   "id": "aad6576a",
   "metadata": {},
   "outputs": [],
   "source": [
    "value = [37] * 100\n",
    "const_schema = {\"const\": list(value)}\n",
    "enum_schema = {\"enum\": [list(value)]}"
   ]
  },
  {
   "cell_type": "code",
   "execution_count": null,
   "id": "ac040fe2",
   "metadata": {},
   "outputs": [],
   "source": [
    "valid = list(value)\n",
    "invalid = [*valid, 73]"
   ]
  },
  {
   "cell_type": "code",
   "execution_count": null,
   "id": "4311730d",
   "metadata": {},
   "outputs": [],
   "source": [
    "const = Draft202012Validator(const_schema)\n",
    "enum = Draft202012Validator(enum_schema)"
   ]
  },
  {
   "cell_type": "code",
   "execution_count": null,
   "id": "3474197a",
   "metadata": {
    "lines_to_next_cell": 2
   },
   "outputs": [],
   "source": [
    "assert const.is_valid(valid)\n",
    "assert enum.is_valid(valid)\n",
    "assert not const.is_valid(invalid)\n",
    "assert not enum.is_valid(invalid)"
   ]
  },
  {
   "cell_type": "code",
   "execution_count": null,
   "id": "c6a2395d",
   "metadata": {},
   "outputs": [],
   "source": [
    "if __name__ == \"__main__\":\n",
    "    runner = Runner()\n",
    "    runner.bench_func(\"const valid\", lambda: const.is_valid(valid))\n",
    "    runner.bench_func(\"const invalid\", lambda: const.is_valid(invalid))\n",
    "    runner.bench_func(\"enum valid\", lambda: enum.is_valid(valid))\n",
    "    runner.bench_func(\"enum invalid\", lambda: enum.is_valid(invalid))"
   ]
  }
 ],
 "metadata": {
  "jupytext": {
   "cell_metadata_filter": "-all",
   "main_language": "python",
   "notebook_metadata_filter": "-all"
  }
 },
 "nbformat": 4,
 "nbformat_minor": 5
}
