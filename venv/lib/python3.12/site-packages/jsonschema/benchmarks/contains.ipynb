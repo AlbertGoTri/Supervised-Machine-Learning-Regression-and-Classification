{
 "cells": [
  {
   "cell_type": "code",
   "execution_count": null,
   "id": "5a71a326",
   "metadata": {},
   "outputs": [],
   "source": [
    "\"\"\"\n",
    "A benchmark for validation of the `contains` keyword.\n",
    "\"\"\""
   ]
  },
  {
   "cell_type": "code",
   "execution_count": null,
   "id": "1b0ee285",
   "metadata": {},
   "outputs": [],
   "source": [
    "from pyperf import Runner"
   ]
  },
  {
   "cell_type": "code",
   "execution_count": null,
   "id": "6f8929d5",
   "metadata": {},
   "outputs": [],
   "source": [
    "from jsonschema import Draft202012Validator"
   ]
  },
  {
   "cell_type": "code",
   "execution_count": null,
   "id": "edb3c5e5",
   "metadata": {},
   "outputs": [],
   "source": [
    "schema = {\n",
    "    \"type\": \"array\",\n",
    "    \"contains\": {\"const\": 37},\n",
    "}\n",
    "validator = Draft202012Validator(schema)"
   ]
  },
  {
   "cell_type": "code",
   "execution_count": null,
   "id": "5d4589ca",
   "metadata": {
    "lines_to_next_cell": 2
   },
   "outputs": [],
   "source": [
    "size = 1000\n",
    "beginning = [37] + [0] * (size - 1)\n",
    "middle = [0] * (size // 2) + [37] + [0] * (size // 2)\n",
    "end = [0] * (size - 1) + [37]\n",
    "invalid = [0] * size"
   ]
  },
  {
   "cell_type": "code",
   "execution_count": null,
   "id": "a02d884f",
   "metadata": {},
   "outputs": [],
   "source": [
    "if __name__ == \"__main__\":\n",
    "    runner = Runner()\n",
    "    runner.bench_func(\"baseline\", lambda: validator.is_valid([]))\n",
    "    runner.bench_func(\"beginning\", lambda: validator.is_valid(beginning))\n",
    "    runner.bench_func(\"middle\", lambda: validator.is_valid(middle))\n",
    "    runner.bench_func(\"end\", lambda: validator.is_valid(end))\n",
    "    runner.bench_func(\"invalid\", lambda: validator.is_valid(invalid))"
   ]
  }
 ],
 "metadata": {
  "jupytext": {
   "cell_metadata_filter": "-all",
   "main_language": "python",
   "notebook_metadata_filter": "-all"
  }
 },
 "nbformat": 4,
 "nbformat_minor": 5
}
