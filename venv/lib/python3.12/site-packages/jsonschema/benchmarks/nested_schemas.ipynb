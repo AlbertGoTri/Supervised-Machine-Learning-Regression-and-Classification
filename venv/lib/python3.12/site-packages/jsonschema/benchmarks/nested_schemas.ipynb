{
 "cells": [
  {
   "cell_type": "code",
   "execution_count": null,
   "id": "a7a3c6d8",
   "metadata": {},
   "outputs": [],
   "source": [
    "\"\"\"\n",
    "Validating highly nested schemas shouldn't cause exponential time blowups.\n",
    "\n",
    "See https://github.com/python-jsonschema/jsonschema/issues/1097.\n",
    "\"\"\"\n",
    "from itertools import cycle"
   ]
  },
  {
   "cell_type": "code",
   "execution_count": null,
   "id": "89b756c8",
   "metadata": {},
   "outputs": [],
   "source": [
    "from jsonschema.validators import validator_for"
   ]
  },
  {
   "cell_type": "code",
   "execution_count": null,
   "id": "86e73511",
   "metadata": {},
   "outputs": [],
   "source": [
    "metaschemaish = {\n",
    "    \"$id\": \"https://example.com/draft/2020-12/schema/strict\",\n",
    "    \"$schema\": \"https://json-schema.org/draft/2020-12/schema\",\n",
    "\n",
    "    \"$vocabulary\": {\n",
    "        \"https://json-schema.org/draft/2020-12/vocab/core\": True,\n",
    "        \"https://json-schema.org/draft/2020-12/vocab/applicator\": True,\n",
    "        \"https://json-schema.org/draft/2020-12/vocab/unevaluated\": True,\n",
    "        \"https://json-schema.org/draft/2020-12/vocab/validation\": True,\n",
    "        \"https://json-schema.org/draft/2020-12/vocab/meta-data\": True,\n",
    "        \"https://json-schema.org/draft/2020-12/vocab/format-annotation\": True,\n",
    "        \"https://json-schema.org/draft/2020-12/vocab/content\": True,\n",
    "    },\n",
    "    \"$dynamicAnchor\": \"meta\",\n",
    "\n",
    "    \"$ref\": \"https://json-schema.org/draft/2020-12/schema\",\n",
    "    \"unevaluatedProperties\": False,\n",
    "}"
   ]
  },
  {
   "cell_type": "code",
   "execution_count": null,
   "id": "3d2dea6a",
   "metadata": {},
   "outputs": [],
   "source": [
    "def nested_schema(levels):\n",
    "    \"\"\"\n",
    "    Produce a schema which validates deeply nested objects and arrays.\n",
    "    \"\"\"\n",
    "\n",
    "    names = cycle([\"foo\", \"bar\", \"baz\", \"quux\", \"spam\", \"eggs\"])\n",
    "    schema = {\"type\": \"object\", \"properties\": {\"ham\": {\"type\": \"string\"}}}\n",
    "    for _, name in zip(range(levels - 1), names):\n",
    "        schema = {\"type\": \"object\", \"properties\": {name: schema}}\n",
    "    return schema"
   ]
  },
  {
   "cell_type": "code",
   "execution_count": null,
   "id": "254c1c22",
   "metadata": {},
   "outputs": [],
   "source": [
    "validator = validator_for(metaschemaish)(metaschemaish)"
   ]
  },
  {
   "cell_type": "code",
   "execution_count": null,
   "id": "587be360",
   "metadata": {},
   "outputs": [],
   "source": [
    "if __name__ == \"__main__\":\n",
    "    from pyperf import Runner\n",
    "    runner = Runner()\n",
    "\n",
    "    not_nested = nested_schema(levels=1)\n",
    "    runner.bench_func(\"not nested\", lambda: validator.is_valid(not_nested))\n",
    "\n",
    "    for levels in range(1, 11, 3):\n",
    "        schema = nested_schema(levels=levels)\n",
    "        runner.bench_func(\n",
    "            f\"nested * {levels}\",\n",
    "            lambda schema=schema: validator.is_valid(schema),\n",
    "        )"
   ]
  }
 ],
 "metadata": {
  "jupytext": {
   "cell_metadata_filter": "-all",
   "main_language": "python",
   "notebook_metadata_filter": "-all"
  }
 },
 "nbformat": 4,
 "nbformat_minor": 5
}
