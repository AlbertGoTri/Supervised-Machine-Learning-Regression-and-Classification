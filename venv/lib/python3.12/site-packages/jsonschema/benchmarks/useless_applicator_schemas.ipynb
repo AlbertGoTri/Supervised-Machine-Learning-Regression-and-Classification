{
 "cells": [
  {
   "cell_type": "code",
   "execution_count": null,
   "id": "b8465f54",
   "metadata": {
    "lines_to_next_cell": 0
   },
   "outputs": [],
   "source": []
  },
  {
   "cell_type": "code",
   "execution_count": null,
   "id": "c650681c",
   "metadata": {},
   "outputs": [],
   "source": [
    "\"\"\"\n",
    "A benchmark for validation of applicators containing lots of useless schemas.\n",
    "\n",
    "Signals a small possible optimization to remove all such schemas ahead of time.\n",
    "\"\"\""
   ]
  },
  {
   "cell_type": "code",
   "execution_count": null,
   "id": "ee5ecd18",
   "metadata": {},
   "outputs": [],
   "source": [
    "from pyperf import Runner"
   ]
  },
  {
   "cell_type": "code",
   "execution_count": null,
   "id": "11d5dd2b",
   "metadata": {},
   "outputs": [],
   "source": [
    "from jsonschema import Draft202012Validator as Validator"
   ]
  },
  {
   "cell_type": "code",
   "execution_count": null,
   "id": "4fc37d97",
   "metadata": {},
   "outputs": [],
   "source": [
    "NUM_USELESS = 100000"
   ]
  },
  {
   "cell_type": "code",
   "execution_count": null,
   "id": "26ede2b0",
   "metadata": {},
   "outputs": [],
   "source": [
    "subschema = {\"const\": 37}"
   ]
  },
  {
   "cell_type": "code",
   "execution_count": null,
   "id": "4bf02318",
   "metadata": {},
   "outputs": [],
   "source": [
    "valid = 37\n",
    "invalid = 12"
   ]
  },
  {
   "cell_type": "code",
   "execution_count": null,
   "id": "e261b93a",
   "metadata": {
    "lines_to_next_cell": 2
   },
   "outputs": [],
   "source": [
    "baseline = Validator(subschema)"
   ]
  },
  {
   "cell_type": "code",
   "execution_count": null,
   "id": "f0faec80",
   "metadata": {},
   "outputs": [],
   "source": [
    "# These should be indistinguishable from just `subschema`\n",
    "by_name = {\n",
    "    \"single subschema\": {\n",
    "        \"anyOf\": Validator({\"anyOf\": [subschema]}),\n",
    "        \"allOf\": Validator({\"allOf\": [subschema]}),\n",
    "        \"oneOf\": Validator({\"oneOf\": [subschema]}),\n",
    "    },\n",
    "    \"redundant subschemas\": {\n",
    "        \"anyOf\": Validator({\"anyOf\": [subschema] * NUM_USELESS}),\n",
    "        \"allOf\": Validator({\"allOf\": [subschema] * NUM_USELESS}),\n",
    "    },\n",
    "    \"useless successful subschemas (beginning)\": {\n",
    "        \"anyOf\": Validator({\"anyOf\": [subschema, *[True] * NUM_USELESS]}),\n",
    "        \"allOf\": Validator({\"allOf\": [subschema, *[True] * NUM_USELESS]}),\n",
    "    },\n",
    "    \"useless successful subschemas (middle)\": {\n",
    "        \"anyOf\": Validator(\n",
    "            {\n",
    "                \"anyOf\": [\n",
    "                    *[True] * (NUM_USELESS // 2),\n",
    "                    subschema,\n",
    "                    *[True] * (NUM_USELESS // 2),\n",
    "                ],\n",
    "            },\n",
    "        ),\n",
    "        \"allOf\": Validator(\n",
    "            {\n",
    "                \"allOf\": [\n",
    "                    *[True] * (NUM_USELESS // 2),\n",
    "                    subschema,\n",
    "                    *[True] * (NUM_USELESS // 2),\n",
    "                ],\n",
    "            },\n",
    "        ),\n",
    "    },\n",
    "    \"useless successful subschemas (end)\": {\n",
    "        \"anyOf\": Validator({\"anyOf\": [*[True] * NUM_USELESS, subschema]}),\n",
    "        \"allOf\": Validator({\"allOf\": [*[True] * NUM_USELESS, subschema]}),\n",
    "    },\n",
    "    \"useless failing subschemas (beginning)\": {\n",
    "        \"anyOf\": Validator({\"anyOf\": [subschema, *[False] * NUM_USELESS]}),\n",
    "        \"oneOf\": Validator({\"oneOf\": [subschema, *[False] * NUM_USELESS]}),\n",
    "    },\n",
    "    \"useless failing subschemas (middle)\": {\n",
    "        \"anyOf\": Validator(\n",
    "            {\n",
    "                \"anyOf\": [\n",
    "                    *[False] * (NUM_USELESS // 2),\n",
    "                    subschema,\n",
    "                    *[False] * (NUM_USELESS // 2),\n",
    "                ],\n",
    "            },\n",
    "        ),\n",
    "        \"oneOf\": Validator(\n",
    "            {\n",
    "                \"oneOf\": [\n",
    "                    *[False] * (NUM_USELESS // 2),\n",
    "                    subschema,\n",
    "                    *[False] * (NUM_USELESS // 2),\n",
    "                ],\n",
    "            },\n",
    "        ),\n",
    "    },\n",
    "    \"useless failing subschemas (end)\": {\n",
    "        \"anyOf\": Validator({\"anyOf\": [*[False] * NUM_USELESS, subschema]}),\n",
    "        \"oneOf\": Validator({\"oneOf\": [*[False] * NUM_USELESS, subschema]}),\n",
    "    },\n",
    "}"
   ]
  },
  {
   "cell_type": "code",
   "execution_count": null,
   "id": "0d65f8eb",
   "metadata": {},
   "outputs": [],
   "source": [
    "if __name__ == \"__main__\":\n",
    "    runner = Runner()\n",
    "\n",
    "    runner.bench_func(\"baseline valid\", lambda: baseline.is_valid(valid))\n",
    "    runner.bench_func(\"baseline invalid\", lambda: baseline.is_valid(invalid))\n",
    "\n",
    "    for group, applicators in by_name.items():\n",
    "        for applicator, validator in applicators.items():\n",
    "            runner.bench_func(\n",
    "                f\"{group}: {applicator} valid\",\n",
    "                lambda validator=validator: validator.is_valid(valid),\n",
    "            )\n",
    "            runner.bench_func(\n",
    "                f\"{group}: {applicator} invalid\",\n",
    "                lambda validator=validator: validator.is_valid(invalid),\n",
    "            )"
   ]
  }
 ],
 "metadata": {
  "jupytext": {
   "cell_metadata_filter": "-all",
   "main_language": "python",
   "notebook_metadata_filter": "-all"
  }
 },
 "nbformat": 4,
 "nbformat_minor": 5
}
