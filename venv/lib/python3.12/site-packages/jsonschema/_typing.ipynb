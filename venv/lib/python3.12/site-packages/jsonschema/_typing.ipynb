{
 "cells": [
  {
   "cell_type": "code",
   "execution_count": null,
   "id": "ffc5bdde",
   "metadata": {},
   "outputs": [],
   "source": [
    "\"\"\"\n",
    "Some (initially private) typing helpers for jsonschema's types.\n",
    "\"\"\"\n",
    "from collections.abc import Iterable\n",
    "from typing import Any, Callable, Protocol, Union"
   ]
  },
  {
   "cell_type": "code",
   "execution_count": null,
   "id": "adb1cbb6",
   "metadata": {},
   "outputs": [],
   "source": [
    "import referencing.jsonschema"
   ]
  },
  {
   "cell_type": "code",
   "execution_count": null,
   "id": "ef7780a1",
   "metadata": {},
   "outputs": [],
   "source": [
    "from jsonschema.protocols import Validator"
   ]
  },
  {
   "cell_type": "code",
   "execution_count": null,
   "id": "f97eec53",
   "metadata": {},
   "outputs": [],
   "source": [
    "class SchemaKeywordValidator(Protocol):\n",
    "    def __call__(\n",
    "        self,\n",
    "        validator: Validator,\n",
    "        value: Any,\n",
    "        instance: Any,\n",
    "        schema: referencing.jsonschema.Schema,\n",
    "    ) -> None:\n",
    "        ..."
   ]
  },
  {
   "cell_type": "code",
   "execution_count": null,
   "id": "35c68a3a",
   "metadata": {
    "lines_to_next_cell": 2
   },
   "outputs": [],
   "source": [
    "id_of = Callable[[referencing.jsonschema.Schema], Union[str, None]]"
   ]
  },
  {
   "cell_type": "code",
   "execution_count": null,
   "id": "829950b0",
   "metadata": {},
   "outputs": [],
   "source": [
    "ApplicableValidators = Callable[\n",
    "    [referencing.jsonschema.Schema],\n",
    "    Iterable[tuple[str, Any]],\n",
    "]"
   ]
  }
 ],
 "metadata": {
  "jupytext": {
   "cell_metadata_filter": "-all",
   "main_language": "python",
   "notebook_metadata_filter": "-all"
  }
 },
 "nbformat": 4,
 "nbformat_minor": 5
}
