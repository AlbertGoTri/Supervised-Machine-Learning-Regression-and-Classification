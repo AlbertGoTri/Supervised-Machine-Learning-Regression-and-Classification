{
 "cells": [
  {
   "cell_type": "code",
   "execution_count": null,
   "id": "902431d0",
   "metadata": {},
   "outputs": [],
   "source": [
    "\"\"\"\n",
    "    pygments.modeline\n",
    "    ~~~~~~~~~~~~~~~~~\n",
    "\n",
    "    A simple modeline parser (based on pymodeline).\n",
    "\n",
    "    :copyright: Copyright 2006-2023 by the Pygments team, see AUTHORS.\n",
    "    :license: BSD, see LICENSE for details.\n",
    "\"\"\""
   ]
  },
  {
   "cell_type": "code",
   "execution_count": null,
   "id": "aea6f8ff",
   "metadata": {},
   "outputs": [],
   "source": [
    "import re"
   ]
  },
  {
   "cell_type": "code",
   "execution_count": null,
   "id": "6ae681fa",
   "metadata": {
    "lines_to_next_cell": 2
   },
   "outputs": [],
   "source": [
    "__all__ = ['get_filetype_from_buffer']"
   ]
  },
  {
   "cell_type": "code",
   "execution_count": null,
   "id": "6e854e5a",
   "metadata": {},
   "outputs": [],
   "source": [
    "modeline_re = re.compile(r'''\n",
    "    (?: vi | vim | ex ) (?: [<=>]? \\d* )? :\n",
    "    .* (?: ft | filetype | syn | syntax ) = ( [^:\\s]+ )\n",
    "''', re.VERBOSE)"
   ]
  },
  {
   "cell_type": "code",
   "execution_count": null,
   "id": "e37d2ab3",
   "metadata": {},
   "outputs": [],
   "source": [
    "def get_filetype_from_line(l):\n",
    "    m = modeline_re.search(l)\n",
    "    if m:\n",
    "        return m.group(1)"
   ]
  },
  {
   "cell_type": "code",
   "execution_count": null,
   "id": "64b613c8",
   "metadata": {},
   "outputs": [],
   "source": [
    "def get_filetype_from_buffer(buf, max_lines=5):\n",
    "    \"\"\"\n",
    "    Scan the buffer for modelines and return filetype if one is found.\n",
    "    \"\"\"\n",
    "    lines = buf.splitlines()\n",
    "    for l in lines[-1:-max_lines-1:-1]:\n",
    "        ret = get_filetype_from_line(l)\n",
    "        if ret:\n",
    "            return ret\n",
    "    for i in range(max_lines, -1, -1):\n",
    "        if i < len(lines):\n",
    "            ret = get_filetype_from_line(lines[i])\n",
    "            if ret:\n",
    "                return ret\n",
    "\n",
    "    return None"
   ]
  }
 ],
 "metadata": {
  "jupytext": {
   "cell_metadata_filter": "-all",
   "main_language": "python",
   "notebook_metadata_filter": "-all"
  }
 },
 "nbformat": 4,
 "nbformat_minor": 5
}
