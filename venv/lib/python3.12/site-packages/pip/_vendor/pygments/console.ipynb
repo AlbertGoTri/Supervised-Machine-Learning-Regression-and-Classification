{
 "cells": [
  {
   "cell_type": "code",
   "execution_count": null,
   "id": "89217035",
   "metadata": {},
   "outputs": [],
   "source": [
    "\"\"\"\n",
    "    pygments.console\n",
    "    ~~~~~~~~~~~~~~~~\n",
    "\n",
    "    Format colored console output.\n",
    "\n",
    "    :copyright: Copyright 2006-2023 by the Pygments team, see AUTHORS.\n",
    "    :license: BSD, see LICENSE for details.\n",
    "\"\"\""
   ]
  },
  {
   "cell_type": "code",
   "execution_count": null,
   "id": "763e33c4",
   "metadata": {},
   "outputs": [],
   "source": [
    "esc = \"\\x1b[\""
   ]
  },
  {
   "cell_type": "code",
   "execution_count": null,
   "id": "46fa8742",
   "metadata": {},
   "outputs": [],
   "source": [
    "codes = {}\n",
    "codes[\"\"] = \"\"\n",
    "codes[\"reset\"] = esc + \"39;49;00m\""
   ]
  },
  {
   "cell_type": "code",
   "execution_count": null,
   "id": "73f730f6",
   "metadata": {},
   "outputs": [],
   "source": [
    "codes[\"bold\"] = esc + \"01m\"\n",
    "codes[\"faint\"] = esc + \"02m\"\n",
    "codes[\"standout\"] = esc + \"03m\"\n",
    "codes[\"underline\"] = esc + \"04m\"\n",
    "codes[\"blink\"] = esc + \"05m\"\n",
    "codes[\"overline\"] = esc + \"06m\""
   ]
  },
  {
   "cell_type": "code",
   "execution_count": null,
   "id": "2b53f051",
   "metadata": {},
   "outputs": [],
   "source": [
    "dark_colors = [\"black\", \"red\", \"green\", \"yellow\", \"blue\",\n",
    "               \"magenta\", \"cyan\", \"gray\"]\n",
    "light_colors = [\"brightblack\", \"brightred\", \"brightgreen\", \"brightyellow\", \"brightblue\",\n",
    "                \"brightmagenta\", \"brightcyan\", \"white\"]"
   ]
  },
  {
   "cell_type": "code",
   "execution_count": null,
   "id": "62d4be17",
   "metadata": {},
   "outputs": [],
   "source": [
    "x = 30\n",
    "for d, l in zip(dark_colors, light_colors):\n",
    "    codes[d] = esc + \"%im\" % x\n",
    "    codes[l] = esc + \"%im\" % (60 + x)\n",
    "    x += 1"
   ]
  },
  {
   "cell_type": "code",
   "execution_count": null,
   "id": "8cac0707",
   "metadata": {},
   "outputs": [],
   "source": [
    "del d, l, x"
   ]
  },
  {
   "cell_type": "code",
   "execution_count": null,
   "id": "8ba9585c",
   "metadata": {},
   "outputs": [],
   "source": [
    "codes[\"white\"] = codes[\"bold\"]"
   ]
  },
  {
   "cell_type": "code",
   "execution_count": null,
   "id": "db4019d1",
   "metadata": {},
   "outputs": [],
   "source": [
    "def reset_color():\n",
    "    return codes[\"reset\"]"
   ]
  },
  {
   "cell_type": "code",
   "execution_count": null,
   "id": "be7737ad",
   "metadata": {},
   "outputs": [],
   "source": [
    "def colorize(color_key, text):\n",
    "    return codes[color_key] + text + codes[\"reset\"]"
   ]
  },
  {
   "cell_type": "code",
   "execution_count": null,
   "id": "529e72a2",
   "metadata": {},
   "outputs": [],
   "source": [
    "def ansiformat(attr, text):\n",
    "    \"\"\"\n",
    "    Format ``text`` with a color and/or some attributes::\n",
    "\n",
    "        color       normal color\n",
    "        *color*     bold color\n",
    "        _color_     underlined color\n",
    "        +color+     blinking color\n",
    "    \"\"\"\n",
    "    result = []\n",
    "    if attr[:1] == attr[-1:] == '+':\n",
    "        result.append(codes['blink'])\n",
    "        attr = attr[1:-1]\n",
    "    if attr[:1] == attr[-1:] == '*':\n",
    "        result.append(codes['bold'])\n",
    "        attr = attr[1:-1]\n",
    "    if attr[:1] == attr[-1:] == '_':\n",
    "        result.append(codes['underline'])\n",
    "        attr = attr[1:-1]\n",
    "    result.append(codes[attr])\n",
    "    result.append(text)\n",
    "    result.append(codes['reset'])\n",
    "    return ''.join(result)"
   ]
  }
 ],
 "metadata": {
  "jupytext": {
   "cell_metadata_filter": "-all",
   "main_language": "python",
   "notebook_metadata_filter": "-all"
  }
 },
 "nbformat": 4,
 "nbformat_minor": 5
}
