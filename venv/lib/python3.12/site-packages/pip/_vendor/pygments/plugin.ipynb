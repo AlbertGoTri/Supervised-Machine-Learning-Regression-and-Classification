{
 "cells": [
  {
   "cell_type": "code",
   "execution_count": null,
   "id": "4734fe32",
   "metadata": {},
   "outputs": [],
   "source": [
    "\"\"\"\n",
    "    pygments.plugin\n",
    "    ~~~~~~~~~~~~~~~\n",
    "\n",
    "    Pygments plugin interface. By default, this tries to use\n",
    "    ``importlib.metadata``, which is in the Python standard\n",
    "    library since Python 3.8, or its ``importlib_metadata``\n",
    "    backport for earlier versions of Python. It falls back on\n",
    "    ``pkg_resources`` if not found. Finally, if ``pkg_resources``\n",
    "    is not found either, no plugins are loaded at all.\n",
    "\n",
    "    lexer plugins::\n",
    "\n",
    "        [pygments.lexers]\n",
    "        yourlexer = yourmodule:YourLexer\n",
    "\n",
    "    formatter plugins::\n",
    "\n",
    "        [pygments.formatters]\n",
    "        yourformatter = yourformatter:YourFormatter\n",
    "        /.ext = yourformatter:YourFormatter\n",
    "\n",
    "    As you can see, you can define extensions for the formatter\n",
    "    with a leading slash.\n",
    "\n",
    "    syntax plugins::\n",
    "\n",
    "        [pygments.styles]\n",
    "        yourstyle = yourstyle:YourStyle\n",
    "\n",
    "    filter plugin::\n",
    "\n",
    "        [pygments.filter]\n",
    "        yourfilter = yourfilter:YourFilter\n",
    "\n",
    "\n",
    "    :copyright: Copyright 2006-2023 by the Pygments team, see AUTHORS.\n",
    "    :license: BSD, see LICENSE for details.\n",
    "\"\"\""
   ]
  },
  {
   "cell_type": "code",
   "execution_count": null,
   "id": "81cf2fd1",
   "metadata": {},
   "outputs": [],
   "source": [
    "LEXER_ENTRY_POINT = 'pygments.lexers'\n",
    "FORMATTER_ENTRY_POINT = 'pygments.formatters'\n",
    "STYLE_ENTRY_POINT = 'pygments.styles'\n",
    "FILTER_ENTRY_POINT = 'pygments.filters'"
   ]
  },
  {
   "cell_type": "code",
   "execution_count": null,
   "id": "52bcf739",
   "metadata": {},
   "outputs": [],
   "source": [
    "def iter_entry_points(group_name):\n",
    "    try:\n",
    "        from importlib.metadata import entry_points\n",
    "    except ImportError:\n",
    "        try:\n",
    "            from importlib_metadata import entry_points\n",
    "        except ImportError:\n",
    "            try:\n",
    "                from pip._vendor.pkg_resources import iter_entry_points\n",
    "            except (ImportError, OSError):\n",
    "                return []\n",
    "            else:\n",
    "                return iter_entry_points(group_name)\n",
    "    groups = entry_points()\n",
    "    if hasattr(groups, 'select'):\n",
    "        # New interface in Python 3.10 and newer versions of the\n",
    "        # importlib_metadata backport.\n",
    "        return groups.select(group=group_name)\n",
    "    else:\n",
    "        # Older interface, deprecated in Python 3.10 and recent\n",
    "        # importlib_metadata, but we need it in Python 3.8 and 3.9.\n",
    "        return groups.get(group_name, [])"
   ]
  },
  {
   "cell_type": "code",
   "execution_count": null,
   "id": "353a1a7f",
   "metadata": {},
   "outputs": [],
   "source": [
    "def find_plugin_lexers():\n",
    "    for entrypoint in iter_entry_points(LEXER_ENTRY_POINT):\n",
    "        yield entrypoint.load()"
   ]
  },
  {
   "cell_type": "code",
   "execution_count": null,
   "id": "345d54e1",
   "metadata": {},
   "outputs": [],
   "source": [
    "def find_plugin_formatters():\n",
    "    for entrypoint in iter_entry_points(FORMATTER_ENTRY_POINT):\n",
    "        yield entrypoint.name, entrypoint.load()"
   ]
  },
  {
   "cell_type": "code",
   "execution_count": null,
   "id": "69618485",
   "metadata": {},
   "outputs": [],
   "source": [
    "def find_plugin_styles():\n",
    "    for entrypoint in iter_entry_points(STYLE_ENTRY_POINT):\n",
    "        yield entrypoint.name, entrypoint.load()"
   ]
  },
  {
   "cell_type": "code",
   "execution_count": null,
   "id": "c842ad10",
   "metadata": {},
   "outputs": [],
   "source": [
    "def find_plugin_filters():\n",
    "    for entrypoint in iter_entry_points(FILTER_ENTRY_POINT):\n",
    "        yield entrypoint.name, entrypoint.load()"
   ]
  }
 ],
 "metadata": {
  "jupytext": {
   "cell_metadata_filter": "-all",
   "main_language": "python",
   "notebook_metadata_filter": "-all"
  }
 },
 "nbformat": 4,
 "nbformat_minor": 5
}
