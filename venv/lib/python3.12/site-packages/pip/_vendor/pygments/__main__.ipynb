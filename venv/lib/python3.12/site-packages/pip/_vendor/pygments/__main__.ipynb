{
 "cells": [
  {
   "cell_type": "code",
   "execution_count": null,
   "id": "271c2075",
   "metadata": {},
   "outputs": [],
   "source": [
    "\"\"\"\n",
    "    pygments.__main__\n",
    "    ~~~~~~~~~~~~~~~~~\n",
    "\n",
    "    Main entry point for ``python -m pygments``.\n",
    "\n",
    "    :copyright: Copyright 2006-2023 by the Pygments team, see AUTHORS.\n",
    "    :license: BSD, see LICENSE for details.\n",
    "\"\"\""
   ]
  },
  {
   "cell_type": "code",
   "execution_count": null,
   "id": "bb345d42",
   "metadata": {},
   "outputs": [],
   "source": [
    "import sys\n",
    "from pip._vendor.pygments.cmdline import main"
   ]
  },
  {
   "cell_type": "code",
   "execution_count": null,
   "id": "d8993e97",
   "metadata": {},
   "outputs": [],
   "source": [
    "try:\n",
    "    sys.exit(main(sys.argv))\n",
    "except KeyboardInterrupt:\n",
    "    sys.exit(1)"
   ]
  }
 ],
 "metadata": {
  "jupytext": {
   "cell_metadata_filter": "-all",
   "main_language": "python",
   "notebook_metadata_filter": "-all"
  }
 },
 "nbformat": 4,
 "nbformat_minor": 5
}
