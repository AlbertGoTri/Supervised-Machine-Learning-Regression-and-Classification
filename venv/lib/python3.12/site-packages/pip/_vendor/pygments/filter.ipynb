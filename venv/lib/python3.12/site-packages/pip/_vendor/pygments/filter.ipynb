{
 "cells": [
  {
   "cell_type": "code",
   "execution_count": null,
   "id": "1ac14aa3",
   "metadata": {},
   "outputs": [],
   "source": [
    "\"\"\"\n",
    "    pygments.filter\n",
    "    ~~~~~~~~~~~~~~~\n",
    "\n",
    "    Module that implements the default filter.\n",
    "\n",
    "    :copyright: Copyright 2006-2023 by the Pygments team, see AUTHORS.\n",
    "    :license: BSD, see LICENSE for details.\n",
    "\"\"\""
   ]
  },
  {
   "cell_type": "code",
   "execution_count": null,
   "id": "aaa98f2c",
   "metadata": {},
   "outputs": [],
   "source": [
    "def apply_filters(stream, filters, lexer=None):\n",
    "    \"\"\"\n",
    "    Use this method to apply an iterable of filters to\n",
    "    a stream. If lexer is given it's forwarded to the\n",
    "    filter, otherwise the filter receives `None`.\n",
    "    \"\"\"\n",
    "    def _apply(filter_, stream):\n",
    "        yield from filter_.filter(lexer, stream)\n",
    "    for filter_ in filters:\n",
    "        stream = _apply(filter_, stream)\n",
    "    return stream"
   ]
  },
  {
   "cell_type": "code",
   "execution_count": null,
   "id": "dc482c0f",
   "metadata": {},
   "outputs": [],
   "source": [
    "def simplefilter(f):\n",
    "    \"\"\"\n",
    "    Decorator that converts a function into a filter::\n",
    "\n",
    "        @simplefilter\n",
    "        def lowercase(self, lexer, stream, options):\n",
    "            for ttype, value in stream:\n",
    "                yield ttype, value.lower()\n",
    "    \"\"\"\n",
    "    return type(f.__name__, (FunctionFilter,), {\n",
    "        '__module__': getattr(f, '__module__'),\n",
    "        '__doc__': f.__doc__,\n",
    "        'function': f,\n",
    "    })"
   ]
  },
  {
   "cell_type": "code",
   "execution_count": null,
   "id": "278c2f3a",
   "metadata": {},
   "outputs": [],
   "source": [
    "class Filter:\n",
    "    \"\"\"\n",
    "    Default filter. Subclass this class or use the `simplefilter`\n",
    "    decorator to create own filters.\n",
    "    \"\"\"\n",
    "\n",
    "    def __init__(self, **options):\n",
    "        self.options = options\n",
    "\n",
    "    def filter(self, lexer, stream):\n",
    "        raise NotImplementedError()"
   ]
  },
  {
   "cell_type": "code",
   "execution_count": null,
   "id": "67c57c48",
   "metadata": {},
   "outputs": [],
   "source": [
    "class FunctionFilter(Filter):\n",
    "    \"\"\"\n",
    "    Abstract class used by `simplefilter` to create simple\n",
    "    function filters on the fly. The `simplefilter` decorator\n",
    "    automatically creates subclasses of this class for\n",
    "    functions passed to it.\n",
    "    \"\"\"\n",
    "    function = None\n",
    "\n",
    "    def __init__(self, **options):\n",
    "        if not hasattr(self, 'function'):\n",
    "            raise TypeError('%r used without bound function' %\n",
    "                            self.__class__.__name__)\n",
    "        Filter.__init__(self, **options)\n",
    "\n",
    "    def filter(self, lexer, stream):\n",
    "        # pylint: disable=not-callable\n",
    "        yield from self.function(lexer, stream, self.options)"
   ]
  }
 ],
 "metadata": {
  "jupytext": {
   "cell_metadata_filter": "-all",
   "main_language": "python",
   "notebook_metadata_filter": "-all"
  }
 },
 "nbformat": 4,
 "nbformat_minor": 5
}
