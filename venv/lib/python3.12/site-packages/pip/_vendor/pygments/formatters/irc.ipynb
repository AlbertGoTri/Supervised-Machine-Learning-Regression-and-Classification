{
 "cells": [
  {
   "cell_type": "code",
   "execution_count": null,
   "id": "8e5230c2",
   "metadata": {},
   "outputs": [],
   "source": [
    "\"\"\"\n",
    "    pygments.formatters.irc\n",
    "    ~~~~~~~~~~~~~~~~~~~~~~~\n",
    "\n",
    "    Formatter for IRC output\n",
    "\n",
    "    :copyright: Copyright 2006-2023 by the Pygments team, see AUTHORS.\n",
    "    :license: BSD, see LICENSE for details.\n",
    "\"\"\""
   ]
  },
  {
   "cell_type": "code",
   "execution_count": null,
   "id": "d5f4e78e",
   "metadata": {
    "lines_to_next_cell": 2
   },
   "outputs": [],
   "source": [
    "from pip._vendor.pygments.formatter import Formatter\n",
    "from pip._vendor.pygments.token import Keyword, Name, Comment, String, Error, \\\n",
    "    Number, Operator, Generic, Token, Whitespace\n",
    "from pip._vendor.pygments.util import get_choice_opt"
   ]
  },
  {
   "cell_type": "code",
   "execution_count": null,
   "id": "b777c7b8",
   "metadata": {
    "lines_to_next_cell": 2
   },
   "outputs": [],
   "source": [
    "__all__ = ['IRCFormatter']"
   ]
  },
  {
   "cell_type": "code",
   "execution_count": null,
   "id": "c4a4942e",
   "metadata": {
    "lines_to_next_cell": 2
   },
   "outputs": [],
   "source": [
    "#: Map token types to a tuple of color values for light and dark\n",
    "#: backgrounds.\n",
    "IRC_COLORS = {\n",
    "    Token:              ('',            ''),\n",
    "\n",
    "    Whitespace:         ('gray',   'brightblack'),\n",
    "    Comment:            ('gray',   'brightblack'),\n",
    "    Comment.Preproc:    ('cyan',        'brightcyan'),\n",
    "    Keyword:            ('blue',    'brightblue'),\n",
    "    Keyword.Type:       ('cyan',        'brightcyan'),\n",
    "    Operator.Word:      ('magenta',      'brightcyan'),\n",
    "    Name.Builtin:       ('cyan',        'brightcyan'),\n",
    "    Name.Function:      ('green',   'brightgreen'),\n",
    "    Name.Namespace:     ('_cyan_',      '_brightcyan_'),\n",
    "    Name.Class:         ('_green_', '_brightgreen_'),\n",
    "    Name.Exception:     ('cyan',        'brightcyan'),\n",
    "    Name.Decorator:     ('brightblack',    'gray'),\n",
    "    Name.Variable:      ('red',     'brightred'),\n",
    "    Name.Constant:      ('red',     'brightred'),\n",
    "    Name.Attribute:     ('cyan',        'brightcyan'),\n",
    "    Name.Tag:           ('brightblue',        'brightblue'),\n",
    "    String:             ('yellow',       'yellow'),\n",
    "    Number:             ('blue',    'brightblue'),\n",
    "\n",
    "    Generic.Deleted:    ('brightred',        'brightred'),\n",
    "    Generic.Inserted:   ('green',  'brightgreen'),\n",
    "    Generic.Heading:    ('**',         '**'),\n",
    "    Generic.Subheading: ('*magenta*',   '*brightmagenta*'),\n",
    "    Generic.Error:      ('brightred',        'brightred'),\n",
    "\n",
    "    Error:              ('_brightred_',      '_brightred_'),\n",
    "}"
   ]
  },
  {
   "cell_type": "code",
   "execution_count": null,
   "id": "5671d6e2",
   "metadata": {
    "lines_to_next_cell": 1
   },
   "outputs": [],
   "source": [
    "IRC_COLOR_MAP = {\n",
    "    'white': 0,\n",
    "    'black': 1,\n",
    "    'blue': 2,\n",
    "    'brightgreen': 3,\n",
    "    'brightred': 4,\n",
    "    'yellow': 5,\n",
    "    'magenta': 6,\n",
    "    'orange': 7,\n",
    "    'green': 7, #compat w/ ansi\n",
    "    'brightyellow': 8,\n",
    "    'lightgreen': 9,\n",
    "    'brightcyan': 9, # compat w/ ansi\n",
    "    'cyan': 10,\n",
    "    'lightblue': 11,\n",
    "    'red': 11, # compat w/ ansi\n",
    "    'brightblue': 12,\n",
    "    'brightmagenta': 13,\n",
    "    'brightblack': 14,\n",
    "    'gray': 15,\n",
    "}"
   ]
  },
  {
   "cell_type": "code",
   "execution_count": null,
   "id": "4393060c",
   "metadata": {},
   "outputs": [],
   "source": [
    "def ircformat(color, text):\n",
    "    if len(color) < 1:\n",
    "        return text\n",
    "    add = sub = ''\n",
    "    if '_' in color: # italic\n",
    "        add += '\\x1D'\n",
    "        sub = '\\x1D' + sub\n",
    "        color = color.strip('_')\n",
    "    if '*' in color: # bold\n",
    "        add += '\\x02'\n",
    "        sub = '\\x02' + sub\n",
    "        color = color.strip('*')\n",
    "    # underline (\\x1F) not supported\n",
    "    # backgrounds (\\x03FF,BB) not supported\n",
    "    if len(color) > 0: # actual color - may have issues with ircformat(\"red\", \"blah\")+\"10\" type stuff\n",
    "        add += '\\x03' + str(IRC_COLOR_MAP[color]).zfill(2)\n",
    "        sub = '\\x03' + sub\n",
    "    return add + text + sub\n",
    "    return '<'+add+'>'+text+'</'+sub+'>'"
   ]
  },
  {
   "cell_type": "code",
   "execution_count": null,
   "id": "5744f7bf",
   "metadata": {},
   "outputs": [],
   "source": [
    "class IRCFormatter(Formatter):\n",
    "    r\"\"\"\n",
    "    Format tokens with IRC color sequences\n",
    "\n",
    "    The `get_style_defs()` method doesn't do anything special since there is\n",
    "    no support for common styles.\n",
    "\n",
    "    Options accepted:\n",
    "\n",
    "    `bg`\n",
    "        Set to ``\"light\"`` or ``\"dark\"`` depending on the terminal's background\n",
    "        (default: ``\"light\"``).\n",
    "\n",
    "    `colorscheme`\n",
    "        A dictionary mapping token types to (lightbg, darkbg) color names or\n",
    "        ``None`` (default: ``None`` = use builtin colorscheme).\n",
    "\n",
    "    `linenos`\n",
    "        Set to ``True`` to have line numbers in the output as well\n",
    "        (default: ``False`` = no line numbers).\n",
    "    \"\"\"\n",
    "    name = 'IRC'\n",
    "    aliases = ['irc', 'IRC']\n",
    "    filenames = []\n",
    "\n",
    "    def __init__(self, **options):\n",
    "        Formatter.__init__(self, **options)\n",
    "        self.darkbg = get_choice_opt(options, 'bg',\n",
    "                                     ['light', 'dark'], 'light') == 'dark'\n",
    "        self.colorscheme = options.get('colorscheme', None) or IRC_COLORS\n",
    "        self.linenos = options.get('linenos', False)\n",
    "        self._lineno = 0\n",
    "\n",
    "    def _write_lineno(self, outfile):\n",
    "        if self.linenos:\n",
    "            self._lineno += 1\n",
    "            outfile.write(\"%04d: \" % self._lineno)\n",
    "\n",
    "    def format_unencoded(self, tokensource, outfile):\n",
    "        self._write_lineno(outfile)\n",
    "\n",
    "        for ttype, value in tokensource:\n",
    "            color = self.colorscheme.get(ttype)\n",
    "            while color is None:\n",
    "                ttype = ttype[:-1]\n",
    "                color = self.colorscheme.get(ttype)\n",
    "            if color:\n",
    "                color = color[self.darkbg]\n",
    "                spl = value.split('\\n')\n",
    "                for line in spl[:-1]:\n",
    "                    if line:\n",
    "                        outfile.write(ircformat(color, line))\n",
    "                    outfile.write('\\n')\n",
    "                    self._write_lineno(outfile)\n",
    "                if spl[-1]:\n",
    "                    outfile.write(ircformat(color, spl[-1]))\n",
    "            else:\n",
    "                outfile.write(value)"
   ]
  }
 ],
 "metadata": {
  "jupytext": {
   "cell_metadata_filter": "-all",
   "main_language": "python",
   "notebook_metadata_filter": "-all"
  }
 },
 "nbformat": 4,
 "nbformat_minor": 5
}
