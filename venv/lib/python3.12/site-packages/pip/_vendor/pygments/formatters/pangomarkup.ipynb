{
 "cells": [
  {
   "cell_type": "code",
   "execution_count": null,
   "id": "4461ba04",
   "metadata": {},
   "outputs": [],
   "source": [
    "\"\"\"\n",
    "    pygments.formatters.pangomarkup\n",
    "    ~~~~~~~~~~~~~~~~~~~~~~~~~~~~~~~\n",
    "\n",
    "    Formatter for Pango markup output.\n",
    "\n",
    "    :copyright: Copyright 2006-2023 by the Pygments team, see AUTHORS.\n",
    "    :license: BSD, see LICENSE for details.\n",
    "\"\"\""
   ]
  },
  {
   "cell_type": "code",
   "execution_count": null,
   "id": "83b3b90c",
   "metadata": {
    "lines_to_next_cell": 2
   },
   "outputs": [],
   "source": [
    "from pip._vendor.pygments.formatter import Formatter"
   ]
  },
  {
   "cell_type": "code",
   "execution_count": null,
   "id": "5658625c",
   "metadata": {
    "lines_to_next_cell": 2
   },
   "outputs": [],
   "source": [
    "__all__ = ['PangoMarkupFormatter']"
   ]
  },
  {
   "cell_type": "code",
   "execution_count": null,
   "id": "b624ce9f",
   "metadata": {},
   "outputs": [],
   "source": [
    "_escape_table = {\n",
    "    ord('&'): '&amp;',\n",
    "    ord('<'): '&lt;',\n",
    "}"
   ]
  },
  {
   "cell_type": "code",
   "execution_count": null,
   "id": "5f8cdc0a",
   "metadata": {},
   "outputs": [],
   "source": [
    "def escape_special_chars(text, table=_escape_table):\n",
    "    \"\"\"Escape & and < for Pango Markup.\"\"\"\n",
    "    return text.translate(table)"
   ]
  },
  {
   "cell_type": "code",
   "execution_count": null,
   "id": "3ccb8491",
   "metadata": {},
   "outputs": [],
   "source": [
    "class PangoMarkupFormatter(Formatter):\n",
    "    \"\"\"\n",
    "    Format tokens as Pango Markup code. It can then be rendered to an SVG.\n",
    "\n",
    "    .. versionadded:: 2.9\n",
    "    \"\"\"\n",
    "\n",
    "    name = 'Pango Markup'\n",
    "    aliases = ['pango', 'pangomarkup']\n",
    "    filenames = []\n",
    "\n",
    "    def __init__(self, **options):\n",
    "        Formatter.__init__(self, **options)\n",
    "\n",
    "        self.styles = {}\n",
    "\n",
    "        for token, style in self.style:\n",
    "            start = ''\n",
    "            end = ''\n",
    "            if style['color']:\n",
    "                start += '<span fgcolor=\"#%s\">' % style['color']\n",
    "                end = '</span>' + end\n",
    "            if style['bold']:\n",
    "                start += '<b>'\n",
    "                end = '</b>' + end\n",
    "            if style['italic']:\n",
    "                start += '<i>'\n",
    "                end = '</i>' + end\n",
    "            if style['underline']:\n",
    "                start += '<u>'\n",
    "                end = '</u>' + end\n",
    "            self.styles[token] = (start, end)\n",
    "\n",
    "    def format_unencoded(self, tokensource, outfile):\n",
    "        lastval = ''\n",
    "        lasttype = None\n",
    "\n",
    "        outfile.write('<tt>')\n",
    "\n",
    "        for ttype, value in tokensource:\n",
    "            while ttype not in self.styles:\n",
    "                ttype = ttype.parent\n",
    "            if ttype == lasttype:\n",
    "                lastval += escape_special_chars(value)\n",
    "            else:\n",
    "                if lastval:\n",
    "                    stylebegin, styleend = self.styles[lasttype]\n",
    "                    outfile.write(stylebegin + lastval + styleend)\n",
    "                lastval = escape_special_chars(value)\n",
    "                lasttype = ttype\n",
    "\n",
    "        if lastval:\n",
    "            stylebegin, styleend = self.styles[lasttype]\n",
    "            outfile.write(stylebegin + lastval + styleend)\n",
    "\n",
    "        outfile.write('</tt>')"
   ]
  }
 ],
 "metadata": {
  "jupytext": {
   "cell_metadata_filter": "-all",
   "main_language": "python",
   "notebook_metadata_filter": "-all"
  }
 },
 "nbformat": 4,
 "nbformat_minor": 5
}
