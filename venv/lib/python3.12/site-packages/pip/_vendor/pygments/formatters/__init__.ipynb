{
 "cells": [
  {
   "cell_type": "code",
   "execution_count": null,
   "id": "3ed8b1a4",
   "metadata": {},
   "outputs": [],
   "source": [
    "\"\"\"\n",
    "    pygments.formatters\n",
    "    ~~~~~~~~~~~~~~~~~~~\n",
    "\n",
    "    Pygments formatters.\n",
    "\n",
    "    :copyright: Copyright 2006-2023 by the Pygments team, see AUTHORS.\n",
    "    :license: BSD, see LICENSE for details.\n",
    "\"\"\""
   ]
  },
  {
   "cell_type": "code",
   "execution_count": null,
   "id": "eb40f2fa",
   "metadata": {},
   "outputs": [],
   "source": [
    "import re\n",
    "import sys\n",
    "import types\n",
    "import fnmatch\n",
    "from os.path import basename"
   ]
  },
  {
   "cell_type": "code",
   "execution_count": null,
   "id": "e3172a38",
   "metadata": {},
   "outputs": [],
   "source": [
    "from pip._vendor.pygments.formatters._mapping import FORMATTERS\n",
    "from pip._vendor.pygments.plugin import find_plugin_formatters\n",
    "from pip._vendor.pygments.util import ClassNotFound"
   ]
  },
  {
   "cell_type": "code",
   "execution_count": null,
   "id": "40ec7849",
   "metadata": {},
   "outputs": [],
   "source": [
    "__all__ = ['get_formatter_by_name', 'get_formatter_for_filename',\n",
    "           'get_all_formatters', 'load_formatter_from_file'] + list(FORMATTERS)"
   ]
  },
  {
   "cell_type": "code",
   "execution_count": null,
   "id": "370275b1",
   "metadata": {},
   "outputs": [],
   "source": [
    "_formatter_cache = {}  # classes by name\n",
    "_pattern_cache = {}"
   ]
  },
  {
   "cell_type": "code",
   "execution_count": null,
   "id": "fe71470f",
   "metadata": {},
   "outputs": [],
   "source": [
    "def _fn_matches(fn, glob):\n",
    "    \"\"\"Return whether the supplied file name fn matches pattern filename.\"\"\"\n",
    "    if glob not in _pattern_cache:\n",
    "        pattern = _pattern_cache[glob] = re.compile(fnmatch.translate(glob))\n",
    "        return pattern.match(fn)\n",
    "    return _pattern_cache[glob].match(fn)"
   ]
  },
  {
   "cell_type": "code",
   "execution_count": null,
   "id": "8b002916",
   "metadata": {},
   "outputs": [],
   "source": [
    "def _load_formatters(module_name):\n",
    "    \"\"\"Load a formatter (and all others in the module too).\"\"\"\n",
    "    mod = __import__(module_name, None, None, ['__all__'])\n",
    "    for formatter_name in mod.__all__:\n",
    "        cls = getattr(mod, formatter_name)\n",
    "        _formatter_cache[cls.name] = cls"
   ]
  },
  {
   "cell_type": "code",
   "execution_count": null,
   "id": "bedd73e8",
   "metadata": {},
   "outputs": [],
   "source": [
    "def get_all_formatters():\n",
    "    \"\"\"Return a generator for all formatter classes.\"\"\"\n",
    "    # NB: this returns formatter classes, not info like get_all_lexers().\n",
    "    for info in FORMATTERS.values():\n",
    "        if info[1] not in _formatter_cache:\n",
    "            _load_formatters(info[0])\n",
    "        yield _formatter_cache[info[1]]\n",
    "    for _, formatter in find_plugin_formatters():\n",
    "        yield formatter"
   ]
  },
  {
   "cell_type": "code",
   "execution_count": null,
   "id": "21ace526",
   "metadata": {},
   "outputs": [],
   "source": [
    "def find_formatter_class(alias):\n",
    "    \"\"\"Lookup a formatter by alias.\n",
    "\n",
    "    Returns None if not found.\n",
    "    \"\"\"\n",
    "    for module_name, name, aliases, _, _ in FORMATTERS.values():\n",
    "        if alias in aliases:\n",
    "            if name not in _formatter_cache:\n",
    "                _load_formatters(module_name)\n",
    "            return _formatter_cache[name]\n",
    "    for _, cls in find_plugin_formatters():\n",
    "        if alias in cls.aliases:\n",
    "            return cls"
   ]
  },
  {
   "cell_type": "code",
   "execution_count": null,
   "id": "062e4946",
   "metadata": {},
   "outputs": [],
   "source": [
    "def get_formatter_by_name(_alias, **options):\n",
    "    \"\"\"\n",
    "    Return an instance of a :class:`.Formatter` subclass that has `alias` in its\n",
    "    aliases list. The formatter is given the `options` at its instantiation.\n",
    "\n",
    "    Will raise :exc:`pygments.util.ClassNotFound` if no formatter with that\n",
    "    alias is found.\n",
    "    \"\"\"\n",
    "    cls = find_formatter_class(_alias)\n",
    "    if cls is None:\n",
    "        raise ClassNotFound(\"no formatter found for name %r\" % _alias)\n",
    "    return cls(**options)"
   ]
  },
  {
   "cell_type": "code",
   "execution_count": null,
   "id": "2d7f04c8",
   "metadata": {},
   "outputs": [],
   "source": [
    "def load_formatter_from_file(filename, formattername=\"CustomFormatter\", **options):\n",
    "    \"\"\"\n",
    "    Return a `Formatter` subclass instance loaded from the provided file, relative\n",
    "    to the current directory.\n",
    "\n",
    "    The file is expected to contain a Formatter class named ``formattername``\n",
    "    (by default, CustomFormatter). Users should be very careful with the input, because\n",
    "    this method is equivalent to running ``eval()`` on the input file. The formatter is\n",
    "    given the `options` at its instantiation.\n",
    "\n",
    "    :exc:`pygments.util.ClassNotFound` is raised if there are any errors loading\n",
    "    the formatter.\n",
    "\n",
    "    .. versionadded:: 2.2\n",
    "    \"\"\"\n",
    "    try:\n",
    "        # This empty dict will contain the namespace for the exec'd file\n",
    "        custom_namespace = {}\n",
    "        with open(filename, 'rb') as f:\n",
    "            exec(f.read(), custom_namespace)\n",
    "        # Retrieve the class `formattername` from that namespace\n",
    "        if formattername not in custom_namespace:\n",
    "            raise ClassNotFound('no valid %s class found in %s' %\n",
    "                                (formattername, filename))\n",
    "        formatter_class = custom_namespace[formattername]\n",
    "        # And finally instantiate it with the options\n",
    "        return formatter_class(**options)\n",
    "    except OSError as err:\n",
    "        raise ClassNotFound('cannot read %s: %s' % (filename, err))\n",
    "    except ClassNotFound:\n",
    "        raise\n",
    "    except Exception as err:\n",
    "        raise ClassNotFound('error when loading custom formatter: %s' % err)"
   ]
  },
  {
   "cell_type": "code",
   "execution_count": null,
   "id": "2ae8e640",
   "metadata": {},
   "outputs": [],
   "source": [
    "def get_formatter_for_filename(fn, **options):\n",
    "    \"\"\"\n",
    "    Return a :class:`.Formatter` subclass instance that has a filename pattern\n",
    "    matching `fn`. The formatter is given the `options` at its instantiation.\n",
    "\n",
    "    Will raise :exc:`pygments.util.ClassNotFound` if no formatter for that filename\n",
    "    is found.\n",
    "    \"\"\"\n",
    "    fn = basename(fn)\n",
    "    for modname, name, _, filenames, _ in FORMATTERS.values():\n",
    "        for filename in filenames:\n",
    "            if _fn_matches(fn, filename):\n",
    "                if name not in _formatter_cache:\n",
    "                    _load_formatters(modname)\n",
    "                return _formatter_cache[name](**options)\n",
    "    for cls in find_plugin_formatters():\n",
    "        for filename in cls.filenames:\n",
    "            if _fn_matches(fn, filename):\n",
    "                return cls(**options)\n",
    "    raise ClassNotFound(\"no formatter found for file name %r\" % fn)"
   ]
  },
  {
   "cell_type": "code",
   "execution_count": null,
   "id": "f1995a83",
   "metadata": {},
   "outputs": [],
   "source": [
    "class _automodule(types.ModuleType):\n",
    "    \"\"\"Automatically import formatters.\"\"\"\n",
    "\n",
    "    def __getattr__(self, name):\n",
    "        info = FORMATTERS.get(name)\n",
    "        if info:\n",
    "            _load_formatters(info[0])\n",
    "            cls = _formatter_cache[info[1]]\n",
    "            setattr(self, name, cls)\n",
    "            return cls\n",
    "        raise AttributeError(name)"
   ]
  },
  {
   "cell_type": "code",
   "execution_count": null,
   "id": "d475d8da",
   "metadata": {},
   "outputs": [],
   "source": [
    "oldmod = sys.modules[__name__]\n",
    "newmod = _automodule(__name__)\n",
    "newmod.__dict__.update(oldmod.__dict__)\n",
    "sys.modules[__name__] = newmod\n",
    "del newmod.newmod, newmod.oldmod, newmod.sys, newmod.types"
   ]
  }
 ],
 "metadata": {
  "jupytext": {
   "cell_metadata_filter": "-all",
   "main_language": "python",
   "notebook_metadata_filter": "-all"
  }
 },
 "nbformat": 4,
 "nbformat_minor": 5
}
