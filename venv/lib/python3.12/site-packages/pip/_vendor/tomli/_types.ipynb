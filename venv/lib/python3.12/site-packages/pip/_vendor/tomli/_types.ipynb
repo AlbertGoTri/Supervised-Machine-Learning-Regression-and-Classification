{
 "cells": [
  {
   "cell_type": "markdown",
   "id": "70b0601f",
   "metadata": {},
   "source": [
    "SPDX-License-Identifier: MIT\n",
    "SPDX-FileCopyrightText: 2021 Taneli Hukkinen\n",
    "Licensed to PSF under a Contributor Agreement."
   ]
  },
  {
   "cell_type": "code",
   "execution_count": null,
   "id": "201126a7",
   "metadata": {},
   "outputs": [],
   "source": [
    "from typing import Any, Callable, Tuple"
   ]
  },
  {
   "cell_type": "code",
   "execution_count": null,
   "id": "42fb4928",
   "metadata": {},
   "outputs": [],
   "source": [
    "# Type annotations\n",
    "ParseFloat = Callable[[str], Any]\n",
    "Key = Tuple[str, ...]\n",
    "Pos = int"
   ]
  }
 ],
 "metadata": {
  "jupytext": {
   "cell_metadata_filter": "-all",
   "main_language": "python",
   "notebook_metadata_filter": "-all"
  }
 },
 "nbformat": 4,
 "nbformat_minor": 5
}
