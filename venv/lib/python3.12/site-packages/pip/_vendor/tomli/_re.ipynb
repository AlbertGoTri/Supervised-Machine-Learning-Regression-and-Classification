{
 "cells": [
  {
   "cell_type": "markdown",
   "id": "0e8d14ba",
   "metadata": {},
   "source": [
    "SPDX-License-Identifier: MIT\n",
    "SPDX-FileCopyrightText: 2021 Taneli Hukkinen\n",
    "Licensed to PSF under a Contributor Agreement."
   ]
  },
  {
   "cell_type": "code",
   "execution_count": null,
   "id": "07c79f53",
   "metadata": {},
   "outputs": [],
   "source": [
    "from __future__ import annotations"
   ]
  },
  {
   "cell_type": "code",
   "execution_count": null,
   "id": "5040554b",
   "metadata": {},
   "outputs": [],
   "source": [
    "from datetime import date, datetime, time, timedelta, timezone, tzinfo\n",
    "from functools import lru_cache\n",
    "import re\n",
    "from typing import Any"
   ]
  },
  {
   "cell_type": "code",
   "execution_count": null,
   "id": "43b6e572",
   "metadata": {},
   "outputs": [],
   "source": [
    "from ._types import ParseFloat"
   ]
  },
  {
   "cell_type": "code",
   "execution_count": null,
   "id": "55c39aba",
   "metadata": {},
   "outputs": [],
   "source": [
    "# E.g.\n",
    "# - 00:32:00.999999\n",
    "# - 00:32:00\n",
    "_TIME_RE_STR = r\"([01][0-9]|2[0-3]):([0-5][0-9]):([0-5][0-9])(?:\\.([0-9]{1,6})[0-9]*)?\""
   ]
  },
  {
   "cell_type": "code",
   "execution_count": null,
   "id": "f37af087",
   "metadata": {},
   "outputs": [],
   "source": [
    "RE_NUMBER = re.compile(\n",
    "    r\"\"\"\n",
    "0\n",
    "(?:\n",
    "    x[0-9A-Fa-f](?:_?[0-9A-Fa-f])*   # hex\n",
    "    |\n",
    "    b[01](?:_?[01])*                 # bin\n",
    "    |\n",
    "    o[0-7](?:_?[0-7])*               # oct\n",
    ")\n",
    "|\n",
    "[+-]?(?:0|[1-9](?:_?[0-9])*)         # dec, integer part\n",
    "(?P<floatpart>\n",
    "    (?:\\.[0-9](?:_?[0-9])*)?         # optional fractional part\n",
    "    (?:[eE][+-]?[0-9](?:_?[0-9])*)?  # optional exponent part\n",
    ")\n",
    "\"\"\",\n",
    "    flags=re.VERBOSE,\n",
    ")\n",
    "RE_LOCALTIME = re.compile(_TIME_RE_STR)\n",
    "RE_DATETIME = re.compile(\n",
    "    rf\"\"\"\n",
    "([0-9]{{4}})-(0[1-9]|1[0-2])-(0[1-9]|[12][0-9]|3[01])  # date, e.g. 1988-10-27\n",
    "(?:\n",
    "    [Tt ]\n",
    "    {_TIME_RE_STR}\n",
    "    (?:([Zz])|([+-])([01][0-9]|2[0-3]):([0-5][0-9]))?  # optional time offset\n",
    ")?\n",
    "\"\"\",\n",
    "    flags=re.VERBOSE,\n",
    ")"
   ]
  },
  {
   "cell_type": "code",
   "execution_count": null,
   "id": "c584f9cd",
   "metadata": {},
   "outputs": [],
   "source": [
    "def match_to_datetime(match: re.Match) -> datetime | date:\n",
    "    \"\"\"Convert a `RE_DATETIME` match to `datetime.datetime` or `datetime.date`.\n",
    "\n",
    "    Raises ValueError if the match does not correspond to a valid date\n",
    "    or datetime.\n",
    "    \"\"\"\n",
    "    (\n",
    "        year_str,\n",
    "        month_str,\n",
    "        day_str,\n",
    "        hour_str,\n",
    "        minute_str,\n",
    "        sec_str,\n",
    "        micros_str,\n",
    "        zulu_time,\n",
    "        offset_sign_str,\n",
    "        offset_hour_str,\n",
    "        offset_minute_str,\n",
    "    ) = match.groups()\n",
    "    year, month, day = int(year_str), int(month_str), int(day_str)\n",
    "    if hour_str is None:\n",
    "        return date(year, month, day)\n",
    "    hour, minute, sec = int(hour_str), int(minute_str), int(sec_str)\n",
    "    micros = int(micros_str.ljust(6, \"0\")) if micros_str else 0\n",
    "    if offset_sign_str:\n",
    "        tz: tzinfo | None = cached_tz(\n",
    "            offset_hour_str, offset_minute_str, offset_sign_str\n",
    "        )\n",
    "    elif zulu_time:\n",
    "        tz = timezone.utc\n",
    "    else:  # local date-time\n",
    "        tz = None\n",
    "    return datetime(year, month, day, hour, minute, sec, micros, tzinfo=tz)"
   ]
  },
  {
   "cell_type": "code",
   "execution_count": null,
   "id": "6cbd1ace",
   "metadata": {},
   "outputs": [],
   "source": [
    "@lru_cache(maxsize=None)\n",
    "def cached_tz(hour_str: str, minute_str: str, sign_str: str) -> timezone:\n",
    "    sign = 1 if sign_str == \"+\" else -1\n",
    "    return timezone(\n",
    "        timedelta(\n",
    "            hours=sign * int(hour_str),\n",
    "            minutes=sign * int(minute_str),\n",
    "        )\n",
    "    )"
   ]
  },
  {
   "cell_type": "code",
   "execution_count": null,
   "id": "0d6aad6d",
   "metadata": {},
   "outputs": [],
   "source": [
    "def match_to_localtime(match: re.Match) -> time:\n",
    "    hour_str, minute_str, sec_str, micros_str = match.groups()\n",
    "    micros = int(micros_str.ljust(6, \"0\")) if micros_str else 0\n",
    "    return time(int(hour_str), int(minute_str), int(sec_str), micros)"
   ]
  },
  {
   "cell_type": "code",
   "execution_count": null,
   "id": "b08e577b",
   "metadata": {},
   "outputs": [],
   "source": [
    "def match_to_number(match: re.Match, parse_float: ParseFloat) -> Any:\n",
    "    if match.group(\"floatpart\"):\n",
    "        return parse_float(match.group())\n",
    "    return int(match.group(), 0)"
   ]
  }
 ],
 "metadata": {
  "jupytext": {
   "cell_metadata_filter": "-all",
   "main_language": "python",
   "notebook_metadata_filter": "-all"
  }
 },
 "nbformat": 4,
 "nbformat_minor": 5
}
