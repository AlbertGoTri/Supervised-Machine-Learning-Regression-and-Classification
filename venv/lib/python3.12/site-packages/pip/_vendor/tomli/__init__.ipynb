{
 "cells": [
  {
   "cell_type": "markdown",
   "id": "c0ba6346",
   "metadata": {},
   "source": [
    "SPDX-License-Identifier: MIT\n",
    "SPDX-FileCopyrightText: 2021 Taneli Hukkinen\n",
    "Licensed to PSF under a Contributor Agreement."
   ]
  },
  {
   "cell_type": "code",
   "execution_count": null,
   "id": "b08babd3",
   "metadata": {},
   "outputs": [],
   "source": [
    "__all__ = (\"loads\", \"load\", \"TOMLDecodeError\")\n",
    "__version__ = \"2.0.1\"  # DO NOT EDIT THIS LINE MANUALLY. LET bump2version UTILITY DO IT"
   ]
  },
  {
   "cell_type": "code",
   "execution_count": null,
   "id": "4d5b7901",
   "metadata": {},
   "outputs": [],
   "source": [
    "from ._parser import TOMLDecodeError, load, loads"
   ]
  },
  {
   "cell_type": "code",
   "execution_count": null,
   "id": "2c353e4b",
   "metadata": {},
   "outputs": [],
   "source": [
    "# Pretend this exception was created here.\n",
    "TOMLDecodeError.__module__ = __name__"
   ]
  }
 ],
 "metadata": {
  "jupytext": {
   "cell_metadata_filter": "-all",
   "main_language": "python",
   "notebook_metadata_filter": "-all"
  }
 },
 "nbformat": 4,
 "nbformat_minor": 5
}
