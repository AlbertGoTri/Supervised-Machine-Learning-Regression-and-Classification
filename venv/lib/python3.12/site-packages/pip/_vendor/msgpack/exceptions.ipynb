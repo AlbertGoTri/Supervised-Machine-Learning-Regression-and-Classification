{
 "cells": [
  {
   "cell_type": "code",
   "execution_count": null,
   "id": "f46bcedd",
   "metadata": {},
   "outputs": [],
   "source": [
    "class UnpackException(Exception):\n",
    "    \"\"\"Base class for some exceptions raised while unpacking.\n",
    "\n",
    "    NOTE: unpack may raise exception other than subclass of\n",
    "    UnpackException.  If you want to catch all error, catch\n",
    "    Exception instead.\n",
    "    \"\"\""
   ]
  },
  {
   "cell_type": "code",
   "execution_count": null,
   "id": "e4a01680",
   "metadata": {},
   "outputs": [],
   "source": [
    "class BufferFull(UnpackException):\n",
    "    pass"
   ]
  },
  {
   "cell_type": "code",
   "execution_count": null,
   "id": "8441281b",
   "metadata": {},
   "outputs": [],
   "source": [
    "class OutOfData(UnpackException):\n",
    "    pass"
   ]
  },
  {
   "cell_type": "code",
   "execution_count": null,
   "id": "1cce55e6",
   "metadata": {},
   "outputs": [],
   "source": [
    "class FormatError(ValueError, UnpackException):\n",
    "    \"\"\"Invalid msgpack format\"\"\""
   ]
  },
  {
   "cell_type": "code",
   "execution_count": null,
   "id": "cc1c0a2a",
   "metadata": {},
   "outputs": [],
   "source": [
    "class StackError(ValueError, UnpackException):\n",
    "    \"\"\"Too nested\"\"\""
   ]
  },
  {
   "cell_type": "code",
   "execution_count": null,
   "id": "d1ae140e",
   "metadata": {},
   "outputs": [],
   "source": [
    "# Deprecated.  Use ValueError instead\n",
    "UnpackValueError = ValueError"
   ]
  },
  {
   "cell_type": "code",
   "execution_count": null,
   "id": "b3409285",
   "metadata": {},
   "outputs": [],
   "source": [
    "class ExtraData(UnpackValueError):\n",
    "    \"\"\"ExtraData is raised when there is trailing data.\n",
    "\n",
    "    This exception is raised while only one-shot (not streaming)\n",
    "    unpack.\n",
    "    \"\"\"\n",
    "\n",
    "    def __init__(self, unpacked, extra):\n",
    "        self.unpacked = unpacked\n",
    "        self.extra = extra\n",
    "\n",
    "    def __str__(self):\n",
    "        return \"unpack(b) received extra data.\""
   ]
  },
  {
   "cell_type": "code",
   "execution_count": null,
   "id": "7e62b3d1",
   "metadata": {},
   "outputs": [],
   "source": [
    "# Deprecated.  Use Exception instead to catch all exception during packing.\n",
    "PackException = Exception\n",
    "PackValueError = ValueError\n",
    "PackOverflowError = OverflowError"
   ]
  }
 ],
 "metadata": {
  "jupytext": {
   "cell_metadata_filter": "-all",
   "main_language": "python",
   "notebook_metadata_filter": "-all"
  }
 },
 "nbformat": 4,
 "nbformat_minor": 5
}
