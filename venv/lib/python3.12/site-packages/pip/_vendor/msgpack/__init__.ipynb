{
 "cells": [
  {
   "cell_type": "code",
   "execution_count": null,
   "id": "20f6c0da",
   "metadata": {},
   "outputs": [],
   "source": [
    "from .exceptions import *\n",
    "from .ext import ExtType, Timestamp"
   ]
  },
  {
   "cell_type": "code",
   "execution_count": null,
   "id": "588c5302",
   "metadata": {
    "lines_to_next_cell": 2
   },
   "outputs": [],
   "source": [
    "import os\n",
    "import sys"
   ]
  },
  {
   "cell_type": "code",
   "execution_count": null,
   "id": "c68ef86c",
   "metadata": {
    "lines_to_next_cell": 2
   },
   "outputs": [],
   "source": [
    "version = (1, 0, 5)\n",
    "__version__ = \"1.0.5\""
   ]
  },
  {
   "cell_type": "code",
   "execution_count": null,
   "id": "38490972",
   "metadata": {},
   "outputs": [],
   "source": [
    "if os.environ.get(\"MSGPACK_PUREPYTHON\") or sys.version_info[0] == 2:\n",
    "    from .fallback import Packer, unpackb, Unpacker\n",
    "else:\n",
    "    try:\n",
    "        from ._cmsgpack import Packer, unpackb, Unpacker\n",
    "    except ImportError:\n",
    "        from .fallback import Packer, unpackb, Unpacker"
   ]
  },
  {
   "cell_type": "code",
   "execution_count": null,
   "id": "5fb275df",
   "metadata": {},
   "outputs": [],
   "source": [
    "def pack(o, stream, **kwargs):\n",
    "    \"\"\"\n",
    "    Pack object `o` and write it to `stream`\n",
    "\n",
    "    See :class:`Packer` for options.\n",
    "    \"\"\"\n",
    "    packer = Packer(**kwargs)\n",
    "    stream.write(packer.pack(o))"
   ]
  },
  {
   "cell_type": "code",
   "execution_count": null,
   "id": "66aa7d1e",
   "metadata": {},
   "outputs": [],
   "source": [
    "def packb(o, **kwargs):\n",
    "    \"\"\"\n",
    "    Pack object `o` and return packed bytes\n",
    "\n",
    "    See :class:`Packer` for options.\n",
    "    \"\"\"\n",
    "    return Packer(**kwargs).pack(o)"
   ]
  },
  {
   "cell_type": "code",
   "execution_count": null,
   "id": "bb061cae",
   "metadata": {},
   "outputs": [],
   "source": [
    "def unpack(stream, **kwargs):\n",
    "    \"\"\"\n",
    "    Unpack an object from `stream`.\n",
    "\n",
    "    Raises `ExtraData` when `stream` contains extra bytes.\n",
    "    See :class:`Unpacker` for options.\n",
    "    \"\"\"\n",
    "    data = stream.read()\n",
    "    return unpackb(data, **kwargs)"
   ]
  },
  {
   "cell_type": "code",
   "execution_count": null,
   "id": "4b9efb7c",
   "metadata": {},
   "outputs": [],
   "source": [
    "# alias for compatibility to simplejson/marshal/pickle.\n",
    "load = unpack\n",
    "loads = unpackb"
   ]
  },
  {
   "cell_type": "code",
   "execution_count": null,
   "id": "051b0f2e",
   "metadata": {},
   "outputs": [],
   "source": [
    "dump = pack\n",
    "dumps = packb"
   ]
  }
 ],
 "metadata": {
  "jupytext": {
   "cell_metadata_filter": "-all",
   "encoding": "# coding: utf-8",
   "main_language": "python",
   "notebook_metadata_filter": "-all"
  }
 },
 "nbformat": 4,
 "nbformat_minor": 5
}
