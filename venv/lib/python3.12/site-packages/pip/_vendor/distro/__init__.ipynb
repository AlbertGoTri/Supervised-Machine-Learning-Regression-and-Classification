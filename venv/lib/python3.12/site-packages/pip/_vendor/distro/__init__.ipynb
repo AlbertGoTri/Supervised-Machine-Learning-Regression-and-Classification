{
 "cells": [
  {
   "cell_type": "code",
   "execution_count": null,
   "id": "d73f9194",
   "metadata": {},
   "outputs": [],
   "source": [
    "from .distro import (\n",
    "    NORMALIZED_DISTRO_ID,\n",
    "    NORMALIZED_LSB_ID,\n",
    "    NORMALIZED_OS_ID,\n",
    "    LinuxDistribution,\n",
    "    __version__,\n",
    "    build_number,\n",
    "    codename,\n",
    "    distro_release_attr,\n",
    "    distro_release_info,\n",
    "    id,\n",
    "    info,\n",
    "    like,\n",
    "    linux_distribution,\n",
    "    lsb_release_attr,\n",
    "    lsb_release_info,\n",
    "    major_version,\n",
    "    minor_version,\n",
    "    name,\n",
    "    os_release_attr,\n",
    "    os_release_info,\n",
    "    uname_attr,\n",
    "    uname_info,\n",
    "    version,\n",
    "    version_parts,\n",
    ")"
   ]
  },
  {
   "cell_type": "code",
   "execution_count": null,
   "id": "3905fff6",
   "metadata": {},
   "outputs": [],
   "source": [
    "__all__ = [\n",
    "    \"NORMALIZED_DISTRO_ID\",\n",
    "    \"NORMALIZED_LSB_ID\",\n",
    "    \"NORMALIZED_OS_ID\",\n",
    "    \"LinuxDistribution\",\n",
    "    \"build_number\",\n",
    "    \"codename\",\n",
    "    \"distro_release_attr\",\n",
    "    \"distro_release_info\",\n",
    "    \"id\",\n",
    "    \"info\",\n",
    "    \"like\",\n",
    "    \"linux_distribution\",\n",
    "    \"lsb_release_attr\",\n",
    "    \"lsb_release_info\",\n",
    "    \"major_version\",\n",
    "    \"minor_version\",\n",
    "    \"name\",\n",
    "    \"os_release_attr\",\n",
    "    \"os_release_info\",\n",
    "    \"uname_attr\",\n",
    "    \"uname_info\",\n",
    "    \"version\",\n",
    "    \"version_parts\",\n",
    "]"
   ]
  },
  {
   "cell_type": "code",
   "execution_count": null,
   "id": "621a282f",
   "metadata": {},
   "outputs": [],
   "source": [
    "__version__ = __version__"
   ]
  }
 ],
 "metadata": {
  "jupytext": {
   "cell_metadata_filter": "-all",
   "main_language": "python",
   "notebook_metadata_filter": "-all"
  }
 },
 "nbformat": 4,
 "nbformat_minor": 5
}
