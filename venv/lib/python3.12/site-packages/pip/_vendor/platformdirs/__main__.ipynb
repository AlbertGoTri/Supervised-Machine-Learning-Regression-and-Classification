{
 "cells": [
  {
   "cell_type": "code",
   "execution_count": null,
   "id": "110b8768",
   "metadata": {},
   "outputs": [],
   "source": [
    "\"\"\"Main entry point.\"\"\"\n",
    "from __future__ import annotations"
   ]
  },
  {
   "cell_type": "code",
   "execution_count": null,
   "id": "fb740cf5",
   "metadata": {},
   "outputs": [],
   "source": [
    "from pip._vendor.platformdirs import PlatformDirs, __version__"
   ]
  },
  {
   "cell_type": "code",
   "execution_count": null,
   "id": "25157e01",
   "metadata": {},
   "outputs": [],
   "source": [
    "PROPS = (\n",
    "    \"user_data_dir\",\n",
    "    \"user_config_dir\",\n",
    "    \"user_cache_dir\",\n",
    "    \"user_state_dir\",\n",
    "    \"user_log_dir\",\n",
    "    \"user_documents_dir\",\n",
    "    \"user_downloads_dir\",\n",
    "    \"user_pictures_dir\",\n",
    "    \"user_videos_dir\",\n",
    "    \"user_music_dir\",\n",
    "    \"user_runtime_dir\",\n",
    "    \"site_data_dir\",\n",
    "    \"site_config_dir\",\n",
    "    \"site_cache_dir\",\n",
    ")"
   ]
  },
  {
   "cell_type": "code",
   "execution_count": null,
   "id": "2ccc179f",
   "metadata": {},
   "outputs": [],
   "source": [
    "def main() -> None:\n",
    "    \"\"\"Run main entry point.\"\"\"\n",
    "    app_name = \"MyApp\"\n",
    "    app_author = \"MyCompany\"\n",
    "\n",
    "    print(f\"-- platformdirs {__version__} --\")  # noqa: T201\n",
    "\n",
    "    print(\"-- app dirs (with optional 'version')\")  # noqa: T201\n",
    "    dirs = PlatformDirs(app_name, app_author, version=\"1.0\")\n",
    "    for prop in PROPS:\n",
    "        print(f\"{prop}: {getattr(dirs, prop)}\")  # noqa: T201\n",
    "\n",
    "    print(\"\\n-- app dirs (without optional 'version')\")  # noqa: T201\n",
    "    dirs = PlatformDirs(app_name, app_author)\n",
    "    for prop in PROPS:\n",
    "        print(f\"{prop}: {getattr(dirs, prop)}\")  # noqa: T201\n",
    "\n",
    "    print(\"\\n-- app dirs (without optional 'appauthor')\")  # noqa: T201\n",
    "    dirs = PlatformDirs(app_name)\n",
    "    for prop in PROPS:\n",
    "        print(f\"{prop}: {getattr(dirs, prop)}\")  # noqa: T201\n",
    "\n",
    "    print(\"\\n-- app dirs (with disabled 'appauthor')\")  # noqa: T201\n",
    "    dirs = PlatformDirs(app_name, appauthor=False)\n",
    "    for prop in PROPS:\n",
    "        print(f\"{prop}: {getattr(dirs, prop)}\")  # noqa: T201"
   ]
  },
  {
   "cell_type": "code",
   "execution_count": null,
   "id": "091e3379",
   "metadata": {},
   "outputs": [],
   "source": [
    "if __name__ == \"__main__\":\n",
    "    main()"
   ]
  }
 ],
 "metadata": {
  "jupytext": {
   "cell_metadata_filter": "-all",
   "main_language": "python",
   "notebook_metadata_filter": "-all"
  }
 },
 "nbformat": 4,
 "nbformat_minor": 5
}
