{
 "cells": [
  {
   "cell_type": "markdown",
   "id": "5e34e5ac",
   "metadata": {},
   "source": [
    "Copyright 2016 Julien Danjou\n",
    "Copyright 2016 Joshua Harlow\n",
    "Copyright 2013-2014 Ray Holder\n",
    "\n",
    "Licensed under the Apache License, Version 2.0 (the \"License\");\n",
    "you may not use this file except in compliance with the License.\n",
    "You may obtain a copy of the License at\n",
    "\n",
    "http://www.apache.org/licenses/LICENSE-2.0\n",
    "\n",
    "Unless required by applicable law or agreed to in writing, software\n",
    "distributed under the License is distributed on an \"AS IS\" BASIS,\n",
    "WITHOUT WARRANTIES OR CONDITIONS OF ANY KIND, either express or implied.\n",
    "See the License for the specific language governing permissions and\n",
    "limitations under the License."
   ]
  },
  {
   "cell_type": "code",
   "execution_count": null,
   "id": "f829764c",
   "metadata": {},
   "outputs": [],
   "source": [
    "import typing"
   ]
  },
  {
   "cell_type": "code",
   "execution_count": null,
   "id": "864c268b",
   "metadata": {},
   "outputs": [],
   "source": [
    "from pip._vendor.tenacity import _utils"
   ]
  },
  {
   "cell_type": "code",
   "execution_count": null,
   "id": "6917b839",
   "metadata": {},
   "outputs": [],
   "source": [
    "if typing.TYPE_CHECKING:\n",
    "    import logging\n",
    "\n",
    "    from pip._vendor.tenacity import RetryCallState"
   ]
  },
  {
   "cell_type": "code",
   "execution_count": null,
   "id": "96b958eb",
   "metadata": {},
   "outputs": [],
   "source": [
    "def before_sleep_nothing(retry_state: \"RetryCallState\") -> None:\n",
    "    \"\"\"Before call strategy that does nothing.\"\"\""
   ]
  },
  {
   "cell_type": "code",
   "execution_count": null,
   "id": "20811217",
   "metadata": {},
   "outputs": [],
   "source": [
    "def before_sleep_log(\n",
    "    logger: \"logging.Logger\",\n",
    "    log_level: int,\n",
    "    exc_info: bool = False,\n",
    ") -> typing.Callable[[\"RetryCallState\"], None]:\n",
    "    \"\"\"Before call strategy that logs to some logger the attempt.\"\"\"\n",
    "\n",
    "    def log_it(retry_state: \"RetryCallState\") -> None:\n",
    "        local_exc_info: BaseException | bool | None\n",
    "\n",
    "        if retry_state.outcome is None:\n",
    "            raise RuntimeError(\"log_it() called before outcome was set\")\n",
    "\n",
    "        if retry_state.next_action is None:\n",
    "            raise RuntimeError(\"log_it() called before next_action was set\")\n",
    "\n",
    "        if retry_state.outcome.failed:\n",
    "            ex = retry_state.outcome.exception()\n",
    "            verb, value = \"raised\", f\"{ex.__class__.__name__}: {ex}\"\n",
    "\n",
    "            if exc_info:\n",
    "                local_exc_info = retry_state.outcome.exception()\n",
    "            else:\n",
    "                local_exc_info = False\n",
    "        else:\n",
    "            verb, value = \"returned\", retry_state.outcome.result()\n",
    "            local_exc_info = False  # exc_info does not apply when no exception\n",
    "\n",
    "        if retry_state.fn is None:\n",
    "            # NOTE(sileht): can't really happen, but we must please mypy\n",
    "            fn_name = \"<unknown>\"\n",
    "        else:\n",
    "            fn_name = _utils.get_callback_name(retry_state.fn)\n",
    "\n",
    "        logger.log(\n",
    "            log_level,\n",
    "            f\"Retrying {fn_name} \" f\"in {retry_state.next_action.sleep} seconds as it {verb} {value}.\",\n",
    "            exc_info=local_exc_info,\n",
    "        )\n",
    "\n",
    "    return log_it"
   ]
  }
 ],
 "metadata": {
  "jupytext": {
   "cell_metadata_filter": "-all",
   "main_language": "python",
   "notebook_metadata_filter": "-all"
  }
 },
 "nbformat": 4,
 "nbformat_minor": 5
}
