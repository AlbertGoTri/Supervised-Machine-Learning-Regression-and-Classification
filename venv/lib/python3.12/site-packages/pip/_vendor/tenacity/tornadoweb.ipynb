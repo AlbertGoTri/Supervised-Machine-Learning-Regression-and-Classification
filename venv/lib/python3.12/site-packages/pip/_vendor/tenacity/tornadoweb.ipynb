{
 "cells": [
  {
   "cell_type": "markdown",
   "id": "db82b5d1",
   "metadata": {},
   "source": [
    "Copyright 2017 Elisey Zanko\n",
    "\n",
    "Licensed under the Apache License, Version 2.0 (the \"License\");\n",
    "you may not use this file except in compliance with the License.\n",
    "You may obtain a copy of the License at\n",
    "\n",
    "http://www.apache.org/licenses/LICENSE-2.0\n",
    "\n",
    "Unless required by applicable law or agreed to in writing, software\n",
    "distributed under the License is distributed on an \"AS IS\" BASIS,\n",
    "WITHOUT WARRANTIES OR CONDITIONS OF ANY KIND, either express or implied.\n",
    "See the License for the specific language governing permissions and\n",
    "limitations under the License."
   ]
  },
  {
   "cell_type": "code",
   "execution_count": null,
   "id": "19ce0989",
   "metadata": {},
   "outputs": [],
   "source": [
    "import sys\n",
    "import typing"
   ]
  },
  {
   "cell_type": "code",
   "execution_count": null,
   "id": "bb615b20",
   "metadata": {},
   "outputs": [],
   "source": [
    "from pip._vendor.tenacity import BaseRetrying\n",
    "from pip._vendor.tenacity import DoAttempt\n",
    "from pip._vendor.tenacity import DoSleep\n",
    "from pip._vendor.tenacity import RetryCallState"
   ]
  },
  {
   "cell_type": "code",
   "execution_count": null,
   "id": "70b39727",
   "metadata": {},
   "outputs": [],
   "source": [
    "from tornado import gen"
   ]
  },
  {
   "cell_type": "code",
   "execution_count": null,
   "id": "870d3d8c",
   "metadata": {},
   "outputs": [],
   "source": [
    "if typing.TYPE_CHECKING:\n",
    "    from tornado.concurrent import Future"
   ]
  },
  {
   "cell_type": "code",
   "execution_count": null,
   "id": "e7b3b38e",
   "metadata": {},
   "outputs": [],
   "source": [
    "_RetValT = typing.TypeVar(\"_RetValT\")"
   ]
  },
  {
   "cell_type": "code",
   "execution_count": null,
   "id": "f3201707",
   "metadata": {},
   "outputs": [],
   "source": [
    "class TornadoRetrying(BaseRetrying):\n",
    "    def __init__(self, sleep: \"typing.Callable[[float], Future[None]]\" = gen.sleep, **kwargs: typing.Any) -> None:\n",
    "        super().__init__(**kwargs)\n",
    "        self.sleep = sleep\n",
    "\n",
    "    @gen.coroutine  # type: ignore[misc]\n",
    "    def __call__(\n",
    "        self,\n",
    "        fn: \"typing.Callable[..., typing.Union[typing.Generator[typing.Any, typing.Any, _RetValT], Future[_RetValT]]]\",\n",
    "        *args: typing.Any,\n",
    "        **kwargs: typing.Any,\n",
    "    ) -> \"typing.Generator[typing.Any, typing.Any, _RetValT]\":\n",
    "        self.begin()\n",
    "\n",
    "        retry_state = RetryCallState(retry_object=self, fn=fn, args=args, kwargs=kwargs)\n",
    "        while True:\n",
    "            do = self.iter(retry_state=retry_state)\n",
    "            if isinstance(do, DoAttempt):\n",
    "                try:\n",
    "                    result = yield fn(*args, **kwargs)\n",
    "                except BaseException:  # noqa: B902\n",
    "                    retry_state.set_exception(sys.exc_info())  # type: ignore[arg-type]\n",
    "                else:\n",
    "                    retry_state.set_result(result)\n",
    "            elif isinstance(do, DoSleep):\n",
    "                retry_state.prepare_for_next_attempt()\n",
    "                yield self.sleep(do)\n",
    "            else:\n",
    "                raise gen.Return(do)"
   ]
  }
 ],
 "metadata": {
  "jupytext": {
   "cell_metadata_filter": "-all",
   "main_language": "python",
   "notebook_metadata_filter": "-all"
  }
 },
 "nbformat": 4,
 "nbformat_minor": 5
}
