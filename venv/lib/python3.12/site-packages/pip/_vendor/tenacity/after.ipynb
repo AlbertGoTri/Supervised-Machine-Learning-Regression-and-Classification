{
 "cells": [
  {
   "cell_type": "markdown",
   "id": "e65e9889",
   "metadata": {},
   "source": [
    "Copyright 2016 Julien Danjou\n",
    "Copyright 2016 Joshua Harlow\n",
    "Copyright 2013-2014 Ray Holder\n",
    "\n",
    "Licensed under the Apache License, Version 2.0 (the \"License\");\n",
    "you may not use this file except in compliance with the License.\n",
    "You may obtain a copy of the License at\n",
    "\n",
    "http://www.apache.org/licenses/LICENSE-2.0\n",
    "\n",
    "Unless required by applicable law or agreed to in writing, software\n",
    "distributed under the License is distributed on an \"AS IS\" BASIS,\n",
    "WITHOUT WARRANTIES OR CONDITIONS OF ANY KIND, either express or implied.\n",
    "See the License for the specific language governing permissions and\n",
    "limitations under the License."
   ]
  },
  {
   "cell_type": "code",
   "execution_count": null,
   "id": "8a0dea22",
   "metadata": {},
   "outputs": [],
   "source": [
    "import typing"
   ]
  },
  {
   "cell_type": "code",
   "execution_count": null,
   "id": "12a68555",
   "metadata": {},
   "outputs": [],
   "source": [
    "from pip._vendor.tenacity import _utils"
   ]
  },
  {
   "cell_type": "code",
   "execution_count": null,
   "id": "219ed8df",
   "metadata": {},
   "outputs": [],
   "source": [
    "if typing.TYPE_CHECKING:\n",
    "    import logging\n",
    "\n",
    "    from pip._vendor.tenacity import RetryCallState"
   ]
  },
  {
   "cell_type": "code",
   "execution_count": null,
   "id": "48f09ae1",
   "metadata": {},
   "outputs": [],
   "source": [
    "def after_nothing(retry_state: \"RetryCallState\") -> None:\n",
    "    \"\"\"After call strategy that does nothing.\"\"\""
   ]
  },
  {
   "cell_type": "code",
   "execution_count": null,
   "id": "99316df4",
   "metadata": {},
   "outputs": [],
   "source": [
    "def after_log(\n",
    "    logger: \"logging.Logger\",\n",
    "    log_level: int,\n",
    "    sec_format: str = \"%0.3f\",\n",
    ") -> typing.Callable[[\"RetryCallState\"], None]:\n",
    "    \"\"\"After call strategy that logs to some logger the finished attempt.\"\"\"\n",
    "\n",
    "    def log_it(retry_state: \"RetryCallState\") -> None:\n",
    "        if retry_state.fn is None:\n",
    "            # NOTE(sileht): can't really happen, but we must please mypy\n",
    "            fn_name = \"<unknown>\"\n",
    "        else:\n",
    "            fn_name = _utils.get_callback_name(retry_state.fn)\n",
    "        logger.log(\n",
    "            log_level,\n",
    "            f\"Finished call to '{fn_name}' \"\n",
    "            f\"after {sec_format % retry_state.seconds_since_start}(s), \"\n",
    "            f\"this was the {_utils.to_ordinal(retry_state.attempt_number)} time calling it.\",\n",
    "        )\n",
    "\n",
    "    return log_it"
   ]
  }
 ],
 "metadata": {
  "jupytext": {
   "cell_metadata_filter": "-all",
   "main_language": "python",
   "notebook_metadata_filter": "-all"
  }
 },
 "nbformat": 4,
 "nbformat_minor": 5
}
