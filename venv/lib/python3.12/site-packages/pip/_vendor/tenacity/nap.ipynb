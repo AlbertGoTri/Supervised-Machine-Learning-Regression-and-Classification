{
 "cells": [
  {
   "cell_type": "markdown",
   "id": "54236219",
   "metadata": {},
   "source": [
    "Copyright 2016 Étienne Bersac\n",
    "Copyright 2016 Julien Danjou\n",
    "Copyright 2016 Joshua Harlow\n",
    "Copyright 2013-2014 Ray Holder\n",
    "\n",
    "Licensed under the Apache License, Version 2.0 (the \"License\");\n",
    "you may not use this file except in compliance with the License.\n",
    "You may obtain a copy of the License at\n",
    "\n",
    "http://www.apache.org/licenses/LICENSE-2.0\n",
    "\n",
    "Unless required by applicable law or agreed to in writing, software\n",
    "distributed under the License is distributed on an \"AS IS\" BASIS,\n",
    "WITHOUT WARRANTIES OR CONDITIONS OF ANY KIND, either express or implied.\n",
    "See the License for the specific language governing permissions and\n",
    "limitations under the License."
   ]
  },
  {
   "cell_type": "code",
   "execution_count": null,
   "id": "331951a3",
   "metadata": {},
   "outputs": [],
   "source": [
    "import time\n",
    "import typing"
   ]
  },
  {
   "cell_type": "code",
   "execution_count": null,
   "id": "28f9f500",
   "metadata": {},
   "outputs": [],
   "source": [
    "if typing.TYPE_CHECKING:\n",
    "    import threading"
   ]
  },
  {
   "cell_type": "code",
   "execution_count": null,
   "id": "0368fdd2",
   "metadata": {},
   "outputs": [],
   "source": [
    "def sleep(seconds: float) -> None:\n",
    "    \"\"\"\n",
    "    Sleep strategy that delays execution for a given number of seconds.\n",
    "\n",
    "    This is the default strategy, and may be mocked out for unit testing.\n",
    "    \"\"\"\n",
    "    time.sleep(seconds)"
   ]
  },
  {
   "cell_type": "code",
   "execution_count": null,
   "id": "a1c99b54",
   "metadata": {},
   "outputs": [],
   "source": [
    "class sleep_using_event:\n",
    "    \"\"\"Sleep strategy that waits on an event to be set.\"\"\"\n",
    "\n",
    "    def __init__(self, event: \"threading.Event\") -> None:\n",
    "        self.event = event\n",
    "\n",
    "    def __call__(self, timeout: typing.Optional[float]) -> None:\n",
    "        # NOTE(harlowja): this may *not* actually wait for timeout\n",
    "        # seconds if the event is set (ie this may eject out early).\n",
    "        self.event.wait(timeout=timeout)"
   ]
  }
 ],
 "metadata": {
  "jupytext": {
   "cell_metadata_filter": "-all",
   "main_language": "python",
   "notebook_metadata_filter": "-all"
  }
 },
 "nbformat": 4,
 "nbformat_minor": 5
}
