{
 "cells": [
  {
   "cell_type": "markdown",
   "id": "594752bf",
   "metadata": {},
   "source": [
    "Copyright 2016–2021 Julien Danjou\n",
    "Copyright 2016 Joshua Harlow\n",
    "Copyright 2013-2014 Ray Holder\n",
    "\n",
    "Licensed under the Apache License, Version 2.0 (the \"License\");\n",
    "you may not use this file except in compliance with the License.\n",
    "You may obtain a copy of the License at\n",
    "\n",
    "http://www.apache.org/licenses/LICENSE-2.0\n",
    "\n",
    "Unless required by applicable law or agreed to in writing, software\n",
    "distributed under the License is distributed on an \"AS IS\" BASIS,\n",
    "WITHOUT WARRANTIES OR CONDITIONS OF ANY KIND, either express or implied.\n",
    "See the License for the specific language governing permissions and\n",
    "limitations under the License."
   ]
  },
  {
   "cell_type": "code",
   "execution_count": null,
   "id": "22b7fd4f",
   "metadata": {},
   "outputs": [],
   "source": [
    "import abc\n",
    "import random\n",
    "import typing"
   ]
  },
  {
   "cell_type": "code",
   "execution_count": null,
   "id": "0ce589b0",
   "metadata": {},
   "outputs": [],
   "source": [
    "from pip._vendor.tenacity import _utils"
   ]
  },
  {
   "cell_type": "code",
   "execution_count": null,
   "id": "1c90ad4c",
   "metadata": {},
   "outputs": [],
   "source": [
    "if typing.TYPE_CHECKING:\n",
    "    from pip._vendor.tenacity import RetryCallState"
   ]
  },
  {
   "cell_type": "code",
   "execution_count": null,
   "id": "84c1138e",
   "metadata": {},
   "outputs": [],
   "source": [
    "class wait_base(abc.ABC):\n",
    "    \"\"\"Abstract base class for wait strategies.\"\"\"\n",
    "\n",
    "    @abc.abstractmethod\n",
    "    def __call__(self, retry_state: \"RetryCallState\") -> float:\n",
    "        pass\n",
    "\n",
    "    def __add__(self, other: \"wait_base\") -> \"wait_combine\":\n",
    "        return wait_combine(self, other)\n",
    "\n",
    "    def __radd__(self, other: \"wait_base\") -> typing.Union[\"wait_combine\", \"wait_base\"]:\n",
    "        # make it possible to use multiple waits with the built-in sum function\n",
    "        if other == 0:  # type: ignore[comparison-overlap]\n",
    "            return self\n",
    "        return self.__add__(other)"
   ]
  },
  {
   "cell_type": "code",
   "execution_count": null,
   "id": "0797a977",
   "metadata": {},
   "outputs": [],
   "source": [
    "WaitBaseT = typing.Union[wait_base, typing.Callable[[\"RetryCallState\"], typing.Union[float, int]]]"
   ]
  },
  {
   "cell_type": "code",
   "execution_count": null,
   "id": "4bb9b095",
   "metadata": {},
   "outputs": [],
   "source": [
    "class wait_fixed(wait_base):\n",
    "    \"\"\"Wait strategy that waits a fixed amount of time between each retry.\"\"\"\n",
    "\n",
    "    def __init__(self, wait: _utils.time_unit_type) -> None:\n",
    "        self.wait_fixed = _utils.to_seconds(wait)\n",
    "\n",
    "    def __call__(self, retry_state: \"RetryCallState\") -> float:\n",
    "        return self.wait_fixed"
   ]
  },
  {
   "cell_type": "code",
   "execution_count": null,
   "id": "7b85131d",
   "metadata": {},
   "outputs": [],
   "source": [
    "class wait_none(wait_fixed):\n",
    "    \"\"\"Wait strategy that doesn't wait at all before retrying.\"\"\"\n",
    "\n",
    "    def __init__(self) -> None:\n",
    "        super().__init__(0)"
   ]
  },
  {
   "cell_type": "code",
   "execution_count": null,
   "id": "7f13ba7d",
   "metadata": {},
   "outputs": [],
   "source": [
    "class wait_random(wait_base):\n",
    "    \"\"\"Wait strategy that waits a random amount of time between min/max.\"\"\"\n",
    "\n",
    "    def __init__(self, min: _utils.time_unit_type = 0, max: _utils.time_unit_type = 1) -> None:  # noqa\n",
    "        self.wait_random_min = _utils.to_seconds(min)\n",
    "        self.wait_random_max = _utils.to_seconds(max)\n",
    "\n",
    "    def __call__(self, retry_state: \"RetryCallState\") -> float:\n",
    "        return self.wait_random_min + (random.random() * (self.wait_random_max - self.wait_random_min))"
   ]
  },
  {
   "cell_type": "code",
   "execution_count": null,
   "id": "8c588907",
   "metadata": {},
   "outputs": [],
   "source": [
    "class wait_combine(wait_base):\n",
    "    \"\"\"Combine several waiting strategies.\"\"\"\n",
    "\n",
    "    def __init__(self, *strategies: wait_base) -> None:\n",
    "        self.wait_funcs = strategies\n",
    "\n",
    "    def __call__(self, retry_state: \"RetryCallState\") -> float:\n",
    "        return sum(x(retry_state=retry_state) for x in self.wait_funcs)"
   ]
  },
  {
   "cell_type": "code",
   "execution_count": null,
   "id": "43392281",
   "metadata": {},
   "outputs": [],
   "source": [
    "class wait_chain(wait_base):\n",
    "    \"\"\"Chain two or more waiting strategies.\n",
    "\n",
    "    If all strategies are exhausted, the very last strategy is used\n",
    "    thereafter.\n",
    "\n",
    "    For example::\n",
    "\n",
    "        @retry(wait=wait_chain(*[wait_fixed(1) for i in range(3)] +\n",
    "                               [wait_fixed(2) for j in range(5)] +\n",
    "                               [wait_fixed(5) for k in range(4)))\n",
    "        def wait_chained():\n",
    "            print(\"Wait 1s for 3 attempts, 2s for 5 attempts and 5s\n",
    "                   thereafter.\")\n",
    "    \"\"\"\n",
    "\n",
    "    def __init__(self, *strategies: wait_base) -> None:\n",
    "        self.strategies = strategies\n",
    "\n",
    "    def __call__(self, retry_state: \"RetryCallState\") -> float:\n",
    "        wait_func_no = min(max(retry_state.attempt_number, 1), len(self.strategies))\n",
    "        wait_func = self.strategies[wait_func_no - 1]\n",
    "        return wait_func(retry_state=retry_state)"
   ]
  },
  {
   "cell_type": "code",
   "execution_count": null,
   "id": "33f56ca8",
   "metadata": {},
   "outputs": [],
   "source": [
    "class wait_incrementing(wait_base):\n",
    "    \"\"\"Wait an incremental amount of time after each attempt.\n",
    "\n",
    "    Starting at a starting value and incrementing by a value for each attempt\n",
    "    (and restricting the upper limit to some maximum value).\n",
    "    \"\"\"\n",
    "\n",
    "    def __init__(\n",
    "        self,\n",
    "        start: _utils.time_unit_type = 0,\n",
    "        increment: _utils.time_unit_type = 100,\n",
    "        max: _utils.time_unit_type = _utils.MAX_WAIT,  # noqa\n",
    "    ) -> None:\n",
    "        self.start = _utils.to_seconds(start)\n",
    "        self.increment = _utils.to_seconds(increment)\n",
    "        self.max = _utils.to_seconds(max)\n",
    "\n",
    "    def __call__(self, retry_state: \"RetryCallState\") -> float:\n",
    "        result = self.start + (self.increment * (retry_state.attempt_number - 1))\n",
    "        return max(0, min(result, self.max))"
   ]
  },
  {
   "cell_type": "code",
   "execution_count": null,
   "id": "b249f40f",
   "metadata": {},
   "outputs": [],
   "source": [
    "class wait_exponential(wait_base):\n",
    "    \"\"\"Wait strategy that applies exponential backoff.\n",
    "\n",
    "    It allows for a customized multiplier and an ability to restrict the\n",
    "    upper and lower limits to some maximum and minimum value.\n",
    "\n",
    "    The intervals are fixed (i.e. there is no jitter), so this strategy is\n",
    "    suitable for balancing retries against latency when a required resource is\n",
    "    unavailable for an unknown duration, but *not* suitable for resolving\n",
    "    contention between multiple processes for a shared resource. Use\n",
    "    wait_random_exponential for the latter case.\n",
    "    \"\"\"\n",
    "\n",
    "    def __init__(\n",
    "        self,\n",
    "        multiplier: typing.Union[int, float] = 1,\n",
    "        max: _utils.time_unit_type = _utils.MAX_WAIT,  # noqa\n",
    "        exp_base: typing.Union[int, float] = 2,\n",
    "        min: _utils.time_unit_type = 0,  # noqa\n",
    "    ) -> None:\n",
    "        self.multiplier = multiplier\n",
    "        self.min = _utils.to_seconds(min)\n",
    "        self.max = _utils.to_seconds(max)\n",
    "        self.exp_base = exp_base\n",
    "\n",
    "    def __call__(self, retry_state: \"RetryCallState\") -> float:\n",
    "        try:\n",
    "            exp = self.exp_base ** (retry_state.attempt_number - 1)\n",
    "            result = self.multiplier * exp\n",
    "        except OverflowError:\n",
    "            return self.max\n",
    "        return max(max(0, self.min), min(result, self.max))"
   ]
  },
  {
   "cell_type": "code",
   "execution_count": null,
   "id": "17a5b028",
   "metadata": {},
   "outputs": [],
   "source": [
    "class wait_random_exponential(wait_exponential):\n",
    "    \"\"\"Random wait with exponentially widening window.\n",
    "\n",
    "    An exponential backoff strategy used to mediate contention between multiple\n",
    "    uncoordinated processes for a shared resource in distributed systems. This\n",
    "    is the sense in which \"exponential backoff\" is meant in e.g. Ethernet\n",
    "    networking, and corresponds to the \"Full Jitter\" algorithm described in\n",
    "    this blog post:\n",
    "\n",
    "    https://aws.amazon.com/blogs/architecture/exponential-backoff-and-jitter/\n",
    "\n",
    "    Each retry occurs at a random time in a geometrically expanding interval.\n",
    "    It allows for a custom multiplier and an ability to restrict the upper\n",
    "    limit of the random interval to some maximum value.\n",
    "\n",
    "    Example::\n",
    "\n",
    "        wait_random_exponential(multiplier=0.5,  # initial window 0.5s\n",
    "                                max=60)          # max 60s timeout\n",
    "\n",
    "    When waiting for an unavailable resource to become available again, as\n",
    "    opposed to trying to resolve contention for a shared resource, the\n",
    "    wait_exponential strategy (which uses a fixed interval) may be preferable.\n",
    "\n",
    "    \"\"\"\n",
    "\n",
    "    def __call__(self, retry_state: \"RetryCallState\") -> float:\n",
    "        high = super().__call__(retry_state=retry_state)\n",
    "        return random.uniform(0, high)"
   ]
  },
  {
   "cell_type": "code",
   "execution_count": null,
   "id": "ca681fad",
   "metadata": {},
   "outputs": [],
   "source": [
    "class wait_exponential_jitter(wait_base):\n",
    "    \"\"\"Wait strategy that applies exponential backoff and jitter.\n",
    "\n",
    "    It allows for a customized initial wait, maximum wait and jitter.\n",
    "\n",
    "    This implements the strategy described here:\n",
    "    https://cloud.google.com/storage/docs/retry-strategy\n",
    "\n",
    "    The wait time is min(initial * 2**n + random.uniform(0, jitter), maximum)\n",
    "    where n is the retry count.\n",
    "    \"\"\"\n",
    "\n",
    "    def __init__(\n",
    "        self,\n",
    "        initial: float = 1,\n",
    "        max: float = _utils.MAX_WAIT,  # noqa\n",
    "        exp_base: float = 2,\n",
    "        jitter: float = 1,\n",
    "    ) -> None:\n",
    "        self.initial = initial\n",
    "        self.max = max\n",
    "        self.exp_base = exp_base\n",
    "        self.jitter = jitter\n",
    "\n",
    "    def __call__(self, retry_state: \"RetryCallState\") -> float:\n",
    "        jitter = random.uniform(0, self.jitter)\n",
    "        try:\n",
    "            exp = self.exp_base ** (retry_state.attempt_number - 1)\n",
    "            result = self.initial * exp + jitter\n",
    "        except OverflowError:\n",
    "            result = self.max\n",
    "        return max(0, min(result, self.max))"
   ]
  }
 ],
 "metadata": {
  "jupytext": {
   "cell_metadata_filter": "-all",
   "main_language": "python",
   "notebook_metadata_filter": "-all"
  }
 },
 "nbformat": 4,
 "nbformat_minor": 5
}
