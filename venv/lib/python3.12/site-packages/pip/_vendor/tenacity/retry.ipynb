{
 "cells": [
  {
   "cell_type": "markdown",
   "id": "81819619",
   "metadata": {},
   "source": [
    "Copyright 2016–2021 Julien Danjou\n",
    "Copyright 2016 Joshua Harlow\n",
    "Copyright 2013-2014 Ray Holder\n",
    "\n",
    "Licensed under the Apache License, Version 2.0 (the \"License\");\n",
    "you may not use this file except in compliance with the License.\n",
    "You may obtain a copy of the License at\n",
    "\n",
    "http://www.apache.org/licenses/LICENSE-2.0\n",
    "\n",
    "Unless required by applicable law or agreed to in writing, software\n",
    "distributed under the License is distributed on an \"AS IS\" BASIS,\n",
    "WITHOUT WARRANTIES OR CONDITIONS OF ANY KIND, either express or implied.\n",
    "See the License for the specific language governing permissions and\n",
    "limitations under the License."
   ]
  },
  {
   "cell_type": "code",
   "execution_count": null,
   "id": "d2875bb7",
   "metadata": {},
   "outputs": [],
   "source": [
    "import abc\n",
    "import re\n",
    "import typing"
   ]
  },
  {
   "cell_type": "code",
   "execution_count": null,
   "id": "3ce1a509",
   "metadata": {},
   "outputs": [],
   "source": [
    "if typing.TYPE_CHECKING:\n",
    "    from pip._vendor.tenacity import RetryCallState"
   ]
  },
  {
   "cell_type": "code",
   "execution_count": null,
   "id": "576636a8",
   "metadata": {},
   "outputs": [],
   "source": [
    "class retry_base(abc.ABC):\n",
    "    \"\"\"Abstract base class for retry strategies.\"\"\"\n",
    "\n",
    "    @abc.abstractmethod\n",
    "    def __call__(self, retry_state: \"RetryCallState\") -> bool:\n",
    "        pass\n",
    "\n",
    "    def __and__(self, other: \"retry_base\") -> \"retry_all\":\n",
    "        return retry_all(self, other)\n",
    "\n",
    "    def __or__(self, other: \"retry_base\") -> \"retry_any\":\n",
    "        return retry_any(self, other)"
   ]
  },
  {
   "cell_type": "code",
   "execution_count": null,
   "id": "b5570780",
   "metadata": {},
   "outputs": [],
   "source": [
    "RetryBaseT = typing.Union[retry_base, typing.Callable[[\"RetryCallState\"], bool]]"
   ]
  },
  {
   "cell_type": "code",
   "execution_count": null,
   "id": "9caa7df7",
   "metadata": {},
   "outputs": [],
   "source": [
    "class _retry_never(retry_base):\n",
    "    \"\"\"Retry strategy that never rejects any result.\"\"\"\n",
    "\n",
    "    def __call__(self, retry_state: \"RetryCallState\") -> bool:\n",
    "        return False"
   ]
  },
  {
   "cell_type": "code",
   "execution_count": null,
   "id": "fd19ce87",
   "metadata": {},
   "outputs": [],
   "source": [
    "retry_never = _retry_never()"
   ]
  },
  {
   "cell_type": "code",
   "execution_count": null,
   "id": "31a01e8a",
   "metadata": {},
   "outputs": [],
   "source": [
    "class _retry_always(retry_base):\n",
    "    \"\"\"Retry strategy that always rejects any result.\"\"\"\n",
    "\n",
    "    def __call__(self, retry_state: \"RetryCallState\") -> bool:\n",
    "        return True"
   ]
  },
  {
   "cell_type": "code",
   "execution_count": null,
   "id": "cccbf15b",
   "metadata": {},
   "outputs": [],
   "source": [
    "retry_always = _retry_always()"
   ]
  },
  {
   "cell_type": "code",
   "execution_count": null,
   "id": "9aa377e5",
   "metadata": {},
   "outputs": [],
   "source": [
    "class retry_if_exception(retry_base):\n",
    "    \"\"\"Retry strategy that retries if an exception verifies a predicate.\"\"\"\n",
    "\n",
    "    def __init__(self, predicate: typing.Callable[[BaseException], bool]) -> None:\n",
    "        self.predicate = predicate\n",
    "\n",
    "    def __call__(self, retry_state: \"RetryCallState\") -> bool:\n",
    "        if retry_state.outcome is None:\n",
    "            raise RuntimeError(\"__call__() called before outcome was set\")\n",
    "\n",
    "        if retry_state.outcome.failed:\n",
    "            exception = retry_state.outcome.exception()\n",
    "            if exception is None:\n",
    "                raise RuntimeError(\"outcome failed but the exception is None\")\n",
    "            return self.predicate(exception)\n",
    "        else:\n",
    "            return False"
   ]
  },
  {
   "cell_type": "code",
   "execution_count": null,
   "id": "ec8369b6",
   "metadata": {},
   "outputs": [],
   "source": [
    "class retry_if_exception_type(retry_if_exception):\n",
    "    \"\"\"Retries if an exception has been raised of one or more types.\"\"\"\n",
    "\n",
    "    def __init__(\n",
    "        self,\n",
    "        exception_types: typing.Union[\n",
    "            typing.Type[BaseException],\n",
    "            typing.Tuple[typing.Type[BaseException], ...],\n",
    "        ] = Exception,\n",
    "    ) -> None:\n",
    "        self.exception_types = exception_types\n",
    "        super().__init__(lambda e: isinstance(e, exception_types))"
   ]
  },
  {
   "cell_type": "code",
   "execution_count": null,
   "id": "73f0fb94",
   "metadata": {},
   "outputs": [],
   "source": [
    "class retry_if_not_exception_type(retry_if_exception):\n",
    "    \"\"\"Retries except an exception has been raised of one or more types.\"\"\"\n",
    "\n",
    "    def __init__(\n",
    "        self,\n",
    "        exception_types: typing.Union[\n",
    "            typing.Type[BaseException],\n",
    "            typing.Tuple[typing.Type[BaseException], ...],\n",
    "        ] = Exception,\n",
    "    ) -> None:\n",
    "        self.exception_types = exception_types\n",
    "        super().__init__(lambda e: not isinstance(e, exception_types))"
   ]
  },
  {
   "cell_type": "code",
   "execution_count": null,
   "id": "09798fe9",
   "metadata": {},
   "outputs": [],
   "source": [
    "class retry_unless_exception_type(retry_if_exception):\n",
    "    \"\"\"Retries until an exception is raised of one or more types.\"\"\"\n",
    "\n",
    "    def __init__(\n",
    "        self,\n",
    "        exception_types: typing.Union[\n",
    "            typing.Type[BaseException],\n",
    "            typing.Tuple[typing.Type[BaseException], ...],\n",
    "        ] = Exception,\n",
    "    ) -> None:\n",
    "        self.exception_types = exception_types\n",
    "        super().__init__(lambda e: not isinstance(e, exception_types))\n",
    "\n",
    "    def __call__(self, retry_state: \"RetryCallState\") -> bool:\n",
    "        if retry_state.outcome is None:\n",
    "            raise RuntimeError(\"__call__() called before outcome was set\")\n",
    "\n",
    "        # always retry if no exception was raised\n",
    "        if not retry_state.outcome.failed:\n",
    "            return True\n",
    "\n",
    "        exception = retry_state.outcome.exception()\n",
    "        if exception is None:\n",
    "            raise RuntimeError(\"outcome failed but the exception is None\")\n",
    "        return self.predicate(exception)"
   ]
  },
  {
   "cell_type": "code",
   "execution_count": null,
   "id": "2555f07c",
   "metadata": {},
   "outputs": [],
   "source": [
    "class retry_if_exception_cause_type(retry_base):\n",
    "    \"\"\"Retries if any of the causes of the raised exception is of one or more types.\n",
    "\n",
    "    The check on the type of the cause of the exception is done recursively (until finding\n",
    "    an exception in the chain that has no `__cause__`)\n",
    "    \"\"\"\n",
    "\n",
    "    def __init__(\n",
    "        self,\n",
    "        exception_types: typing.Union[\n",
    "            typing.Type[BaseException],\n",
    "            typing.Tuple[typing.Type[BaseException], ...],\n",
    "        ] = Exception,\n",
    "    ) -> None:\n",
    "        self.exception_cause_types = exception_types\n",
    "\n",
    "    def __call__(self, retry_state: \"RetryCallState\") -> bool:\n",
    "        if retry_state.outcome is None:\n",
    "            raise RuntimeError(\"__call__ called before outcome was set\")\n",
    "\n",
    "        if retry_state.outcome.failed:\n",
    "            exc = retry_state.outcome.exception()\n",
    "            while exc is not None:\n",
    "                if isinstance(exc.__cause__, self.exception_cause_types):\n",
    "                    return True\n",
    "                exc = exc.__cause__\n",
    "\n",
    "        return False"
   ]
  },
  {
   "cell_type": "code",
   "execution_count": null,
   "id": "510f0596",
   "metadata": {},
   "outputs": [],
   "source": [
    "class retry_if_result(retry_base):\n",
    "    \"\"\"Retries if the result verifies a predicate.\"\"\"\n",
    "\n",
    "    def __init__(self, predicate: typing.Callable[[typing.Any], bool]) -> None:\n",
    "        self.predicate = predicate\n",
    "\n",
    "    def __call__(self, retry_state: \"RetryCallState\") -> bool:\n",
    "        if retry_state.outcome is None:\n",
    "            raise RuntimeError(\"__call__() called before outcome was set\")\n",
    "\n",
    "        if not retry_state.outcome.failed:\n",
    "            return self.predicate(retry_state.outcome.result())\n",
    "        else:\n",
    "            return False"
   ]
  },
  {
   "cell_type": "code",
   "execution_count": null,
   "id": "d1603f74",
   "metadata": {},
   "outputs": [],
   "source": [
    "class retry_if_not_result(retry_base):\n",
    "    \"\"\"Retries if the result refutes a predicate.\"\"\"\n",
    "\n",
    "    def __init__(self, predicate: typing.Callable[[typing.Any], bool]) -> None:\n",
    "        self.predicate = predicate\n",
    "\n",
    "    def __call__(self, retry_state: \"RetryCallState\") -> bool:\n",
    "        if retry_state.outcome is None:\n",
    "            raise RuntimeError(\"__call__() called before outcome was set\")\n",
    "\n",
    "        if not retry_state.outcome.failed:\n",
    "            return not self.predicate(retry_state.outcome.result())\n",
    "        else:\n",
    "            return False"
   ]
  },
  {
   "cell_type": "code",
   "execution_count": null,
   "id": "74d12e52",
   "metadata": {},
   "outputs": [],
   "source": [
    "class retry_if_exception_message(retry_if_exception):\n",
    "    \"\"\"Retries if an exception message equals or matches.\"\"\"\n",
    "\n",
    "    def __init__(\n",
    "        self,\n",
    "        message: typing.Optional[str] = None,\n",
    "        match: typing.Optional[str] = None,\n",
    "    ) -> None:\n",
    "        if message and match:\n",
    "            raise TypeError(f\"{self.__class__.__name__}() takes either 'message' or 'match', not both\")\n",
    "\n",
    "        # set predicate\n",
    "        if message:\n",
    "\n",
    "            def message_fnc(exception: BaseException) -> bool:\n",
    "                return message == str(exception)\n",
    "\n",
    "            predicate = message_fnc\n",
    "        elif match:\n",
    "            prog = re.compile(match)\n",
    "\n",
    "            def match_fnc(exception: BaseException) -> bool:\n",
    "                return bool(prog.match(str(exception)))\n",
    "\n",
    "            predicate = match_fnc\n",
    "        else:\n",
    "            raise TypeError(f\"{self.__class__.__name__}() missing 1 required argument 'message' or 'match'\")\n",
    "\n",
    "        super().__init__(predicate)"
   ]
  },
  {
   "cell_type": "code",
   "execution_count": null,
   "id": "634acece",
   "metadata": {},
   "outputs": [],
   "source": [
    "class retry_if_not_exception_message(retry_if_exception_message):\n",
    "    \"\"\"Retries until an exception message equals or matches.\"\"\"\n",
    "\n",
    "    def __init__(\n",
    "        self,\n",
    "        message: typing.Optional[str] = None,\n",
    "        match: typing.Optional[str] = None,\n",
    "    ) -> None:\n",
    "        super().__init__(message, match)\n",
    "        # invert predicate\n",
    "        if_predicate = self.predicate\n",
    "        self.predicate = lambda *args_, **kwargs_: not if_predicate(*args_, **kwargs_)\n",
    "\n",
    "    def __call__(self, retry_state: \"RetryCallState\") -> bool:\n",
    "        if retry_state.outcome is None:\n",
    "            raise RuntimeError(\"__call__() called before outcome was set\")\n",
    "\n",
    "        if not retry_state.outcome.failed:\n",
    "            return True\n",
    "\n",
    "        exception = retry_state.outcome.exception()\n",
    "        if exception is None:\n",
    "            raise RuntimeError(\"outcome failed but the exception is None\")\n",
    "        return self.predicate(exception)"
   ]
  },
  {
   "cell_type": "code",
   "execution_count": null,
   "id": "8ac9ea1c",
   "metadata": {},
   "outputs": [],
   "source": [
    "class retry_any(retry_base):\n",
    "    \"\"\"Retries if any of the retries condition is valid.\"\"\"\n",
    "\n",
    "    def __init__(self, *retries: retry_base) -> None:\n",
    "        self.retries = retries\n",
    "\n",
    "    def __call__(self, retry_state: \"RetryCallState\") -> bool:\n",
    "        return any(r(retry_state) for r in self.retries)"
   ]
  },
  {
   "cell_type": "code",
   "execution_count": null,
   "id": "18fb53b7",
   "metadata": {},
   "outputs": [],
   "source": [
    "class retry_all(retry_base):\n",
    "    \"\"\"Retries if all the retries condition are valid.\"\"\"\n",
    "\n",
    "    def __init__(self, *retries: retry_base) -> None:\n",
    "        self.retries = retries\n",
    "\n",
    "    def __call__(self, retry_state: \"RetryCallState\") -> bool:\n",
    "        return all(r(retry_state) for r in self.retries)"
   ]
  }
 ],
 "metadata": {
  "jupytext": {
   "cell_metadata_filter": "-all",
   "main_language": "python",
   "notebook_metadata_filter": "-all"
  }
 },
 "nbformat": 4,
 "nbformat_minor": 5
}
