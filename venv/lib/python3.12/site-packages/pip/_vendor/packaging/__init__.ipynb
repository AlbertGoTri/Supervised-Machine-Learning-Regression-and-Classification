{
 "cells": [
  {
   "cell_type": "markdown",
   "id": "a53a7bf2",
   "metadata": {},
   "source": [
    "This file is dual licensed under the terms of the Apache License, Version\n",
    "2.0, and the BSD License. See the LICENSE file in the root of this repository\n",
    "for complete details."
   ]
  },
  {
   "cell_type": "code",
   "execution_count": null,
   "id": "31de882c",
   "metadata": {},
   "outputs": [],
   "source": [
    "from .__about__ import (\n",
    "    __author__,\n",
    "    __copyright__,\n",
    "    __email__,\n",
    "    __license__,\n",
    "    __summary__,\n",
    "    __title__,\n",
    "    __uri__,\n",
    "    __version__,\n",
    ")"
   ]
  },
  {
   "cell_type": "code",
   "execution_count": null,
   "id": "f2674ec4",
   "metadata": {},
   "outputs": [],
   "source": [
    "__all__ = [\n",
    "    \"__title__\",\n",
    "    \"__summary__\",\n",
    "    \"__uri__\",\n",
    "    \"__version__\",\n",
    "    \"__author__\",\n",
    "    \"__email__\",\n",
    "    \"__license__\",\n",
    "    \"__copyright__\",\n",
    "]"
   ]
  }
 ],
 "metadata": {
  "jupytext": {
   "cell_metadata_filter": "-all",
   "main_language": "python",
   "notebook_metadata_filter": "-all"
  }
 },
 "nbformat": 4,
 "nbformat_minor": 5
}
