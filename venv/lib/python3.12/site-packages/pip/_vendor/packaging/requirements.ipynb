{
 "cells": [
  {
   "cell_type": "markdown",
   "id": "d261384e",
   "metadata": {},
   "source": [
    "This file is dual licensed under the terms of the Apache License, Version\n",
    "2.0, and the BSD License. See the LICENSE file in the root of this repository\n",
    "for complete details."
   ]
  },
  {
   "cell_type": "code",
   "execution_count": null,
   "id": "e560deec",
   "metadata": {},
   "outputs": [],
   "source": [
    "import re\n",
    "import string\n",
    "import urllib.parse\n",
    "from typing import List, Optional as TOptional, Set"
   ]
  },
  {
   "cell_type": "code",
   "execution_count": null,
   "id": "d5c2c9eb",
   "metadata": {},
   "outputs": [],
   "source": [
    "from pip._vendor.pyparsing import (  # noqa\n",
    "    Combine,\n",
    "    Literal as L,\n",
    "    Optional,\n",
    "    ParseException,\n",
    "    Regex,\n",
    "    Word,\n",
    "    ZeroOrMore,\n",
    "    originalTextFor,\n",
    "    stringEnd,\n",
    "    stringStart,\n",
    ")"
   ]
  },
  {
   "cell_type": "code",
   "execution_count": null,
   "id": "97830ab3",
   "metadata": {},
   "outputs": [],
   "source": [
    "from .markers import MARKER_EXPR, Marker\n",
    "from .specifiers import LegacySpecifier, Specifier, SpecifierSet"
   ]
  },
  {
   "cell_type": "code",
   "execution_count": null,
   "id": "c021a5f0",
   "metadata": {},
   "outputs": [],
   "source": [
    "class InvalidRequirement(ValueError):\n",
    "    \"\"\"\n",
    "    An invalid requirement was found, users should refer to PEP 508.\n",
    "    \"\"\""
   ]
  },
  {
   "cell_type": "code",
   "execution_count": null,
   "id": "7c2b39fd",
   "metadata": {},
   "outputs": [],
   "source": [
    "ALPHANUM = Word(string.ascii_letters + string.digits)"
   ]
  },
  {
   "cell_type": "code",
   "execution_count": null,
   "id": "b505066a",
   "metadata": {},
   "outputs": [],
   "source": [
    "LBRACKET = L(\"[\").suppress()\n",
    "RBRACKET = L(\"]\").suppress()\n",
    "LPAREN = L(\"(\").suppress()\n",
    "RPAREN = L(\")\").suppress()\n",
    "COMMA = L(\",\").suppress()\n",
    "SEMICOLON = L(\";\").suppress()\n",
    "AT = L(\"@\").suppress()"
   ]
  },
  {
   "cell_type": "code",
   "execution_count": null,
   "id": "f6e8a181",
   "metadata": {},
   "outputs": [],
   "source": [
    "PUNCTUATION = Word(\"-_.\")\n",
    "IDENTIFIER_END = ALPHANUM | (ZeroOrMore(PUNCTUATION) + ALPHANUM)\n",
    "IDENTIFIER = Combine(ALPHANUM + ZeroOrMore(IDENTIFIER_END))"
   ]
  },
  {
   "cell_type": "code",
   "execution_count": null,
   "id": "6a097e53",
   "metadata": {},
   "outputs": [],
   "source": [
    "NAME = IDENTIFIER(\"name\")\n",
    "EXTRA = IDENTIFIER"
   ]
  },
  {
   "cell_type": "code",
   "execution_count": null,
   "id": "efd06189",
   "metadata": {},
   "outputs": [],
   "source": [
    "URI = Regex(r\"[^ ]+\")(\"url\")\n",
    "URL = AT + URI"
   ]
  },
  {
   "cell_type": "code",
   "execution_count": null,
   "id": "6c725207",
   "metadata": {},
   "outputs": [],
   "source": [
    "EXTRAS_LIST = EXTRA + ZeroOrMore(COMMA + EXTRA)\n",
    "EXTRAS = (LBRACKET + Optional(EXTRAS_LIST) + RBRACKET)(\"extras\")"
   ]
  },
  {
   "cell_type": "code",
   "execution_count": null,
   "id": "49d57cb2",
   "metadata": {},
   "outputs": [],
   "source": [
    "VERSION_PEP440 = Regex(Specifier._regex_str, re.VERBOSE | re.IGNORECASE)\n",
    "VERSION_LEGACY = Regex(LegacySpecifier._regex_str, re.VERBOSE | re.IGNORECASE)"
   ]
  },
  {
   "cell_type": "code",
   "execution_count": null,
   "id": "98121a37",
   "metadata": {},
   "outputs": [],
   "source": [
    "VERSION_ONE = VERSION_PEP440 ^ VERSION_LEGACY\n",
    "VERSION_MANY = Combine(\n",
    "    VERSION_ONE + ZeroOrMore(COMMA + VERSION_ONE), joinString=\",\", adjacent=False\n",
    ")(\"_raw_spec\")\n",
    "_VERSION_SPEC = Optional((LPAREN + VERSION_MANY + RPAREN) | VERSION_MANY)\n",
    "_VERSION_SPEC.setParseAction(lambda s, l, t: t._raw_spec or \"\")"
   ]
  },
  {
   "cell_type": "code",
   "execution_count": null,
   "id": "4f9a8700",
   "metadata": {},
   "outputs": [],
   "source": [
    "VERSION_SPEC = originalTextFor(_VERSION_SPEC)(\"specifier\")\n",
    "VERSION_SPEC.setParseAction(lambda s, l, t: t[1])"
   ]
  },
  {
   "cell_type": "code",
   "execution_count": null,
   "id": "393fee7b",
   "metadata": {},
   "outputs": [],
   "source": [
    "MARKER_EXPR = originalTextFor(MARKER_EXPR())(\"marker\")\n",
    "MARKER_EXPR.setParseAction(\n",
    "    lambda s, l, t: Marker(s[t._original_start : t._original_end])\n",
    ")\n",
    "MARKER_SEPARATOR = SEMICOLON\n",
    "MARKER = MARKER_SEPARATOR + MARKER_EXPR"
   ]
  },
  {
   "cell_type": "code",
   "execution_count": null,
   "id": "f92e66c5",
   "metadata": {},
   "outputs": [],
   "source": [
    "VERSION_AND_MARKER = VERSION_SPEC + Optional(MARKER)\n",
    "URL_AND_MARKER = URL + Optional(MARKER)"
   ]
  },
  {
   "cell_type": "code",
   "execution_count": null,
   "id": "866e5a64",
   "metadata": {},
   "outputs": [],
   "source": [
    "NAMED_REQUIREMENT = NAME + Optional(EXTRAS) + (URL_AND_MARKER | VERSION_AND_MARKER)"
   ]
  },
  {
   "cell_type": "code",
   "execution_count": null,
   "id": "92069d4f",
   "metadata": {},
   "outputs": [],
   "source": [
    "REQUIREMENT = stringStart + NAMED_REQUIREMENT + stringEnd\n",
    "# pyparsing isn't thread safe during initialization, so we do it eagerly, see\n",
    "# issue #104\n",
    "REQUIREMENT.parseString(\"x[]\")"
   ]
  },
  {
   "cell_type": "code",
   "execution_count": null,
   "id": "b56e2a74",
   "metadata": {},
   "outputs": [],
   "source": [
    "class Requirement:\n",
    "    \"\"\"Parse a requirement.\n",
    "\n",
    "    Parse a given requirement string into its parts, such as name, specifier,\n",
    "    URL, and extras. Raises InvalidRequirement on a badly-formed requirement\n",
    "    string.\n",
    "    \"\"\"\n",
    "\n",
    "    # TODO: Can we test whether something is contained within a requirement?\n",
    "    #       If so how do we do that? Do we need to test against the _name_ of\n",
    "    #       the thing as well as the version? What about the markers?\n",
    "    # TODO: Can we normalize the name and extra name?\n",
    "\n",
    "    def __init__(self, requirement_string: str) -> None:\n",
    "        try:\n",
    "            req = REQUIREMENT.parseString(requirement_string)\n",
    "        except ParseException as e:\n",
    "            raise InvalidRequirement(\n",
    "                f'Parse error at \"{ requirement_string[e.loc : e.loc + 8]!r}\": {e.msg}'\n",
    "            )\n",
    "\n",
    "        self.name: str = req.name\n",
    "        if req.url:\n",
    "            parsed_url = urllib.parse.urlparse(req.url)\n",
    "            if parsed_url.scheme == \"file\":\n",
    "                if urllib.parse.urlunparse(parsed_url) != req.url:\n",
    "                    raise InvalidRequirement(\"Invalid URL given\")\n",
    "            elif not (parsed_url.scheme and parsed_url.netloc) or (\n",
    "                not parsed_url.scheme and not parsed_url.netloc\n",
    "            ):\n",
    "                raise InvalidRequirement(f\"Invalid URL: {req.url}\")\n",
    "            self.url: TOptional[str] = req.url\n",
    "        else:\n",
    "            self.url = None\n",
    "        self.extras: Set[str] = set(req.extras.asList() if req.extras else [])\n",
    "        self.specifier: SpecifierSet = SpecifierSet(req.specifier)\n",
    "        self.marker: TOptional[Marker] = req.marker if req.marker else None\n",
    "\n",
    "    def __str__(self) -> str:\n",
    "        parts: List[str] = [self.name]\n",
    "\n",
    "        if self.extras:\n",
    "            formatted_extras = \",\".join(sorted(self.extras))\n",
    "            parts.append(f\"[{formatted_extras}]\")\n",
    "\n",
    "        if self.specifier:\n",
    "            parts.append(str(self.specifier))\n",
    "\n",
    "        if self.url:\n",
    "            parts.append(f\"@ {self.url}\")\n",
    "            if self.marker:\n",
    "                parts.append(\" \")\n",
    "\n",
    "        if self.marker:\n",
    "            parts.append(f\"; {self.marker}\")\n",
    "\n",
    "        return \"\".join(parts)\n",
    "\n",
    "    def __repr__(self) -> str:\n",
    "        return f\"<Requirement('{self}')>\""
   ]
  }
 ],
 "metadata": {
  "jupytext": {
   "cell_metadata_filter": "-all",
   "main_language": "python",
   "notebook_metadata_filter": "-all"
  }
 },
 "nbformat": 4,
 "nbformat_minor": 5
}
