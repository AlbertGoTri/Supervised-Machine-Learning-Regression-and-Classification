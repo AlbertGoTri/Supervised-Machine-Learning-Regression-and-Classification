{
 "cells": [
  {
   "cell_type": "markdown",
   "id": "5ff3ade4",
   "metadata": {},
   "source": [
    "This file is dual licensed under the terms of the Apache License, Version\n",
    "2.0, and the BSD License. See the LICENSE file in the root of this repository\n",
    "for complete details."
   ]
  },
  {
   "cell_type": "code",
   "execution_count": null,
   "id": "73038ebe",
   "metadata": {},
   "outputs": [],
   "source": [
    "import operator\n",
    "import os\n",
    "import platform\n",
    "import sys\n",
    "from typing import Any, Callable, Dict, List, Optional, Tuple, Union"
   ]
  },
  {
   "cell_type": "code",
   "execution_count": null,
   "id": "0ad1c664",
   "metadata": {},
   "outputs": [],
   "source": [
    "from pip._vendor.pyparsing import (  # noqa: N817\n",
    "    Forward,\n",
    "    Group,\n",
    "    Literal as L,\n",
    "    ParseException,\n",
    "    ParseResults,\n",
    "    QuotedString,\n",
    "    ZeroOrMore,\n",
    "    stringEnd,\n",
    "    stringStart,\n",
    ")"
   ]
  },
  {
   "cell_type": "code",
   "execution_count": null,
   "id": "36489ae7",
   "metadata": {},
   "outputs": [],
   "source": [
    "from .specifiers import InvalidSpecifier, Specifier"
   ]
  },
  {
   "cell_type": "code",
   "execution_count": null,
   "id": "f57d261b",
   "metadata": {},
   "outputs": [],
   "source": [
    "__all__ = [\n",
    "    \"InvalidMarker\",\n",
    "    \"UndefinedComparison\",\n",
    "    \"UndefinedEnvironmentName\",\n",
    "    \"Marker\",\n",
    "    \"default_environment\",\n",
    "]"
   ]
  },
  {
   "cell_type": "code",
   "execution_count": null,
   "id": "e23b344b",
   "metadata": {},
   "outputs": [],
   "source": [
    "Operator = Callable[[str, str], bool]"
   ]
  },
  {
   "cell_type": "code",
   "execution_count": null,
   "id": "97578a50",
   "metadata": {},
   "outputs": [],
   "source": [
    "class InvalidMarker(ValueError):\n",
    "    \"\"\"\n",
    "    An invalid marker was found, users should refer to PEP 508.\n",
    "    \"\"\""
   ]
  },
  {
   "cell_type": "code",
   "execution_count": null,
   "id": "d0e0f6d1",
   "metadata": {},
   "outputs": [],
   "source": [
    "class UndefinedComparison(ValueError):\n",
    "    \"\"\"\n",
    "    An invalid operation was attempted on a value that doesn't support it.\n",
    "    \"\"\""
   ]
  },
  {
   "cell_type": "code",
   "execution_count": null,
   "id": "f813eb03",
   "metadata": {},
   "outputs": [],
   "source": [
    "class UndefinedEnvironmentName(ValueError):\n",
    "    \"\"\"\n",
    "    A name was attempted to be used that does not exist inside of the\n",
    "    environment.\n",
    "    \"\"\""
   ]
  },
  {
   "cell_type": "code",
   "execution_count": null,
   "id": "748ed4d5",
   "metadata": {},
   "outputs": [],
   "source": [
    "class Node:\n",
    "    def __init__(self, value: Any) -> None:\n",
    "        self.value = value\n",
    "\n",
    "    def __str__(self) -> str:\n",
    "        return str(self.value)\n",
    "\n",
    "    def __repr__(self) -> str:\n",
    "        return f\"<{self.__class__.__name__}('{self}')>\"\n",
    "\n",
    "    def serialize(self) -> str:\n",
    "        raise NotImplementedError"
   ]
  },
  {
   "cell_type": "code",
   "execution_count": null,
   "id": "3baa7b89",
   "metadata": {},
   "outputs": [],
   "source": [
    "class Variable(Node):\n",
    "    def serialize(self) -> str:\n",
    "        return str(self)"
   ]
  },
  {
   "cell_type": "code",
   "execution_count": null,
   "id": "38d1033c",
   "metadata": {},
   "outputs": [],
   "source": [
    "class Value(Node):\n",
    "    def serialize(self) -> str:\n",
    "        return f'\"{self}\"'"
   ]
  },
  {
   "cell_type": "code",
   "execution_count": null,
   "id": "b0ffc60d",
   "metadata": {},
   "outputs": [],
   "source": [
    "class Op(Node):\n",
    "    def serialize(self) -> str:\n",
    "        return str(self)"
   ]
  },
  {
   "cell_type": "code",
   "execution_count": null,
   "id": "f782d2f5",
   "metadata": {},
   "outputs": [],
   "source": [
    "VARIABLE = (\n",
    "    L(\"implementation_version\")\n",
    "    | L(\"platform_python_implementation\")\n",
    "    | L(\"implementation_name\")\n",
    "    | L(\"python_full_version\")\n",
    "    | L(\"platform_release\")\n",
    "    | L(\"platform_version\")\n",
    "    | L(\"platform_machine\")\n",
    "    | L(\"platform_system\")\n",
    "    | L(\"python_version\")\n",
    "    | L(\"sys_platform\")\n",
    "    | L(\"os_name\")\n",
    "    | L(\"os.name\")  # PEP-345\n",
    "    | L(\"sys.platform\")  # PEP-345\n",
    "    | L(\"platform.version\")  # PEP-345\n",
    "    | L(\"platform.machine\")  # PEP-345\n",
    "    | L(\"platform.python_implementation\")  # PEP-345\n",
    "    | L(\"python_implementation\")  # undocumented setuptools legacy\n",
    "    | L(\"extra\")  # PEP-508\n",
    ")\n",
    "ALIASES = {\n",
    "    \"os.name\": \"os_name\",\n",
    "    \"sys.platform\": \"sys_platform\",\n",
    "    \"platform.version\": \"platform_version\",\n",
    "    \"platform.machine\": \"platform_machine\",\n",
    "    \"platform.python_implementation\": \"platform_python_implementation\",\n",
    "    \"python_implementation\": \"platform_python_implementation\",\n",
    "}\n",
    "VARIABLE.setParseAction(lambda s, l, t: Variable(ALIASES.get(t[0], t[0])))"
   ]
  },
  {
   "cell_type": "code",
   "execution_count": null,
   "id": "db93e046",
   "metadata": {},
   "outputs": [],
   "source": [
    "VERSION_CMP = (\n",
    "    L(\"===\") | L(\"==\") | L(\">=\") | L(\"<=\") | L(\"!=\") | L(\"~=\") | L(\">\") | L(\"<\")\n",
    ")"
   ]
  },
  {
   "cell_type": "code",
   "execution_count": null,
   "id": "0ebb799b",
   "metadata": {},
   "outputs": [],
   "source": [
    "MARKER_OP = VERSION_CMP | L(\"not in\") | L(\"in\")\n",
    "MARKER_OP.setParseAction(lambda s, l, t: Op(t[0]))"
   ]
  },
  {
   "cell_type": "code",
   "execution_count": null,
   "id": "797c5eb1",
   "metadata": {},
   "outputs": [],
   "source": [
    "MARKER_VALUE = QuotedString(\"'\") | QuotedString('\"')\n",
    "MARKER_VALUE.setParseAction(lambda s, l, t: Value(t[0]))"
   ]
  },
  {
   "cell_type": "code",
   "execution_count": null,
   "id": "ae1cd70d",
   "metadata": {},
   "outputs": [],
   "source": [
    "BOOLOP = L(\"and\") | L(\"or\")"
   ]
  },
  {
   "cell_type": "code",
   "execution_count": null,
   "id": "b2e1f7d2",
   "metadata": {},
   "outputs": [],
   "source": [
    "MARKER_VAR = VARIABLE | MARKER_VALUE"
   ]
  },
  {
   "cell_type": "code",
   "execution_count": null,
   "id": "0ab531ef",
   "metadata": {},
   "outputs": [],
   "source": [
    "MARKER_ITEM = Group(MARKER_VAR + MARKER_OP + MARKER_VAR)\n",
    "MARKER_ITEM.setParseAction(lambda s, l, t: tuple(t[0]))"
   ]
  },
  {
   "cell_type": "code",
   "execution_count": null,
   "id": "a3af311e",
   "metadata": {},
   "outputs": [],
   "source": [
    "LPAREN = L(\"(\").suppress()\n",
    "RPAREN = L(\")\").suppress()"
   ]
  },
  {
   "cell_type": "code",
   "execution_count": null,
   "id": "daad3dff",
   "metadata": {},
   "outputs": [],
   "source": [
    "MARKER_EXPR = Forward()\n",
    "MARKER_ATOM = MARKER_ITEM | Group(LPAREN + MARKER_EXPR + RPAREN)\n",
    "MARKER_EXPR << MARKER_ATOM + ZeroOrMore(BOOLOP + MARKER_EXPR)"
   ]
  },
  {
   "cell_type": "code",
   "execution_count": null,
   "id": "59738d3d",
   "metadata": {},
   "outputs": [],
   "source": [
    "MARKER = stringStart + MARKER_EXPR + stringEnd"
   ]
  },
  {
   "cell_type": "code",
   "execution_count": null,
   "id": "243bd96f",
   "metadata": {},
   "outputs": [],
   "source": [
    "def _coerce_parse_result(results: Union[ParseResults, List[Any]]) -> List[Any]:\n",
    "    if isinstance(results, ParseResults):\n",
    "        return [_coerce_parse_result(i) for i in results]\n",
    "    else:\n",
    "        return results"
   ]
  },
  {
   "cell_type": "code",
   "execution_count": null,
   "id": "c6c255bd",
   "metadata": {},
   "outputs": [],
   "source": [
    "def _format_marker(\n",
    "    marker: Union[List[str], Tuple[Node, ...], str], first: Optional[bool] = True\n",
    ") -> str:\n",
    "\n",
    "    assert isinstance(marker, (list, tuple, str))\n",
    "\n",
    "    # Sometimes we have a structure like [[...]] which is a single item list\n",
    "    # where the single item is itself it's own list. In that case we want skip\n",
    "    # the rest of this function so that we don't get extraneous () on the\n",
    "    # outside.\n",
    "    if (\n",
    "        isinstance(marker, list)\n",
    "        and len(marker) == 1\n",
    "        and isinstance(marker[0], (list, tuple))\n",
    "    ):\n",
    "        return _format_marker(marker[0])\n",
    "\n",
    "    if isinstance(marker, list):\n",
    "        inner = (_format_marker(m, first=False) for m in marker)\n",
    "        if first:\n",
    "            return \" \".join(inner)\n",
    "        else:\n",
    "            return \"(\" + \" \".join(inner) + \")\"\n",
    "    elif isinstance(marker, tuple):\n",
    "        return \" \".join([m.serialize() for m in marker])\n",
    "    else:\n",
    "        return marker"
   ]
  },
  {
   "cell_type": "code",
   "execution_count": null,
   "id": "6c9799b9",
   "metadata": {},
   "outputs": [],
   "source": [
    "_operators: Dict[str, Operator] = {\n",
    "    \"in\": lambda lhs, rhs: lhs in rhs,\n",
    "    \"not in\": lambda lhs, rhs: lhs not in rhs,\n",
    "    \"<\": operator.lt,\n",
    "    \"<=\": operator.le,\n",
    "    \"==\": operator.eq,\n",
    "    \"!=\": operator.ne,\n",
    "    \">=\": operator.ge,\n",
    "    \">\": operator.gt,\n",
    "}"
   ]
  },
  {
   "cell_type": "code",
   "execution_count": null,
   "id": "75b31ea4",
   "metadata": {},
   "outputs": [],
   "source": [
    "def _eval_op(lhs: str, op: Op, rhs: str) -> bool:\n",
    "    try:\n",
    "        spec = Specifier(\"\".join([op.serialize(), rhs]))\n",
    "    except InvalidSpecifier:\n",
    "        pass\n",
    "    else:\n",
    "        return spec.contains(lhs)\n",
    "\n",
    "    oper: Optional[Operator] = _operators.get(op.serialize())\n",
    "    if oper is None:\n",
    "        raise UndefinedComparison(f\"Undefined {op!r} on {lhs!r} and {rhs!r}.\")\n",
    "\n",
    "    return oper(lhs, rhs)"
   ]
  },
  {
   "cell_type": "code",
   "execution_count": null,
   "id": "8c70b26f",
   "metadata": {},
   "outputs": [],
   "source": [
    "class Undefined:\n",
    "    pass"
   ]
  },
  {
   "cell_type": "code",
   "execution_count": null,
   "id": "3421c359",
   "metadata": {},
   "outputs": [],
   "source": [
    "_undefined = Undefined()"
   ]
  },
  {
   "cell_type": "code",
   "execution_count": null,
   "id": "6806af23",
   "metadata": {},
   "outputs": [],
   "source": [
    "def _get_env(environment: Dict[str, str], name: str) -> str:\n",
    "    value: Union[str, Undefined] = environment.get(name, _undefined)\n",
    "\n",
    "    if isinstance(value, Undefined):\n",
    "        raise UndefinedEnvironmentName(\n",
    "            f\"{name!r} does not exist in evaluation environment.\"\n",
    "        )\n",
    "\n",
    "    return value"
   ]
  },
  {
   "cell_type": "code",
   "execution_count": null,
   "id": "b7509504",
   "metadata": {},
   "outputs": [],
   "source": [
    "def _evaluate_markers(markers: List[Any], environment: Dict[str, str]) -> bool:\n",
    "    groups: List[List[bool]] = [[]]\n",
    "\n",
    "    for marker in markers:\n",
    "        assert isinstance(marker, (list, tuple, str))\n",
    "\n",
    "        if isinstance(marker, list):\n",
    "            groups[-1].append(_evaluate_markers(marker, environment))\n",
    "        elif isinstance(marker, tuple):\n",
    "            lhs, op, rhs = marker\n",
    "\n",
    "            if isinstance(lhs, Variable):\n",
    "                lhs_value = _get_env(environment, lhs.value)\n",
    "                rhs_value = rhs.value\n",
    "            else:\n",
    "                lhs_value = lhs.value\n",
    "                rhs_value = _get_env(environment, rhs.value)\n",
    "\n",
    "            groups[-1].append(_eval_op(lhs_value, op, rhs_value))\n",
    "        else:\n",
    "            assert marker in [\"and\", \"or\"]\n",
    "            if marker == \"or\":\n",
    "                groups.append([])\n",
    "\n",
    "    return any(all(item) for item in groups)"
   ]
  },
  {
   "cell_type": "code",
   "execution_count": null,
   "id": "18917985",
   "metadata": {},
   "outputs": [],
   "source": [
    "def format_full_version(info: \"sys._version_info\") -> str:\n",
    "    version = \"{0.major}.{0.minor}.{0.micro}\".format(info)\n",
    "    kind = info.releaselevel\n",
    "    if kind != \"final\":\n",
    "        version += kind[0] + str(info.serial)\n",
    "    return version"
   ]
  },
  {
   "cell_type": "code",
   "execution_count": null,
   "id": "261641bf",
   "metadata": {},
   "outputs": [],
   "source": [
    "def default_environment() -> Dict[str, str]:\n",
    "    iver = format_full_version(sys.implementation.version)\n",
    "    implementation_name = sys.implementation.name\n",
    "    return {\n",
    "        \"implementation_name\": implementation_name,\n",
    "        \"implementation_version\": iver,\n",
    "        \"os_name\": os.name,\n",
    "        \"platform_machine\": platform.machine(),\n",
    "        \"platform_release\": platform.release(),\n",
    "        \"platform_system\": platform.system(),\n",
    "        \"platform_version\": platform.version(),\n",
    "        \"python_full_version\": platform.python_version(),\n",
    "        \"platform_python_implementation\": platform.python_implementation(),\n",
    "        \"python_version\": \".\".join(platform.python_version_tuple()[:2]),\n",
    "        \"sys_platform\": sys.platform,\n",
    "    }"
   ]
  },
  {
   "cell_type": "code",
   "execution_count": null,
   "id": "cfd18f5d",
   "metadata": {},
   "outputs": [],
   "source": [
    "class Marker:\n",
    "    def __init__(self, marker: str) -> None:\n",
    "        try:\n",
    "            self._markers = _coerce_parse_result(MARKER.parseString(marker))\n",
    "        except ParseException as e:\n",
    "            raise InvalidMarker(\n",
    "                f\"Invalid marker: {marker!r}, parse error at \"\n",
    "                f\"{marker[e.loc : e.loc + 8]!r}\"\n",
    "            )\n",
    "\n",
    "    def __str__(self) -> str:\n",
    "        return _format_marker(self._markers)\n",
    "\n",
    "    def __repr__(self) -> str:\n",
    "        return f\"<Marker('{self}')>\"\n",
    "\n",
    "    def evaluate(self, environment: Optional[Dict[str, str]] = None) -> bool:\n",
    "        \"\"\"Evaluate a marker.\n",
    "\n",
    "        Return the boolean from evaluating the given marker against the\n",
    "        environment. environment is an optional argument to override all or\n",
    "        part of the determined environment.\n",
    "\n",
    "        The environment is determined from the current Python process.\n",
    "        \"\"\"\n",
    "        current_environment = default_environment()\n",
    "        if environment is not None:\n",
    "            current_environment.update(environment)\n",
    "\n",
    "        return _evaluate_markers(self._markers, current_environment)"
   ]
  }
 ],
 "metadata": {
  "jupytext": {
   "cell_metadata_filter": "-all",
   "main_language": "python",
   "notebook_metadata_filter": "-all"
  }
 },
 "nbformat": 4,
 "nbformat_minor": 5
}
