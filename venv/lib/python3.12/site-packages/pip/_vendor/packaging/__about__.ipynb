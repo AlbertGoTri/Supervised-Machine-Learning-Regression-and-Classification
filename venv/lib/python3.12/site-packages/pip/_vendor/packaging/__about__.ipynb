{
 "cells": [
  {
   "cell_type": "markdown",
   "id": "a721400f",
   "metadata": {},
   "source": [
    "This file is dual licensed under the terms of the Apache License, Version\n",
    "2.0, and the BSD License. See the LICENSE file in the root of this repository\n",
    "for complete details."
   ]
  },
  {
   "cell_type": "code",
   "execution_count": null,
   "id": "4d790431",
   "metadata": {},
   "outputs": [],
   "source": [
    "__all__ = [\n",
    "    \"__title__\",\n",
    "    \"__summary__\",\n",
    "    \"__uri__\",\n",
    "    \"__version__\",\n",
    "    \"__author__\",\n",
    "    \"__email__\",\n",
    "    \"__license__\",\n",
    "    \"__copyright__\",\n",
    "]"
   ]
  },
  {
   "cell_type": "code",
   "execution_count": null,
   "id": "5bd4b060",
   "metadata": {},
   "outputs": [],
   "source": [
    "__title__ = \"packaging\"\n",
    "__summary__ = \"Core utilities for Python packages\"\n",
    "__uri__ = \"https://github.com/pypa/packaging\""
   ]
  },
  {
   "cell_type": "code",
   "execution_count": null,
   "id": "0371def4",
   "metadata": {},
   "outputs": [],
   "source": [
    "__version__ = \"21.3\""
   ]
  },
  {
   "cell_type": "code",
   "execution_count": null,
   "id": "23b4f4e3",
   "metadata": {},
   "outputs": [],
   "source": [
    "__author__ = \"Donald Stufft and individual contributors\"\n",
    "__email__ = \"donald@stufft.io\""
   ]
  },
  {
   "cell_type": "code",
   "execution_count": null,
   "id": "e1e34546",
   "metadata": {},
   "outputs": [],
   "source": [
    "__license__ = \"BSD-2-Clause or Apache-2.0\"\n",
    "__copyright__ = \"2014-2019 %s\" % __author__"
   ]
  }
 ],
 "metadata": {
  "jupytext": {
   "cell_metadata_filter": "-all",
   "main_language": "python",
   "notebook_metadata_filter": "-all"
  }
 },
 "nbformat": 4,
 "nbformat_minor": 5
}
