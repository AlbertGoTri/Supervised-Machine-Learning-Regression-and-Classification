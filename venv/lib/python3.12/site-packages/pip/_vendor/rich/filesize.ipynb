{
 "cells": [
  {
   "cell_type": "code",
   "execution_count": null,
   "id": "68836f27",
   "metadata": {},
   "outputs": [],
   "source": [
    "\"\"\"Functions for reporting filesizes. Borrowed from https://github.com/PyFilesystem/pyfilesystem2\n",
    "\n",
    "The functions declared in this module should cover the different\n",
    "use cases needed to generate a string representation of a file size\n",
    "using several different units. Since there are many standards regarding\n",
    "file size units, three different functions have been implemented.\n",
    "\n",
    "See Also:\n",
    "    * `Wikipedia: Binary prefix <https://en.wikipedia.org/wiki/Binary_prefix>`_\n",
    "\n",
    "\"\"\""
   ]
  },
  {
   "cell_type": "code",
   "execution_count": null,
   "id": "a4ac0778",
   "metadata": {},
   "outputs": [],
   "source": [
    "__all__ = [\"decimal\"]"
   ]
  },
  {
   "cell_type": "code",
   "execution_count": null,
   "id": "cf843f51",
   "metadata": {},
   "outputs": [],
   "source": [
    "from typing import Iterable, List, Optional, Tuple"
   ]
  },
  {
   "cell_type": "code",
   "execution_count": null,
   "id": "3e1faf86",
   "metadata": {},
   "outputs": [],
   "source": [
    "def _to_str(\n",
    "    size: int,\n",
    "    suffixes: Iterable[str],\n",
    "    base: int,\n",
    "    *,\n",
    "    precision: Optional[int] = 1,\n",
    "    separator: Optional[str] = \" \",\n",
    ") -> str:\n",
    "    if size == 1:\n",
    "        return \"1 byte\"\n",
    "    elif size < base:\n",
    "        return \"{:,} bytes\".format(size)\n",
    "\n",
    "    for i, suffix in enumerate(suffixes, 2):  # noqa: B007\n",
    "        unit = base**i\n",
    "        if size < unit:\n",
    "            break\n",
    "    return \"{:,.{precision}f}{separator}{}\".format(\n",
    "        (base * size / unit),\n",
    "        suffix,\n",
    "        precision=precision,\n",
    "        separator=separator,\n",
    "    )"
   ]
  },
  {
   "cell_type": "code",
   "execution_count": null,
   "id": "958254f4",
   "metadata": {},
   "outputs": [],
   "source": [
    "def pick_unit_and_suffix(size: int, suffixes: List[str], base: int) -> Tuple[int, str]:\n",
    "    \"\"\"Pick a suffix and base for the given size.\"\"\"\n",
    "    for i, suffix in enumerate(suffixes):\n",
    "        unit = base**i\n",
    "        if size < unit * base:\n",
    "            break\n",
    "    return unit, suffix"
   ]
  },
  {
   "cell_type": "code",
   "execution_count": null,
   "id": "5de68643",
   "metadata": {},
   "outputs": [],
   "source": [
    "def decimal(\n",
    "    size: int,\n",
    "    *,\n",
    "    precision: Optional[int] = 1,\n",
    "    separator: Optional[str] = \" \",\n",
    ") -> str:\n",
    "    \"\"\"Convert a filesize in to a string (powers of 1000, SI prefixes).\n",
    "\n",
    "    In this convention, ``1000 B = 1 kB``.\n",
    "\n",
    "    This is typically the format used to advertise the storage\n",
    "    capacity of USB flash drives and the like (*256 MB* meaning\n",
    "    actually a storage capacity of more than *256 000 000 B*),\n",
    "    or used by **Mac OS X** since v10.6 to report file sizes.\n",
    "\n",
    "    Arguments:\n",
    "        int (size): A file size.\n",
    "        int (precision): The number of decimal places to include (default = 1).\n",
    "        str (separator): The string to separate the value from the units (default = \" \").\n",
    "\n",
    "    Returns:\n",
    "        `str`: A string containing a abbreviated file size and units.\n",
    "\n",
    "    Example:\n",
    "        >>> filesize.decimal(30000)\n",
    "        '30.0 kB'\n",
    "        >>> filesize.decimal(30000, precision=2, separator=\"\")\n",
    "        '30.00kB'\n",
    "\n",
    "    \"\"\"\n",
    "    return _to_str(\n",
    "        size,\n",
    "        (\"kB\", \"MB\", \"GB\", \"TB\", \"PB\", \"EB\", \"ZB\", \"YB\"),\n",
    "        1000,\n",
    "        precision=precision,\n",
    "        separator=separator,\n",
    "    )"
   ]
  }
 ],
 "metadata": {
  "jupytext": {
   "cell_metadata_filter": "-all",
   "encoding": "# coding: utf-8",
   "main_language": "python",
   "notebook_metadata_filter": "-all"
  }
 },
 "nbformat": 4,
 "nbformat_minor": 5
}
