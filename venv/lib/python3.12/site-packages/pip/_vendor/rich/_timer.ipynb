{
 "cells": [
  {
   "cell_type": "code",
   "execution_count": null,
   "id": "8d874162",
   "metadata": {},
   "outputs": [],
   "source": [
    "\"\"\"\n",
    "Timer context manager, only used in debug.\n",
    "\n",
    "\"\"\""
   ]
  },
  {
   "cell_type": "code",
   "execution_count": null,
   "id": "531a3b58",
   "metadata": {},
   "outputs": [],
   "source": [
    "from time import time"
   ]
  },
  {
   "cell_type": "code",
   "execution_count": null,
   "id": "61012686",
   "metadata": {},
   "outputs": [],
   "source": [
    "import contextlib\n",
    "from typing import Generator"
   ]
  },
  {
   "cell_type": "code",
   "execution_count": null,
   "id": "e68e0759",
   "metadata": {},
   "outputs": [],
   "source": [
    "@contextlib.contextmanager\n",
    "def timer(subject: str = \"time\") -> Generator[None, None, None]:\n",
    "    \"\"\"print the elapsed time. (only used in debugging)\"\"\"\n",
    "    start = time()\n",
    "    yield\n",
    "    elapsed = time() - start\n",
    "    elapsed_ms = elapsed * 1000\n",
    "    print(f\"{subject} elapsed {elapsed_ms:.1f}ms\")"
   ]
  }
 ],
 "metadata": {
  "jupytext": {
   "cell_metadata_filter": "-all",
   "main_language": "python",
   "notebook_metadata_filter": "-all"
  }
 },
 "nbformat": 4,
 "nbformat_minor": 5
}
