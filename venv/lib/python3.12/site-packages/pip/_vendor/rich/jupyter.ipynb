{
 "cells": [
  {
   "cell_type": "code",
   "execution_count": null,
   "id": "6272d727",
   "metadata": {},
   "outputs": [],
   "source": [
    "from typing import TYPE_CHECKING, Any, Dict, Iterable, List, Sequence"
   ]
  },
  {
   "cell_type": "code",
   "execution_count": null,
   "id": "14377781",
   "metadata": {},
   "outputs": [],
   "source": [
    "if TYPE_CHECKING:\n",
    "    from pip._vendor.rich.console import ConsoleRenderable"
   ]
  },
  {
   "cell_type": "code",
   "execution_count": null,
   "id": "bf0bab1f",
   "metadata": {},
   "outputs": [],
   "source": [
    "from . import get_console\n",
    "from .segment import Segment\n",
    "from .terminal_theme import DEFAULT_TERMINAL_THEME"
   ]
  },
  {
   "cell_type": "code",
   "execution_count": null,
   "id": "7146ff47",
   "metadata": {},
   "outputs": [],
   "source": [
    "if TYPE_CHECKING:\n",
    "    from pip._vendor.rich.console import ConsoleRenderable"
   ]
  },
  {
   "cell_type": "code",
   "execution_count": null,
   "id": "07a2fd55",
   "metadata": {},
   "outputs": [],
   "source": [
    "JUPYTER_HTML_FORMAT = \"\"\"\\\n",
    "<pre style=\"white-space:pre;overflow-x:auto;line-height:normal;font-family:Menlo,'DejaVu Sans Mono',consolas,'Courier New',monospace\">{code}</pre>\n",
    "\"\"\""
   ]
  },
  {
   "cell_type": "code",
   "execution_count": null,
   "id": "ae41c4fd",
   "metadata": {},
   "outputs": [],
   "source": [
    "class JupyterRenderable:\n",
    "    \"\"\"A shim to write html to Jupyter notebook.\"\"\"\n",
    "\n",
    "    def __init__(self, html: str, text: str) -> None:\n",
    "        self.html = html\n",
    "        self.text = text\n",
    "\n",
    "    def _repr_mimebundle_(\n",
    "        self, include: Sequence[str], exclude: Sequence[str], **kwargs: Any\n",
    "    ) -> Dict[str, str]:\n",
    "        data = {\"text/plain\": self.text, \"text/html\": self.html}\n",
    "        if include:\n",
    "            data = {k: v for (k, v) in data.items() if k in include}\n",
    "        if exclude:\n",
    "            data = {k: v for (k, v) in data.items() if k not in exclude}\n",
    "        return data"
   ]
  },
  {
   "cell_type": "code",
   "execution_count": null,
   "id": "4a5a891e",
   "metadata": {},
   "outputs": [],
   "source": [
    "class JupyterMixin:\n",
    "    \"\"\"Add to an Rich renderable to make it render in Jupyter notebook.\"\"\"\n",
    "\n",
    "    __slots__ = ()\n",
    "\n",
    "    def _repr_mimebundle_(\n",
    "        self: \"ConsoleRenderable\",\n",
    "        include: Sequence[str],\n",
    "        exclude: Sequence[str],\n",
    "        **kwargs: Any,\n",
    "    ) -> Dict[str, str]:\n",
    "        console = get_console()\n",
    "        segments = list(console.render(self, console.options))\n",
    "        html = _render_segments(segments)\n",
    "        text = console._render_buffer(segments)\n",
    "        data = {\"text/plain\": text, \"text/html\": html}\n",
    "        if include:\n",
    "            data = {k: v for (k, v) in data.items() if k in include}\n",
    "        if exclude:\n",
    "            data = {k: v for (k, v) in data.items() if k not in exclude}\n",
    "        return data"
   ]
  },
  {
   "cell_type": "code",
   "execution_count": null,
   "id": "df98dcbe",
   "metadata": {},
   "outputs": [],
   "source": [
    "def _render_segments(segments: Iterable[Segment]) -> str:\n",
    "    def escape(text: str) -> str:\n",
    "        \"\"\"Escape html.\"\"\"\n",
    "        return text.replace(\"&\", \"&amp;\").replace(\"<\", \"&lt;\").replace(\">\", \"&gt;\")\n",
    "\n",
    "    fragments: List[str] = []\n",
    "    append_fragment = fragments.append\n",
    "    theme = DEFAULT_TERMINAL_THEME\n",
    "    for text, style, control in Segment.simplify(segments):\n",
    "        if control:\n",
    "            continue\n",
    "        text = escape(text)\n",
    "        if style:\n",
    "            rule = style.get_html_style(theme)\n",
    "            text = f'<span style=\"{rule}\">{text}</span>' if rule else text\n",
    "            if style.link:\n",
    "                text = f'<a href=\"{style.link}\" target=\"_blank\">{text}</a>'\n",
    "        append_fragment(text)\n",
    "\n",
    "    code = \"\".join(fragments)\n",
    "    html = JUPYTER_HTML_FORMAT.format(code=code)\n",
    "\n",
    "    return html"
   ]
  },
  {
   "cell_type": "code",
   "execution_count": null,
   "id": "2984ad78",
   "metadata": {},
   "outputs": [],
   "source": [
    "def display(segments: Iterable[Segment], text: str) -> None:\n",
    "    \"\"\"Render segments to Jupyter.\"\"\"\n",
    "    html = _render_segments(segments)\n",
    "    jupyter_renderable = JupyterRenderable(html, text)\n",
    "    try:\n",
    "        from IPython.display import display as ipython_display\n",
    "\n",
    "        ipython_display(jupyter_renderable)\n",
    "    except ModuleNotFoundError:\n",
    "        # Handle the case where the Console has force_jupyter=True,\n",
    "        # but IPython is not installed.\n",
    "        pass"
   ]
  },
  {
   "cell_type": "code",
   "execution_count": null,
   "id": "c210c9da",
   "metadata": {},
   "outputs": [],
   "source": [
    "def print(*args: Any, **kwargs: Any) -> None:\n",
    "    \"\"\"Proxy for Console print.\"\"\"\n",
    "    console = get_console()\n",
    "    return console.print(*args, **kwargs)"
   ]
  }
 ],
 "metadata": {
  "jupytext": {
   "cell_metadata_filter": "-all",
   "main_language": "python",
   "notebook_metadata_filter": "-all"
  }
 },
 "nbformat": 4,
 "nbformat_minor": 5
}
