{
 "cells": [
  {
   "cell_type": "code",
   "execution_count": null,
   "id": "8be2fc0c",
   "metadata": {},
   "outputs": [],
   "source": [
    "from __future__ import annotations"
   ]
  },
  {
   "cell_type": "code",
   "execution_count": null,
   "id": "ec834df8",
   "metadata": {},
   "outputs": [],
   "source": [
    "from typing import IO, Callable"
   ]
  },
  {
   "cell_type": "code",
   "execution_count": null,
   "id": "9ebf1a27",
   "metadata": {},
   "outputs": [],
   "source": [
    "def get_fileno(file_like: IO[str]) -> int | None:\n",
    "    \"\"\"Get fileno() from a file, accounting for poorly implemented file-like objects.\n",
    "\n",
    "    Args:\n",
    "        file_like (IO): A file-like object.\n",
    "\n",
    "    Returns:\n",
    "        int | None: The result of fileno if available, or None if operation failed.\n",
    "    \"\"\"\n",
    "    fileno: Callable[[], int] | None = getattr(file_like, \"fileno\", None)\n",
    "    if fileno is not None:\n",
    "        try:\n",
    "            return fileno()\n",
    "        except Exception:\n",
    "            # `fileno` is documented as potentially raising a OSError\n",
    "            # Alas, from the issues, there are so many poorly implemented file-like objects,\n",
    "            # that `fileno()` can raise just about anything.\n",
    "            return None\n",
    "    return None"
   ]
  }
 ],
 "metadata": {
  "jupytext": {
   "cell_metadata_filter": "-all",
   "main_language": "python",
   "notebook_metadata_filter": "-all"
  }
 },
 "nbformat": 4,
 "nbformat_minor": 5
}
