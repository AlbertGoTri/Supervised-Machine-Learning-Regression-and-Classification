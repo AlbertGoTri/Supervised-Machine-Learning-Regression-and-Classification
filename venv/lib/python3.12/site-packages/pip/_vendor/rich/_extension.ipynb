{
 "cells": [
  {
   "cell_type": "code",
   "execution_count": null,
   "id": "501112ad",
   "metadata": {},
   "outputs": [],
   "source": [
    "from typing import Any"
   ]
  },
  {
   "cell_type": "code",
   "execution_count": null,
   "id": "17333c62",
   "metadata": {},
   "outputs": [],
   "source": [
    "def load_ipython_extension(ip: Any) -> None:  # pragma: no cover\n",
    "    # prevent circular import\n",
    "    from pip._vendor.rich.pretty import install\n",
    "    from pip._vendor.rich.traceback import install as tr_install\n",
    "\n",
    "    install()\n",
    "    tr_install()"
   ]
  }
 ],
 "metadata": {
  "jupytext": {
   "cell_metadata_filter": "-all",
   "main_language": "python",
   "notebook_metadata_filter": "-all"
  }
 },
 "nbformat": 4,
 "nbformat_minor": 5
}
