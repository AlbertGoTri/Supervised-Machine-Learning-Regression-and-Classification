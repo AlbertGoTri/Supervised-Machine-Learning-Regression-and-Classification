{
 "cells": [
  {
   "cell_type": "code",
   "execution_count": null,
   "id": "0337b025",
   "metadata": {},
   "outputs": [],
   "source": [
    "from abc import ABC"
   ]
  },
  {
   "cell_type": "code",
   "execution_count": null,
   "id": "314a5623",
   "metadata": {},
   "outputs": [],
   "source": [
    "class RichRenderable(ABC):\n",
    "    \"\"\"An abstract base class for Rich renderables.\n",
    "\n",
    "    Note that there is no need to extend this class, the intended use is to check if an\n",
    "    object supports the Rich renderable protocol. For example::\n",
    "\n",
    "        if isinstance(my_object, RichRenderable):\n",
    "            console.print(my_object)\n",
    "\n",
    "    \"\"\"\n",
    "\n",
    "    @classmethod\n",
    "    def __subclasshook__(cls, other: type) -> bool:\n",
    "        \"\"\"Check if this class supports the rich render protocol.\"\"\"\n",
    "        return hasattr(other, \"__rich_console__\") or hasattr(other, \"__rich__\")"
   ]
  },
  {
   "cell_type": "code",
   "execution_count": null,
   "id": "eb3b3ca0",
   "metadata": {},
   "outputs": [],
   "source": [
    "if __name__ == \"__main__\":  # pragma: no cover\n",
    "    from pip._vendor.rich.text import Text\n",
    "\n",
    "    t = Text()\n",
    "    print(isinstance(Text, RichRenderable))\n",
    "    print(isinstance(t, RichRenderable))\n",
    "\n",
    "    class Foo:\n",
    "        pass\n",
    "\n",
    "    f = Foo()\n",
    "    print(isinstance(f, RichRenderable))\n",
    "    print(isinstance(\"\", RichRenderable))"
   ]
  }
 ],
 "metadata": {
  "jupytext": {
   "cell_metadata_filter": "-all",
   "main_language": "python",
   "notebook_metadata_filter": "-all"
  }
 },
 "nbformat": 4,
 "nbformat_minor": 5
}
