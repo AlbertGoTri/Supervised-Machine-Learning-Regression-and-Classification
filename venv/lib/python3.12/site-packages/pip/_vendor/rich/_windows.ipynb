{
 "cells": [
  {
   "cell_type": "code",
   "execution_count": null,
   "id": "673c2af6",
   "metadata": {},
   "outputs": [],
   "source": [
    "import sys\n",
    "from dataclasses import dataclass"
   ]
  },
  {
   "cell_type": "code",
   "execution_count": null,
   "id": "25d2ba73",
   "metadata": {},
   "outputs": [],
   "source": [
    "@dataclass\n",
    "class WindowsConsoleFeatures:\n",
    "    \"\"\"Windows features available.\"\"\"\n",
    "\n",
    "    vt: bool = False\n",
    "    \"\"\"The console supports VT codes.\"\"\"\n",
    "    truecolor: bool = False\n",
    "    \"\"\"The console supports truecolor.\"\"\""
   ]
  },
  {
   "cell_type": "code",
   "execution_count": null,
   "id": "7322a584",
   "metadata": {},
   "outputs": [],
   "source": [
    "try:\n",
    "    import ctypes\n",
    "    from ctypes import LibraryLoader\n",
    "\n",
    "    if sys.platform == \"win32\":\n",
    "        windll = LibraryLoader(ctypes.WinDLL)\n",
    "    else:\n",
    "        windll = None\n",
    "        raise ImportError(\"Not windows\")\n",
    "\n",
    "    from pip._vendor.rich._win32_console import (\n",
    "        ENABLE_VIRTUAL_TERMINAL_PROCESSING,\n",
    "        GetConsoleMode,\n",
    "        GetStdHandle,\n",
    "        LegacyWindowsError,\n",
    "    )"
   ]
  },
  {
   "cell_type": "code",
   "execution_count": null,
   "id": "e370a31d",
   "metadata": {},
   "outputs": [],
   "source": [
    "except (AttributeError, ImportError, ValueError):\n",
    "\n",
    "    # Fallback if we can't load the Windows DLL\n",
    "    def get_windows_console_features() -> WindowsConsoleFeatures:\n",
    "        features = WindowsConsoleFeatures()\n",
    "        return features"
   ]
  },
  {
   "cell_type": "code",
   "execution_count": null,
   "id": "b0db23d4",
   "metadata": {
    "lines_to_next_cell": 2
   },
   "outputs": [],
   "source": [
    "else:\n",
    "\n",
    "    def get_windows_console_features() -> WindowsConsoleFeatures:\n",
    "        \"\"\"Get windows console features.\n",
    "\n",
    "        Returns:\n",
    "            WindowsConsoleFeatures: An instance of WindowsConsoleFeatures.\n",
    "        \"\"\"\n",
    "        handle = GetStdHandle()\n",
    "        try:\n",
    "            console_mode = GetConsoleMode(handle)\n",
    "            success = True\n",
    "        except LegacyWindowsError:\n",
    "            console_mode = 0\n",
    "            success = False\n",
    "        vt = bool(success and console_mode & ENABLE_VIRTUAL_TERMINAL_PROCESSING)\n",
    "        truecolor = False\n",
    "        if vt:\n",
    "            win_version = sys.getwindowsversion()\n",
    "            truecolor = win_version.major > 10 or (\n",
    "                win_version.major == 10 and win_version.build >= 15063\n",
    "            )\n",
    "        features = WindowsConsoleFeatures(vt=vt, truecolor=truecolor)\n",
    "        return features"
   ]
  },
  {
   "cell_type": "code",
   "execution_count": null,
   "id": "8a64c2c2",
   "metadata": {},
   "outputs": [],
   "source": [
    "if __name__ == \"__main__\":\n",
    "    import platform\n",
    "\n",
    "    features = get_windows_console_features()\n",
    "    from pip._vendor.rich import print\n",
    "\n",
    "    print(f'platform=\"{platform.system()}\"')\n",
    "    print(repr(features))"
   ]
  }
 ],
 "metadata": {
  "jupytext": {
   "cell_metadata_filter": "-all",
   "main_language": "python",
   "notebook_metadata_filter": "-all"
  }
 },
 "nbformat": 4,
 "nbformat_minor": 5
}
