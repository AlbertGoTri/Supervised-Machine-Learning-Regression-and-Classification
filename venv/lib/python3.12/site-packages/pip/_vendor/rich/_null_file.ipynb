{
 "cells": [
  {
   "cell_type": "code",
   "execution_count": null,
   "id": "3d7a5e31",
   "metadata": {},
   "outputs": [],
   "source": [
    "from types import TracebackType\n",
    "from typing import IO, Iterable, Iterator, List, Optional, Type"
   ]
  },
  {
   "cell_type": "code",
   "execution_count": null,
   "id": "bf467100",
   "metadata": {},
   "outputs": [],
   "source": [
    "class NullFile(IO[str]):\n",
    "    def close(self) -> None:\n",
    "        pass\n",
    "\n",
    "    def isatty(self) -> bool:\n",
    "        return False\n",
    "\n",
    "    def read(self, __n: int = 1) -> str:\n",
    "        return \"\"\n",
    "\n",
    "    def readable(self) -> bool:\n",
    "        return False\n",
    "\n",
    "    def readline(self, __limit: int = 1) -> str:\n",
    "        return \"\"\n",
    "\n",
    "    def readlines(self, __hint: int = 1) -> List[str]:\n",
    "        return []\n",
    "\n",
    "    def seek(self, __offset: int, __whence: int = 1) -> int:\n",
    "        return 0\n",
    "\n",
    "    def seekable(self) -> bool:\n",
    "        return False\n",
    "\n",
    "    def tell(self) -> int:\n",
    "        return 0\n",
    "\n",
    "    def truncate(self, __size: Optional[int] = 1) -> int:\n",
    "        return 0\n",
    "\n",
    "    def writable(self) -> bool:\n",
    "        return False\n",
    "\n",
    "    def writelines(self, __lines: Iterable[str]) -> None:\n",
    "        pass\n",
    "\n",
    "    def __next__(self) -> str:\n",
    "        return \"\"\n",
    "\n",
    "    def __iter__(self) -> Iterator[str]:\n",
    "        return iter([\"\"])\n",
    "\n",
    "    def __enter__(self) -> IO[str]:\n",
    "        pass\n",
    "\n",
    "    def __exit__(\n",
    "        self,\n",
    "        __t: Optional[Type[BaseException]],\n",
    "        __value: Optional[BaseException],\n",
    "        __traceback: Optional[TracebackType],\n",
    "    ) -> None:\n",
    "        pass\n",
    "\n",
    "    def write(self, text: str) -> int:\n",
    "        return 0\n",
    "\n",
    "    def flush(self) -> None:\n",
    "        pass\n",
    "\n",
    "    def fileno(self) -> int:\n",
    "        return -1"
   ]
  },
  {
   "cell_type": "code",
   "execution_count": null,
   "id": "b7dd2205",
   "metadata": {},
   "outputs": [],
   "source": [
    "NULL_FILE = NullFile()"
   ]
  }
 ],
 "metadata": {
  "jupytext": {
   "cell_metadata_filter": "-all",
   "main_language": "python",
   "notebook_metadata_filter": "-all"
  }
 },
 "nbformat": 4,
 "nbformat_minor": 5
}
