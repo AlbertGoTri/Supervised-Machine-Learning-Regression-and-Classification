{
 "cells": [
  {
   "cell_type": "code",
   "execution_count": null,
   "id": "1b19d2cf",
   "metadata": {},
   "outputs": [],
   "source": [
    "from typing import TYPE_CHECKING"
   ]
  },
  {
   "cell_type": "code",
   "execution_count": null,
   "id": "50d66f0f",
   "metadata": {},
   "outputs": [],
   "source": [
    "from .measure import Measurement\n",
    "from .segment import Segment\n",
    "from .style import StyleType"
   ]
  },
  {
   "cell_type": "code",
   "execution_count": null,
   "id": "1f015c5b",
   "metadata": {},
   "outputs": [],
   "source": [
    "if TYPE_CHECKING:\n",
    "    from .console import Console, ConsoleOptions, RenderResult, RenderableType"
   ]
  },
  {
   "cell_type": "code",
   "execution_count": null,
   "id": "6a8f57ed",
   "metadata": {},
   "outputs": [],
   "source": [
    "class Styled:\n",
    "    \"\"\"Apply a style to a renderable.\n",
    "\n",
    "    Args:\n",
    "        renderable (RenderableType): Any renderable.\n",
    "        style (StyleType): A style to apply across the entire renderable.\n",
    "    \"\"\"\n",
    "\n",
    "    def __init__(self, renderable: \"RenderableType\", style: \"StyleType\") -> None:\n",
    "        self.renderable = renderable\n",
    "        self.style = style\n",
    "\n",
    "    def __rich_console__(\n",
    "        self, console: \"Console\", options: \"ConsoleOptions\"\n",
    "    ) -> \"RenderResult\":\n",
    "        style = console.get_style(self.style)\n",
    "        rendered_segments = console.render(self.renderable, options)\n",
    "        segments = Segment.apply_style(rendered_segments, style)\n",
    "        return segments\n",
    "\n",
    "    def __rich_measure__(\n",
    "        self, console: \"Console\", options: \"ConsoleOptions\"\n",
    "    ) -> Measurement:\n",
    "        return Measurement.get(console, options, self.renderable)"
   ]
  },
  {
   "cell_type": "code",
   "execution_count": null,
   "id": "e53519a7",
   "metadata": {},
   "outputs": [],
   "source": [
    "if __name__ == \"__main__\":  # pragma: no cover\n",
    "    from pip._vendor.rich import print\n",
    "    from pip._vendor.rich.panel import Panel\n",
    "\n",
    "    panel = Styled(Panel(\"hello\"), \"on blue\")\n",
    "    print(panel)"
   ]
  }
 ],
 "metadata": {
  "jupytext": {
   "cell_metadata_filter": "-all",
   "main_language": "python",
   "notebook_metadata_filter": "-all"
  }
 },
 "nbformat": 4,
 "nbformat_minor": 5
}
