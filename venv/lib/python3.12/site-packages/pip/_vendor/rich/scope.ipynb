{
 "cells": [
  {
   "cell_type": "code",
   "execution_count": null,
   "id": "46197627",
   "metadata": {},
   "outputs": [],
   "source": [
    "from collections.abc import Mapping\n",
    "from typing import TYPE_CHECKING, Any, Optional, Tuple"
   ]
  },
  {
   "cell_type": "code",
   "execution_count": null,
   "id": "99e3af0c",
   "metadata": {},
   "outputs": [],
   "source": [
    "from .highlighter import ReprHighlighter\n",
    "from .panel import Panel\n",
    "from .pretty import Pretty\n",
    "from .table import Table\n",
    "from .text import Text, TextType"
   ]
  },
  {
   "cell_type": "code",
   "execution_count": null,
   "id": "7d6a5844",
   "metadata": {},
   "outputs": [],
   "source": [
    "if TYPE_CHECKING:\n",
    "    from .console import ConsoleRenderable"
   ]
  },
  {
   "cell_type": "code",
   "execution_count": null,
   "id": "1feb0094",
   "metadata": {},
   "outputs": [],
   "source": [
    "def render_scope(\n",
    "    scope: \"Mapping[str, Any]\",\n",
    "    *,\n",
    "    title: Optional[TextType] = None,\n",
    "    sort_keys: bool = True,\n",
    "    indent_guides: bool = False,\n",
    "    max_length: Optional[int] = None,\n",
    "    max_string: Optional[int] = None,\n",
    ") -> \"ConsoleRenderable\":\n",
    "    \"\"\"Render python variables in a given scope.\n",
    "\n",
    "    Args:\n",
    "        scope (Mapping): A mapping containing variable names and values.\n",
    "        title (str, optional): Optional title. Defaults to None.\n",
    "        sort_keys (bool, optional): Enable sorting of items. Defaults to True.\n",
    "        indent_guides (bool, optional): Enable indentation guides. Defaults to False.\n",
    "        max_length (int, optional): Maximum length of containers before abbreviating, or None for no abbreviation.\n",
    "            Defaults to None.\n",
    "        max_string (int, optional): Maximum length of string before truncating, or None to disable. Defaults to None.\n",
    "\n",
    "    Returns:\n",
    "        ConsoleRenderable: A renderable object.\n",
    "    \"\"\"\n",
    "    highlighter = ReprHighlighter()\n",
    "    items_table = Table.grid(padding=(0, 1), expand=False)\n",
    "    items_table.add_column(justify=\"right\")\n",
    "\n",
    "    def sort_items(item: Tuple[str, Any]) -> Tuple[bool, str]:\n",
    "        \"\"\"Sort special variables first, then alphabetically.\"\"\"\n",
    "        key, _ = item\n",
    "        return (not key.startswith(\"__\"), key.lower())\n",
    "\n",
    "    items = sorted(scope.items(), key=sort_items) if sort_keys else scope.items()\n",
    "    for key, value in items:\n",
    "        key_text = Text.assemble(\n",
    "            (key, \"scope.key.special\" if key.startswith(\"__\") else \"scope.key\"),\n",
    "            (\" =\", \"scope.equals\"),\n",
    "        )\n",
    "        items_table.add_row(\n",
    "            key_text,\n",
    "            Pretty(\n",
    "                value,\n",
    "                highlighter=highlighter,\n",
    "                indent_guides=indent_guides,\n",
    "                max_length=max_length,\n",
    "                max_string=max_string,\n",
    "            ),\n",
    "        )\n",
    "    return Panel.fit(\n",
    "        items_table,\n",
    "        title=title,\n",
    "        border_style=\"scope.border\",\n",
    "        padding=(0, 1),\n",
    "    )"
   ]
  },
  {
   "cell_type": "code",
   "execution_count": null,
   "id": "dd2bfb01",
   "metadata": {},
   "outputs": [],
   "source": [
    "if __name__ == \"__main__\":  # pragma: no cover\n",
    "    from pip._vendor.rich import print\n",
    "\n",
    "    print()\n",
    "\n",
    "    def test(foo: float, bar: float) -> None:\n",
    "        list_of_things = [1, 2, 3, None, 4, True, False, \"Hello World\"]\n",
    "        dict_of_things = {\n",
    "            \"version\": \"1.1\",\n",
    "            \"method\": \"confirmFruitPurchase\",\n",
    "            \"params\": [[\"apple\", \"orange\", \"mangoes\", \"pomelo\"], 1.123],\n",
    "            \"id\": \"194521489\",\n",
    "        }\n",
    "        print(render_scope(locals(), title=\"[i]locals\", sort_keys=False))\n",
    "\n",
    "    test(20.3423, 3.1427)\n",
    "    print()"
   ]
  }
 ],
 "metadata": {
  "jupytext": {
   "cell_metadata_filter": "-all",
   "main_language": "python",
   "notebook_metadata_filter": "-all"
  }
 },
 "nbformat": 4,
 "nbformat_minor": 5
}
