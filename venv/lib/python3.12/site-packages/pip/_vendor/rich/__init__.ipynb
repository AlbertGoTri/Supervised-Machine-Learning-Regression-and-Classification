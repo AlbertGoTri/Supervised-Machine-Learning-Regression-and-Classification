{
 "cells": [
  {
   "cell_type": "code",
   "execution_count": null,
   "id": "15044559",
   "metadata": {},
   "outputs": [],
   "source": [
    "\"\"\"Rich text and beautiful formatting in the terminal.\"\"\""
   ]
  },
  {
   "cell_type": "code",
   "execution_count": null,
   "id": "3d62c19b",
   "metadata": {},
   "outputs": [],
   "source": [
    "import os\n",
    "from typing import IO, TYPE_CHECKING, Any, Callable, Optional, Union"
   ]
  },
  {
   "cell_type": "code",
   "execution_count": null,
   "id": "b58a17b6",
   "metadata": {},
   "outputs": [],
   "source": [
    "from ._extension import load_ipython_extension  # noqa: F401"
   ]
  },
  {
   "cell_type": "code",
   "execution_count": null,
   "id": "0e92f1a7",
   "metadata": {},
   "outputs": [],
   "source": [
    "__all__ = [\"get_console\", \"reconfigure\", \"print\", \"inspect\", \"print_json\"]"
   ]
  },
  {
   "cell_type": "code",
   "execution_count": null,
   "id": "db5f8068",
   "metadata": {},
   "outputs": [],
   "source": [
    "if TYPE_CHECKING:\n",
    "    from .console import Console"
   ]
  },
  {
   "cell_type": "code",
   "execution_count": null,
   "id": "83d04ad8",
   "metadata": {},
   "outputs": [],
   "source": [
    "# Global console used by alternative print\n",
    "_console: Optional[\"Console\"] = None"
   ]
  },
  {
   "cell_type": "code",
   "execution_count": null,
   "id": "d0d08897",
   "metadata": {},
   "outputs": [],
   "source": [
    "try:\n",
    "    _IMPORT_CWD = os.path.abspath(os.getcwd())\n",
    "except FileNotFoundError:\n",
    "    # Can happen if the cwd has been deleted\n",
    "    _IMPORT_CWD = \"\""
   ]
  },
  {
   "cell_type": "code",
   "execution_count": null,
   "id": "78892ad6",
   "metadata": {},
   "outputs": [],
   "source": [
    "def get_console() -> \"Console\":\n",
    "    \"\"\"Get a global :class:`~rich.console.Console` instance. This function is used when Rich requires a Console,\n",
    "    and hasn't been explicitly given one.\n",
    "\n",
    "    Returns:\n",
    "        Console: A console instance.\n",
    "    \"\"\"\n",
    "    global _console\n",
    "    if _console is None:\n",
    "        from .console import Console\n",
    "\n",
    "        _console = Console()\n",
    "\n",
    "    return _console"
   ]
  },
  {
   "cell_type": "code",
   "execution_count": null,
   "id": "6fc9f042",
   "metadata": {},
   "outputs": [],
   "source": [
    "def reconfigure(*args: Any, **kwargs: Any) -> None:\n",
    "    \"\"\"Reconfigures the global console by replacing it with another.\n",
    "\n",
    "    Args:\n",
    "        *args (Any): Positional arguments for the replacement :class:`~rich.console.Console`.\n",
    "        **kwargs (Any): Keyword arguments for the replacement :class:`~rich.console.Console`.\n",
    "    \"\"\"\n",
    "    from pip._vendor.rich.console import Console\n",
    "\n",
    "    new_console = Console(*args, **kwargs)\n",
    "    _console = get_console()\n",
    "    _console.__dict__ = new_console.__dict__"
   ]
  },
  {
   "cell_type": "code",
   "execution_count": null,
   "id": "2231801c",
   "metadata": {},
   "outputs": [],
   "source": [
    "def print(\n",
    "    *objects: Any,\n",
    "    sep: str = \" \",\n",
    "    end: str = \"\\n\",\n",
    "    file: Optional[IO[str]] = None,\n",
    "    flush: bool = False,\n",
    ") -> None:\n",
    "    r\"\"\"Print object(s) supplied via positional arguments.\n",
    "    This function has an identical signature to the built-in print.\n",
    "    For more advanced features, see the :class:`~rich.console.Console` class.\n",
    "\n",
    "    Args:\n",
    "        sep (str, optional): Separator between printed objects. Defaults to \" \".\n",
    "        end (str, optional): Character to write at end of output. Defaults to \"\\\\n\".\n",
    "        file (IO[str], optional): File to write to, or None for stdout. Defaults to None.\n",
    "        flush (bool, optional): Has no effect as Rich always flushes output. Defaults to False.\n",
    "\n",
    "    \"\"\"\n",
    "    from .console import Console\n",
    "\n",
    "    write_console = get_console() if file is None else Console(file=file)\n",
    "    return write_console.print(*objects, sep=sep, end=end)"
   ]
  },
  {
   "cell_type": "code",
   "execution_count": null,
   "id": "c73bad3b",
   "metadata": {},
   "outputs": [],
   "source": [
    "def print_json(\n",
    "    json: Optional[str] = None,\n",
    "    *,\n",
    "    data: Any = None,\n",
    "    indent: Union[None, int, str] = 2,\n",
    "    highlight: bool = True,\n",
    "    skip_keys: bool = False,\n",
    "    ensure_ascii: bool = False,\n",
    "    check_circular: bool = True,\n",
    "    allow_nan: bool = True,\n",
    "    default: Optional[Callable[[Any], Any]] = None,\n",
    "    sort_keys: bool = False,\n",
    ") -> None:\n",
    "    \"\"\"Pretty prints JSON. Output will be valid JSON.\n",
    "\n",
    "    Args:\n",
    "        json (str): A string containing JSON.\n",
    "        data (Any): If json is not supplied, then encode this data.\n",
    "        indent (int, optional): Number of spaces to indent. Defaults to 2.\n",
    "        highlight (bool, optional): Enable highlighting of output: Defaults to True.\n",
    "        skip_keys (bool, optional): Skip keys not of a basic type. Defaults to False.\n",
    "        ensure_ascii (bool, optional): Escape all non-ascii characters. Defaults to False.\n",
    "        check_circular (bool, optional): Check for circular references. Defaults to True.\n",
    "        allow_nan (bool, optional): Allow NaN and Infinity values. Defaults to True.\n",
    "        default (Callable, optional): A callable that converts values that can not be encoded\n",
    "            in to something that can be JSON encoded. Defaults to None.\n",
    "        sort_keys (bool, optional): Sort dictionary keys. Defaults to False.\n",
    "    \"\"\"\n",
    "\n",
    "    get_console().print_json(\n",
    "        json,\n",
    "        data=data,\n",
    "        indent=indent,\n",
    "        highlight=highlight,\n",
    "        skip_keys=skip_keys,\n",
    "        ensure_ascii=ensure_ascii,\n",
    "        check_circular=check_circular,\n",
    "        allow_nan=allow_nan,\n",
    "        default=default,\n",
    "        sort_keys=sort_keys,\n",
    "    )"
   ]
  },
  {
   "cell_type": "code",
   "execution_count": null,
   "id": "44a796f7",
   "metadata": {},
   "outputs": [],
   "source": [
    "def inspect(\n",
    "    obj: Any,\n",
    "    *,\n",
    "    console: Optional[\"Console\"] = None,\n",
    "    title: Optional[str] = None,\n",
    "    help: bool = False,\n",
    "    methods: bool = False,\n",
    "    docs: bool = True,\n",
    "    private: bool = False,\n",
    "    dunder: bool = False,\n",
    "    sort: bool = True,\n",
    "    all: bool = False,\n",
    "    value: bool = True,\n",
    ") -> None:\n",
    "    \"\"\"Inspect any Python object.\n",
    "\n",
    "    * inspect(<OBJECT>) to see summarized info.\n",
    "    * inspect(<OBJECT>, methods=True) to see methods.\n",
    "    * inspect(<OBJECT>, help=True) to see full (non-abbreviated) help.\n",
    "    * inspect(<OBJECT>, private=True) to see private attributes (single underscore).\n",
    "    * inspect(<OBJECT>, dunder=True) to see attributes beginning with double underscore.\n",
    "    * inspect(<OBJECT>, all=True) to see all attributes.\n",
    "\n",
    "    Args:\n",
    "        obj (Any): An object to inspect.\n",
    "        title (str, optional): Title to display over inspect result, or None use type. Defaults to None.\n",
    "        help (bool, optional): Show full help text rather than just first paragraph. Defaults to False.\n",
    "        methods (bool, optional): Enable inspection of callables. Defaults to False.\n",
    "        docs (bool, optional): Also render doc strings. Defaults to True.\n",
    "        private (bool, optional): Show private attributes (beginning with underscore). Defaults to False.\n",
    "        dunder (bool, optional): Show attributes starting with double underscore. Defaults to False.\n",
    "        sort (bool, optional): Sort attributes alphabetically. Defaults to True.\n",
    "        all (bool, optional): Show all attributes. Defaults to False.\n",
    "        value (bool, optional): Pretty print value. Defaults to True.\n",
    "    \"\"\"\n",
    "    _console = console or get_console()\n",
    "    from pip._vendor.rich._inspect import Inspect\n",
    "\n",
    "    # Special case for inspect(inspect)\n",
    "    is_inspect = obj is inspect\n",
    "\n",
    "    _inspect = Inspect(\n",
    "        obj,\n",
    "        title=title,\n",
    "        help=is_inspect or help,\n",
    "        methods=is_inspect or methods,\n",
    "        docs=is_inspect or docs,\n",
    "        private=private,\n",
    "        dunder=dunder,\n",
    "        sort=sort,\n",
    "        all=all,\n",
    "        value=value,\n",
    "    )\n",
    "    _console.print(_inspect)"
   ]
  },
  {
   "cell_type": "code",
   "execution_count": null,
   "id": "9e6be884",
   "metadata": {},
   "outputs": [],
   "source": [
    "if __name__ == \"__main__\":  # pragma: no cover\n",
    "    print(\"Hello, **World**\")"
   ]
  }
 ],
 "metadata": {
  "jupytext": {
   "cell_metadata_filter": "-all",
   "main_language": "python",
   "notebook_metadata_filter": "-all"
  }
 },
 "nbformat": 4,
 "nbformat_minor": 5
}
