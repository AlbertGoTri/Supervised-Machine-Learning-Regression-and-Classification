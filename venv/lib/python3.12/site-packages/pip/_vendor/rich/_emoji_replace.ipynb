{
 "cells": [
  {
   "cell_type": "code",
   "execution_count": null,
   "id": "74b38a8e",
   "metadata": {},
   "outputs": [],
   "source": [
    "from typing import Callable, Match, Optional\n",
    "import re"
   ]
  },
  {
   "cell_type": "code",
   "execution_count": null,
   "id": "63e86838",
   "metadata": {
    "lines_to_next_cell": 2
   },
   "outputs": [],
   "source": [
    "from ._emoji_codes import EMOJI"
   ]
  },
  {
   "cell_type": "code",
   "execution_count": null,
   "id": "0d4cd40a",
   "metadata": {},
   "outputs": [],
   "source": [
    "_ReStringMatch = Match[str]  # regex match object\n",
    "_ReSubCallable = Callable[[_ReStringMatch], str]  # Callable invoked by re.sub\n",
    "_EmojiSubMethod = Callable[[_ReSubCallable, str], str]  # Sub method of a compiled re"
   ]
  },
  {
   "cell_type": "code",
   "execution_count": null,
   "id": "d9696cf8",
   "metadata": {},
   "outputs": [],
   "source": [
    "def _emoji_replace(\n",
    "    text: str,\n",
    "    default_variant: Optional[str] = None,\n",
    "    _emoji_sub: _EmojiSubMethod = re.compile(r\"(:(\\S*?)(?:(?:\\-)(emoji|text))?:)\").sub,\n",
    ") -> str:\n",
    "    \"\"\"Replace emoji code in text.\"\"\"\n",
    "    get_emoji = EMOJI.__getitem__\n",
    "    variants = {\"text\": \"\\uFE0E\", \"emoji\": \"\\uFE0F\"}\n",
    "    get_variant = variants.get\n",
    "    default_variant_code = variants.get(default_variant, \"\") if default_variant else \"\"\n",
    "\n",
    "    def do_replace(match: Match[str]) -> str:\n",
    "        emoji_code, emoji_name, variant = match.groups()\n",
    "        try:\n",
    "            return get_emoji(emoji_name.lower()) + get_variant(\n",
    "                variant, default_variant_code\n",
    "            )\n",
    "        except KeyError:\n",
    "            return emoji_code\n",
    "\n",
    "    return _emoji_sub(do_replace, text)"
   ]
  }
 ],
 "metadata": {
  "jupytext": {
   "cell_metadata_filter": "-all",
   "main_language": "python",
   "notebook_metadata_filter": "-all"
  }
 },
 "nbformat": 4,
 "nbformat_minor": 5
}
