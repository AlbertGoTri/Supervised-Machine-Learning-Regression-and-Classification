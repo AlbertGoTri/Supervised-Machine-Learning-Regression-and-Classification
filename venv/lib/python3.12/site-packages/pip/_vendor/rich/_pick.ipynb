{
 "cells": [
  {
   "cell_type": "code",
   "execution_count": null,
   "id": "f3dce0b9",
   "metadata": {},
   "outputs": [],
   "source": [
    "from typing import Optional"
   ]
  },
  {
   "cell_type": "code",
   "execution_count": null,
   "id": "7db4eb52",
   "metadata": {},
   "outputs": [],
   "source": [
    "def pick_bool(*values: Optional[bool]) -> bool:\n",
    "    \"\"\"Pick the first non-none bool or return the last value.\n",
    "\n",
    "    Args:\n",
    "        *values (bool): Any number of boolean or None values.\n",
    "\n",
    "    Returns:\n",
    "        bool: First non-none boolean.\n",
    "    \"\"\"\n",
    "    assert values, \"1 or more values required\"\n",
    "    for value in values:\n",
    "        if value is not None:\n",
    "            return value\n",
    "    return bool(value)"
   ]
  }
 ],
 "metadata": {
  "jupytext": {
   "cell_metadata_filter": "-all",
   "main_language": "python",
   "notebook_metadata_filter": "-all"
  }
 },
 "nbformat": 4,
 "nbformat_minor": 5
}
