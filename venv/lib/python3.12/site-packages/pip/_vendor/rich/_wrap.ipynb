{
 "cells": [
  {
   "cell_type": "code",
   "execution_count": null,
   "id": "95e55370",
   "metadata": {},
   "outputs": [],
   "source": [
    "import re\n",
    "from typing import Iterable, List, Tuple"
   ]
  },
  {
   "cell_type": "code",
   "execution_count": null,
   "id": "6ef3f450",
   "metadata": {},
   "outputs": [],
   "source": [
    "from ._loop import loop_last\n",
    "from .cells import cell_len, chop_cells"
   ]
  },
  {
   "cell_type": "code",
   "execution_count": null,
   "id": "9d7c4665",
   "metadata": {},
   "outputs": [],
   "source": [
    "re_word = re.compile(r\"\\s*\\S+\\s*\")"
   ]
  },
  {
   "cell_type": "code",
   "execution_count": null,
   "id": "b1a93a53",
   "metadata": {},
   "outputs": [],
   "source": [
    "def words(text: str) -> Iterable[Tuple[int, int, str]]:\n",
    "    position = 0\n",
    "    word_match = re_word.match(text, position)\n",
    "    while word_match is not None:\n",
    "        start, end = word_match.span()\n",
    "        word = word_match.group(0)\n",
    "        yield start, end, word\n",
    "        word_match = re_word.match(text, end)"
   ]
  },
  {
   "cell_type": "code",
   "execution_count": null,
   "id": "0a87110f",
   "metadata": {},
   "outputs": [],
   "source": [
    "def divide_line(text: str, width: int, fold: bool = True) -> List[int]:\n",
    "    divides: List[int] = []\n",
    "    append = divides.append\n",
    "    line_position = 0\n",
    "    _cell_len = cell_len\n",
    "    for start, _end, word in words(text):\n",
    "        word_length = _cell_len(word.rstrip())\n",
    "        if line_position + word_length > width:\n",
    "            if word_length > width:\n",
    "                if fold:\n",
    "                    chopped_words = chop_cells(word, max_size=width, position=0)\n",
    "                    for last, line in loop_last(chopped_words):\n",
    "                        if start:\n",
    "                            append(start)\n",
    "\n",
    "                        if last:\n",
    "                            line_position = _cell_len(line)\n",
    "                        else:\n",
    "                            start += len(line)\n",
    "                else:\n",
    "                    if start:\n",
    "                        append(start)\n",
    "                    line_position = _cell_len(word)\n",
    "            elif line_position and start:\n",
    "                append(start)\n",
    "                line_position = _cell_len(word)\n",
    "        else:\n",
    "            line_position += _cell_len(word)\n",
    "    return divides"
   ]
  },
  {
   "cell_type": "code",
   "execution_count": null,
   "id": "eb5350be",
   "metadata": {},
   "outputs": [],
   "source": [
    "if __name__ == \"__main__\":  # pragma: no cover\n",
    "    from .console import Console\n",
    "\n",
    "    console = Console(width=10)\n",
    "    console.print(\"12345 abcdefghijklmnopqrstuvwyxzABCDEFGHIJKLMNOPQRSTUVWXYZ 12345\")\n",
    "    print(chop_cells(\"abcdefghijklmnopqrstuvwxyz\", 10, position=2))"
   ]
  }
 ],
 "metadata": {
  "jupytext": {
   "cell_metadata_filter": "-all",
   "main_language": "python",
   "notebook_metadata_filter": "-all"
  }
 },
 "nbformat": 4,
 "nbformat_minor": 5
}
