{
 "cells": [
  {
   "cell_type": "code",
   "execution_count": null,
   "id": "a7343566",
   "metadata": {},
   "outputs": [],
   "source": [
    "from typing import Any, cast, Set, TYPE_CHECKING\n",
    "from inspect import isclass"
   ]
  },
  {
   "cell_type": "code",
   "execution_count": null,
   "id": "1a4001bb",
   "metadata": {},
   "outputs": [],
   "source": [
    "if TYPE_CHECKING:\n",
    "    from pip._vendor.rich.console import RenderableType"
   ]
  },
  {
   "cell_type": "code",
   "execution_count": null,
   "id": "d54486ef",
   "metadata": {},
   "outputs": [],
   "source": [
    "_GIBBERISH = \"\"\"aihwerij235234ljsdnp34ksodfipwoe234234jlskjdf\"\"\""
   ]
  },
  {
   "cell_type": "code",
   "execution_count": null,
   "id": "aeb9c668",
   "metadata": {},
   "outputs": [],
   "source": [
    "def is_renderable(check_object: Any) -> bool:\n",
    "    \"\"\"Check if an object may be rendered by Rich.\"\"\"\n",
    "    return (\n",
    "        isinstance(check_object, str)\n",
    "        or hasattr(check_object, \"__rich__\")\n",
    "        or hasattr(check_object, \"__rich_console__\")\n",
    "    )"
   ]
  },
  {
   "cell_type": "code",
   "execution_count": null,
   "id": "9188856e",
   "metadata": {},
   "outputs": [],
   "source": [
    "def rich_cast(renderable: object) -> \"RenderableType\":\n",
    "    \"\"\"Cast an object to a renderable by calling __rich__ if present.\n",
    "\n",
    "    Args:\n",
    "        renderable (object): A potentially renderable object\n",
    "\n",
    "    Returns:\n",
    "        object: The result of recursively calling __rich__.\n",
    "    \"\"\"\n",
    "    from pip._vendor.rich.console import RenderableType\n",
    "\n",
    "    rich_visited_set: Set[type] = set()  # Prevent potential infinite loop\n",
    "    while hasattr(renderable, \"__rich__\") and not isclass(renderable):\n",
    "        # Detect object which claim to have all the attributes\n",
    "        if hasattr(renderable, _GIBBERISH):\n",
    "            return repr(renderable)\n",
    "        cast_method = getattr(renderable, \"__rich__\")\n",
    "        renderable = cast_method()\n",
    "        renderable_type = type(renderable)\n",
    "        if renderable_type in rich_visited_set:\n",
    "            break\n",
    "        rich_visited_set.add(renderable_type)\n",
    "\n",
    "    return cast(RenderableType, renderable)"
   ]
  }
 ],
 "metadata": {
  "jupytext": {
   "cell_metadata_filter": "-all",
   "main_language": "python",
   "notebook_metadata_filter": "-all"
  }
 },
 "nbformat": 4,
 "nbformat_minor": 5
}
