{
 "cells": [
  {
   "cell_type": "code",
   "execution_count": null,
   "id": "8b8a01a8",
   "metadata": {},
   "outputs": [],
   "source": [
    "from typing import NamedTuple"
   ]
  },
  {
   "cell_type": "code",
   "execution_count": null,
   "id": "35b00669",
   "metadata": {},
   "outputs": [],
   "source": [
    "class Region(NamedTuple):\n",
    "    \"\"\"Defines a rectangular region of the screen.\"\"\"\n",
    "\n",
    "    x: int\n",
    "    y: int\n",
    "    width: int\n",
    "    height: int"
   ]
  }
 ],
 "metadata": {
  "jupytext": {
   "cell_metadata_filter": "-all",
   "main_language": "python",
   "notebook_metadata_filter": "-all"
  }
 },
 "nbformat": 4,
 "nbformat_minor": 5
}
