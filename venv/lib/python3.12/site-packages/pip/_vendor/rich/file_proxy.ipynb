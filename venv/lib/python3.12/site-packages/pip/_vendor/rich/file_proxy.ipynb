{
 "cells": [
  {
   "cell_type": "code",
   "execution_count": null,
   "id": "efa68e1f",
   "metadata": {},
   "outputs": [],
   "source": [
    "import io\n",
    "from typing import IO, TYPE_CHECKING, Any, List"
   ]
  },
  {
   "cell_type": "code",
   "execution_count": null,
   "id": "2314b939",
   "metadata": {},
   "outputs": [],
   "source": [
    "from .ansi import AnsiDecoder\n",
    "from .text import Text"
   ]
  },
  {
   "cell_type": "code",
   "execution_count": null,
   "id": "4f29ab96",
   "metadata": {},
   "outputs": [],
   "source": [
    "if TYPE_CHECKING:\n",
    "    from .console import Console"
   ]
  },
  {
   "cell_type": "code",
   "execution_count": null,
   "id": "9c174a17",
   "metadata": {},
   "outputs": [],
   "source": [
    "class FileProxy(io.TextIOBase):\n",
    "    \"\"\"Wraps a file (e.g. sys.stdout) and redirects writes to a console.\"\"\"\n",
    "\n",
    "    def __init__(self, console: \"Console\", file: IO[str]) -> None:\n",
    "        self.__console = console\n",
    "        self.__file = file\n",
    "        self.__buffer: List[str] = []\n",
    "        self.__ansi_decoder = AnsiDecoder()\n",
    "\n",
    "    @property\n",
    "    def rich_proxied_file(self) -> IO[str]:\n",
    "        \"\"\"Get proxied file.\"\"\"\n",
    "        return self.__file\n",
    "\n",
    "    def __getattr__(self, name: str) -> Any:\n",
    "        return getattr(self.__file, name)\n",
    "\n",
    "    def write(self, text: str) -> int:\n",
    "        if not isinstance(text, str):\n",
    "            raise TypeError(f\"write() argument must be str, not {type(text).__name__}\")\n",
    "        buffer = self.__buffer\n",
    "        lines: List[str] = []\n",
    "        while text:\n",
    "            line, new_line, text = text.partition(\"\\n\")\n",
    "            if new_line:\n",
    "                lines.append(\"\".join(buffer) + line)\n",
    "                buffer.clear()\n",
    "            else:\n",
    "                buffer.append(line)\n",
    "                break\n",
    "        if lines:\n",
    "            console = self.__console\n",
    "            with console:\n",
    "                output = Text(\"\\n\").join(\n",
    "                    self.__ansi_decoder.decode_line(line) for line in lines\n",
    "                )\n",
    "                console.print(output)\n",
    "        return len(text)\n",
    "\n",
    "    def flush(self) -> None:\n",
    "        output = \"\".join(self.__buffer)\n",
    "        if output:\n",
    "            self.__console.print(output)\n",
    "        del self.__buffer[:]\n",
    "\n",
    "    def fileno(self) -> int:\n",
    "        return self.__file.fileno()"
   ]
  }
 ],
 "metadata": {
  "jupytext": {
   "cell_metadata_filter": "-all",
   "main_language": "python",
   "notebook_metadata_filter": "-all"
  }
 },
 "nbformat": 4,
 "nbformat_minor": 5
}
