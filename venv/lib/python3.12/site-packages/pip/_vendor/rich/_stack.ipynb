{
 "cells": [
  {
   "cell_type": "code",
   "execution_count": null,
   "id": "653d4704",
   "metadata": {},
   "outputs": [],
   "source": [
    "from typing import List, TypeVar"
   ]
  },
  {
   "cell_type": "code",
   "execution_count": null,
   "id": "55b46a9e",
   "metadata": {},
   "outputs": [],
   "source": [
    "T = TypeVar(\"T\")"
   ]
  },
  {
   "cell_type": "code",
   "execution_count": null,
   "id": "301dba45",
   "metadata": {},
   "outputs": [],
   "source": [
    "class Stack(List[T]):\n",
    "    \"\"\"A small shim over builtin list.\"\"\"\n",
    "\n",
    "    @property\n",
    "    def top(self) -> T:\n",
    "        \"\"\"Get top of stack.\"\"\"\n",
    "        return self[-1]\n",
    "\n",
    "    def push(self, item: T) -> None:\n",
    "        \"\"\"Push an item on to the stack (append in stack nomenclature).\"\"\"\n",
    "        self.append(item)"
   ]
  }
 ],
 "metadata": {
  "jupytext": {
   "cell_metadata_filter": "-all",
   "main_language": "python",
   "notebook_metadata_filter": "-all"
  }
 },
 "nbformat": 4,
 "nbformat_minor": 5
}
