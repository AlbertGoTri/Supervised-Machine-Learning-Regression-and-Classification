{
 "cells": [
  {
   "cell_type": "code",
   "execution_count": null,
   "id": "be8b339f",
   "metadata": {},
   "outputs": [],
   "source": [
    "from abc import ABC, abstractmethod\n",
    "from typing import Any"
   ]
  },
  {
   "cell_type": "code",
   "execution_count": null,
   "id": "fd8aecb6",
   "metadata": {},
   "outputs": [],
   "source": [
    "class Pager(ABC):\n",
    "    \"\"\"Base class for a pager.\"\"\"\n",
    "\n",
    "    @abstractmethod\n",
    "    def show(self, content: str) -> None:\n",
    "        \"\"\"Show content in pager.\n",
    "\n",
    "        Args:\n",
    "            content (str): Content to be displayed.\n",
    "        \"\"\""
   ]
  },
  {
   "cell_type": "code",
   "execution_count": null,
   "id": "db7e6e45",
   "metadata": {},
   "outputs": [],
   "source": [
    "class SystemPager(Pager):\n",
    "    \"\"\"Uses the pager installed on the system.\"\"\"\n",
    "\n",
    "    def _pager(self, content: str) -> Any:  #  pragma: no cover\n",
    "        return __import__(\"pydoc\").pager(content)\n",
    "\n",
    "    def show(self, content: str) -> None:\n",
    "        \"\"\"Use the same pager used by pydoc.\"\"\"\n",
    "        self._pager(content)"
   ]
  },
  {
   "cell_type": "code",
   "execution_count": null,
   "id": "99260b8a",
   "metadata": {},
   "outputs": [],
   "source": [
    "if __name__ == \"__main__\":  # pragma: no cover\n",
    "    from .__main__ import make_test_card\n",
    "    from .console import Console\n",
    "\n",
    "    console = Console()\n",
    "    with console.pager(styles=True):\n",
    "        console.print(make_test_card())"
   ]
  }
 ],
 "metadata": {
  "jupytext": {
   "cell_metadata_filter": "-all",
   "main_language": "python",
   "notebook_metadata_filter": "-all"
  }
 },
 "nbformat": 4,
 "nbformat_minor": 5
}
