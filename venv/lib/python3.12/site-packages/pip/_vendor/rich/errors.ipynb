{
 "cells": [
  {
   "cell_type": "code",
   "execution_count": null,
   "id": "cd3e71b2",
   "metadata": {},
   "outputs": [],
   "source": [
    "class ConsoleError(Exception):\n",
    "    \"\"\"An error in console operation.\"\"\""
   ]
  },
  {
   "cell_type": "code",
   "execution_count": null,
   "id": "970dfeff",
   "metadata": {},
   "outputs": [],
   "source": [
    "class StyleError(Exception):\n",
    "    \"\"\"An error in styles.\"\"\""
   ]
  },
  {
   "cell_type": "code",
   "execution_count": null,
   "id": "4df6848b",
   "metadata": {},
   "outputs": [],
   "source": [
    "class StyleSyntaxError(ConsoleError):\n",
    "    \"\"\"Style was badly formatted.\"\"\""
   ]
  },
  {
   "cell_type": "code",
   "execution_count": null,
   "id": "b840f9b7",
   "metadata": {},
   "outputs": [],
   "source": [
    "class MissingStyle(StyleError):\n",
    "    \"\"\"No such style.\"\"\""
   ]
  },
  {
   "cell_type": "code",
   "execution_count": null,
   "id": "0ebebe1c",
   "metadata": {},
   "outputs": [],
   "source": [
    "class StyleStackError(ConsoleError):\n",
    "    \"\"\"Style stack is invalid.\"\"\""
   ]
  },
  {
   "cell_type": "code",
   "execution_count": null,
   "id": "1dabc377",
   "metadata": {},
   "outputs": [],
   "source": [
    "class NotRenderableError(ConsoleError):\n",
    "    \"\"\"Object is not renderable.\"\"\""
   ]
  },
  {
   "cell_type": "code",
   "execution_count": null,
   "id": "e8f5d1d7",
   "metadata": {},
   "outputs": [],
   "source": [
    "class MarkupError(ConsoleError):\n",
    "    \"\"\"Markup was badly formatted.\"\"\""
   ]
  },
  {
   "cell_type": "code",
   "execution_count": null,
   "id": "e32fbcc2",
   "metadata": {},
   "outputs": [],
   "source": [
    "class LiveError(ConsoleError):\n",
    "    \"\"\"Error related to Live display.\"\"\""
   ]
  },
  {
   "cell_type": "code",
   "execution_count": null,
   "id": "be5e239f",
   "metadata": {},
   "outputs": [],
   "source": [
    "class NoAltScreen(ConsoleError):\n",
    "    \"\"\"Alt screen mode was required.\"\"\""
   ]
  }
 ],
 "metadata": {
  "jupytext": {
   "cell_metadata_filter": "-all",
   "main_language": "python",
   "notebook_metadata_filter": "-all"
  }
 },
 "nbformat": 4,
 "nbformat_minor": 5
}
