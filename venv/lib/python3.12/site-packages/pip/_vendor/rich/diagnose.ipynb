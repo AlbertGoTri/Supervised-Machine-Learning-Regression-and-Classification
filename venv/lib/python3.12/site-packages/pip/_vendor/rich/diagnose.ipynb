{
 "cells": [
  {
   "cell_type": "code",
   "execution_count": null,
   "id": "7619d142",
   "metadata": {},
   "outputs": [],
   "source": [
    "import os\n",
    "import platform"
   ]
  },
  {
   "cell_type": "code",
   "execution_count": null,
   "id": "7ff4f8b7",
   "metadata": {},
   "outputs": [],
   "source": [
    "from pip._vendor.rich import inspect\n",
    "from pip._vendor.rich.console import Console, get_windows_console_features\n",
    "from pip._vendor.rich.panel import Panel\n",
    "from pip._vendor.rich.pretty import Pretty"
   ]
  },
  {
   "cell_type": "code",
   "execution_count": null,
   "id": "590c6bc1",
   "metadata": {},
   "outputs": [],
   "source": [
    "def report() -> None:  # pragma: no cover\n",
    "    \"\"\"Print a report to the terminal with debugging information\"\"\"\n",
    "    console = Console()\n",
    "    inspect(console)\n",
    "    features = get_windows_console_features()\n",
    "    inspect(features)\n",
    "\n",
    "    env_names = (\n",
    "        \"TERM\",\n",
    "        \"COLORTERM\",\n",
    "        \"CLICOLOR\",\n",
    "        \"NO_COLOR\",\n",
    "        \"TERM_PROGRAM\",\n",
    "        \"COLUMNS\",\n",
    "        \"LINES\",\n",
    "        \"JUPYTER_COLUMNS\",\n",
    "        \"JUPYTER_LINES\",\n",
    "        \"JPY_PARENT_PID\",\n",
    "        \"VSCODE_VERBOSE_LOGGING\",\n",
    "    )\n",
    "    env = {name: os.getenv(name) for name in env_names}\n",
    "    console.print(Panel.fit((Pretty(env)), title=\"[b]Environment Variables\"))\n",
    "\n",
    "    console.print(f'platform=\"{platform.system()}\"')"
   ]
  },
  {
   "cell_type": "code",
   "execution_count": null,
   "id": "990ec040",
   "metadata": {},
   "outputs": [],
   "source": [
    "if __name__ == \"__main__\":  # pragma: no cover\n",
    "    report()"
   ]
  }
 ],
 "metadata": {
  "jupytext": {
   "cell_metadata_filter": "-all",
   "main_language": "python",
   "notebook_metadata_filter": "-all"
  }
 },
 "nbformat": 4,
 "nbformat_minor": 5
}
