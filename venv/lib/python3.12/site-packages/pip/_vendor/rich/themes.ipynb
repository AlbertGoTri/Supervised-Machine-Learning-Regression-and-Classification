{
 "cells": [
  {
   "cell_type": "code",
   "execution_count": null,
   "id": "606b9835",
   "metadata": {
    "lines_to_next_cell": 2
   },
   "outputs": [],
   "source": [
    "from .default_styles import DEFAULT_STYLES\n",
    "from .theme import Theme"
   ]
  },
  {
   "cell_type": "code",
   "execution_count": null,
   "id": "402a3a5e",
   "metadata": {},
   "outputs": [],
   "source": [
    "DEFAULT = Theme(DEFAULT_STYLES)"
   ]
  }
 ],
 "metadata": {
  "jupytext": {
   "cell_metadata_filter": "-all",
   "main_language": "python",
   "notebook_metadata_filter": "-all"
  }
 },
 "nbformat": 4,
 "nbformat_minor": 5
}
