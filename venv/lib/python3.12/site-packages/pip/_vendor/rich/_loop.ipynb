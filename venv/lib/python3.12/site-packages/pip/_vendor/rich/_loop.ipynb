{
 "cells": [
  {
   "cell_type": "code",
   "execution_count": null,
   "id": "f49b7d4a",
   "metadata": {},
   "outputs": [],
   "source": [
    "from typing import Iterable, Tuple, TypeVar"
   ]
  },
  {
   "cell_type": "code",
   "execution_count": null,
   "id": "1d9e1462",
   "metadata": {},
   "outputs": [],
   "source": [
    "T = TypeVar(\"T\")"
   ]
  },
  {
   "cell_type": "code",
   "execution_count": null,
   "id": "96955a66",
   "metadata": {},
   "outputs": [],
   "source": [
    "def loop_first(values: Iterable[T]) -> Iterable[Tuple[bool, T]]:\n",
    "    \"\"\"Iterate and generate a tuple with a flag for first value.\"\"\"\n",
    "    iter_values = iter(values)\n",
    "    try:\n",
    "        value = next(iter_values)\n",
    "    except StopIteration:\n",
    "        return\n",
    "    yield True, value\n",
    "    for value in iter_values:\n",
    "        yield False, value"
   ]
  },
  {
   "cell_type": "code",
   "execution_count": null,
   "id": "03003ddf",
   "metadata": {},
   "outputs": [],
   "source": [
    "def loop_last(values: Iterable[T]) -> Iterable[Tuple[bool, T]]:\n",
    "    \"\"\"Iterate and generate a tuple with a flag for last value.\"\"\"\n",
    "    iter_values = iter(values)\n",
    "    try:\n",
    "        previous_value = next(iter_values)\n",
    "    except StopIteration:\n",
    "        return\n",
    "    for value in iter_values:\n",
    "        yield False, previous_value\n",
    "        previous_value = value\n",
    "    yield True, previous_value"
   ]
  },
  {
   "cell_type": "code",
   "execution_count": null,
   "id": "dd8eefb9",
   "metadata": {},
   "outputs": [],
   "source": [
    "def loop_first_last(values: Iterable[T]) -> Iterable[Tuple[bool, bool, T]]:\n",
    "    \"\"\"Iterate and generate a tuple with a flag for first and last value.\"\"\"\n",
    "    iter_values = iter(values)\n",
    "    try:\n",
    "        previous_value = next(iter_values)\n",
    "    except StopIteration:\n",
    "        return\n",
    "    first = True\n",
    "    for value in iter_values:\n",
    "        yield first, False, previous_value\n",
    "        first = False\n",
    "        previous_value = value\n",
    "    yield first, True, previous_value"
   ]
  }
 ],
 "metadata": {
  "jupytext": {
   "cell_metadata_filter": "-all",
   "main_language": "python",
   "notebook_metadata_filter": "-all"
  }
 },
 "nbformat": 4,
 "nbformat_minor": 5
}
