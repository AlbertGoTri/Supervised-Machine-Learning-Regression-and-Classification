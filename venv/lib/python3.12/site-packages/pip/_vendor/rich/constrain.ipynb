{
 "cells": [
  {
   "cell_type": "code",
   "execution_count": null,
   "id": "37d609bc",
   "metadata": {},
   "outputs": [],
   "source": [
    "from typing import Optional, TYPE_CHECKING"
   ]
  },
  {
   "cell_type": "code",
   "execution_count": null,
   "id": "629b5f6c",
   "metadata": {},
   "outputs": [],
   "source": [
    "from .jupyter import JupyterMixin\n",
    "from .measure import Measurement"
   ]
  },
  {
   "cell_type": "code",
   "execution_count": null,
   "id": "ff880e8e",
   "metadata": {},
   "outputs": [],
   "source": [
    "if TYPE_CHECKING:\n",
    "    from .console import Console, ConsoleOptions, RenderableType, RenderResult"
   ]
  },
  {
   "cell_type": "code",
   "execution_count": null,
   "id": "13a79587",
   "metadata": {},
   "outputs": [],
   "source": [
    "class Constrain(JupyterMixin):\n",
    "    \"\"\"Constrain the width of a renderable to a given number of characters.\n",
    "\n",
    "    Args:\n",
    "        renderable (RenderableType): A renderable object.\n",
    "        width (int, optional): The maximum width (in characters) to render. Defaults to 80.\n",
    "    \"\"\"\n",
    "\n",
    "    def __init__(self, renderable: \"RenderableType\", width: Optional[int] = 80) -> None:\n",
    "        self.renderable = renderable\n",
    "        self.width = width\n",
    "\n",
    "    def __rich_console__(\n",
    "        self, console: \"Console\", options: \"ConsoleOptions\"\n",
    "    ) -> \"RenderResult\":\n",
    "        if self.width is None:\n",
    "            yield self.renderable\n",
    "        else:\n",
    "            child_options = options.update_width(min(self.width, options.max_width))\n",
    "            yield from console.render(self.renderable, child_options)\n",
    "\n",
    "    def __rich_measure__(\n",
    "        self, console: \"Console\", options: \"ConsoleOptions\"\n",
    "    ) -> \"Measurement\":\n",
    "        if self.width is not None:\n",
    "            options = options.update_width(self.width)\n",
    "        measurement = Measurement.get(console, options, self.renderable)\n",
    "        return measurement"
   ]
  }
 ],
 "metadata": {
  "jupytext": {
   "cell_metadata_filter": "-all",
   "main_language": "python",
   "notebook_metadata_filter": "-all"
  }
 },
 "nbformat": 4,
 "nbformat_minor": 5
}
