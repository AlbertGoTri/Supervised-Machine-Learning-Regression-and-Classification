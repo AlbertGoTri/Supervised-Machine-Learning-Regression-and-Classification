{
 "cells": [
  {
   "cell_type": "code",
   "execution_count": null,
   "id": "98752bab",
   "metadata": {},
   "outputs": [],
   "source": [
    "import sys\n",
    "from typing import TYPE_CHECKING, Optional, Union"
   ]
  },
  {
   "cell_type": "code",
   "execution_count": null,
   "id": "b7f240bf",
   "metadata": {},
   "outputs": [],
   "source": [
    "from .jupyter import JupyterMixin\n",
    "from .segment import Segment\n",
    "from .style import Style\n",
    "from ._emoji_codes import EMOJI\n",
    "from ._emoji_replace import _emoji_replace"
   ]
  },
  {
   "cell_type": "code",
   "execution_count": null,
   "id": "809b9912",
   "metadata": {
    "lines_to_next_cell": 2
   },
   "outputs": [],
   "source": [
    "if sys.version_info >= (3, 8):\n",
    "    from typing import Literal\n",
    "else:\n",
    "    from pip._vendor.typing_extensions import Literal  # pragma: no cover"
   ]
  },
  {
   "cell_type": "code",
   "execution_count": null,
   "id": "426a3439",
   "metadata": {
    "lines_to_next_cell": 2
   },
   "outputs": [],
   "source": [
    "if TYPE_CHECKING:\n",
    "    from .console import Console, ConsoleOptions, RenderResult"
   ]
  },
  {
   "cell_type": "code",
   "execution_count": null,
   "id": "13b4b3c6",
   "metadata": {},
   "outputs": [],
   "source": [
    "EmojiVariant = Literal[\"emoji\", \"text\"]"
   ]
  },
  {
   "cell_type": "code",
   "execution_count": null,
   "id": "ac6fcc01",
   "metadata": {},
   "outputs": [],
   "source": [
    "class NoEmoji(Exception):\n",
    "    \"\"\"No emoji by that name.\"\"\""
   ]
  },
  {
   "cell_type": "code",
   "execution_count": null,
   "id": "9fa60113",
   "metadata": {},
   "outputs": [],
   "source": [
    "class Emoji(JupyterMixin):\n",
    "    __slots__ = [\"name\", \"style\", \"_char\", \"variant\"]\n",
    "\n",
    "    VARIANTS = {\"text\": \"\\uFE0E\", \"emoji\": \"\\uFE0F\"}\n",
    "\n",
    "    def __init__(\n",
    "        self,\n",
    "        name: str,\n",
    "        style: Union[str, Style] = \"none\",\n",
    "        variant: Optional[EmojiVariant] = None,\n",
    "    ) -> None:\n",
    "        \"\"\"A single emoji character.\n",
    "\n",
    "        Args:\n",
    "            name (str): Name of emoji.\n",
    "            style (Union[str, Style], optional): Optional style. Defaults to None.\n",
    "\n",
    "        Raises:\n",
    "            NoEmoji: If the emoji doesn't exist.\n",
    "        \"\"\"\n",
    "        self.name = name\n",
    "        self.style = style\n",
    "        self.variant = variant\n",
    "        try:\n",
    "            self._char = EMOJI[name]\n",
    "        except KeyError:\n",
    "            raise NoEmoji(f\"No emoji called {name!r}\")\n",
    "        if variant is not None:\n",
    "            self._char += self.VARIANTS.get(variant, \"\")\n",
    "\n",
    "    @classmethod\n",
    "    def replace(cls, text: str) -> str:\n",
    "        \"\"\"Replace emoji markup with corresponding unicode characters.\n",
    "\n",
    "        Args:\n",
    "            text (str): A string with emojis codes, e.g. \"Hello :smiley:!\"\n",
    "\n",
    "        Returns:\n",
    "            str: A string with emoji codes replaces with actual emoji.\n",
    "        \"\"\"\n",
    "        return _emoji_replace(text)\n",
    "\n",
    "    def __repr__(self) -> str:\n",
    "        return f\"<emoji {self.name!r}>\"\n",
    "\n",
    "    def __str__(self) -> str:\n",
    "        return self._char\n",
    "\n",
    "    def __rich_console__(\n",
    "        self, console: \"Console\", options: \"ConsoleOptions\"\n",
    "    ) -> \"RenderResult\":\n",
    "        yield Segment(self._char, console.get_style(self.style))"
   ]
  },
  {
   "cell_type": "code",
   "execution_count": null,
   "id": "5caaad31",
   "metadata": {},
   "outputs": [],
   "source": [
    "if __name__ == \"__main__\":  # pragma: no cover\n",
    "    import sys\n",
    "\n",
    "    from pip._vendor.rich.columns import Columns\n",
    "    from pip._vendor.rich.console import Console\n",
    "\n",
    "    console = Console(record=True)\n",
    "\n",
    "    columns = Columns(\n",
    "        (f\":{name}: {name}\" for name in sorted(EMOJI.keys()) if \"\\u200D\" not in name),\n",
    "        column_first=True,\n",
    "    )\n",
    "\n",
    "    console.print(columns)\n",
    "    if len(sys.argv) > 1:\n",
    "        console.save_html(sys.argv[1])"
   ]
  }
 ],
 "metadata": {
  "jupytext": {
   "cell_metadata_filter": "-all",
   "main_language": "python",
   "notebook_metadata_filter": "-all"
  }
 },
 "nbformat": 4,
 "nbformat_minor": 5
}
