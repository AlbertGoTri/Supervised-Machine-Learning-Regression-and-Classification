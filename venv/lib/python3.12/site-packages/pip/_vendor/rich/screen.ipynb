{
 "cells": [
  {
   "cell_type": "code",
   "execution_count": null,
   "id": "a1deaa45",
   "metadata": {},
   "outputs": [],
   "source": [
    "from typing import Optional, TYPE_CHECKING"
   ]
  },
  {
   "cell_type": "code",
   "execution_count": null,
   "id": "ad21de33",
   "metadata": {
    "lines_to_next_cell": 2
   },
   "outputs": [],
   "source": [
    "from .segment import Segment\n",
    "from .style import StyleType\n",
    "from ._loop import loop_last"
   ]
  },
  {
   "cell_type": "code",
   "execution_count": null,
   "id": "6d282f94",
   "metadata": {},
   "outputs": [],
   "source": [
    "if TYPE_CHECKING:\n",
    "    from .console import (\n",
    "        Console,\n",
    "        ConsoleOptions,\n",
    "        RenderResult,\n",
    "        RenderableType,\n",
    "        Group,\n",
    "    )"
   ]
  },
  {
   "cell_type": "code",
   "execution_count": null,
   "id": "8d32fea9",
   "metadata": {},
   "outputs": [],
   "source": [
    "class Screen:\n",
    "    \"\"\"A renderable that fills the terminal screen and crops excess.\n",
    "\n",
    "    Args:\n",
    "        renderable (RenderableType): Child renderable.\n",
    "        style (StyleType, optional): Optional background style. Defaults to None.\n",
    "    \"\"\"\n",
    "\n",
    "    renderable: \"RenderableType\"\n",
    "\n",
    "    def __init__(\n",
    "        self,\n",
    "        *renderables: \"RenderableType\",\n",
    "        style: Optional[StyleType] = None,\n",
    "        application_mode: bool = False,\n",
    "    ) -> None:\n",
    "        from pip._vendor.rich.console import Group\n",
    "\n",
    "        self.renderable = Group(*renderables)\n",
    "        self.style = style\n",
    "        self.application_mode = application_mode\n",
    "\n",
    "    def __rich_console__(\n",
    "        self, console: \"Console\", options: \"ConsoleOptions\"\n",
    "    ) -> \"RenderResult\":\n",
    "        width, height = options.size\n",
    "        style = console.get_style(self.style) if self.style else None\n",
    "        render_options = options.update(width=width, height=height)\n",
    "        lines = console.render_lines(\n",
    "            self.renderable or \"\", render_options, style=style, pad=True\n",
    "        )\n",
    "        lines = Segment.set_shape(lines, width, height, style=style)\n",
    "        new_line = Segment(\"\\n\\r\") if self.application_mode else Segment.line()\n",
    "        for last, line in loop_last(lines):\n",
    "            yield from line\n",
    "            if not last:\n",
    "                yield new_line"
   ]
  }
 ],
 "metadata": {
  "jupytext": {
   "cell_metadata_filter": "-all",
   "main_language": "python",
   "notebook_metadata_filter": "-all"
  }
 },
 "nbformat": 4,
 "nbformat_minor": 5
}
