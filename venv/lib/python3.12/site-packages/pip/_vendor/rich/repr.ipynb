{
 "cells": [
  {
   "cell_type": "code",
   "execution_count": null,
   "id": "4e88125b",
   "metadata": {},
   "outputs": [],
   "source": [
    "import inspect\n",
    "from functools import partial\n",
    "from typing import (\n",
    "    Any,\n",
    "    Callable,\n",
    "    Iterable,\n",
    "    List,\n",
    "    Optional,\n",
    "    Tuple,\n",
    "    Type,\n",
    "    TypeVar,\n",
    "    Union,\n",
    "    overload,\n",
    ")"
   ]
  },
  {
   "cell_type": "code",
   "execution_count": null,
   "id": "017b0ceb",
   "metadata": {
    "lines_to_next_cell": 2
   },
   "outputs": [],
   "source": [
    "T = TypeVar(\"T\")"
   ]
  },
  {
   "cell_type": "code",
   "execution_count": null,
   "id": "2af271e3",
   "metadata": {},
   "outputs": [],
   "source": [
    "Result = Iterable[Union[Any, Tuple[Any], Tuple[str, Any], Tuple[str, Any, Any]]]\n",
    "RichReprResult = Result"
   ]
  },
  {
   "cell_type": "code",
   "execution_count": null,
   "id": "790df461",
   "metadata": {},
   "outputs": [],
   "source": [
    "class ReprError(Exception):\n",
    "    \"\"\"An error occurred when attempting to build a repr.\"\"\""
   ]
  },
  {
   "cell_type": "code",
   "execution_count": null,
   "id": "7bab054e",
   "metadata": {},
   "outputs": [],
   "source": [
    "@overload\n",
    "def auto(cls: Optional[Type[T]]) -> Type[T]:\n",
    "    ..."
   ]
  },
  {
   "cell_type": "code",
   "execution_count": null,
   "id": "477b0043",
   "metadata": {},
   "outputs": [],
   "source": [
    "@overload\n",
    "def auto(*, angular: bool = False) -> Callable[[Type[T]], Type[T]]:\n",
    "    ..."
   ]
  },
  {
   "cell_type": "code",
   "execution_count": null,
   "id": "8b6384d3",
   "metadata": {},
   "outputs": [],
   "source": [
    "def auto(\n",
    "    cls: Optional[Type[T]] = None, *, angular: Optional[bool] = None\n",
    ") -> Union[Type[T], Callable[[Type[T]], Type[T]]]:\n",
    "    \"\"\"Class decorator to create __repr__ from __rich_repr__\"\"\"\n",
    "\n",
    "    def do_replace(cls: Type[T], angular: Optional[bool] = None) -> Type[T]:\n",
    "        def auto_repr(self: T) -> str:\n",
    "            \"\"\"Create repr string from __rich_repr__\"\"\"\n",
    "            repr_str: List[str] = []\n",
    "            append = repr_str.append\n",
    "\n",
    "            angular: bool = getattr(self.__rich_repr__, \"angular\", False)  # type: ignore[attr-defined]\n",
    "            for arg in self.__rich_repr__():  # type: ignore[attr-defined]\n",
    "                if isinstance(arg, tuple):\n",
    "                    if len(arg) == 1:\n",
    "                        append(repr(arg[0]))\n",
    "                    else:\n",
    "                        key, value, *default = arg\n",
    "                        if key is None:\n",
    "                            append(repr(value))\n",
    "                        else:\n",
    "                            if default and default[0] == value:\n",
    "                                continue\n",
    "                            append(f\"{key}={value!r}\")\n",
    "                else:\n",
    "                    append(repr(arg))\n",
    "            if angular:\n",
    "                return f\"<{self.__class__.__name__} {' '.join(repr_str)}>\"\n",
    "            else:\n",
    "                return f\"{self.__class__.__name__}({', '.join(repr_str)})\"\n",
    "\n",
    "        def auto_rich_repr(self: Type[T]) -> Result:\n",
    "            \"\"\"Auto generate __rich_rep__ from signature of __init__\"\"\"\n",
    "            try:\n",
    "                signature = inspect.signature(self.__init__)\n",
    "                for name, param in signature.parameters.items():\n",
    "                    if param.kind == param.POSITIONAL_ONLY:\n",
    "                        yield getattr(self, name)\n",
    "                    elif param.kind in (\n",
    "                        param.POSITIONAL_OR_KEYWORD,\n",
    "                        param.KEYWORD_ONLY,\n",
    "                    ):\n",
    "                        if param.default == param.empty:\n",
    "                            yield getattr(self, param.name)\n",
    "                        else:\n",
    "                            yield param.name, getattr(self, param.name), param.default\n",
    "            except Exception as error:\n",
    "                raise ReprError(\n",
    "                    f\"Failed to auto generate __rich_repr__; {error}\"\n",
    "                ) from None\n",
    "\n",
    "        if not hasattr(cls, \"__rich_repr__\"):\n",
    "            auto_rich_repr.__doc__ = \"Build a rich repr\"\n",
    "            cls.__rich_repr__ = auto_rich_repr  # type: ignore[attr-defined]\n",
    "\n",
    "        auto_repr.__doc__ = \"Return repr(self)\"\n",
    "        cls.__repr__ = auto_repr  # type: ignore[assignment]\n",
    "        if angular is not None:\n",
    "            cls.__rich_repr__.angular = angular  # type: ignore[attr-defined]\n",
    "        return cls\n",
    "\n",
    "    if cls is None:\n",
    "        return partial(do_replace, angular=angular)\n",
    "    else:\n",
    "        return do_replace(cls, angular=angular)"
   ]
  },
  {
   "cell_type": "code",
   "execution_count": null,
   "id": "38d9fe7b",
   "metadata": {},
   "outputs": [],
   "source": [
    "@overload\n",
    "def rich_repr(cls: Optional[Type[T]]) -> Type[T]:\n",
    "    ..."
   ]
  },
  {
   "cell_type": "code",
   "execution_count": null,
   "id": "d7ac931d",
   "metadata": {},
   "outputs": [],
   "source": [
    "@overload\n",
    "def rich_repr(*, angular: bool = False) -> Callable[[Type[T]], Type[T]]:\n",
    "    ..."
   ]
  },
  {
   "cell_type": "code",
   "execution_count": null,
   "id": "05925e14",
   "metadata": {},
   "outputs": [],
   "source": [
    "def rich_repr(\n",
    "    cls: Optional[Type[T]] = None, *, angular: bool = False\n",
    ") -> Union[Type[T], Callable[[Type[T]], Type[T]]]:\n",
    "    if cls is None:\n",
    "        return auto(angular=angular)\n",
    "    else:\n",
    "        return auto(cls)"
   ]
  },
  {
   "cell_type": "code",
   "execution_count": null,
   "id": "179f894e",
   "metadata": {},
   "outputs": [],
   "source": [
    "if __name__ == \"__main__\":\n",
    "\n",
    "    @auto\n",
    "    class Foo:\n",
    "        def __rich_repr__(self) -> Result:\n",
    "            yield \"foo\"\n",
    "            yield \"bar\", {\"shopping\": [\"eggs\", \"ham\", \"pineapple\"]}\n",
    "            yield \"buy\", \"hand sanitizer\"\n",
    "\n",
    "    foo = Foo()\n",
    "    from pip._vendor.rich.console import Console\n",
    "\n",
    "    console = Console()\n",
    "\n",
    "    console.rule(\"Standard repr\")\n",
    "    console.print(foo)\n",
    "\n",
    "    console.print(foo, width=60)\n",
    "    console.print(foo, width=30)\n",
    "\n",
    "    console.rule(\"Angular repr\")\n",
    "    Foo.__rich_repr__.angular = True  # type: ignore[attr-defined]\n",
    "\n",
    "    console.print(foo)\n",
    "\n",
    "    console.print(foo, width=60)\n",
    "    console.print(foo, width=30)"
   ]
  }
 ],
 "metadata": {
  "jupytext": {
   "cell_metadata_filter": "-all",
   "main_language": "python",
   "notebook_metadata_filter": "-all"
  }
 },
 "nbformat": 4,
 "nbformat_minor": 5
}
