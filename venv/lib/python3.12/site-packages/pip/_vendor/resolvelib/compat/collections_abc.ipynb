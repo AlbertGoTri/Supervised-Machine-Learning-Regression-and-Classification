{
 "cells": [
  {
   "cell_type": "code",
   "execution_count": null,
   "id": "0662321b",
   "metadata": {},
   "outputs": [],
   "source": [
    "__all__ = [\"Mapping\", \"Sequence\"]"
   ]
  },
  {
   "cell_type": "code",
   "execution_count": null,
   "id": "a9f6e5a2",
   "metadata": {},
   "outputs": [],
   "source": [
    "try:\n",
    "    from collections.abc import Mapping, Sequence\n",
    "except ImportError:\n",
    "    from collections import Mapping, Sequence"
   ]
  }
 ],
 "metadata": {
  "jupytext": {
   "cell_metadata_filter": "-all",
   "main_language": "python",
   "notebook_metadata_filter": "-all"
  }
 },
 "nbformat": 4,
 "nbformat_minor": 5
}
