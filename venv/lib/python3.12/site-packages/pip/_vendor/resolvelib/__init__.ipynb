{
 "cells": [
  {
   "cell_type": "code",
   "execution_count": null,
   "id": "92e2a56f",
   "metadata": {},
   "outputs": [],
   "source": [
    "__all__ = [\n",
    "    \"__version__\",\n",
    "    \"AbstractProvider\",\n",
    "    \"AbstractResolver\",\n",
    "    \"BaseReporter\",\n",
    "    \"InconsistentCandidate\",\n",
    "    \"Resolver\",\n",
    "    \"RequirementsConflicted\",\n",
    "    \"ResolutionError\",\n",
    "    \"ResolutionImpossible\",\n",
    "    \"ResolutionTooDeep\",\n",
    "]"
   ]
  },
  {
   "cell_type": "code",
   "execution_count": null,
   "id": "ca6f9835",
   "metadata": {
    "lines_to_next_cell": 2
   },
   "outputs": [],
   "source": [
    "__version__ = \"1.0.1\""
   ]
  },
  {
   "cell_type": "code",
   "execution_count": null,
   "id": "53d58cf5",
   "metadata": {},
   "outputs": [],
   "source": [
    "from .providers import AbstractProvider, AbstractResolver\n",
    "from .reporters import BaseReporter\n",
    "from .resolvers import (\n",
    "    InconsistentCandidate,\n",
    "    RequirementsConflicted,\n",
    "    ResolutionError,\n",
    "    ResolutionImpossible,\n",
    "    ResolutionTooDeep,\n",
    "    Resolver,\n",
    ")"
   ]
  }
 ],
 "metadata": {
  "jupytext": {
   "cell_metadata_filter": "-all",
   "main_language": "python",
   "notebook_metadata_filter": "-all"
  }
 },
 "nbformat": 4,
 "nbformat_minor": 5
}
