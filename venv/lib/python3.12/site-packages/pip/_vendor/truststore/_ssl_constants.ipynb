{
 "cells": [
  {
   "cell_type": "code",
   "execution_count": null,
   "id": "fb85945e",
   "metadata": {},
   "outputs": [],
   "source": [
    "import ssl\n",
    "import sys\n",
    "import typing"
   ]
  },
  {
   "cell_type": "code",
   "execution_count": null,
   "id": "9e38c2d0",
   "metadata": {},
   "outputs": [],
   "source": [
    "# Hold on to the original class so we can create it consistently\n",
    "# even if we inject our own SSLContext into the ssl module.\n",
    "_original_SSLContext = ssl.SSLContext\n",
    "_original_super_SSLContext = super(_original_SSLContext, _original_SSLContext)"
   ]
  },
  {
   "cell_type": "markdown",
   "id": "aaa49bf6",
   "metadata": {},
   "source": [
    "CPython is known to be good, but non-CPython implementations\n",
    "may implement SSLContext differently so to be safe we don't\n",
    "subclass the SSLContext."
   ]
  },
  {
   "cell_type": "code",
   "execution_count": null,
   "id": "290c9fb4",
   "metadata": {},
   "outputs": [],
   "source": [
    "# This is returned by truststore.SSLContext.__class__()\n",
    "_truststore_SSLContext_dunder_class: typing.Optional[type]"
   ]
  },
  {
   "cell_type": "code",
   "execution_count": null,
   "id": "5876e703",
   "metadata": {},
   "outputs": [],
   "source": [
    "# This value is the superclass of truststore.SSLContext.\n",
    "_truststore_SSLContext_super_class: type"
   ]
  },
  {
   "cell_type": "code",
   "execution_count": null,
   "id": "3930367d",
   "metadata": {},
   "outputs": [],
   "source": [
    "if sys.implementation.name == \"cpython\":\n",
    "    _truststore_SSLContext_super_class = _original_SSLContext\n",
    "    _truststore_SSLContext_dunder_class = None\n",
    "else:\n",
    "    _truststore_SSLContext_super_class = object\n",
    "    _truststore_SSLContext_dunder_class = _original_SSLContext"
   ]
  },
  {
   "cell_type": "code",
   "execution_count": null,
   "id": "928cb86a",
   "metadata": {},
   "outputs": [],
   "source": [
    "def _set_ssl_context_verify_mode(\n",
    "    ssl_context: ssl.SSLContext, verify_mode: ssl.VerifyMode\n",
    ") -> None:\n",
    "    _original_super_SSLContext.verify_mode.__set__(ssl_context, verify_mode)  # type: ignore[attr-defined]"
   ]
  }
 ],
 "metadata": {
  "jupytext": {
   "cell_metadata_filter": "-all",
   "main_language": "python",
   "notebook_metadata_filter": "-all"
  }
 },
 "nbformat": 4,
 "nbformat_minor": 5
}
