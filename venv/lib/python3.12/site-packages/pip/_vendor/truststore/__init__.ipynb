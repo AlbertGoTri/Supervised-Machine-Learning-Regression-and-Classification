{
 "cells": [
  {
   "cell_type": "code",
   "execution_count": null,
   "id": "5d3491dc",
   "metadata": {},
   "outputs": [],
   "source": [
    "\"\"\"Verify certificates using native system trust stores\"\"\""
   ]
  },
  {
   "cell_type": "code",
   "execution_count": null,
   "id": "7f224479",
   "metadata": {},
   "outputs": [],
   "source": [
    "import sys as _sys"
   ]
  },
  {
   "cell_type": "code",
   "execution_count": null,
   "id": "bff889f5",
   "metadata": {},
   "outputs": [],
   "source": [
    "if _sys.version_info < (3, 10):\n",
    "    raise ImportError(\"truststore requires Python 3.10 or later\")"
   ]
  },
  {
   "cell_type": "code",
   "execution_count": null,
   "id": "36f40d4a",
   "metadata": {},
   "outputs": [],
   "source": [
    "from ._api import SSLContext, extract_from_ssl, inject_into_ssl  # noqa: E402"
   ]
  },
  {
   "cell_type": "code",
   "execution_count": null,
   "id": "b8feb8a1",
   "metadata": {},
   "outputs": [],
   "source": [
    "del _api, _sys  # type: ignore[name-defined] # noqa: F821"
   ]
  },
  {
   "cell_type": "code",
   "execution_count": null,
   "id": "64090e3a",
   "metadata": {},
   "outputs": [],
   "source": [
    "__all__ = [\"SSLContext\", \"inject_into_ssl\", \"extract_from_ssl\"]\n",
    "__version__ = \"0.8.0\""
   ]
  }
 ],
 "metadata": {
  "jupytext": {
   "cell_metadata_filter": "-all",
   "main_language": "python",
   "notebook_metadata_filter": "-all"
  }
 },
 "nbformat": 4,
 "nbformat_minor": 5
}
