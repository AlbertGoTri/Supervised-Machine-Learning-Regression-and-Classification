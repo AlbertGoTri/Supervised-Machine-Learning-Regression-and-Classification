{
 "cells": [
  {
   "cell_type": "code",
   "execution_count": null,
   "id": "41f9cc4d",
   "metadata": {},
   "outputs": [],
   "source": [
    "import contextlib\n",
    "import ssl\n",
    "import typing\n",
    "from ctypes import WinDLL  # type: ignore\n",
    "from ctypes import WinError  # type: ignore\n",
    "from ctypes import (\n",
    "    POINTER,\n",
    "    Structure,\n",
    "    c_char_p,\n",
    "    c_ulong,\n",
    "    c_void_p,\n",
    "    c_wchar_p,\n",
    "    cast,\n",
    "    create_unicode_buffer,\n",
    "    pointer,\n",
    "    sizeof,\n",
    ")\n",
    "from ctypes.wintypes import (\n",
    "    BOOL,\n",
    "    DWORD,\n",
    "    HANDLE,\n",
    "    LONG,\n",
    "    LPCSTR,\n",
    "    LPCVOID,\n",
    "    LPCWSTR,\n",
    "    LPFILETIME,\n",
    "    LPSTR,\n",
    "    LPWSTR,\n",
    ")\n",
    "from typing import TYPE_CHECKING, Any"
   ]
  },
  {
   "cell_type": "code",
   "execution_count": null,
   "id": "8b6f009b",
   "metadata": {},
   "outputs": [],
   "source": [
    "from ._ssl_constants import _set_ssl_context_verify_mode"
   ]
  },
  {
   "cell_type": "code",
   "execution_count": null,
   "id": "0094cacf",
   "metadata": {},
   "outputs": [],
   "source": [
    "HCERTCHAINENGINE = HANDLE\n",
    "HCERTSTORE = HANDLE\n",
    "HCRYPTPROV_LEGACY = HANDLE"
   ]
  },
  {
   "cell_type": "code",
   "execution_count": null,
   "id": "1803c299",
   "metadata": {},
   "outputs": [],
   "source": [
    "class CERT_CONTEXT(Structure):\n",
    "    _fields_ = (\n",
    "        (\"dwCertEncodingType\", DWORD),\n",
    "        (\"pbCertEncoded\", c_void_p),\n",
    "        (\"cbCertEncoded\", DWORD),\n",
    "        (\"pCertInfo\", c_void_p),\n",
    "        (\"hCertStore\", HCERTSTORE),\n",
    "    )"
   ]
  },
  {
   "cell_type": "code",
   "execution_count": null,
   "id": "2db7769e",
   "metadata": {},
   "outputs": [],
   "source": [
    "PCERT_CONTEXT = POINTER(CERT_CONTEXT)\n",
    "PCCERT_CONTEXT = POINTER(PCERT_CONTEXT)"
   ]
  },
  {
   "cell_type": "code",
   "execution_count": null,
   "id": "52a56d6f",
   "metadata": {},
   "outputs": [],
   "source": [
    "class CERT_ENHKEY_USAGE(Structure):\n",
    "    _fields_ = (\n",
    "        (\"cUsageIdentifier\", DWORD),\n",
    "        (\"rgpszUsageIdentifier\", POINTER(LPSTR)),\n",
    "    )"
   ]
  },
  {
   "cell_type": "code",
   "execution_count": null,
   "id": "a8d3ddcc",
   "metadata": {},
   "outputs": [],
   "source": [
    "PCERT_ENHKEY_USAGE = POINTER(CERT_ENHKEY_USAGE)"
   ]
  },
  {
   "cell_type": "code",
   "execution_count": null,
   "id": "39f1b46d",
   "metadata": {},
   "outputs": [],
   "source": [
    "class CERT_USAGE_MATCH(Structure):\n",
    "    _fields_ = (\n",
    "        (\"dwType\", DWORD),\n",
    "        (\"Usage\", CERT_ENHKEY_USAGE),\n",
    "    )"
   ]
  },
  {
   "cell_type": "code",
   "execution_count": null,
   "id": "77029c84",
   "metadata": {},
   "outputs": [],
   "source": [
    "class CERT_CHAIN_PARA(Structure):\n",
    "    _fields_ = (\n",
    "        (\"cbSize\", DWORD),\n",
    "        (\"RequestedUsage\", CERT_USAGE_MATCH),\n",
    "        (\"RequestedIssuancePolicy\", CERT_USAGE_MATCH),\n",
    "        (\"dwUrlRetrievalTimeout\", DWORD),\n",
    "        (\"fCheckRevocationFreshnessTime\", BOOL),\n",
    "        (\"dwRevocationFreshnessTime\", DWORD),\n",
    "        (\"pftCacheResync\", LPFILETIME),\n",
    "        (\"pStrongSignPara\", c_void_p),\n",
    "        (\"dwStrongSignFlags\", DWORD),\n",
    "    )"
   ]
  },
  {
   "cell_type": "code",
   "execution_count": null,
   "id": "c3214126",
   "metadata": {},
   "outputs": [],
   "source": [
    "if TYPE_CHECKING:\n",
    "    PCERT_CHAIN_PARA = pointer[CERT_CHAIN_PARA]  # type: ignore[misc]\n",
    "else:\n",
    "    PCERT_CHAIN_PARA = POINTER(CERT_CHAIN_PARA)"
   ]
  },
  {
   "cell_type": "code",
   "execution_count": null,
   "id": "e9615e11",
   "metadata": {},
   "outputs": [],
   "source": [
    "class CERT_TRUST_STATUS(Structure):\n",
    "    _fields_ = (\n",
    "        (\"dwErrorStatus\", DWORD),\n",
    "        (\"dwInfoStatus\", DWORD),\n",
    "    )"
   ]
  },
  {
   "cell_type": "code",
   "execution_count": null,
   "id": "cbdc7571",
   "metadata": {},
   "outputs": [],
   "source": [
    "class CERT_CHAIN_ELEMENT(Structure):\n",
    "    _fields_ = (\n",
    "        (\"cbSize\", DWORD),\n",
    "        (\"pCertContext\", PCERT_CONTEXT),\n",
    "        (\"TrustStatus\", CERT_TRUST_STATUS),\n",
    "        (\"pRevocationInfo\", c_void_p),\n",
    "        (\"pIssuanceUsage\", PCERT_ENHKEY_USAGE),\n",
    "        (\"pApplicationUsage\", PCERT_ENHKEY_USAGE),\n",
    "        (\"pwszExtendedErrorInfo\", LPCWSTR),\n",
    "    )"
   ]
  },
  {
   "cell_type": "code",
   "execution_count": null,
   "id": "9ba4b7df",
   "metadata": {},
   "outputs": [],
   "source": [
    "PCERT_CHAIN_ELEMENT = POINTER(CERT_CHAIN_ELEMENT)"
   ]
  },
  {
   "cell_type": "code",
   "execution_count": null,
   "id": "20a7599f",
   "metadata": {},
   "outputs": [],
   "source": [
    "class CERT_SIMPLE_CHAIN(Structure):\n",
    "    _fields_ = (\n",
    "        (\"cbSize\", DWORD),\n",
    "        (\"TrustStatus\", CERT_TRUST_STATUS),\n",
    "        (\"cElement\", DWORD),\n",
    "        (\"rgpElement\", POINTER(PCERT_CHAIN_ELEMENT)),\n",
    "        (\"pTrustListInfo\", c_void_p),\n",
    "        (\"fHasRevocationFreshnessTime\", BOOL),\n",
    "        (\"dwRevocationFreshnessTime\", DWORD),\n",
    "    )"
   ]
  },
  {
   "cell_type": "code",
   "execution_count": null,
   "id": "71ab4e05",
   "metadata": {},
   "outputs": [],
   "source": [
    "PCERT_SIMPLE_CHAIN = POINTER(CERT_SIMPLE_CHAIN)"
   ]
  },
  {
   "cell_type": "code",
   "execution_count": null,
   "id": "7f905d79",
   "metadata": {},
   "outputs": [],
   "source": [
    "class CERT_CHAIN_CONTEXT(Structure):\n",
    "    _fields_ = (\n",
    "        (\"cbSize\", DWORD),\n",
    "        (\"TrustStatus\", CERT_TRUST_STATUS),\n",
    "        (\"cChain\", DWORD),\n",
    "        (\"rgpChain\", POINTER(PCERT_SIMPLE_CHAIN)),\n",
    "        (\"cLowerQualityChainContext\", DWORD),\n",
    "        (\"rgpLowerQualityChainContext\", c_void_p),\n",
    "        (\"fHasRevocationFreshnessTime\", BOOL),\n",
    "        (\"dwRevocationFreshnessTime\", DWORD),\n",
    "    )"
   ]
  },
  {
   "cell_type": "code",
   "execution_count": null,
   "id": "853c91d2",
   "metadata": {},
   "outputs": [],
   "source": [
    "PCERT_CHAIN_CONTEXT = POINTER(CERT_CHAIN_CONTEXT)\n",
    "PCCERT_CHAIN_CONTEXT = POINTER(PCERT_CHAIN_CONTEXT)"
   ]
  },
  {
   "cell_type": "code",
   "execution_count": null,
   "id": "749471e0",
   "metadata": {},
   "outputs": [],
   "source": [
    "class SSL_EXTRA_CERT_CHAIN_POLICY_PARA(Structure):\n",
    "    _fields_ = (\n",
    "        (\"cbSize\", DWORD),\n",
    "        (\"dwAuthType\", DWORD),\n",
    "        (\"fdwChecks\", DWORD),\n",
    "        (\"pwszServerName\", LPCWSTR),\n",
    "    )"
   ]
  },
  {
   "cell_type": "code",
   "execution_count": null,
   "id": "53c83eca",
   "metadata": {},
   "outputs": [],
   "source": [
    "class CERT_CHAIN_POLICY_PARA(Structure):\n",
    "    _fields_ = (\n",
    "        (\"cbSize\", DWORD),\n",
    "        (\"dwFlags\", DWORD),\n",
    "        (\"pvExtraPolicyPara\", c_void_p),\n",
    "    )"
   ]
  },
  {
   "cell_type": "code",
   "execution_count": null,
   "id": "831f5eb0",
   "metadata": {},
   "outputs": [],
   "source": [
    "PCERT_CHAIN_POLICY_PARA = POINTER(CERT_CHAIN_POLICY_PARA)"
   ]
  },
  {
   "cell_type": "code",
   "execution_count": null,
   "id": "da0a2f5a",
   "metadata": {},
   "outputs": [],
   "source": [
    "class CERT_CHAIN_POLICY_STATUS(Structure):\n",
    "    _fields_ = (\n",
    "        (\"cbSize\", DWORD),\n",
    "        (\"dwError\", DWORD),\n",
    "        (\"lChainIndex\", LONG),\n",
    "        (\"lElementIndex\", LONG),\n",
    "        (\"pvExtraPolicyStatus\", c_void_p),\n",
    "    )"
   ]
  },
  {
   "cell_type": "code",
   "execution_count": null,
   "id": "01676bc4",
   "metadata": {},
   "outputs": [],
   "source": [
    "PCERT_CHAIN_POLICY_STATUS = POINTER(CERT_CHAIN_POLICY_STATUS)"
   ]
  },
  {
   "cell_type": "code",
   "execution_count": null,
   "id": "a24372f1",
   "metadata": {},
   "outputs": [],
   "source": [
    "class CERT_CHAIN_ENGINE_CONFIG(Structure):\n",
    "    _fields_ = (\n",
    "        (\"cbSize\", DWORD),\n",
    "        (\"hRestrictedRoot\", HCERTSTORE),\n",
    "        (\"hRestrictedTrust\", HCERTSTORE),\n",
    "        (\"hRestrictedOther\", HCERTSTORE),\n",
    "        (\"cAdditionalStore\", DWORD),\n",
    "        (\"rghAdditionalStore\", c_void_p),\n",
    "        (\"dwFlags\", DWORD),\n",
    "        (\"dwUrlRetrievalTimeout\", DWORD),\n",
    "        (\"MaximumCachedCertificates\", DWORD),\n",
    "        (\"CycleDetectionModulus\", DWORD),\n",
    "        (\"hExclusiveRoot\", HCERTSTORE),\n",
    "        (\"hExclusiveTrustedPeople\", HCERTSTORE),\n",
    "        (\"dwExclusiveFlags\", DWORD),\n",
    "    )"
   ]
  },
  {
   "cell_type": "code",
   "execution_count": null,
   "id": "69859744",
   "metadata": {},
   "outputs": [],
   "source": [
    "PCERT_CHAIN_ENGINE_CONFIG = POINTER(CERT_CHAIN_ENGINE_CONFIG)\n",
    "PHCERTCHAINENGINE = POINTER(HCERTCHAINENGINE)"
   ]
  },
  {
   "cell_type": "code",
   "execution_count": null,
   "id": "29cf5462",
   "metadata": {},
   "outputs": [],
   "source": [
    "X509_ASN_ENCODING = 0x00000001\n",
    "PKCS_7_ASN_ENCODING = 0x00010000\n",
    "CERT_STORE_PROV_MEMORY = b\"Memory\"\n",
    "CERT_STORE_ADD_USE_EXISTING = 2\n",
    "USAGE_MATCH_TYPE_OR = 1\n",
    "OID_PKIX_KP_SERVER_AUTH = c_char_p(b\"1.3.6.1.5.5.7.3.1\")\n",
    "CERT_CHAIN_REVOCATION_CHECK_END_CERT = 0x10000000\n",
    "CERT_CHAIN_REVOCATION_CHECK_CHAIN = 0x20000000\n",
    "CERT_CHAIN_POLICY_IGNORE_ALL_NOT_TIME_VALID_FLAGS = 0x00000007\n",
    "CERT_CHAIN_POLICY_IGNORE_INVALID_BASIC_CONSTRAINTS_FLAG = 0x00000008\n",
    "CERT_CHAIN_POLICY_ALLOW_UNKNOWN_CA_FLAG = 0x00000010\n",
    "CERT_CHAIN_POLICY_IGNORE_INVALID_NAME_FLAG = 0x00000040\n",
    "CERT_CHAIN_POLICY_IGNORE_WRONG_USAGE_FLAG = 0x00000020\n",
    "CERT_CHAIN_POLICY_IGNORE_INVALID_POLICY_FLAG = 0x00000080\n",
    "CERT_CHAIN_POLICY_IGNORE_ALL_REV_UNKNOWN_FLAGS = 0x00000F00\n",
    "CERT_CHAIN_POLICY_ALLOW_TESTROOT_FLAG = 0x00008000\n",
    "CERT_CHAIN_POLICY_TRUST_TESTROOT_FLAG = 0x00004000\n",
    "AUTHTYPE_SERVER = 2\n",
    "CERT_CHAIN_POLICY_SSL = 4\n",
    "FORMAT_MESSAGE_FROM_SYSTEM = 0x00001000\n",
    "FORMAT_MESSAGE_IGNORE_INSERTS = 0x00000200"
   ]
  },
  {
   "cell_type": "code",
   "execution_count": null,
   "id": "9f41ea28",
   "metadata": {},
   "outputs": [],
   "source": [
    "# Flags to set for SSLContext.verify_mode=CERT_NONE\n",
    "CERT_CHAIN_POLICY_VERIFY_MODE_NONE_FLAGS = (\n",
    "    CERT_CHAIN_POLICY_IGNORE_ALL_NOT_TIME_VALID_FLAGS\n",
    "    | CERT_CHAIN_POLICY_IGNORE_INVALID_BASIC_CONSTRAINTS_FLAG\n",
    "    | CERT_CHAIN_POLICY_ALLOW_UNKNOWN_CA_FLAG\n",
    "    | CERT_CHAIN_POLICY_IGNORE_INVALID_NAME_FLAG\n",
    "    | CERT_CHAIN_POLICY_IGNORE_WRONG_USAGE_FLAG\n",
    "    | CERT_CHAIN_POLICY_IGNORE_INVALID_POLICY_FLAG\n",
    "    | CERT_CHAIN_POLICY_IGNORE_ALL_REV_UNKNOWN_FLAGS\n",
    "    | CERT_CHAIN_POLICY_ALLOW_TESTROOT_FLAG\n",
    "    | CERT_CHAIN_POLICY_TRUST_TESTROOT_FLAG\n",
    ")"
   ]
  },
  {
   "cell_type": "code",
   "execution_count": null,
   "id": "25aa4f00",
   "metadata": {},
   "outputs": [],
   "source": [
    "wincrypt = WinDLL(\"crypt32.dll\")\n",
    "kernel32 = WinDLL(\"kernel32.dll\")"
   ]
  },
  {
   "cell_type": "code",
   "execution_count": null,
   "id": "3bd67c71",
   "metadata": {},
   "outputs": [],
   "source": [
    "def _handle_win_error(result: bool, _: Any, args: Any) -> Any:\n",
    "    if not result:\n",
    "        # Note, actually raises OSError after calling GetLastError and FormatMessage\n",
    "        raise WinError()\n",
    "    return args"
   ]
  },
  {
   "cell_type": "code",
   "execution_count": null,
   "id": "698bd6c1",
   "metadata": {},
   "outputs": [],
   "source": [
    "CertCreateCertificateChainEngine = wincrypt.CertCreateCertificateChainEngine\n",
    "CertCreateCertificateChainEngine.argtypes = (\n",
    "    PCERT_CHAIN_ENGINE_CONFIG,\n",
    "    PHCERTCHAINENGINE,\n",
    ")\n",
    "CertCreateCertificateChainEngine.errcheck = _handle_win_error"
   ]
  },
  {
   "cell_type": "code",
   "execution_count": null,
   "id": "58bb7789",
   "metadata": {},
   "outputs": [],
   "source": [
    "CertOpenStore = wincrypt.CertOpenStore\n",
    "CertOpenStore.argtypes = (LPCSTR, DWORD, HCRYPTPROV_LEGACY, DWORD, c_void_p)\n",
    "CertOpenStore.restype = HCERTSTORE\n",
    "CertOpenStore.errcheck = _handle_win_error"
   ]
  },
  {
   "cell_type": "code",
   "execution_count": null,
   "id": "39ba1520",
   "metadata": {},
   "outputs": [],
   "source": [
    "CertAddEncodedCertificateToStore = wincrypt.CertAddEncodedCertificateToStore\n",
    "CertAddEncodedCertificateToStore.argtypes = (\n",
    "    HCERTSTORE,\n",
    "    DWORD,\n",
    "    c_char_p,\n",
    "    DWORD,\n",
    "    DWORD,\n",
    "    PCCERT_CONTEXT,\n",
    ")\n",
    "CertAddEncodedCertificateToStore.restype = BOOL"
   ]
  },
  {
   "cell_type": "code",
   "execution_count": null,
   "id": "53de4851",
   "metadata": {},
   "outputs": [],
   "source": [
    "CertCreateCertificateContext = wincrypt.CertCreateCertificateContext\n",
    "CertCreateCertificateContext.argtypes = (DWORD, c_char_p, DWORD)\n",
    "CertCreateCertificateContext.restype = PCERT_CONTEXT\n",
    "CertCreateCertificateContext.errcheck = _handle_win_error"
   ]
  },
  {
   "cell_type": "code",
   "execution_count": null,
   "id": "d738d3a9",
   "metadata": {},
   "outputs": [],
   "source": [
    "CertGetCertificateChain = wincrypt.CertGetCertificateChain\n",
    "CertGetCertificateChain.argtypes = (\n",
    "    HCERTCHAINENGINE,\n",
    "    PCERT_CONTEXT,\n",
    "    LPFILETIME,\n",
    "    HCERTSTORE,\n",
    "    PCERT_CHAIN_PARA,\n",
    "    DWORD,\n",
    "    c_void_p,\n",
    "    PCCERT_CHAIN_CONTEXT,\n",
    ")\n",
    "CertGetCertificateChain.restype = BOOL\n",
    "CertGetCertificateChain.errcheck = _handle_win_error"
   ]
  },
  {
   "cell_type": "code",
   "execution_count": null,
   "id": "078012fb",
   "metadata": {},
   "outputs": [],
   "source": [
    "CertVerifyCertificateChainPolicy = wincrypt.CertVerifyCertificateChainPolicy\n",
    "CertVerifyCertificateChainPolicy.argtypes = (\n",
    "    c_ulong,\n",
    "    PCERT_CHAIN_CONTEXT,\n",
    "    PCERT_CHAIN_POLICY_PARA,\n",
    "    PCERT_CHAIN_POLICY_STATUS,\n",
    ")\n",
    "CertVerifyCertificateChainPolicy.restype = BOOL"
   ]
  },
  {
   "cell_type": "code",
   "execution_count": null,
   "id": "e869642b",
   "metadata": {},
   "outputs": [],
   "source": [
    "CertCloseStore = wincrypt.CertCloseStore\n",
    "CertCloseStore.argtypes = (HCERTSTORE, DWORD)\n",
    "CertCloseStore.restype = BOOL\n",
    "CertCloseStore.errcheck = _handle_win_error"
   ]
  },
  {
   "cell_type": "code",
   "execution_count": null,
   "id": "74e575f0",
   "metadata": {},
   "outputs": [],
   "source": [
    "CertFreeCertificateChain = wincrypt.CertFreeCertificateChain\n",
    "CertFreeCertificateChain.argtypes = (PCERT_CHAIN_CONTEXT,)"
   ]
  },
  {
   "cell_type": "code",
   "execution_count": null,
   "id": "7570c2c8",
   "metadata": {},
   "outputs": [],
   "source": [
    "CertFreeCertificateContext = wincrypt.CertFreeCertificateContext\n",
    "CertFreeCertificateContext.argtypes = (PCERT_CONTEXT,)"
   ]
  },
  {
   "cell_type": "code",
   "execution_count": null,
   "id": "6b576f46",
   "metadata": {},
   "outputs": [],
   "source": [
    "CertFreeCertificateChainEngine = wincrypt.CertFreeCertificateChainEngine\n",
    "CertFreeCertificateChainEngine.argtypes = (HCERTCHAINENGINE,)"
   ]
  },
  {
   "cell_type": "code",
   "execution_count": null,
   "id": "8a97611e",
   "metadata": {},
   "outputs": [],
   "source": [
    "FormatMessageW = kernel32.FormatMessageW\n",
    "FormatMessageW.argtypes = (\n",
    "    DWORD,\n",
    "    LPCVOID,\n",
    "    DWORD,\n",
    "    DWORD,\n",
    "    LPWSTR,\n",
    "    DWORD,\n",
    "    c_void_p,\n",
    ")\n",
    "FormatMessageW.restype = DWORD"
   ]
  },
  {
   "cell_type": "code",
   "execution_count": null,
   "id": "d7031533",
   "metadata": {},
   "outputs": [],
   "source": [
    "def _verify_peercerts_impl(\n",
    "    ssl_context: ssl.SSLContext,\n",
    "    cert_chain: list[bytes],\n",
    "    server_hostname: str | None = None,\n",
    ") -> None:\n",
    "    \"\"\"Verify the cert_chain from the server using Windows APIs.\"\"\"\n",
    "    pCertContext = None\n",
    "    hIntermediateCertStore = CertOpenStore(CERT_STORE_PROV_MEMORY, 0, None, 0, None)\n",
    "    try:\n",
    "        # Add intermediate certs to an in-memory cert store\n",
    "        for cert_bytes in cert_chain[1:]:\n",
    "            CertAddEncodedCertificateToStore(\n",
    "                hIntermediateCertStore,\n",
    "                X509_ASN_ENCODING | PKCS_7_ASN_ENCODING,\n",
    "                cert_bytes,\n",
    "                len(cert_bytes),\n",
    "                CERT_STORE_ADD_USE_EXISTING,\n",
    "                None,\n",
    "            )\n",
    "\n",
    "        # Cert context for leaf cert\n",
    "        leaf_cert = cert_chain[0]\n",
    "        pCertContext = CertCreateCertificateContext(\n",
    "            X509_ASN_ENCODING | PKCS_7_ASN_ENCODING, leaf_cert, len(leaf_cert)\n",
    "        )\n",
    "\n",
    "        # Chain params to match certs for serverAuth extended usage\n",
    "        cert_enhkey_usage = CERT_ENHKEY_USAGE()\n",
    "        cert_enhkey_usage.cUsageIdentifier = 1\n",
    "        cert_enhkey_usage.rgpszUsageIdentifier = (c_char_p * 1)(OID_PKIX_KP_SERVER_AUTH)\n",
    "        cert_usage_match = CERT_USAGE_MATCH()\n",
    "        cert_usage_match.Usage = cert_enhkey_usage\n",
    "        chain_params = CERT_CHAIN_PARA()\n",
    "        chain_params.RequestedUsage = cert_usage_match\n",
    "        chain_params.cbSize = sizeof(chain_params)\n",
    "        pChainPara = pointer(chain_params)\n",
    "\n",
    "        if ssl_context.verify_flags & ssl.VERIFY_CRL_CHECK_CHAIN:\n",
    "            chain_flags = CERT_CHAIN_REVOCATION_CHECK_CHAIN\n",
    "        elif ssl_context.verify_flags & ssl.VERIFY_CRL_CHECK_LEAF:\n",
    "            chain_flags = CERT_CHAIN_REVOCATION_CHECK_END_CERT\n",
    "        else:\n",
    "            chain_flags = 0\n",
    "\n",
    "        try:\n",
    "            # First attempt to verify using the default Windows system trust roots\n",
    "            # (default chain engine).\n",
    "            _get_and_verify_cert_chain(\n",
    "                ssl_context,\n",
    "                None,\n",
    "                hIntermediateCertStore,\n",
    "                pCertContext,\n",
    "                pChainPara,\n",
    "                server_hostname,\n",
    "                chain_flags=chain_flags,\n",
    "            )\n",
    "        except ssl.SSLCertVerificationError:\n",
    "            # If that fails but custom CA certs have been added\n",
    "            # to the SSLContext using load_verify_locations,\n",
    "            # try verifying using a custom chain engine\n",
    "            # that trusts the custom CA certs.\n",
    "            custom_ca_certs: list[bytes] | None = ssl_context.get_ca_certs(\n",
    "                binary_form=True\n",
    "            )\n",
    "            if custom_ca_certs:\n",
    "                _verify_using_custom_ca_certs(\n",
    "                    ssl_context,\n",
    "                    custom_ca_certs,\n",
    "                    hIntermediateCertStore,\n",
    "                    pCertContext,\n",
    "                    pChainPara,\n",
    "                    server_hostname,\n",
    "                    chain_flags=chain_flags,\n",
    "                )\n",
    "            else:\n",
    "                raise\n",
    "    finally:\n",
    "        CertCloseStore(hIntermediateCertStore, 0)\n",
    "        if pCertContext:\n",
    "            CertFreeCertificateContext(pCertContext)"
   ]
  },
  {
   "cell_type": "code",
   "execution_count": null,
   "id": "987166b7",
   "metadata": {},
   "outputs": [],
   "source": [
    "def _get_and_verify_cert_chain(\n",
    "    ssl_context: ssl.SSLContext,\n",
    "    hChainEngine: HCERTCHAINENGINE | None,\n",
    "    hIntermediateCertStore: HCERTSTORE,\n",
    "    pPeerCertContext: c_void_p,\n",
    "    pChainPara: PCERT_CHAIN_PARA,  # type: ignore[valid-type]\n",
    "    server_hostname: str | None,\n",
    "    chain_flags: int,\n",
    ") -> None:\n",
    "    ppChainContext = None\n",
    "    try:\n",
    "        # Get cert chain\n",
    "        ppChainContext = pointer(PCERT_CHAIN_CONTEXT())\n",
    "        CertGetCertificateChain(\n",
    "            hChainEngine,  # chain engine\n",
    "            pPeerCertContext,  # leaf cert context\n",
    "            None,  # current system time\n",
    "            hIntermediateCertStore,  # additional in-memory cert store\n",
    "            pChainPara,  # chain-building parameters\n",
    "            chain_flags,\n",
    "            None,  # reserved\n",
    "            ppChainContext,  # the resulting chain context\n",
    "        )\n",
    "        pChainContext = ppChainContext.contents\n",
    "\n",
    "        # Verify cert chain\n",
    "        ssl_extra_cert_chain_policy_para = SSL_EXTRA_CERT_CHAIN_POLICY_PARA()\n",
    "        ssl_extra_cert_chain_policy_para.cbSize = sizeof(\n",
    "            ssl_extra_cert_chain_policy_para\n",
    "        )\n",
    "        ssl_extra_cert_chain_policy_para.dwAuthType = AUTHTYPE_SERVER\n",
    "        ssl_extra_cert_chain_policy_para.fdwChecks = 0\n",
    "        if server_hostname:\n",
    "            ssl_extra_cert_chain_policy_para.pwszServerName = c_wchar_p(server_hostname)\n",
    "\n",
    "        chain_policy = CERT_CHAIN_POLICY_PARA()\n",
    "        chain_policy.pvExtraPolicyPara = cast(\n",
    "            pointer(ssl_extra_cert_chain_policy_para), c_void_p\n",
    "        )\n",
    "        if ssl_context.verify_mode == ssl.CERT_NONE:\n",
    "            chain_policy.dwFlags |= CERT_CHAIN_POLICY_VERIFY_MODE_NONE_FLAGS\n",
    "        if not ssl_context.check_hostname:\n",
    "            chain_policy.dwFlags |= CERT_CHAIN_POLICY_IGNORE_INVALID_NAME_FLAG\n",
    "        chain_policy.cbSize = sizeof(chain_policy)\n",
    "\n",
    "        pPolicyPara = pointer(chain_policy)\n",
    "        policy_status = CERT_CHAIN_POLICY_STATUS()\n",
    "        policy_status.cbSize = sizeof(policy_status)\n",
    "        pPolicyStatus = pointer(policy_status)\n",
    "        CertVerifyCertificateChainPolicy(\n",
    "            CERT_CHAIN_POLICY_SSL,\n",
    "            pChainContext,\n",
    "            pPolicyPara,\n",
    "            pPolicyStatus,\n",
    "        )\n",
    "\n",
    "        # Check status\n",
    "        error_code = policy_status.dwError\n",
    "        if error_code:\n",
    "            # Try getting a human readable message for an error code.\n",
    "            error_message_buf = create_unicode_buffer(1024)\n",
    "            error_message_chars = FormatMessageW(\n",
    "                FORMAT_MESSAGE_FROM_SYSTEM | FORMAT_MESSAGE_IGNORE_INSERTS,\n",
    "                None,\n",
    "                error_code,\n",
    "                0,\n",
    "                error_message_buf,\n",
    "                sizeof(error_message_buf),\n",
    "                None,\n",
    "            )\n",
    "\n",
    "            # See if we received a message for the error,\n",
    "            # otherwise we use a generic error with the\n",
    "            # error code and hope that it's search-able.\n",
    "            if error_message_chars <= 0:\n",
    "                error_message = f\"Certificate chain policy error {error_code:#x} [{policy_status.lElementIndex}]\"\n",
    "            else:\n",
    "                error_message = error_message_buf.value.strip()\n",
    "\n",
    "            err = ssl.SSLCertVerificationError(error_message)\n",
    "            err.verify_message = error_message\n",
    "            err.verify_code = error_code\n",
    "            raise err from None\n",
    "    finally:\n",
    "        if ppChainContext:\n",
    "            CertFreeCertificateChain(ppChainContext.contents)"
   ]
  },
  {
   "cell_type": "code",
   "execution_count": null,
   "id": "5349606c",
   "metadata": {},
   "outputs": [],
   "source": [
    "def _verify_using_custom_ca_certs(\n",
    "    ssl_context: ssl.SSLContext,\n",
    "    custom_ca_certs: list[bytes],\n",
    "    hIntermediateCertStore: HCERTSTORE,\n",
    "    pPeerCertContext: c_void_p,\n",
    "    pChainPara: PCERT_CHAIN_PARA,  # type: ignore[valid-type]\n",
    "    server_hostname: str | None,\n",
    "    chain_flags: int,\n",
    ") -> None:\n",
    "    hChainEngine = None\n",
    "    hRootCertStore = CertOpenStore(CERT_STORE_PROV_MEMORY, 0, None, 0, None)\n",
    "    try:\n",
    "        # Add custom CA certs to an in-memory cert store\n",
    "        for cert_bytes in custom_ca_certs:\n",
    "            CertAddEncodedCertificateToStore(\n",
    "                hRootCertStore,\n",
    "                X509_ASN_ENCODING | PKCS_7_ASN_ENCODING,\n",
    "                cert_bytes,\n",
    "                len(cert_bytes),\n",
    "                CERT_STORE_ADD_USE_EXISTING,\n",
    "                None,\n",
    "            )\n",
    "\n",
    "        # Create a custom cert chain engine which exclusively trusts\n",
    "        # certs from our hRootCertStore\n",
    "        cert_chain_engine_config = CERT_CHAIN_ENGINE_CONFIG()\n",
    "        cert_chain_engine_config.cbSize = sizeof(cert_chain_engine_config)\n",
    "        cert_chain_engine_config.hExclusiveRoot = hRootCertStore\n",
    "        pConfig = pointer(cert_chain_engine_config)\n",
    "        phChainEngine = pointer(HCERTCHAINENGINE())\n",
    "        CertCreateCertificateChainEngine(\n",
    "            pConfig,\n",
    "            phChainEngine,\n",
    "        )\n",
    "        hChainEngine = phChainEngine.contents\n",
    "\n",
    "        # Get and verify a cert chain using the custom chain engine\n",
    "        _get_and_verify_cert_chain(\n",
    "            ssl_context,\n",
    "            hChainEngine,\n",
    "            hIntermediateCertStore,\n",
    "            pPeerCertContext,\n",
    "            pChainPara,\n",
    "            server_hostname,\n",
    "            chain_flags,\n",
    "        )\n",
    "    finally:\n",
    "        if hChainEngine:\n",
    "            CertFreeCertificateChainEngine(hChainEngine)\n",
    "        CertCloseStore(hRootCertStore, 0)"
   ]
  },
  {
   "cell_type": "code",
   "execution_count": null,
   "id": "6e5a2450",
   "metadata": {},
   "outputs": [],
   "source": [
    "@contextlib.contextmanager\n",
    "def _configure_context(ctx: ssl.SSLContext) -> typing.Iterator[None]:\n",
    "    check_hostname = ctx.check_hostname\n",
    "    verify_mode = ctx.verify_mode\n",
    "    ctx.check_hostname = False\n",
    "    _set_ssl_context_verify_mode(ctx, ssl.CERT_NONE)\n",
    "    try:\n",
    "        yield\n",
    "    finally:\n",
    "        ctx.check_hostname = check_hostname\n",
    "        _set_ssl_context_verify_mode(ctx, verify_mode)"
   ]
  }
 ],
 "metadata": {
  "jupytext": {
   "cell_metadata_filter": "-all",
   "main_language": "python",
   "notebook_metadata_filter": "-all"
  }
 },
 "nbformat": 4,
 "nbformat_minor": 5
}
