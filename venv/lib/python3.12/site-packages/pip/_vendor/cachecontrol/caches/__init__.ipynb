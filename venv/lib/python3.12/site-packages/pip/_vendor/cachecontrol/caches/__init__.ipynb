{
 "cells": [
  {
   "cell_type": "markdown",
   "id": "7d345365",
   "metadata": {},
   "source": [
    "SPDX-FileCopyrightText: 2015 Eric Larson\n",
    "\n",
    "SPDX-License-Identifier: Apache-2.0"
   ]
  },
  {
   "cell_type": "code",
   "execution_count": null,
   "id": "3e0c51ef",
   "metadata": {},
   "outputs": [],
   "source": [
    "from pip._vendor.cachecontrol.caches.file_cache import FileCache, SeparateBodyFileCache\n",
    "from pip._vendor.cachecontrol.caches.redis_cache import RedisCache"
   ]
  },
  {
   "cell_type": "code",
   "execution_count": null,
   "id": "d6e7083e",
   "metadata": {},
   "outputs": [],
   "source": [
    "__all__ = [\"FileCache\", \"SeparateBodyFileCache\", \"RedisCache\"]"
   ]
  }
 ],
 "metadata": {
  "jupytext": {
   "cell_metadata_filter": "-all",
   "main_language": "python",
   "notebook_metadata_filter": "-all"
  }
 },
 "nbformat": 4,
 "nbformat_minor": 5
}
