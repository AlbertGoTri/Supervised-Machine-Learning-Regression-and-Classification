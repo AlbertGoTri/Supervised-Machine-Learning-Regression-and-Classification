{
 "cells": [
  {
   "cell_type": "code",
   "execution_count": null,
   "id": "db5bb2c2",
   "metadata": {
    "lines_to_next_cell": 2
   },
   "outputs": [],
   "source": [
    "# SPDX-FileCopyrightText: 2015 Eric Larson\n",
    "#\n",
    "# SPDX-License-Identifier: Apache-2.0\n",
    "from __future__ import annotations"
   ]
  },
  {
   "cell_type": "code",
   "execution_count": null,
   "id": "074daaf8",
   "metadata": {},
   "outputs": [],
   "source": [
    "from datetime import datetime, timezone\n",
    "from typing import TYPE_CHECKING"
   ]
  },
  {
   "cell_type": "code",
   "execution_count": null,
   "id": "7c4a2caa",
   "metadata": {},
   "outputs": [],
   "source": [
    "from pip._vendor.cachecontrol.cache import BaseCache"
   ]
  },
  {
   "cell_type": "code",
   "execution_count": null,
   "id": "32afd1f2",
   "metadata": {},
   "outputs": [],
   "source": [
    "if TYPE_CHECKING:\n",
    "    from redis import Redis"
   ]
  },
  {
   "cell_type": "code",
   "execution_count": null,
   "id": "977858b6",
   "metadata": {},
   "outputs": [],
   "source": [
    "class RedisCache(BaseCache):\n",
    "    def __init__(self, conn: Redis[bytes]) -> None:\n",
    "        self.conn = conn\n",
    "\n",
    "    def get(self, key: str) -> bytes | None:\n",
    "        return self.conn.get(key)\n",
    "\n",
    "    def set(\n",
    "        self, key: str, value: bytes, expires: int | datetime | None = None\n",
    "    ) -> None:\n",
    "        if not expires:\n",
    "            self.conn.set(key, value)\n",
    "        elif isinstance(expires, datetime):\n",
    "            now_utc = datetime.now(timezone.utc)\n",
    "            if expires.tzinfo is None:\n",
    "                now_utc = now_utc.replace(tzinfo=None)\n",
    "            delta = expires - now_utc\n",
    "            self.conn.setex(key, int(delta.total_seconds()), value)\n",
    "        else:\n",
    "            self.conn.setex(key, expires, value)\n",
    "\n",
    "    def delete(self, key: str) -> None:\n",
    "        self.conn.delete(key)\n",
    "\n",
    "    def clear(self) -> None:\n",
    "        \"\"\"Helper for clearing all the keys in a database. Use with\n",
    "        caution!\"\"\"\n",
    "        for key in self.conn.keys():\n",
    "            self.conn.delete(key)\n",
    "\n",
    "    def close(self) -> None:\n",
    "        \"\"\"Redis uses connection pooling, no need to close the connection.\"\"\"\n",
    "        pass"
   ]
  }
 ],
 "metadata": {
  "jupytext": {
   "cell_metadata_filter": "-all",
   "main_language": "python",
   "notebook_metadata_filter": "-all"
  }
 },
 "nbformat": 4,
 "nbformat_minor": 5
}
