{
 "cells": [
  {
   "cell_type": "markdown",
   "id": "933e077c",
   "metadata": {},
   "source": [
    "SPDX-FileCopyrightText: 2015 Eric Larson\n",
    "\n",
    "SPDX-License-Identifier: Apache-2.0"
   ]
  },
  {
   "cell_type": "code",
   "execution_count": null,
   "id": "a0d577c1",
   "metadata": {},
   "outputs": [],
   "source": [
    "\"\"\"CacheControl import Interface.\n",
    "\n",
    "Make it easy to import from cachecontrol without long namespaces.\n",
    "\"\"\"\n",
    "__author__ = \"Eric Larson\"\n",
    "__email__ = \"eric@ionrock.org\"\n",
    "__version__ = \"0.13.1\""
   ]
  },
  {
   "cell_type": "code",
   "execution_count": null,
   "id": "79b63369",
   "metadata": {},
   "outputs": [],
   "source": [
    "from pip._vendor.cachecontrol.adapter import CacheControlAdapter\n",
    "from pip._vendor.cachecontrol.controller import CacheController\n",
    "from pip._vendor.cachecontrol.wrapper import CacheControl"
   ]
  },
  {
   "cell_type": "code",
   "execution_count": null,
   "id": "5805a017",
   "metadata": {},
   "outputs": [],
   "source": [
    "__all__ = [\n",
    "    \"__author__\",\n",
    "    \"__email__\",\n",
    "    \"__version__\",\n",
    "    \"CacheControlAdapter\",\n",
    "    \"CacheController\",\n",
    "    \"CacheControl\",\n",
    "]"
   ]
  },
  {
   "cell_type": "code",
   "execution_count": null,
   "id": "d3b274c5",
   "metadata": {},
   "outputs": [],
   "source": [
    "import logging"
   ]
  },
  {
   "cell_type": "code",
   "execution_count": null,
   "id": "cabfcc1e",
   "metadata": {},
   "outputs": [],
   "source": [
    "logging.getLogger(__name__).addHandler(logging.NullHandler())"
   ]
  }
 ],
 "metadata": {
  "jupytext": {
   "cell_metadata_filter": "-all",
   "main_language": "python",
   "notebook_metadata_filter": "-all"
  }
 },
 "nbformat": 4,
 "nbformat_minor": 5
}
