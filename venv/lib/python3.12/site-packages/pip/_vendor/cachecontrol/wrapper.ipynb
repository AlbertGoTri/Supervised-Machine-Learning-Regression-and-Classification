{
 "cells": [
  {
   "cell_type": "code",
   "execution_count": null,
   "id": "6c515dff",
   "metadata": {},
   "outputs": [],
   "source": [
    "# SPDX-FileCopyrightText: 2015 Eric Larson\n",
    "#\n",
    "# SPDX-License-Identifier: Apache-2.0\n",
    "from __future__ import annotations"
   ]
  },
  {
   "cell_type": "code",
   "execution_count": null,
   "id": "4b38a530",
   "metadata": {},
   "outputs": [],
   "source": [
    "from typing import TYPE_CHECKING, Collection"
   ]
  },
  {
   "cell_type": "code",
   "execution_count": null,
   "id": "326af282",
   "metadata": {},
   "outputs": [],
   "source": [
    "from pip._vendor.cachecontrol.adapter import CacheControlAdapter\n",
    "from pip._vendor.cachecontrol.cache import DictCache"
   ]
  },
  {
   "cell_type": "code",
   "execution_count": null,
   "id": "effad8ad",
   "metadata": {},
   "outputs": [],
   "source": [
    "if TYPE_CHECKING:\n",
    "    from pip._vendor import requests\n",
    "\n",
    "    from pip._vendor.cachecontrol.cache import BaseCache\n",
    "    from pip._vendor.cachecontrol.controller import CacheController\n",
    "    from pip._vendor.cachecontrol.heuristics import BaseHeuristic\n",
    "    from pip._vendor.cachecontrol.serialize import Serializer"
   ]
  },
  {
   "cell_type": "code",
   "execution_count": null,
   "id": "0d32b675",
   "metadata": {},
   "outputs": [],
   "source": [
    "def CacheControl(\n",
    "    sess: requests.Session,\n",
    "    cache: BaseCache | None = None,\n",
    "    cache_etags: bool = True,\n",
    "    serializer: Serializer | None = None,\n",
    "    heuristic: BaseHeuristic | None = None,\n",
    "    controller_class: type[CacheController] | None = None,\n",
    "    adapter_class: type[CacheControlAdapter] | None = None,\n",
    "    cacheable_methods: Collection[str] | None = None,\n",
    ") -> requests.Session:\n",
    "    cache = DictCache() if cache is None else cache\n",
    "    adapter_class = adapter_class or CacheControlAdapter\n",
    "    adapter = adapter_class(\n",
    "        cache,\n",
    "        cache_etags=cache_etags,\n",
    "        serializer=serializer,\n",
    "        heuristic=heuristic,\n",
    "        controller_class=controller_class,\n",
    "        cacheable_methods=cacheable_methods,\n",
    "    )\n",
    "    sess.mount(\"http://\", adapter)\n",
    "    sess.mount(\"https://\", adapter)\n",
    "\n",
    "    return sess"
   ]
  }
 ],
 "metadata": {
  "jupytext": {
   "cell_metadata_filter": "-all",
   "main_language": "python",
   "notebook_metadata_filter": "-all"
  }
 },
 "nbformat": 4,
 "nbformat_minor": 5
}
