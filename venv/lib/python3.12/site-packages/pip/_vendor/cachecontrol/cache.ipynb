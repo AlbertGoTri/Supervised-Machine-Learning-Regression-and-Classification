{
 "cells": [
  {
   "cell_type": "markdown",
   "id": "8787d267",
   "metadata": {},
   "source": [
    "SPDX-FileCopyrightText: 2015 Eric Larson\n",
    "\n",
    "SPDX-License-Identifier: Apache-2.0"
   ]
  },
  {
   "cell_type": "code",
   "execution_count": null,
   "id": "c69c7011",
   "metadata": {},
   "outputs": [],
   "source": [
    "\"\"\"\n",
    "The cache object API for implementing caches. The default is a thread\n",
    "safe in-memory dictionary.\n",
    "\"\"\"\n",
    "from __future__ import annotations"
   ]
  },
  {
   "cell_type": "code",
   "execution_count": null,
   "id": "e6a514ed",
   "metadata": {},
   "outputs": [],
   "source": [
    "from threading import Lock\n",
    "from typing import IO, TYPE_CHECKING, MutableMapping"
   ]
  },
  {
   "cell_type": "code",
   "execution_count": null,
   "id": "a3057696",
   "metadata": {},
   "outputs": [],
   "source": [
    "if TYPE_CHECKING:\n",
    "    from datetime import datetime"
   ]
  },
  {
   "cell_type": "code",
   "execution_count": null,
   "id": "f063f9d5",
   "metadata": {},
   "outputs": [],
   "source": [
    "class BaseCache:\n",
    "    def get(self, key: str) -> bytes | None:\n",
    "        raise NotImplementedError()\n",
    "\n",
    "    def set(\n",
    "        self, key: str, value: bytes, expires: int | datetime | None = None\n",
    "    ) -> None:\n",
    "        raise NotImplementedError()\n",
    "\n",
    "    def delete(self, key: str) -> None:\n",
    "        raise NotImplementedError()\n",
    "\n",
    "    def close(self) -> None:\n",
    "        pass"
   ]
  },
  {
   "cell_type": "code",
   "execution_count": null,
   "id": "b48f5f00",
   "metadata": {},
   "outputs": [],
   "source": [
    "class DictCache(BaseCache):\n",
    "    def __init__(self, init_dict: MutableMapping[str, bytes] | None = None) -> None:\n",
    "        self.lock = Lock()\n",
    "        self.data = init_dict or {}\n",
    "\n",
    "    def get(self, key: str) -> bytes | None:\n",
    "        return self.data.get(key, None)\n",
    "\n",
    "    def set(\n",
    "        self, key: str, value: bytes, expires: int | datetime | None = None\n",
    "    ) -> None:\n",
    "        with self.lock:\n",
    "            self.data.update({key: value})\n",
    "\n",
    "    def delete(self, key: str) -> None:\n",
    "        with self.lock:\n",
    "            if key in self.data:\n",
    "                self.data.pop(key)"
   ]
  },
  {
   "cell_type": "code",
   "execution_count": null,
   "id": "5a7a6e21",
   "metadata": {},
   "outputs": [],
   "source": [
    "class SeparateBodyBaseCache(BaseCache):\n",
    "    \"\"\"\n",
    "    In this variant, the body is not stored mixed in with the metadata, but is\n",
    "    passed in (as a bytes-like object) in a separate call to ``set_body()``.\n",
    "\n",
    "    That is, the expected interaction pattern is::\n",
    "\n",
    "        cache.set(key, serialized_metadata)\n",
    "        cache.set_body(key)\n",
    "\n",
    "    Similarly, the body should be loaded separately via ``get_body()``.\n",
    "    \"\"\"\n",
    "\n",
    "    def set_body(self, key: str, body: bytes) -> None:\n",
    "        raise NotImplementedError()\n",
    "\n",
    "    def get_body(self, key: str) -> IO[bytes] | None:\n",
    "        \"\"\"\n",
    "        Return the body as file-like object.\n",
    "        \"\"\"\n",
    "        raise NotImplementedError()"
   ]
  }
 ],
 "metadata": {
  "jupytext": {
   "cell_metadata_filter": "-all",
   "main_language": "python",
   "notebook_metadata_filter": "-all"
  }
 },
 "nbformat": 4,
 "nbformat_minor": 5
}
