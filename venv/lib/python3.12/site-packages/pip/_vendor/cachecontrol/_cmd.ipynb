{
 "cells": [
  {
   "cell_type": "code",
   "execution_count": null,
   "id": "7ada6f18",
   "metadata": {},
   "outputs": [],
   "source": [
    "# SPDX-FileCopyrightText: 2015 Eric Larson\n",
    "#\n",
    "# SPDX-License-Identifier: Apache-2.0\n",
    "from __future__ import annotations"
   ]
  },
  {
   "cell_type": "code",
   "execution_count": null,
   "id": "9d6a5b29",
   "metadata": {},
   "outputs": [],
   "source": [
    "import logging\n",
    "from argparse import ArgumentParser\n",
    "from typing import TYPE_CHECKING"
   ]
  },
  {
   "cell_type": "code",
   "execution_count": null,
   "id": "787e1d8c",
   "metadata": {},
   "outputs": [],
   "source": [
    "from pip._vendor import requests"
   ]
  },
  {
   "cell_type": "code",
   "execution_count": null,
   "id": "8fa07ab7",
   "metadata": {},
   "outputs": [],
   "source": [
    "from pip._vendor.cachecontrol.adapter import CacheControlAdapter\n",
    "from pip._vendor.cachecontrol.cache import DictCache\n",
    "from pip._vendor.cachecontrol.controller import logger"
   ]
  },
  {
   "cell_type": "code",
   "execution_count": null,
   "id": "165e8c55",
   "metadata": {},
   "outputs": [],
   "source": [
    "if TYPE_CHECKING:\n",
    "    from argparse import Namespace\n",
    "\n",
    "    from pip._vendor.cachecontrol.controller import CacheController"
   ]
  },
  {
   "cell_type": "code",
   "execution_count": null,
   "id": "fd2ab5b0",
   "metadata": {},
   "outputs": [],
   "source": [
    "def setup_logging() -> None:\n",
    "    logger.setLevel(logging.DEBUG)\n",
    "    handler = logging.StreamHandler()\n",
    "    logger.addHandler(handler)"
   ]
  },
  {
   "cell_type": "code",
   "execution_count": null,
   "id": "46b02d67",
   "metadata": {},
   "outputs": [],
   "source": [
    "def get_session() -> requests.Session:\n",
    "    adapter = CacheControlAdapter(\n",
    "        DictCache(), cache_etags=True, serializer=None, heuristic=None\n",
    "    )\n",
    "    sess = requests.Session()\n",
    "    sess.mount(\"http://\", adapter)\n",
    "    sess.mount(\"https://\", adapter)\n",
    "\n",
    "    sess.cache_controller = adapter.controller  # type: ignore[attr-defined]\n",
    "    return sess"
   ]
  },
  {
   "cell_type": "code",
   "execution_count": null,
   "id": "5d3b5d0d",
   "metadata": {},
   "outputs": [],
   "source": [
    "def get_args() -> Namespace:\n",
    "    parser = ArgumentParser()\n",
    "    parser.add_argument(\"url\", help=\"The URL to try and cache\")\n",
    "    return parser.parse_args()"
   ]
  },
  {
   "cell_type": "code",
   "execution_count": null,
   "id": "7cc195f1",
   "metadata": {},
   "outputs": [],
   "source": [
    "def main() -> None:\n",
    "    args = get_args()\n",
    "    sess = get_session()\n",
    "\n",
    "    # Make a request to get a response\n",
    "    resp = sess.get(args.url)\n",
    "\n",
    "    # Turn on logging\n",
    "    setup_logging()\n",
    "\n",
    "    # try setting the cache\n",
    "    cache_controller: CacheController = (\n",
    "        sess.cache_controller  # type: ignore[attr-defined]\n",
    "    )\n",
    "    cache_controller.cache_response(resp.request, resp.raw)\n",
    "\n",
    "    # Now try to get it\n",
    "    if cache_controller.cached_request(resp.request):\n",
    "        print(\"Cached!\")\n",
    "    else:\n",
    "        print(\"Not cached :(\")"
   ]
  },
  {
   "cell_type": "code",
   "execution_count": null,
   "id": "8cd5854a",
   "metadata": {},
   "outputs": [],
   "source": [
    "if __name__ == \"__main__\":\n",
    "    main()"
   ]
  }
 ],
 "metadata": {
  "jupytext": {
   "cell_metadata_filter": "-all",
   "main_language": "python",
   "notebook_metadata_filter": "-all"
  }
 },
 "nbformat": 4,
 "nbformat_minor": 5
}
