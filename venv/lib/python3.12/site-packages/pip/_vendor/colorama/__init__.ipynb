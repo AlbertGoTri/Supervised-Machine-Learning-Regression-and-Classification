{
 "cells": [
  {
   "cell_type": "code",
   "execution_count": null,
   "id": "a30b1ba3",
   "metadata": {},
   "outputs": [],
   "source": [
    "# Copyright Jonathan Hartley 2013. BSD 3-Clause license, see LICENSE file.\n",
    "from .initialise import init, deinit, reinit, colorama_text, just_fix_windows_console\n",
    "from .ansi import Fore, Back, Style, Cursor\n",
    "from .ansitowin32 import AnsiToWin32"
   ]
  },
  {
   "cell_type": "code",
   "execution_count": null,
   "id": "585ba22a",
   "metadata": {
    "lines_to_next_cell": 2
   },
   "outputs": [],
   "source": [
    "__version__ = '0.4.6'"
   ]
  }
 ],
 "metadata": {
  "jupytext": {
   "cell_metadata_filter": "-all",
   "main_language": "python",
   "notebook_metadata_filter": "-all"
  }
 },
 "nbformat": 4,
 "nbformat_minor": 5
}
