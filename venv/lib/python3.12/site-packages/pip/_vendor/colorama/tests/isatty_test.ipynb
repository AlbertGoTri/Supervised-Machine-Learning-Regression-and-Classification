{
 "cells": [
  {
   "cell_type": "code",
   "execution_count": null,
   "id": "b369bd3d",
   "metadata": {},
   "outputs": [],
   "source": [
    "# Copyright Jonathan Hartley 2013. BSD 3-Clause license, see LICENSE file.\n",
    "import sys\n",
    "from unittest import TestCase, main"
   ]
  },
  {
   "cell_type": "code",
   "execution_count": null,
   "id": "64bd68e5",
   "metadata": {},
   "outputs": [],
   "source": [
    "from ..ansitowin32 import StreamWrapper, AnsiToWin32\n",
    "from .utils import pycharm, replace_by, replace_original_by, StreamTTY, StreamNonTTY"
   ]
  },
  {
   "cell_type": "code",
   "execution_count": null,
   "id": "60519df5",
   "metadata": {
    "lines_to_next_cell": 1
   },
   "outputs": [],
   "source": [
    "def is_a_tty(stream):\n",
    "    return StreamWrapper(stream, None).isatty()"
   ]
  },
  {
   "cell_type": "code",
   "execution_count": null,
   "id": "c26cc5bc",
   "metadata": {},
   "outputs": [],
   "source": [
    "class IsattyTest(TestCase):\n",
    "\n",
    "    def test_TTY(self):\n",
    "        tty = StreamTTY()\n",
    "        self.assertTrue(is_a_tty(tty))\n",
    "        with pycharm():\n",
    "            self.assertTrue(is_a_tty(tty))\n",
    "\n",
    "    def test_nonTTY(self):\n",
    "        non_tty = StreamNonTTY()\n",
    "        self.assertFalse(is_a_tty(non_tty))\n",
    "        with pycharm():\n",
    "            self.assertFalse(is_a_tty(non_tty))\n",
    "\n",
    "    def test_withPycharm(self):\n",
    "        with pycharm():\n",
    "            self.assertTrue(is_a_tty(sys.stderr))\n",
    "            self.assertTrue(is_a_tty(sys.stdout))\n",
    "\n",
    "    def test_withPycharmTTYOverride(self):\n",
    "        tty = StreamTTY()\n",
    "        with pycharm(), replace_by(tty):\n",
    "            self.assertTrue(is_a_tty(tty))\n",
    "\n",
    "    def test_withPycharmNonTTYOverride(self):\n",
    "        non_tty = StreamNonTTY()\n",
    "        with pycharm(), replace_by(non_tty):\n",
    "            self.assertFalse(is_a_tty(non_tty))\n",
    "\n",
    "    def test_withPycharmNoneOverride(self):\n",
    "        with pycharm():\n",
    "            with replace_by(None), replace_original_by(None):\n",
    "                self.assertFalse(is_a_tty(None))\n",
    "                self.assertFalse(is_a_tty(StreamNonTTY()))\n",
    "                self.assertTrue(is_a_tty(StreamTTY()))\n",
    "\n",
    "    def test_withPycharmStreamWrapped(self):\n",
    "        with pycharm():\n",
    "            self.assertTrue(AnsiToWin32(StreamTTY()).stream.isatty())\n",
    "            self.assertFalse(AnsiToWin32(StreamNonTTY()).stream.isatty())\n",
    "            self.assertTrue(AnsiToWin32(sys.stdout).stream.isatty())\n",
    "            self.assertTrue(AnsiToWin32(sys.stderr).stream.isatty())"
   ]
  },
  {
   "cell_type": "code",
   "execution_count": null,
   "id": "208e97ef",
   "metadata": {},
   "outputs": [],
   "source": [
    "if __name__ == '__main__':\n",
    "    main()"
   ]
  }
 ],
 "metadata": {
  "jupytext": {
   "cell_metadata_filter": "-all",
   "main_language": "python",
   "notebook_metadata_filter": "-all"
  }
 },
 "nbformat": 4,
 "nbformat_minor": 5
}
