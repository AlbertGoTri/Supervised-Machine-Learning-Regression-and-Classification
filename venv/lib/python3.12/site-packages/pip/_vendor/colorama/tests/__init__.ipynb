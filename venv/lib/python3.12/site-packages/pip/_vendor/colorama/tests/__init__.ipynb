{
 "cells": [
  {
   "cell_type": "markdown",
   "id": "6ccc0561",
   "metadata": {},
   "source": [
    "Copyright Jonathan Hartley 2013. BSD 3-Clause license, see LICENSE file."
   ]
  }
 ],
 "metadata": {
  "jupytext": {
   "cell_metadata_filter": "-all",
   "main_language": "python",
   "notebook_metadata_filter": "-all"
  }
 },
 "nbformat": 4,
 "nbformat_minor": 5
}
