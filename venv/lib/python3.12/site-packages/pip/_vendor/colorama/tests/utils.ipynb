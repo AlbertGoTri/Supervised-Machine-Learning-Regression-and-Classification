{
 "cells": [
  {
   "cell_type": "code",
   "execution_count": null,
   "id": "877302e8",
   "metadata": {},
   "outputs": [],
   "source": [
    "# Copyright Jonathan Hartley 2013. BSD 3-Clause license, see LICENSE file.\n",
    "from contextlib import contextmanager\n",
    "from io import StringIO\n",
    "import sys\n",
    "import os"
   ]
  },
  {
   "cell_type": "code",
   "execution_count": null,
   "id": "7b33921b",
   "metadata": {
    "lines_to_next_cell": 1
   },
   "outputs": [],
   "source": [
    "class StreamTTY(StringIO):\n",
    "    def isatty(self):\n",
    "        return True"
   ]
  },
  {
   "cell_type": "code",
   "execution_count": null,
   "id": "72934924",
   "metadata": {
    "lines_to_next_cell": 1
   },
   "outputs": [],
   "source": [
    "class StreamNonTTY(StringIO):\n",
    "    def isatty(self):\n",
    "        return False"
   ]
  },
  {
   "cell_type": "code",
   "execution_count": null,
   "id": "75659da7",
   "metadata": {
    "lines_to_next_cell": 1
   },
   "outputs": [],
   "source": [
    "@contextmanager\n",
    "def osname(name):\n",
    "    orig = os.name\n",
    "    os.name = name\n",
    "    yield\n",
    "    os.name = orig"
   ]
  },
  {
   "cell_type": "code",
   "execution_count": null,
   "id": "f63a8654",
   "metadata": {
    "lines_to_next_cell": 1
   },
   "outputs": [],
   "source": [
    "@contextmanager\n",
    "def replace_by(stream):\n",
    "    orig_stdout = sys.stdout\n",
    "    orig_stderr = sys.stderr\n",
    "    sys.stdout = stream\n",
    "    sys.stderr = stream\n",
    "    yield\n",
    "    sys.stdout = orig_stdout\n",
    "    sys.stderr = orig_stderr"
   ]
  },
  {
   "cell_type": "code",
   "execution_count": null,
   "id": "586bb4f7",
   "metadata": {
    "lines_to_next_cell": 1
   },
   "outputs": [],
   "source": [
    "@contextmanager\n",
    "def replace_original_by(stream):\n",
    "    orig_stdout = sys.__stdout__\n",
    "    orig_stderr = sys.__stderr__\n",
    "    sys.__stdout__ = stream\n",
    "    sys.__stderr__ = stream\n",
    "    yield\n",
    "    sys.__stdout__ = orig_stdout\n",
    "    sys.__stderr__ = orig_stderr"
   ]
  },
  {
   "cell_type": "code",
   "execution_count": null,
   "id": "6e323ac0",
   "metadata": {},
   "outputs": [],
   "source": [
    "@contextmanager\n",
    "def pycharm():\n",
    "    os.environ[\"PYCHARM_HOSTED\"] = \"1\"\n",
    "    non_tty = StreamNonTTY()\n",
    "    with replace_by(non_tty), replace_original_by(non_tty):\n",
    "        yield\n",
    "    del os.environ[\"PYCHARM_HOSTED\"]"
   ]
  }
 ],
 "metadata": {
  "jupytext": {
   "cell_metadata_filter": "-all",
   "main_language": "python",
   "notebook_metadata_filter": "-all"
  }
 },
 "nbformat": 4,
 "nbformat_minor": 5
}
