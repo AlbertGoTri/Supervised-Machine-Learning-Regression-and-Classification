{
 "cells": [
  {
   "cell_type": "code",
   "execution_count": null,
   "id": "9e4aa7c8",
   "metadata": {},
   "outputs": [],
   "source": [
    "# Copyright Jonathan Hartley 2013. BSD 3-Clause license, see LICENSE file.\n",
    "'''\n",
    "This module generates ANSI character codes to printing colors to terminals.\n",
    "See: http://en.wikipedia.org/wiki/ANSI_escape_code\n",
    "'''"
   ]
  },
  {
   "cell_type": "code",
   "execution_count": null,
   "id": "ed289366",
   "metadata": {},
   "outputs": [],
   "source": [
    "CSI = '\\033['\n",
    "OSC = '\\033]'\n",
    "BEL = '\\a'"
   ]
  },
  {
   "cell_type": "code",
   "execution_count": null,
   "id": "8c1159e7",
   "metadata": {
    "lines_to_next_cell": 1
   },
   "outputs": [],
   "source": [
    "def code_to_chars(code):\n",
    "    return CSI + str(code) + 'm'"
   ]
  },
  {
   "cell_type": "code",
   "execution_count": null,
   "id": "fa7b18b2",
   "metadata": {
    "lines_to_next_cell": 1
   },
   "outputs": [],
   "source": [
    "def set_title(title):\n",
    "    return OSC + '2;' + title + BEL"
   ]
  },
  {
   "cell_type": "code",
   "execution_count": null,
   "id": "4d6bd6cc",
   "metadata": {
    "lines_to_next_cell": 1
   },
   "outputs": [],
   "source": [
    "def clear_screen(mode=2):\n",
    "    return CSI + str(mode) + 'J'"
   ]
  },
  {
   "cell_type": "code",
   "execution_count": null,
   "id": "fbaf39b3",
   "metadata": {},
   "outputs": [],
   "source": [
    "def clear_line(mode=2):\n",
    "    return CSI + str(mode) + 'K'"
   ]
  },
  {
   "cell_type": "code",
   "execution_count": null,
   "id": "de6e6007",
   "metadata": {},
   "outputs": [],
   "source": [
    "class AnsiCodes(object):\n",
    "    def __init__(self):\n",
    "        # the subclasses declare class attributes which are numbers.\n",
    "        # Upon instantiation we define instance attributes, which are the same\n",
    "        # as the class attributes but wrapped with the ANSI escape sequence\n",
    "        for name in dir(self):\n",
    "            if not name.startswith('_'):\n",
    "                value = getattr(self, name)\n",
    "                setattr(self, name, code_to_chars(value))"
   ]
  },
  {
   "cell_type": "code",
   "execution_count": null,
   "id": "11067cda",
   "metadata": {},
   "outputs": [],
   "source": [
    "class AnsiCursor(object):\n",
    "    def UP(self, n=1):\n",
    "        return CSI + str(n) + 'A'\n",
    "    def DOWN(self, n=1):\n",
    "        return CSI + str(n) + 'B'\n",
    "    def FORWARD(self, n=1):\n",
    "        return CSI + str(n) + 'C'\n",
    "    def BACK(self, n=1):\n",
    "        return CSI + str(n) + 'D'\n",
    "    def POS(self, x=1, y=1):\n",
    "        return CSI + str(y) + ';' + str(x) + 'H'"
   ]
  },
  {
   "cell_type": "code",
   "execution_count": null,
   "id": "19d2f1ef",
   "metadata": {},
   "outputs": [],
   "source": [
    "class AnsiFore(AnsiCodes):\n",
    "    BLACK           = 30\n",
    "    RED             = 31\n",
    "    GREEN           = 32\n",
    "    YELLOW          = 33\n",
    "    BLUE            = 34\n",
    "    MAGENTA         = 35\n",
    "    CYAN            = 36\n",
    "    WHITE           = 37\n",
    "    RESET           = 39\n",
    "\n",
    "    # These are fairly well supported, but not part of the standard.\n",
    "    LIGHTBLACK_EX   = 90\n",
    "    LIGHTRED_EX     = 91\n",
    "    LIGHTGREEN_EX   = 92\n",
    "    LIGHTYELLOW_EX  = 93\n",
    "    LIGHTBLUE_EX    = 94\n",
    "    LIGHTMAGENTA_EX = 95\n",
    "    LIGHTCYAN_EX    = 96\n",
    "    LIGHTWHITE_EX   = 97"
   ]
  },
  {
   "cell_type": "code",
   "execution_count": null,
   "id": "b8ddac86",
   "metadata": {},
   "outputs": [],
   "source": [
    "class AnsiBack(AnsiCodes):\n",
    "    BLACK           = 40\n",
    "    RED             = 41\n",
    "    GREEN           = 42\n",
    "    YELLOW          = 43\n",
    "    BLUE            = 44\n",
    "    MAGENTA         = 45\n",
    "    CYAN            = 46\n",
    "    WHITE           = 47\n",
    "    RESET           = 49\n",
    "\n",
    "    # These are fairly well supported, but not part of the standard.\n",
    "    LIGHTBLACK_EX   = 100\n",
    "    LIGHTRED_EX     = 101\n",
    "    LIGHTGREEN_EX   = 102\n",
    "    LIGHTYELLOW_EX  = 103\n",
    "    LIGHTBLUE_EX    = 104\n",
    "    LIGHTMAGENTA_EX = 105\n",
    "    LIGHTCYAN_EX    = 106\n",
    "    LIGHTWHITE_EX   = 107"
   ]
  },
  {
   "cell_type": "code",
   "execution_count": null,
   "id": "70288039",
   "metadata": {
    "lines_to_next_cell": 1
   },
   "outputs": [],
   "source": [
    "class AnsiStyle(AnsiCodes):\n",
    "    BRIGHT    = 1\n",
    "    DIM       = 2\n",
    "    NORMAL    = 22\n",
    "    RESET_ALL = 0"
   ]
  },
  {
   "cell_type": "code",
   "execution_count": null,
   "id": "7638783e",
   "metadata": {},
   "outputs": [],
   "source": [
    "Fore   = AnsiFore()\n",
    "Back   = AnsiBack()\n",
    "Style  = AnsiStyle()\n",
    "Cursor = AnsiCursor()"
   ]
  }
 ],
 "metadata": {
  "jupytext": {
   "cell_metadata_filter": "-all",
   "main_language": "python",
   "notebook_metadata_filter": "-all"
  }
 },
 "nbformat": 4,
 "nbformat_minor": 5
}
