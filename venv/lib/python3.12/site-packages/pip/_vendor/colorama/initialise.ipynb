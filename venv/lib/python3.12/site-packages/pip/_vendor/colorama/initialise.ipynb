{
 "cells": [
  {
   "cell_type": "code",
   "execution_count": null,
   "id": "f36f4eaf",
   "metadata": {},
   "outputs": [],
   "source": [
    "# Copyright Jonathan Hartley 2013. BSD 3-Clause license, see LICENSE file.\n",
    "import atexit\n",
    "import contextlib\n",
    "import sys"
   ]
  },
  {
   "cell_type": "code",
   "execution_count": null,
   "id": "cf67a2d3",
   "metadata": {},
   "outputs": [],
   "source": [
    "from .ansitowin32 import AnsiToWin32"
   ]
  },
  {
   "cell_type": "code",
   "execution_count": null,
   "id": "eb614237",
   "metadata": {},
   "outputs": [],
   "source": [
    "def _wipe_internal_state_for_tests():\n",
    "    global orig_stdout, orig_stderr\n",
    "    orig_stdout = None\n",
    "    orig_stderr = None\n",
    "\n",
    "    global wrapped_stdout, wrapped_stderr\n",
    "    wrapped_stdout = None\n",
    "    wrapped_stderr = None\n",
    "\n",
    "    global atexit_done\n",
    "    atexit_done = False\n",
    "\n",
    "    global fixed_windows_console\n",
    "    fixed_windows_console = False\n",
    "\n",
    "    try:\n",
    "        # no-op if it wasn't registered\n",
    "        atexit.unregister(reset_all)\n",
    "    except AttributeError:\n",
    "        # python 2: no atexit.unregister. Oh well, we did our best.\n",
    "        pass"
   ]
  },
  {
   "cell_type": "code",
   "execution_count": null,
   "id": "f177b8d5",
   "metadata": {},
   "outputs": [],
   "source": [
    "def reset_all():\n",
    "    if AnsiToWin32 is not None:    # Issue #74: objects might become None at exit\n",
    "        AnsiToWin32(orig_stdout).reset_all()"
   ]
  },
  {
   "cell_type": "code",
   "execution_count": null,
   "id": "a5f7d708",
   "metadata": {},
   "outputs": [],
   "source": [
    "def init(autoreset=False, convert=None, strip=None, wrap=True):\n",
    "\n",
    "    if not wrap and any([autoreset, convert, strip]):\n",
    "        raise ValueError('wrap=False conflicts with any other arg=True')\n",
    "\n",
    "    global wrapped_stdout, wrapped_stderr\n",
    "    global orig_stdout, orig_stderr\n",
    "\n",
    "    orig_stdout = sys.stdout\n",
    "    orig_stderr = sys.stderr\n",
    "\n",
    "    if sys.stdout is None:\n",
    "        wrapped_stdout = None\n",
    "    else:\n",
    "        sys.stdout = wrapped_stdout = \\\n",
    "            wrap_stream(orig_stdout, convert, strip, autoreset, wrap)\n",
    "    if sys.stderr is None:\n",
    "        wrapped_stderr = None\n",
    "    else:\n",
    "        sys.stderr = wrapped_stderr = \\\n",
    "            wrap_stream(orig_stderr, convert, strip, autoreset, wrap)\n",
    "\n",
    "    global atexit_done\n",
    "    if not atexit_done:\n",
    "        atexit.register(reset_all)\n",
    "        atexit_done = True"
   ]
  },
  {
   "cell_type": "code",
   "execution_count": null,
   "id": "5b6a500e",
   "metadata": {},
   "outputs": [],
   "source": [
    "def deinit():\n",
    "    if orig_stdout is not None:\n",
    "        sys.stdout = orig_stdout\n",
    "    if orig_stderr is not None:\n",
    "        sys.stderr = orig_stderr"
   ]
  },
  {
   "cell_type": "code",
   "execution_count": null,
   "id": "61ab9529",
   "metadata": {
    "lines_to_next_cell": 1
   },
   "outputs": [],
   "source": [
    "def just_fix_windows_console():\n",
    "    global fixed_windows_console\n",
    "\n",
    "    if sys.platform != \"win32\":\n",
    "        return\n",
    "    if fixed_windows_console:\n",
    "        return\n",
    "    if wrapped_stdout is not None or wrapped_stderr is not None:\n",
    "        # Someone already ran init() and it did stuff, so we won't second-guess them\n",
    "        return\n",
    "\n",
    "    # On newer versions of Windows, AnsiToWin32.__init__ will implicitly enable the\n",
    "    # native ANSI support in the console as a side-effect. We only need to actually\n",
    "    # replace sys.stdout/stderr if we're in the old-style conversion mode.\n",
    "    new_stdout = AnsiToWin32(sys.stdout, convert=None, strip=None, autoreset=False)\n",
    "    if new_stdout.convert:\n",
    "        sys.stdout = new_stdout\n",
    "    new_stderr = AnsiToWin32(sys.stderr, convert=None, strip=None, autoreset=False)\n",
    "    if new_stderr.convert:\n",
    "        sys.stderr = new_stderr\n",
    "\n",
    "    fixed_windows_console = True"
   ]
  },
  {
   "cell_type": "code",
   "execution_count": null,
   "id": "26f7e9fc",
   "metadata": {},
   "outputs": [],
   "source": [
    "@contextlib.contextmanager\n",
    "def colorama_text(*args, **kwargs):\n",
    "    init(*args, **kwargs)\n",
    "    try:\n",
    "        yield\n",
    "    finally:\n",
    "        deinit()"
   ]
  },
  {
   "cell_type": "code",
   "execution_count": null,
   "id": "2ab0d248",
   "metadata": {},
   "outputs": [],
   "source": [
    "def reinit():\n",
    "    if wrapped_stdout is not None:\n",
    "        sys.stdout = wrapped_stdout\n",
    "    if wrapped_stderr is not None:\n",
    "        sys.stderr = wrapped_stderr"
   ]
  },
  {
   "cell_type": "code",
   "execution_count": null,
   "id": "d70c4041",
   "metadata": {},
   "outputs": [],
   "source": [
    "def wrap_stream(stream, convert, strip, autoreset, wrap):\n",
    "    if wrap:\n",
    "        wrapper = AnsiToWin32(stream,\n",
    "            convert=convert, strip=strip, autoreset=autoreset)\n",
    "        if wrapper.should_wrap():\n",
    "            stream = wrapper.stream\n",
    "    return stream"
   ]
  },
  {
   "cell_type": "code",
   "execution_count": null,
   "id": "6dd9be8e",
   "metadata": {},
   "outputs": [],
   "source": [
    "# Use this for initial setup as well, to reduce code duplication\n",
    "_wipe_internal_state_for_tests()"
   ]
  }
 ],
 "metadata": {
  "jupytext": {
   "cell_metadata_filter": "-all",
   "main_language": "python",
   "notebook_metadata_filter": "-all"
  }
 },
 "nbformat": 4,
 "nbformat_minor": 5
}
