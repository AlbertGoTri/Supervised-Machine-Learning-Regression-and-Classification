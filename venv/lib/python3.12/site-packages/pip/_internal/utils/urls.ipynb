{
 "cells": [
  {
   "cell_type": "code",
   "execution_count": null,
   "id": "d333611c",
   "metadata": {},
   "outputs": [],
   "source": [
    "import os\n",
    "import string\n",
    "import urllib.parse\n",
    "import urllib.request\n",
    "from typing import Optional"
   ]
  },
  {
   "cell_type": "code",
   "execution_count": null,
   "id": "dd18e660",
   "metadata": {},
   "outputs": [],
   "source": [
    "from .compat import WINDOWS"
   ]
  },
  {
   "cell_type": "code",
   "execution_count": null,
   "id": "8e7287c6",
   "metadata": {},
   "outputs": [],
   "source": [
    "def get_url_scheme(url: str) -> Optional[str]:\n",
    "    if \":\" not in url:\n",
    "        return None\n",
    "    return url.split(\":\", 1)[0].lower()"
   ]
  },
  {
   "cell_type": "code",
   "execution_count": null,
   "id": "568cffff",
   "metadata": {},
   "outputs": [],
   "source": [
    "def path_to_url(path: str) -> str:\n",
    "    \"\"\"\n",
    "    Convert a path to a file: URL.  The path will be made absolute and have\n",
    "    quoted path parts.\n",
    "    \"\"\"\n",
    "    path = os.path.normpath(os.path.abspath(path))\n",
    "    url = urllib.parse.urljoin(\"file:\", urllib.request.pathname2url(path))\n",
    "    return url"
   ]
  },
  {
   "cell_type": "code",
   "execution_count": null,
   "id": "7c647c2c",
   "metadata": {},
   "outputs": [],
   "source": [
    "def url_to_path(url: str) -> str:\n",
    "    \"\"\"\n",
    "    Convert a file: URL to a path.\n",
    "    \"\"\"\n",
    "    assert url.startswith(\n",
    "        \"file:\"\n",
    "    ), f\"You can only turn file: urls into filenames (not {url!r})\"\n",
    "\n",
    "    _, netloc, path, _, _ = urllib.parse.urlsplit(url)\n",
    "\n",
    "    if not netloc or netloc == \"localhost\":\n",
    "        # According to RFC 8089, same as empty authority.\n",
    "        netloc = \"\"\n",
    "    elif WINDOWS:\n",
    "        # If we have a UNC path, prepend UNC share notation.\n",
    "        netloc = \"\\\\\\\\\" + netloc\n",
    "    else:\n",
    "        raise ValueError(\n",
    "            f\"non-local file URIs are not supported on this platform: {url!r}\"\n",
    "        )\n",
    "\n",
    "    path = urllib.request.url2pathname(netloc + path)\n",
    "\n",
    "    # On Windows, urlsplit parses the path as something like \"/C:/Users/foo\".\n",
    "    # This creates issues for path-related functions like io.open(), so we try\n",
    "    # to detect and strip the leading slash.\n",
    "    if (\n",
    "        WINDOWS\n",
    "        and not netloc  # Not UNC.\n",
    "        and len(path) >= 3\n",
    "        and path[0] == \"/\"  # Leading slash to strip.\n",
    "        and path[1] in string.ascii_letters  # Drive letter.\n",
    "        and path[2:4] in (\":\", \":/\")  # Colon + end of string, or colon + absolute path.\n",
    "    ):\n",
    "        path = path[1:]\n",
    "\n",
    "    return path"
   ]
  }
 ],
 "metadata": {
  "jupytext": {
   "cell_metadata_filter": "-all",
   "main_language": "python",
   "notebook_metadata_filter": "-all"
  }
 },
 "nbformat": 4,
 "nbformat_minor": 5
}
