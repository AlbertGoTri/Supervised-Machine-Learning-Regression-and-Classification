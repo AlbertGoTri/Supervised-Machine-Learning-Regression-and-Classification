{
 "cells": [
  {
   "cell_type": "code",
   "execution_count": null,
   "id": "e5b05250",
   "metadata": {},
   "outputs": [],
   "source": [
    "import fnmatch\n",
    "import os\n",
    "import os.path\n",
    "import random\n",
    "import sys\n",
    "from contextlib import contextmanager\n",
    "from tempfile import NamedTemporaryFile\n",
    "from typing import Any, BinaryIO, Generator, List, Union, cast"
   ]
  },
  {
   "cell_type": "code",
   "execution_count": null,
   "id": "34451f61",
   "metadata": {},
   "outputs": [],
   "source": [
    "from pip._vendor.tenacity import retry, stop_after_delay, wait_fixed"
   ]
  },
  {
   "cell_type": "code",
   "execution_count": null,
   "id": "41f89093",
   "metadata": {},
   "outputs": [],
   "source": [
    "from pip._internal.utils.compat import get_path_uid\n",
    "from pip._internal.utils.misc import format_size"
   ]
  },
  {
   "cell_type": "code",
   "execution_count": null,
   "id": "572e0e60",
   "metadata": {},
   "outputs": [],
   "source": [
    "def check_path_owner(path: str) -> bool:\n",
    "    # If we don't have a way to check the effective uid of this process, then\n",
    "    # we'll just assume that we own the directory.\n",
    "    if sys.platform == \"win32\" or not hasattr(os, \"geteuid\"):\n",
    "        return True\n",
    "\n",
    "    assert os.path.isabs(path)\n",
    "\n",
    "    previous = None\n",
    "    while path != previous:\n",
    "        if os.path.lexists(path):\n",
    "            # Check if path is writable by current user.\n",
    "            if os.geteuid() == 0:\n",
    "                # Special handling for root user in order to handle properly\n",
    "                # cases where users use sudo without -H flag.\n",
    "                try:\n",
    "                    path_uid = get_path_uid(path)\n",
    "                except OSError:\n",
    "                    return False\n",
    "                return path_uid == 0\n",
    "            else:\n",
    "                return os.access(path, os.W_OK)\n",
    "        else:\n",
    "            previous, path = path, os.path.dirname(path)\n",
    "    return False  # assume we don't own the path"
   ]
  },
  {
   "cell_type": "code",
   "execution_count": null,
   "id": "178ebf9a",
   "metadata": {},
   "outputs": [],
   "source": [
    "@contextmanager\n",
    "def adjacent_tmp_file(path: str, **kwargs: Any) -> Generator[BinaryIO, None, None]:\n",
    "    \"\"\"Return a file-like object pointing to a tmp file next to path.\n",
    "\n",
    "    The file is created securely and is ensured to be written to disk\n",
    "    after the context reaches its end.\n",
    "\n",
    "    kwargs will be passed to tempfile.NamedTemporaryFile to control\n",
    "    the way the temporary file will be opened.\n",
    "    \"\"\"\n",
    "    with NamedTemporaryFile(\n",
    "        delete=False,\n",
    "        dir=os.path.dirname(path),\n",
    "        prefix=os.path.basename(path),\n",
    "        suffix=\".tmp\",\n",
    "        **kwargs,\n",
    "    ) as f:\n",
    "        result = cast(BinaryIO, f)\n",
    "        try:\n",
    "            yield result\n",
    "        finally:\n",
    "            result.flush()\n",
    "            os.fsync(result.fileno())"
   ]
  },
  {
   "cell_type": "code",
   "execution_count": null,
   "id": "4d80086f",
   "metadata": {},
   "outputs": [],
   "source": [
    "# Tenacity raises RetryError by default, explicitly raise the original exception\n",
    "_replace_retry = retry(reraise=True, stop=stop_after_delay(1), wait=wait_fixed(0.25))"
   ]
  },
  {
   "cell_type": "code",
   "execution_count": null,
   "id": "1d961c40",
   "metadata": {},
   "outputs": [],
   "source": [
    "replace = _replace_retry(os.replace)"
   ]
  },
  {
   "cell_type": "code",
   "execution_count": null,
   "id": "786c789a",
   "metadata": {},
   "outputs": [],
   "source": [
    "# test_writable_dir and _test_writable_dir_win are copied from Flit,\n",
    "# with the author's agreement to also place them under pip's license.\n",
    "def test_writable_dir(path: str) -> bool:\n",
    "    \"\"\"Check if a directory is writable.\n",
    "\n",
    "    Uses os.access() on POSIX, tries creating files on Windows.\n",
    "    \"\"\"\n",
    "    # If the directory doesn't exist, find the closest parent that does.\n",
    "    while not os.path.isdir(path):\n",
    "        parent = os.path.dirname(path)\n",
    "        if parent == path:\n",
    "            break  # Should never get here, but infinite loops are bad\n",
    "        path = parent\n",
    "\n",
    "    if os.name == \"posix\":\n",
    "        return os.access(path, os.W_OK)\n",
    "\n",
    "    return _test_writable_dir_win(path)"
   ]
  },
  {
   "cell_type": "code",
   "execution_count": null,
   "id": "d84b9811",
   "metadata": {},
   "outputs": [],
   "source": [
    "def _test_writable_dir_win(path: str) -> bool:\n",
    "    # os.access doesn't work on Windows: http://bugs.python.org/issue2528\n",
    "    # and we can't use tempfile: http://bugs.python.org/issue22107\n",
    "    basename = \"accesstest_deleteme_fishfingers_custard_\"\n",
    "    alphabet = \"abcdefghijklmnopqrstuvwxyz0123456789\"\n",
    "    for _ in range(10):\n",
    "        name = basename + \"\".join(random.choice(alphabet) for _ in range(6))\n",
    "        file = os.path.join(path, name)\n",
    "        try:\n",
    "            fd = os.open(file, os.O_RDWR | os.O_CREAT | os.O_EXCL)\n",
    "        except FileExistsError:\n",
    "            pass\n",
    "        except PermissionError:\n",
    "            # This could be because there's a directory with the same name.\n",
    "            # But it's highly unlikely there's a directory called that,\n",
    "            # so we'll assume it's because the parent dir is not writable.\n",
    "            # This could as well be because the parent dir is not readable,\n",
    "            # due to non-privileged user access.\n",
    "            return False\n",
    "        else:\n",
    "            os.close(fd)\n",
    "            os.unlink(file)\n",
    "            return True\n",
    "\n",
    "    # This should never be reached\n",
    "    raise OSError(\"Unexpected condition testing for writable directory\")"
   ]
  },
  {
   "cell_type": "code",
   "execution_count": null,
   "id": "be1b0934",
   "metadata": {},
   "outputs": [],
   "source": [
    "def find_files(path: str, pattern: str) -> List[str]:\n",
    "    \"\"\"Returns a list of absolute paths of files beneath path, recursively,\n",
    "    with filenames which match the UNIX-style shell glob pattern.\"\"\"\n",
    "    result: List[str] = []\n",
    "    for root, _, files in os.walk(path):\n",
    "        matches = fnmatch.filter(files, pattern)\n",
    "        result.extend(os.path.join(root, f) for f in matches)\n",
    "    return result"
   ]
  },
  {
   "cell_type": "code",
   "execution_count": null,
   "id": "b7c374f4",
   "metadata": {},
   "outputs": [],
   "source": [
    "def file_size(path: str) -> Union[int, float]:\n",
    "    # If it's a symlink, return 0.\n",
    "    if os.path.islink(path):\n",
    "        return 0\n",
    "    return os.path.getsize(path)"
   ]
  },
  {
   "cell_type": "code",
   "execution_count": null,
   "id": "8d1b5542",
   "metadata": {},
   "outputs": [],
   "source": [
    "def format_file_size(path: str) -> str:\n",
    "    return format_size(file_size(path))"
   ]
  },
  {
   "cell_type": "code",
   "execution_count": null,
   "id": "f42a2121",
   "metadata": {},
   "outputs": [],
   "source": [
    "def directory_size(path: str) -> Union[int, float]:\n",
    "    size = 0.0\n",
    "    for root, _dirs, files in os.walk(path):\n",
    "        for filename in files:\n",
    "            file_path = os.path.join(root, filename)\n",
    "            size += file_size(file_path)\n",
    "    return size"
   ]
  },
  {
   "cell_type": "code",
   "execution_count": null,
   "id": "59ef039f",
   "metadata": {},
   "outputs": [],
   "source": [
    "def format_directory_size(path: str) -> str:\n",
    "    return format_size(directory_size(path))"
   ]
  }
 ],
 "metadata": {
  "jupytext": {
   "cell_metadata_filter": "-all",
   "main_language": "python",
   "notebook_metadata_filter": "-all"
  }
 },
 "nbformat": 4,
 "nbformat_minor": 5
}
