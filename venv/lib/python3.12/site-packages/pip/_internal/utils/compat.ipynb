{
 "cells": [
  {
   "cell_type": "code",
   "execution_count": null,
   "id": "58df6e02",
   "metadata": {},
   "outputs": [],
   "source": [
    "\"\"\"Stuff that differs in different Python versions and platform\n",
    "distributions.\"\"\""
   ]
  },
  {
   "cell_type": "code",
   "execution_count": null,
   "id": "ab88b97a",
   "metadata": {},
   "outputs": [],
   "source": [
    "import logging\n",
    "import os\n",
    "import sys"
   ]
  },
  {
   "cell_type": "code",
   "execution_count": null,
   "id": "45162b82",
   "metadata": {
    "lines_to_next_cell": 2
   },
   "outputs": [],
   "source": [
    "__all__ = [\"get_path_uid\", \"stdlib_pkgs\", \"WINDOWS\"]"
   ]
  },
  {
   "cell_type": "code",
   "execution_count": null,
   "id": "d8f0b220",
   "metadata": {},
   "outputs": [],
   "source": [
    "logger = logging.getLogger(__name__)"
   ]
  },
  {
   "cell_type": "code",
   "execution_count": null,
   "id": "1b0e80c3",
   "metadata": {},
   "outputs": [],
   "source": [
    "def has_tls() -> bool:\n",
    "    try:\n",
    "        import _ssl  # noqa: F401  # ignore unused\n",
    "\n",
    "        return True\n",
    "    except ImportError:\n",
    "        pass\n",
    "\n",
    "    from pip._vendor.urllib3.util import IS_PYOPENSSL\n",
    "\n",
    "    return IS_PYOPENSSL"
   ]
  },
  {
   "cell_type": "code",
   "execution_count": null,
   "id": "20eed3fc",
   "metadata": {},
   "outputs": [],
   "source": [
    "def get_path_uid(path: str) -> int:\n",
    "    \"\"\"\n",
    "    Return path's uid.\n",
    "\n",
    "    Does not follow symlinks:\n",
    "        https://github.com/pypa/pip/pull/935#discussion_r5307003\n",
    "\n",
    "    Placed this function in compat due to differences on AIX and\n",
    "    Jython, that should eventually go away.\n",
    "\n",
    "    :raises OSError: When path is a symlink or can't be read.\n",
    "    \"\"\"\n",
    "    if hasattr(os, \"O_NOFOLLOW\"):\n",
    "        fd = os.open(path, os.O_RDONLY | os.O_NOFOLLOW)\n",
    "        file_uid = os.fstat(fd).st_uid\n",
    "        os.close(fd)\n",
    "    else:  # AIX and Jython\n",
    "        # WARNING: time of check vulnerability, but best we can do w/o NOFOLLOW\n",
    "        if not os.path.islink(path):\n",
    "            # older versions of Jython don't have `os.fstat`\n",
    "            file_uid = os.stat(path).st_uid\n",
    "        else:\n",
    "            # raise OSError for parity with os.O_NOFOLLOW above\n",
    "            raise OSError(f\"{path} is a symlink; Will not return uid for symlinks\")\n",
    "    return file_uid"
   ]
  },
  {
   "cell_type": "code",
   "execution_count": null,
   "id": "1c159551",
   "metadata": {
    "lines_to_next_cell": 2
   },
   "outputs": [],
   "source": [
    "# packages in the stdlib that may have installation metadata, but should not be\n",
    "# considered 'installed'.  this theoretically could be determined based on\n",
    "# dist.location (py27:`sysconfig.get_paths()['stdlib']`,\n",
    "# py26:sysconfig.get_config_vars('LIBDEST')), but fear platform variation may\n",
    "# make this ineffective, so hard-coding\n",
    "stdlib_pkgs = {\"python\", \"wsgiref\", \"argparse\"}"
   ]
  },
  {
   "cell_type": "code",
   "execution_count": null,
   "id": "7085faad",
   "metadata": {},
   "outputs": [],
   "source": [
    "# windows detection, covers cpython and ironpython\n",
    "WINDOWS = sys.platform.startswith(\"win\") or (sys.platform == \"cli\" and os.name == \"nt\")"
   ]
  }
 ],
 "metadata": {
  "jupytext": {
   "cell_metadata_filter": "-all",
   "main_language": "python",
   "notebook_metadata_filter": "-all"
  }
 },
 "nbformat": 4,
 "nbformat_minor": 5
}
