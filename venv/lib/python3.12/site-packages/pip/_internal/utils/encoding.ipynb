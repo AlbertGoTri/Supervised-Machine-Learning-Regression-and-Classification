{
 "cells": [
  {
   "cell_type": "code",
   "execution_count": null,
   "id": "410552b4",
   "metadata": {},
   "outputs": [],
   "source": [
    "import codecs\n",
    "import locale\n",
    "import re\n",
    "import sys\n",
    "from typing import List, Tuple"
   ]
  },
  {
   "cell_type": "code",
   "execution_count": null,
   "id": "a4c326bd",
   "metadata": {},
   "outputs": [],
   "source": [
    "BOMS: List[Tuple[bytes, str]] = [\n",
    "    (codecs.BOM_UTF8, \"utf-8\"),\n",
    "    (codecs.BOM_UTF16, \"utf-16\"),\n",
    "    (codecs.BOM_UTF16_BE, \"utf-16-be\"),\n",
    "    (codecs.BOM_UTF16_LE, \"utf-16-le\"),\n",
    "    (codecs.BOM_UTF32, \"utf-32\"),\n",
    "    (codecs.BOM_UTF32_BE, \"utf-32-be\"),\n",
    "    (codecs.BOM_UTF32_LE, \"utf-32-le\"),\n",
    "]"
   ]
  },
  {
   "cell_type": "code",
   "execution_count": null,
   "id": "e40d85bd",
   "metadata": {},
   "outputs": [],
   "source": [
    "ENCODING_RE = re.compile(rb\"coding[:=]\\s*([-\\w.]+)\")"
   ]
  },
  {
   "cell_type": "code",
   "execution_count": null,
   "id": "251a62cf",
   "metadata": {},
   "outputs": [],
   "source": [
    "def auto_decode(data: bytes) -> str:\n",
    "    \"\"\"Check a bytes string for a BOM to correctly detect the encoding\n",
    "\n",
    "    Fallback to locale.getpreferredencoding(False) like open() on Python3\"\"\"\n",
    "    for bom, encoding in BOMS:\n",
    "        if data.startswith(bom):\n",
    "            return data[len(bom) :].decode(encoding)\n",
    "    # Lets check the first two lines as in PEP263\n",
    "    for line in data.split(b\"\\n\")[:2]:\n",
    "        if line[0:1] == b\"#\" and ENCODING_RE.search(line):\n",
    "            result = ENCODING_RE.search(line)\n",
    "            assert result is not None\n",
    "            encoding = result.groups()[0].decode(\"ascii\")\n",
    "            return data.decode(encoding)\n",
    "    return data.decode(\n",
    "        locale.getpreferredencoding(False) or sys.getdefaultencoding(),\n",
    "    )"
   ]
  }
 ],
 "metadata": {
  "jupytext": {
   "cell_metadata_filter": "-all",
   "main_language": "python",
   "notebook_metadata_filter": "-all"
  }
 },
 "nbformat": 4,
 "nbformat_minor": 5
}
