{
 "cells": [
  {
   "cell_type": "code",
   "execution_count": null,
   "id": "57b64ad1",
   "metadata": {},
   "outputs": [],
   "source": [
    "\"\"\"For when pip wants to check the date or time.\n",
    "\"\"\""
   ]
  },
  {
   "cell_type": "code",
   "execution_count": null,
   "id": "99f0e26f",
   "metadata": {},
   "outputs": [],
   "source": [
    "import datetime"
   ]
  },
  {
   "cell_type": "code",
   "execution_count": null,
   "id": "5ad6e21a",
   "metadata": {},
   "outputs": [],
   "source": [
    "def today_is_later_than(year: int, month: int, day: int) -> bool:\n",
    "    today = datetime.date.today()\n",
    "    given = datetime.date(year, month, day)\n",
    "\n",
    "    return today > given"
   ]
  }
 ],
 "metadata": {
  "jupytext": {
   "cell_metadata_filter": "-all",
   "main_language": "python",
   "notebook_metadata_filter": "-all"
  }
 },
 "nbformat": 4,
 "nbformat_minor": 5
}
