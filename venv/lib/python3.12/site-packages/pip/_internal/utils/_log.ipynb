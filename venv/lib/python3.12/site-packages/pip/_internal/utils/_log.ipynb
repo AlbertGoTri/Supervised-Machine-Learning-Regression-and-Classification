{
 "cells": [
  {
   "cell_type": "code",
   "execution_count": null,
   "id": "7d68ba48",
   "metadata": {},
   "outputs": [],
   "source": [
    "\"\"\"Customize logging\n",
    "\n",
    "Defines custom logger class for the `logger.verbose(...)` method.\n",
    "\n",
    "init_logging() must be called before any other modules that call logging.getLogger.\n",
    "\"\"\""
   ]
  },
  {
   "cell_type": "code",
   "execution_count": null,
   "id": "156be433",
   "metadata": {},
   "outputs": [],
   "source": [
    "import logging\n",
    "from typing import Any, cast"
   ]
  },
  {
   "cell_type": "code",
   "execution_count": null,
   "id": "3aa19bad",
   "metadata": {},
   "outputs": [],
   "source": [
    "# custom log level for `--verbose` output\n",
    "# between DEBUG and INFO\n",
    "VERBOSE = 15"
   ]
  },
  {
   "cell_type": "code",
   "execution_count": null,
   "id": "38556a66",
   "metadata": {},
   "outputs": [],
   "source": [
    "class VerboseLogger(logging.Logger):\n",
    "    \"\"\"Custom Logger, defining a verbose log-level\n",
    "\n",
    "    VERBOSE is between INFO and DEBUG.\n",
    "    \"\"\"\n",
    "\n",
    "    def verbose(self, msg: str, *args: Any, **kwargs: Any) -> None:\n",
    "        return self.log(VERBOSE, msg, *args, **kwargs)"
   ]
  },
  {
   "cell_type": "code",
   "execution_count": null,
   "id": "441afcfc",
   "metadata": {},
   "outputs": [],
   "source": [
    "def getLogger(name: str) -> VerboseLogger:\n",
    "    \"\"\"logging.getLogger, but ensures our VerboseLogger class is returned\"\"\"\n",
    "    return cast(VerboseLogger, logging.getLogger(name))"
   ]
  },
  {
   "cell_type": "code",
   "execution_count": null,
   "id": "862de067",
   "metadata": {},
   "outputs": [],
   "source": [
    "def init_logging() -> None:\n",
    "    \"\"\"Register our VerboseLogger and VERBOSE log level.\n",
    "\n",
    "    Should be called before any calls to getLogger(),\n",
    "    i.e. in pip._internal.__init__\n",
    "    \"\"\"\n",
    "    logging.setLoggerClass(VerboseLogger)\n",
    "    logging.addLevelName(VERBOSE, \"VERBOSE\")"
   ]
  }
 ],
 "metadata": {
  "jupytext": {
   "cell_metadata_filter": "-all",
   "main_language": "python",
   "notebook_metadata_filter": "-all"
  }
 },
 "nbformat": 4,
 "nbformat_minor": 5
}
