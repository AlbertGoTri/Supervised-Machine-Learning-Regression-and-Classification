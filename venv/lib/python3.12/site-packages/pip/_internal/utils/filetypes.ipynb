{
 "cells": [
  {
   "cell_type": "code",
   "execution_count": null,
   "id": "524def4e",
   "metadata": {},
   "outputs": [],
   "source": [
    "\"\"\"Filetype information.\n",
    "\"\"\""
   ]
  },
  {
   "cell_type": "code",
   "execution_count": null,
   "id": "e88bd163",
   "metadata": {},
   "outputs": [],
   "source": [
    "from typing import Tuple"
   ]
  },
  {
   "cell_type": "code",
   "execution_count": null,
   "id": "43792981",
   "metadata": {},
   "outputs": [],
   "source": [
    "from pip._internal.utils.misc import splitext"
   ]
  },
  {
   "cell_type": "code",
   "execution_count": null,
   "id": "f7e43042",
   "metadata": {},
   "outputs": [],
   "source": [
    "WHEEL_EXTENSION = \".whl\"\n",
    "BZ2_EXTENSIONS: Tuple[str, ...] = (\".tar.bz2\", \".tbz\")\n",
    "XZ_EXTENSIONS: Tuple[str, ...] = (\n",
    "    \".tar.xz\",\n",
    "    \".txz\",\n",
    "    \".tlz\",\n",
    "    \".tar.lz\",\n",
    "    \".tar.lzma\",\n",
    ")\n",
    "ZIP_EXTENSIONS: Tuple[str, ...] = (\".zip\", WHEEL_EXTENSION)\n",
    "TAR_EXTENSIONS: Tuple[str, ...] = (\".tar.gz\", \".tgz\", \".tar\")\n",
    "ARCHIVE_EXTENSIONS = ZIP_EXTENSIONS + BZ2_EXTENSIONS + TAR_EXTENSIONS + XZ_EXTENSIONS"
   ]
  },
  {
   "cell_type": "code",
   "execution_count": null,
   "id": "8ff67aca",
   "metadata": {},
   "outputs": [],
   "source": [
    "def is_archive_file(name: str) -> bool:\n",
    "    \"\"\"Return True if `name` is a considered as an archive file.\"\"\"\n",
    "    ext = splitext(name)[1].lower()\n",
    "    if ext in ARCHIVE_EXTENSIONS:\n",
    "        return True\n",
    "    return False"
   ]
  }
 ],
 "metadata": {
  "jupytext": {
   "cell_metadata_filter": "-all",
   "main_language": "python",
   "notebook_metadata_filter": "-all"
  }
 },
 "nbformat": 4,
 "nbformat_minor": 5
}
