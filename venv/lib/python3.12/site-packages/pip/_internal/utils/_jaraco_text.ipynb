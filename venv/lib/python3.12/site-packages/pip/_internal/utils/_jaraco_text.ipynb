{
 "cells": [
  {
   "cell_type": "code",
   "execution_count": null,
   "id": "23e6a468",
   "metadata": {},
   "outputs": [],
   "source": [
    "\"\"\"Functions brought over from jaraco.text.\n",
    "\n",
    "These functions are not supposed to be used within `pip._internal`. These are\n",
    "helper functions brought over from `jaraco.text` to enable vendoring newer\n",
    "copies of `pkg_resources` without having to vendor `jaraco.text` and its entire\n",
    "dependency cone; something that our vendoring setup is not currently capable of\n",
    "handling.\n",
    "\n",
    "License reproduced from original source below:\n",
    "\n",
    "Copyright Jason R. Coombs\n",
    "\n",
    "Permission is hereby granted, free of charge, to any person obtaining a copy\n",
    "of this software and associated documentation files (the \"Software\"), to\n",
    "deal in the Software without restriction, including without limitation the\n",
    "rights to use, copy, modify, merge, publish, distribute, sublicense, and/or\n",
    "sell copies of the Software, and to permit persons to whom the Software is\n",
    "furnished to do so, subject to the following conditions:\n",
    "\n",
    "The above copyright notice and this permission notice shall be included in\n",
    "all copies or substantial portions of the Software.\n",
    "\n",
    "THE SOFTWARE IS PROVIDED \"AS IS\", WITHOUT WARRANTY OF ANY KIND, EXPRESS OR\n",
    "IMPLIED, INCLUDING BUT NOT LIMITED TO THE WARRANTIES OF MERCHANTABILITY,\n",
    "FITNESS FOR A PARTICULAR PURPOSE AND NONINFRINGEMENT. IN NO EVENT SHALL THE\n",
    "AUTHORS OR COPYRIGHT HOLDERS BE LIABLE FOR ANY CLAIM, DAMAGES OR OTHER\n",
    "LIABILITY, WHETHER IN AN ACTION OF CONTRACT, TORT OR OTHERWISE, ARISING\n",
    "FROM, OUT OF OR IN CONNECTION WITH THE SOFTWARE OR THE USE OR OTHER DEALINGS\n",
    "IN THE SOFTWARE.\n",
    "\"\"\""
   ]
  },
  {
   "cell_type": "code",
   "execution_count": null,
   "id": "d8030995",
   "metadata": {},
   "outputs": [],
   "source": [
    "import functools\n",
    "import itertools"
   ]
  },
  {
   "cell_type": "code",
   "execution_count": null,
   "id": "759d7f48",
   "metadata": {},
   "outputs": [],
   "source": [
    "def _nonblank(str):\n",
    "    return str and not str.startswith(\"#\")"
   ]
  },
  {
   "cell_type": "code",
   "execution_count": null,
   "id": "abe8cf52",
   "metadata": {},
   "outputs": [],
   "source": [
    "@functools.singledispatch\n",
    "def yield_lines(iterable):\n",
    "    r\"\"\"\n",
    "    Yield valid lines of a string or iterable.\n",
    "\n",
    "    >>> list(yield_lines(''))\n",
    "    []\n",
    "    >>> list(yield_lines(['foo', 'bar']))\n",
    "    ['foo', 'bar']\n",
    "    >>> list(yield_lines('foo\\nbar'))\n",
    "    ['foo', 'bar']\n",
    "    >>> list(yield_lines('\\nfoo\\n#bar\\nbaz #comment'))\n",
    "    ['foo', 'baz #comment']\n",
    "    >>> list(yield_lines(['foo\\nbar', 'baz', 'bing\\n\\n\\n']))\n",
    "    ['foo', 'bar', 'baz', 'bing']\n",
    "    \"\"\"\n",
    "    return itertools.chain.from_iterable(map(yield_lines, iterable))"
   ]
  },
  {
   "cell_type": "code",
   "execution_count": null,
   "id": "9dacc82a",
   "metadata": {},
   "outputs": [],
   "source": [
    "@yield_lines.register(str)\n",
    "def _(text):\n",
    "    return filter(_nonblank, map(str.strip, text.splitlines()))"
   ]
  },
  {
   "cell_type": "code",
   "execution_count": null,
   "id": "a944781f",
   "metadata": {},
   "outputs": [],
   "source": [
    "def drop_comment(line):\n",
    "    \"\"\"\n",
    "    Drop comments.\n",
    "\n",
    "    >>> drop_comment('foo # bar')\n",
    "    'foo'\n",
    "\n",
    "    A hash without a space may be in a URL.\n",
    "\n",
    "    >>> drop_comment('http://example.com/foo#bar')\n",
    "    'http://example.com/foo#bar'\n",
    "    \"\"\"\n",
    "    return line.partition(\" #\")[0]"
   ]
  },
  {
   "cell_type": "code",
   "execution_count": null,
   "id": "a108aef7",
   "metadata": {},
   "outputs": [],
   "source": [
    "def join_continuation(lines):\n",
    "    r\"\"\"\n",
    "    Join lines continued by a trailing backslash.\n",
    "\n",
    "    >>> list(join_continuation(['foo \\\\', 'bar', 'baz']))\n",
    "    ['foobar', 'baz']\n",
    "    >>> list(join_continuation(['foo \\\\', 'bar', 'baz']))\n",
    "    ['foobar', 'baz']\n",
    "    >>> list(join_continuation(['foo \\\\', 'bar \\\\', 'baz']))\n",
    "    ['foobarbaz']\n",
    "\n",
    "    Not sure why, but...\n",
    "    The character preceeding the backslash is also elided.\n",
    "\n",
    "    >>> list(join_continuation(['goo\\\\', 'dly']))\n",
    "    ['godly']\n",
    "\n",
    "    A terrible idea, but...\n",
    "    If no line is available to continue, suppress the lines.\n",
    "\n",
    "    >>> list(join_continuation(['foo', 'bar\\\\', 'baz\\\\']))\n",
    "    ['foo']\n",
    "    \"\"\"\n",
    "    lines = iter(lines)\n",
    "    for item in lines:\n",
    "        while item.endswith(\"\\\\\"):\n",
    "            try:\n",
    "                item = item[:-2].strip() + next(lines)\n",
    "            except StopIteration:\n",
    "                return\n",
    "        yield item"
   ]
  }
 ],
 "metadata": {
  "jupytext": {
   "cell_metadata_filter": "-all",
   "main_language": "python",
   "notebook_metadata_filter": "-all"
  }
 },
 "nbformat": 4,
 "nbformat_minor": 5
}
