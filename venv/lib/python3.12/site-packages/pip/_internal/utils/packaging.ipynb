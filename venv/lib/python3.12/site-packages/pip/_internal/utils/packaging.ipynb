{
 "cells": [
  {
   "cell_type": "code",
   "execution_count": null,
   "id": "8a17cdd0",
   "metadata": {},
   "outputs": [],
   "source": [
    "import functools\n",
    "import logging\n",
    "import re\n",
    "from typing import NewType, Optional, Tuple, cast"
   ]
  },
  {
   "cell_type": "code",
   "execution_count": null,
   "id": "41f4fefa",
   "metadata": {},
   "outputs": [],
   "source": [
    "from pip._vendor.packaging import specifiers, version\n",
    "from pip._vendor.packaging.requirements import Requirement"
   ]
  },
  {
   "cell_type": "code",
   "execution_count": null,
   "id": "d0e8797e",
   "metadata": {},
   "outputs": [],
   "source": [
    "NormalizedExtra = NewType(\"NormalizedExtra\", str)"
   ]
  },
  {
   "cell_type": "code",
   "execution_count": null,
   "id": "f4818698",
   "metadata": {},
   "outputs": [],
   "source": [
    "logger = logging.getLogger(__name__)"
   ]
  },
  {
   "cell_type": "code",
   "execution_count": null,
   "id": "fa9b8ede",
   "metadata": {},
   "outputs": [],
   "source": [
    "def check_requires_python(\n",
    "    requires_python: Optional[str], version_info: Tuple[int, ...]\n",
    ") -> bool:\n",
    "    \"\"\"\n",
    "    Check if the given Python version matches a \"Requires-Python\" specifier.\n",
    "\n",
    "    :param version_info: A 3-tuple of ints representing a Python\n",
    "        major-minor-micro version to check (e.g. `sys.version_info[:3]`).\n",
    "\n",
    "    :return: `True` if the given Python version satisfies the requirement.\n",
    "        Otherwise, return `False`.\n",
    "\n",
    "    :raises InvalidSpecifier: If `requires_python` has an invalid format.\n",
    "    \"\"\"\n",
    "    if requires_python is None:\n",
    "        # The package provides no information\n",
    "        return True\n",
    "    requires_python_specifier = specifiers.SpecifierSet(requires_python)\n",
    "\n",
    "    python_version = version.parse(\".\".join(map(str, version_info)))\n",
    "    return python_version in requires_python_specifier"
   ]
  },
  {
   "cell_type": "code",
   "execution_count": null,
   "id": "69117db6",
   "metadata": {},
   "outputs": [],
   "source": [
    "@functools.lru_cache(maxsize=512)\n",
    "def get_requirement(req_string: str) -> Requirement:\n",
    "    \"\"\"Construct a packaging.Requirement object with caching\"\"\"\n",
    "    # Parsing requirement strings is expensive, and is also expected to happen\n",
    "    # with a low diversity of different arguments (at least relative the number\n",
    "    # constructed). This method adds a cache to requirement object creation to\n",
    "    # minimize repeated parsing of the same string to construct equivalent\n",
    "    # Requirement objects.\n",
    "    return Requirement(req_string)"
   ]
  },
  {
   "cell_type": "code",
   "execution_count": null,
   "id": "a51ed6e4",
   "metadata": {},
   "outputs": [],
   "source": [
    "def safe_extra(extra: str) -> NormalizedExtra:\n",
    "    \"\"\"Convert an arbitrary string to a standard 'extra' name\n",
    "\n",
    "    Any runs of non-alphanumeric characters are replaced with a single '_',\n",
    "    and the result is always lowercased.\n",
    "\n",
    "    This function is duplicated from ``pkg_resources``. Note that this is not\n",
    "    the same to either ``canonicalize_name`` or ``_egg_link_name``.\n",
    "    \"\"\"\n",
    "    return cast(NormalizedExtra, re.sub(\"[^A-Za-z0-9.-]+\", \"_\", extra).lower())"
   ]
  }
 ],
 "metadata": {
  "jupytext": {
   "cell_metadata_filter": "-all",
   "main_language": "python",
   "notebook_metadata_filter": "-all"
  }
 },
 "nbformat": 4,
 "nbformat_minor": 5
}
