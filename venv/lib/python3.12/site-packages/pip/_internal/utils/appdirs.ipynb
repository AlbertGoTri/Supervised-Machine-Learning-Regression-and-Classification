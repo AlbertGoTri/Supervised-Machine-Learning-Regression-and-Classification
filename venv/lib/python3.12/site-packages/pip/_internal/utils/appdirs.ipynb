{
 "cells": [
  {
   "cell_type": "code",
   "execution_count": null,
   "id": "5b6c03bd",
   "metadata": {},
   "outputs": [],
   "source": [
    "\"\"\"\n",
    "This code wraps the vendored appdirs module to so the return values are\n",
    "compatible for the current pip code base.\n",
    "\n",
    "The intention is to rewrite current usages gradually, keeping the tests pass,\n",
    "and eventually drop this after all usages are changed.\n",
    "\"\"\""
   ]
  },
  {
   "cell_type": "code",
   "execution_count": null,
   "id": "829ac221",
   "metadata": {},
   "outputs": [],
   "source": [
    "import os\n",
    "import sys\n",
    "from typing import List"
   ]
  },
  {
   "cell_type": "code",
   "execution_count": null,
   "id": "58ea1d67",
   "metadata": {},
   "outputs": [],
   "source": [
    "from pip._vendor import platformdirs as _appdirs"
   ]
  },
  {
   "cell_type": "code",
   "execution_count": null,
   "id": "b325c628",
   "metadata": {},
   "outputs": [],
   "source": [
    "def user_cache_dir(appname: str) -> str:\n",
    "    return _appdirs.user_cache_dir(appname, appauthor=False)"
   ]
  },
  {
   "cell_type": "code",
   "execution_count": null,
   "id": "bc5a86c2",
   "metadata": {},
   "outputs": [],
   "source": [
    "def _macos_user_config_dir(appname: str, roaming: bool = True) -> str:\n",
    "    # Use ~/Application Support/pip, if the directory exists.\n",
    "    path = _appdirs.user_data_dir(appname, appauthor=False, roaming=roaming)\n",
    "    if os.path.isdir(path):\n",
    "        return path\n",
    "\n",
    "    # Use a Linux-like ~/.config/pip, by default.\n",
    "    linux_like_path = \"~/.config/\"\n",
    "    if appname:\n",
    "        linux_like_path = os.path.join(linux_like_path, appname)\n",
    "\n",
    "    return os.path.expanduser(linux_like_path)"
   ]
  },
  {
   "cell_type": "code",
   "execution_count": null,
   "id": "c936dedb",
   "metadata": {},
   "outputs": [],
   "source": [
    "def user_config_dir(appname: str, roaming: bool = True) -> str:\n",
    "    if sys.platform == \"darwin\":\n",
    "        return _macos_user_config_dir(appname, roaming)\n",
    "\n",
    "    return _appdirs.user_config_dir(appname, appauthor=False, roaming=roaming)"
   ]
  },
  {
   "cell_type": "code",
   "execution_count": null,
   "id": "73e2f501",
   "metadata": {},
   "outputs": [],
   "source": [
    "# for the discussion regarding site_config_dir locations\n",
    "# see <https://github.com/pypa/pip/issues/1733>\n",
    "def site_config_dirs(appname: str) -> List[str]:\n",
    "    if sys.platform == \"darwin\":\n",
    "        return [_appdirs.site_data_dir(appname, appauthor=False, multipath=True)]\n",
    "\n",
    "    dirval = _appdirs.site_config_dir(appname, appauthor=False, multipath=True)\n",
    "    if sys.platform == \"win32\":\n",
    "        return [dirval]\n",
    "\n",
    "    # Unix-y system. Look in /etc as well.\n",
    "    return dirval.split(os.pathsep) + [\"/etc\"]"
   ]
  }
 ],
 "metadata": {
  "jupytext": {
   "cell_metadata_filter": "-all",
   "main_language": "python",
   "notebook_metadata_filter": "-all"
  }
 },
 "nbformat": 4,
 "nbformat_minor": 5
}
