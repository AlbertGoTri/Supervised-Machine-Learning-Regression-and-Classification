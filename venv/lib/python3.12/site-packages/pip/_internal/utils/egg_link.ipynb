{
 "cells": [
  {
   "cell_type": "code",
   "execution_count": null,
   "id": "abff90e4",
   "metadata": {},
   "outputs": [],
   "source": [
    "import os\n",
    "import re\n",
    "import sys\n",
    "from typing import List, Optional"
   ]
  },
  {
   "cell_type": "code",
   "execution_count": null,
   "id": "f1cbead6",
   "metadata": {},
   "outputs": [],
   "source": [
    "from pip._internal.locations import site_packages, user_site\n",
    "from pip._internal.utils.virtualenv import (\n",
    "    running_under_virtualenv,\n",
    "    virtualenv_no_global,\n",
    ")"
   ]
  },
  {
   "cell_type": "code",
   "execution_count": null,
   "id": "65024673",
   "metadata": {},
   "outputs": [],
   "source": [
    "__all__ = [\n",
    "    \"egg_link_path_from_sys_path\",\n",
    "    \"egg_link_path_from_location\",\n",
    "]"
   ]
  },
  {
   "cell_type": "code",
   "execution_count": null,
   "id": "f4d22c31",
   "metadata": {},
   "outputs": [],
   "source": [
    "def _egg_link_names(raw_name: str) -> List[str]:\n",
    "    \"\"\"\n",
    "    Convert a Name metadata value to a .egg-link name, by applying\n",
    "    the same substitution as pkg_resources's safe_name function.\n",
    "    Note: we cannot use canonicalize_name because it has a different logic.\n",
    "\n",
    "    We also look for the raw name (without normalization) as setuptools 69 changed\n",
    "    the way it names .egg-link files (https://github.com/pypa/setuptools/issues/4167).\n",
    "    \"\"\"\n",
    "    return [\n",
    "        re.sub(\"[^A-Za-z0-9.]+\", \"-\", raw_name) + \".egg-link\",\n",
    "        f\"{raw_name}.egg-link\",\n",
    "    ]"
   ]
  },
  {
   "cell_type": "code",
   "execution_count": null,
   "id": "9d6eb9d1",
   "metadata": {},
   "outputs": [],
   "source": [
    "def egg_link_path_from_sys_path(raw_name: str) -> Optional[str]:\n",
    "    \"\"\"\n",
    "    Look for a .egg-link file for project name, by walking sys.path.\n",
    "    \"\"\"\n",
    "    egg_link_names = _egg_link_names(raw_name)\n",
    "    for path_item in sys.path:\n",
    "        for egg_link_name in egg_link_names:\n",
    "            egg_link = os.path.join(path_item, egg_link_name)\n",
    "            if os.path.isfile(egg_link):\n",
    "                return egg_link\n",
    "    return None"
   ]
  },
  {
   "cell_type": "code",
   "execution_count": null,
   "id": "ec7c00d8",
   "metadata": {},
   "outputs": [],
   "source": [
    "def egg_link_path_from_location(raw_name: str) -> Optional[str]:\n",
    "    \"\"\"\n",
    "    Return the path for the .egg-link file if it exists, otherwise, None.\n",
    "\n",
    "    There's 3 scenarios:\n",
    "    1) not in a virtualenv\n",
    "       try to find in site.USER_SITE, then site_packages\n",
    "    2) in a no-global virtualenv\n",
    "       try to find in site_packages\n",
    "    3) in a yes-global virtualenv\n",
    "       try to find in site_packages, then site.USER_SITE\n",
    "       (don't look in global location)\n",
    "\n",
    "    For #1 and #3, there could be odd cases, where there's an egg-link in 2\n",
    "    locations.\n",
    "\n",
    "    This method will just return the first one found.\n",
    "    \"\"\"\n",
    "    sites: List[str] = []\n",
    "    if running_under_virtualenv():\n",
    "        sites.append(site_packages)\n",
    "        if not virtualenv_no_global() and user_site:\n",
    "            sites.append(user_site)\n",
    "    else:\n",
    "        if user_site:\n",
    "            sites.append(user_site)\n",
    "        sites.append(site_packages)\n",
    "\n",
    "    egg_link_names = _egg_link_names(raw_name)\n",
    "    for site in sites:\n",
    "        for egg_link_name in egg_link_names:\n",
    "            egglink = os.path.join(site, egg_link_name)\n",
    "            if os.path.isfile(egglink):\n",
    "                return egglink\n",
    "    return None"
   ]
  }
 ],
 "metadata": {
  "jupytext": {
   "cell_metadata_filter": "-all",
   "main_language": "python",
   "notebook_metadata_filter": "-all"
  }
 },
 "nbformat": 4,
 "nbformat_minor": 5
}
