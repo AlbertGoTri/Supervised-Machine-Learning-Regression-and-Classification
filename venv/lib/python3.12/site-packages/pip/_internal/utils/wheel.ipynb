{
 "cells": [
  {
   "cell_type": "code",
   "execution_count": null,
   "id": "bc2db54a",
   "metadata": {},
   "outputs": [],
   "source": [
    "\"\"\"Support functions for working with wheel files.\n",
    "\"\"\""
   ]
  },
  {
   "cell_type": "code",
   "execution_count": null,
   "id": "44bb3187",
   "metadata": {},
   "outputs": [],
   "source": [
    "import logging\n",
    "from email.message import Message\n",
    "from email.parser import Parser\n",
    "from typing import Tuple\n",
    "from zipfile import BadZipFile, ZipFile"
   ]
  },
  {
   "cell_type": "code",
   "execution_count": null,
   "id": "da160b45",
   "metadata": {},
   "outputs": [],
   "source": [
    "from pip._vendor.packaging.utils import canonicalize_name"
   ]
  },
  {
   "cell_type": "code",
   "execution_count": null,
   "id": "1672ef5e",
   "metadata": {},
   "outputs": [],
   "source": [
    "from pip._internal.exceptions import UnsupportedWheel"
   ]
  },
  {
   "cell_type": "code",
   "execution_count": null,
   "id": "c4ee312c",
   "metadata": {
    "lines_to_next_cell": 2
   },
   "outputs": [],
   "source": [
    "VERSION_COMPATIBLE = (1, 0)"
   ]
  },
  {
   "cell_type": "code",
   "execution_count": null,
   "id": "3b5451aa",
   "metadata": {},
   "outputs": [],
   "source": [
    "logger = logging.getLogger(__name__)"
   ]
  },
  {
   "cell_type": "code",
   "execution_count": null,
   "id": "fc08876e",
   "metadata": {},
   "outputs": [],
   "source": [
    "def parse_wheel(wheel_zip: ZipFile, name: str) -> Tuple[str, Message]:\n",
    "    \"\"\"Extract information from the provided wheel, ensuring it meets basic\n",
    "    standards.\n",
    "\n",
    "    Returns the name of the .dist-info directory and the parsed WHEEL metadata.\n",
    "    \"\"\"\n",
    "    try:\n",
    "        info_dir = wheel_dist_info_dir(wheel_zip, name)\n",
    "        metadata = wheel_metadata(wheel_zip, info_dir)\n",
    "        version = wheel_version(metadata)\n",
    "    except UnsupportedWheel as e:\n",
    "        raise UnsupportedWheel(f\"{name} has an invalid wheel, {str(e)}\")\n",
    "\n",
    "    check_compatibility(version, name)\n",
    "\n",
    "    return info_dir, metadata"
   ]
  },
  {
   "cell_type": "code",
   "execution_count": null,
   "id": "8f315a9c",
   "metadata": {},
   "outputs": [],
   "source": [
    "def wheel_dist_info_dir(source: ZipFile, name: str) -> str:\n",
    "    \"\"\"Returns the name of the contained .dist-info directory.\n",
    "\n",
    "    Raises AssertionError or UnsupportedWheel if not found, >1 found, or\n",
    "    it doesn't match the provided name.\n",
    "    \"\"\"\n",
    "    # Zip file path separators must be /\n",
    "    subdirs = {p.split(\"/\", 1)[0] for p in source.namelist()}\n",
    "\n",
    "    info_dirs = [s for s in subdirs if s.endswith(\".dist-info\")]\n",
    "\n",
    "    if not info_dirs:\n",
    "        raise UnsupportedWheel(\".dist-info directory not found\")\n",
    "\n",
    "    if len(info_dirs) > 1:\n",
    "        raise UnsupportedWheel(\n",
    "            \"multiple .dist-info directories found: {}\".format(\", \".join(info_dirs))\n",
    "        )\n",
    "\n",
    "    info_dir = info_dirs[0]\n",
    "\n",
    "    info_dir_name = canonicalize_name(info_dir)\n",
    "    canonical_name = canonicalize_name(name)\n",
    "    if not info_dir_name.startswith(canonical_name):\n",
    "        raise UnsupportedWheel(\n",
    "            f\".dist-info directory {info_dir!r} does not start with {canonical_name!r}\"\n",
    "        )\n",
    "\n",
    "    return info_dir"
   ]
  },
  {
   "cell_type": "code",
   "execution_count": null,
   "id": "01aa5844",
   "metadata": {},
   "outputs": [],
   "source": [
    "def read_wheel_metadata_file(source: ZipFile, path: str) -> bytes:\n",
    "    try:\n",
    "        return source.read(path)\n",
    "        # BadZipFile for general corruption, KeyError for missing entry,\n",
    "        # and RuntimeError for password-protected files\n",
    "    except (BadZipFile, KeyError, RuntimeError) as e:\n",
    "        raise UnsupportedWheel(f\"could not read {path!r} file: {e!r}\")"
   ]
  },
  {
   "cell_type": "code",
   "execution_count": null,
   "id": "53804261",
   "metadata": {},
   "outputs": [],
   "source": [
    "def wheel_metadata(source: ZipFile, dist_info_dir: str) -> Message:\n",
    "    \"\"\"Return the WHEEL metadata of an extracted wheel, if possible.\n",
    "    Otherwise, raise UnsupportedWheel.\n",
    "    \"\"\"\n",
    "    path = f\"{dist_info_dir}/WHEEL\"\n",
    "    # Zip file path separators must be /\n",
    "    wheel_contents = read_wheel_metadata_file(source, path)\n",
    "\n",
    "    try:\n",
    "        wheel_text = wheel_contents.decode()\n",
    "    except UnicodeDecodeError as e:\n",
    "        raise UnsupportedWheel(f\"error decoding {path!r}: {e!r}\")\n",
    "\n",
    "    # FeedParser (used by Parser) does not raise any exceptions. The returned\n",
    "    # message may have .defects populated, but for backwards-compatibility we\n",
    "    # currently ignore them.\n",
    "    return Parser().parsestr(wheel_text)"
   ]
  },
  {
   "cell_type": "code",
   "execution_count": null,
   "id": "3d04810b",
   "metadata": {},
   "outputs": [],
   "source": [
    "def wheel_version(wheel_data: Message) -> Tuple[int, ...]:\n",
    "    \"\"\"Given WHEEL metadata, return the parsed Wheel-Version.\n",
    "    Otherwise, raise UnsupportedWheel.\n",
    "    \"\"\"\n",
    "    version_text = wheel_data[\"Wheel-Version\"]\n",
    "    if version_text is None:\n",
    "        raise UnsupportedWheel(\"WHEEL is missing Wheel-Version\")\n",
    "\n",
    "    version = version_text.strip()\n",
    "\n",
    "    try:\n",
    "        return tuple(map(int, version.split(\".\")))\n",
    "    except ValueError:\n",
    "        raise UnsupportedWheel(f\"invalid Wheel-Version: {version!r}\")"
   ]
  },
  {
   "cell_type": "code",
   "execution_count": null,
   "id": "76a06c7c",
   "metadata": {},
   "outputs": [],
   "source": [
    "def check_compatibility(version: Tuple[int, ...], name: str) -> None:\n",
    "    \"\"\"Raises errors or warns if called with an incompatible Wheel-Version.\n",
    "\n",
    "    pip should refuse to install a Wheel-Version that's a major series\n",
    "    ahead of what it's compatible with (e.g 2.0 > 1.1); and warn when\n",
    "    installing a version only minor version ahead (e.g 1.2 > 1.1).\n",
    "\n",
    "    version: a 2-tuple representing a Wheel-Version (Major, Minor)\n",
    "    name: name of wheel or package to raise exception about\n",
    "\n",
    "    :raises UnsupportedWheel: when an incompatible Wheel-Version is given\n",
    "    \"\"\"\n",
    "    if version[0] > VERSION_COMPATIBLE[0]:\n",
    "        raise UnsupportedWheel(\n",
    "            \"{}'s Wheel-Version ({}) is not compatible with this version \"\n",
    "            \"of pip\".format(name, \".\".join(map(str, version)))\n",
    "        )\n",
    "    elif version > VERSION_COMPATIBLE:\n",
    "        logger.warning(\n",
    "            \"Installing from a newer Wheel-Version (%s)\",\n",
    "            \".\".join(map(str, version)),\n",
    "        )"
   ]
  }
 ],
 "metadata": {
  "jupytext": {
   "cell_metadata_filter": "-all",
   "main_language": "python",
   "notebook_metadata_filter": "-all"
  }
 },
 "nbformat": 4,
 "nbformat_minor": 5
}
