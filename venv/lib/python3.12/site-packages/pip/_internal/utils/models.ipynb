{
 "cells": [
  {
   "cell_type": "code",
   "execution_count": null,
   "id": "7779b0f3",
   "metadata": {},
   "outputs": [],
   "source": [
    "\"\"\"Utilities for defining models\n",
    "\"\"\""
   ]
  },
  {
   "cell_type": "code",
   "execution_count": null,
   "id": "42a27b07",
   "metadata": {},
   "outputs": [],
   "source": [
    "import operator\n",
    "from typing import Any, Callable, Type"
   ]
  },
  {
   "cell_type": "code",
   "execution_count": null,
   "id": "60911eea",
   "metadata": {},
   "outputs": [],
   "source": [
    "class KeyBasedCompareMixin:\n",
    "    \"\"\"Provides comparison capabilities that is based on a key\"\"\"\n",
    "\n",
    "    __slots__ = [\"_compare_key\", \"_defining_class\"]\n",
    "\n",
    "    def __init__(self, key: Any, defining_class: Type[\"KeyBasedCompareMixin\"]) -> None:\n",
    "        self._compare_key = key\n",
    "        self._defining_class = defining_class\n",
    "\n",
    "    def __hash__(self) -> int:\n",
    "        return hash(self._compare_key)\n",
    "\n",
    "    def __lt__(self, other: Any) -> bool:\n",
    "        return self._compare(other, operator.__lt__)\n",
    "\n",
    "    def __le__(self, other: Any) -> bool:\n",
    "        return self._compare(other, operator.__le__)\n",
    "\n",
    "    def __gt__(self, other: Any) -> bool:\n",
    "        return self._compare(other, operator.__gt__)\n",
    "\n",
    "    def __ge__(self, other: Any) -> bool:\n",
    "        return self._compare(other, operator.__ge__)\n",
    "\n",
    "    def __eq__(self, other: Any) -> bool:\n",
    "        return self._compare(other, operator.__eq__)\n",
    "\n",
    "    def _compare(self, other: Any, method: Callable[[Any, Any], bool]) -> bool:\n",
    "        if not isinstance(other, self._defining_class):\n",
    "            return NotImplemented\n",
    "\n",
    "        return method(self._compare_key, other._compare_key)"
   ]
  }
 ],
 "metadata": {
  "jupytext": {
   "cell_metadata_filter": "-all",
   "main_language": "python",
   "notebook_metadata_filter": "-all"
  }
 },
 "nbformat": 4,
 "nbformat_minor": 5
}
