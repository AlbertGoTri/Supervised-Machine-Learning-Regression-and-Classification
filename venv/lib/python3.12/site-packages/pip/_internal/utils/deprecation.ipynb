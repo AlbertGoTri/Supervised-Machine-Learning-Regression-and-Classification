{
 "cells": [
  {
   "cell_type": "code",
   "execution_count": null,
   "id": "29e3464d",
   "metadata": {},
   "outputs": [],
   "source": [
    "\"\"\"\n",
    "A module that implements tooling to enable easy warnings about deprecations.\n",
    "\"\"\""
   ]
  },
  {
   "cell_type": "code",
   "execution_count": null,
   "id": "59074d41",
   "metadata": {},
   "outputs": [],
   "source": [
    "import logging\n",
    "import warnings\n",
    "from typing import Any, Optional, TextIO, Type, Union"
   ]
  },
  {
   "cell_type": "code",
   "execution_count": null,
   "id": "c005608c",
   "metadata": {},
   "outputs": [],
   "source": [
    "from pip._vendor.packaging.version import parse"
   ]
  },
  {
   "cell_type": "code",
   "execution_count": null,
   "id": "0781ad75",
   "metadata": {},
   "outputs": [],
   "source": [
    "from pip import __version__ as current_version  # NOTE: tests patch this name."
   ]
  },
  {
   "cell_type": "code",
   "execution_count": null,
   "id": "afb1b52d",
   "metadata": {},
   "outputs": [],
   "source": [
    "DEPRECATION_MSG_PREFIX = \"DEPRECATION: \""
   ]
  },
  {
   "cell_type": "code",
   "execution_count": null,
   "id": "e97fe8a5",
   "metadata": {},
   "outputs": [],
   "source": [
    "class PipDeprecationWarning(Warning):\n",
    "    pass"
   ]
  },
  {
   "cell_type": "code",
   "execution_count": null,
   "id": "38c70cf5",
   "metadata": {},
   "outputs": [],
   "source": [
    "_original_showwarning: Any = None"
   ]
  },
  {
   "cell_type": "code",
   "execution_count": null,
   "id": "dea335ba",
   "metadata": {},
   "outputs": [],
   "source": [
    "# Warnings <-> Logging Integration\n",
    "def _showwarning(\n",
    "    message: Union[Warning, str],\n",
    "    category: Type[Warning],\n",
    "    filename: str,\n",
    "    lineno: int,\n",
    "    file: Optional[TextIO] = None,\n",
    "    line: Optional[str] = None,\n",
    ") -> None:\n",
    "    if file is not None:\n",
    "        if _original_showwarning is not None:\n",
    "            _original_showwarning(message, category, filename, lineno, file, line)\n",
    "    elif issubclass(category, PipDeprecationWarning):\n",
    "        # We use a specially named logger which will handle all of the\n",
    "        # deprecation messages for pip.\n",
    "        logger = logging.getLogger(\"pip._internal.deprecations\")\n",
    "        logger.warning(message)\n",
    "    else:\n",
    "        _original_showwarning(message, category, filename, lineno, file, line)"
   ]
  },
  {
   "cell_type": "code",
   "execution_count": null,
   "id": "a2bffbbf",
   "metadata": {},
   "outputs": [],
   "source": [
    "def install_warning_logger() -> None:\n",
    "    # Enable our Deprecation Warnings\n",
    "    warnings.simplefilter(\"default\", PipDeprecationWarning, append=True)\n",
    "\n",
    "    global _original_showwarning\n",
    "\n",
    "    if _original_showwarning is None:\n",
    "        _original_showwarning = warnings.showwarning\n",
    "        warnings.showwarning = _showwarning"
   ]
  },
  {
   "cell_type": "code",
   "execution_count": null,
   "id": "bf0e5166",
   "metadata": {},
   "outputs": [],
   "source": [
    "def deprecated(\n",
    "    *,\n",
    "    reason: str,\n",
    "    replacement: Optional[str],\n",
    "    gone_in: Optional[str],\n",
    "    feature_flag: Optional[str] = None,\n",
    "    issue: Optional[int] = None,\n",
    ") -> None:\n",
    "    \"\"\"Helper to deprecate existing functionality.\n",
    "\n",
    "    reason:\n",
    "        Textual reason shown to the user about why this functionality has\n",
    "        been deprecated. Should be a complete sentence.\n",
    "    replacement:\n",
    "        Textual suggestion shown to the user about what alternative\n",
    "        functionality they can use.\n",
    "    gone_in:\n",
    "        The version of pip does this functionality should get removed in.\n",
    "        Raises an error if pip's current version is greater than or equal to\n",
    "        this.\n",
    "    feature_flag:\n",
    "        Command-line flag of the form --use-feature={feature_flag} for testing\n",
    "        upcoming functionality.\n",
    "    issue:\n",
    "        Issue number on the tracker that would serve as a useful place for\n",
    "        users to find related discussion and provide feedback.\n",
    "    \"\"\"\n",
    "\n",
    "    # Determine whether or not the feature is already gone in this version.\n",
    "    is_gone = gone_in is not None and parse(current_version) >= parse(gone_in)\n",
    "\n",
    "    message_parts = [\n",
    "        (reason, f\"{DEPRECATION_MSG_PREFIX}{{}}\"),\n",
    "        (\n",
    "            gone_in,\n",
    "            \"pip {} will enforce this behaviour change.\"\n",
    "            if not is_gone\n",
    "            else \"Since pip {}, this is no longer supported.\",\n",
    "        ),\n",
    "        (\n",
    "            replacement,\n",
    "            \"A possible replacement is {}.\",\n",
    "        ),\n",
    "        (\n",
    "            feature_flag,\n",
    "            \"You can use the flag --use-feature={} to test the upcoming behaviour.\"\n",
    "            if not is_gone\n",
    "            else None,\n",
    "        ),\n",
    "        (\n",
    "            issue,\n",
    "            \"Discussion can be found at https://github.com/pypa/pip/issues/{}\",\n",
    "        ),\n",
    "    ]\n",
    "\n",
    "    message = \" \".join(\n",
    "        format_str.format(value)\n",
    "        for value, format_str in message_parts\n",
    "        if format_str is not None and value is not None\n",
    "    )\n",
    "\n",
    "    # Raise as an error if this behaviour is deprecated.\n",
    "    if is_gone:\n",
    "        raise PipDeprecationWarning(message)\n",
    "\n",
    "    warnings.warn(message, category=PipDeprecationWarning, stacklevel=2)"
   ]
  }
 ],
 "metadata": {
  "jupytext": {
   "cell_metadata_filter": "-all",
   "main_language": "python",
   "notebook_metadata_filter": "-all"
  }
 },
 "nbformat": 4,
 "nbformat_minor": 5
}
