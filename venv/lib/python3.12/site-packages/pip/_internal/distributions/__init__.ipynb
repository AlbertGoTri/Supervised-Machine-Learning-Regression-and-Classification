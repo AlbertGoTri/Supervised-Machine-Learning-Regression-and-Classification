{
 "cells": [
  {
   "cell_type": "code",
   "execution_count": null,
   "id": "fecf69e1",
   "metadata": {},
   "outputs": [],
   "source": [
    "from pip._internal.distributions.base import AbstractDistribution\n",
    "from pip._internal.distributions.sdist import SourceDistribution\n",
    "from pip._internal.distributions.wheel import WheelDistribution\n",
    "from pip._internal.req.req_install import InstallRequirement"
   ]
  },
  {
   "cell_type": "code",
   "execution_count": null,
   "id": "8ba1f4ea",
   "metadata": {},
   "outputs": [],
   "source": [
    "def make_distribution_for_install_requirement(\n",
    "    install_req: InstallRequirement,\n",
    ") -> AbstractDistribution:\n",
    "    \"\"\"Returns a Distribution for the given InstallRequirement\"\"\"\n",
    "    # Editable requirements will always be source distributions. They use the\n",
    "    # legacy logic until we create a modern standard for them.\n",
    "    if install_req.editable:\n",
    "        return SourceDistribution(install_req)\n",
    "\n",
    "    # If it's a wheel, it's a WheelDistribution\n",
    "    if install_req.is_wheel:\n",
    "        return WheelDistribution(install_req)\n",
    "\n",
    "    # Otherwise, a SourceDistribution\n",
    "    return SourceDistribution(install_req)"
   ]
  }
 ],
 "metadata": {
  "jupytext": {
   "cell_metadata_filter": "-all",
   "main_language": "python",
   "notebook_metadata_filter": "-all"
  }
 },
 "nbformat": 4,
 "nbformat_minor": 5
}
