{
 "cells": [
  {
   "cell_type": "code",
   "execution_count": null,
   "id": "26f618ef",
   "metadata": {},
   "outputs": [],
   "source": [
    "import abc\n",
    "from typing import Optional"
   ]
  },
  {
   "cell_type": "code",
   "execution_count": null,
   "id": "d6f28f3d",
   "metadata": {},
   "outputs": [],
   "source": [
    "from pip._internal.index.package_finder import PackageFinder\n",
    "from pip._internal.metadata.base import BaseDistribution\n",
    "from pip._internal.req import InstallRequirement"
   ]
  },
  {
   "cell_type": "code",
   "execution_count": null,
   "id": "4bbbc72f",
   "metadata": {},
   "outputs": [],
   "source": [
    "class AbstractDistribution(metaclass=abc.ABCMeta):\n",
    "    \"\"\"A base class for handling installable artifacts.\n",
    "\n",
    "    The requirements for anything installable are as follows:\n",
    "\n",
    "     - we must be able to determine the requirement name\n",
    "       (or we can't correctly handle the non-upgrade case).\n",
    "\n",
    "     - for packages with setup requirements, we must also be able\n",
    "       to determine their requirements without installing additional\n",
    "       packages (for the same reason as run-time dependencies)\n",
    "\n",
    "     - we must be able to create a Distribution object exposing the\n",
    "       above metadata.\n",
    "\n",
    "     - if we need to do work in the build tracker, we must be able to generate a unique\n",
    "       string to identify the requirement in the build tracker.\n",
    "    \"\"\"\n",
    "\n",
    "    def __init__(self, req: InstallRequirement) -> None:\n",
    "        super().__init__()\n",
    "        self.req = req\n",
    "\n",
    "    @abc.abstractproperty\n",
    "    def build_tracker_id(self) -> Optional[str]:\n",
    "        \"\"\"A string that uniquely identifies this requirement to the build tracker.\n",
    "\n",
    "        If None, then this dist has no work to do in the build tracker, and\n",
    "        ``.prepare_distribution_metadata()`` will not be called.\"\"\"\n",
    "        raise NotImplementedError()\n",
    "\n",
    "    @abc.abstractmethod\n",
    "    def get_metadata_distribution(self) -> BaseDistribution:\n",
    "        raise NotImplementedError()\n",
    "\n",
    "    @abc.abstractmethod\n",
    "    def prepare_distribution_metadata(\n",
    "        self,\n",
    "        finder: PackageFinder,\n",
    "        build_isolation: bool,\n",
    "        check_build_deps: bool,\n",
    "    ) -> None:\n",
    "        raise NotImplementedError()"
   ]
  }
 ],
 "metadata": {
  "jupytext": {
   "cell_metadata_filter": "-all",
   "main_language": "python",
   "notebook_metadata_filter": "-all"
  }
 },
 "nbformat": 4,
 "nbformat_minor": 5
}
