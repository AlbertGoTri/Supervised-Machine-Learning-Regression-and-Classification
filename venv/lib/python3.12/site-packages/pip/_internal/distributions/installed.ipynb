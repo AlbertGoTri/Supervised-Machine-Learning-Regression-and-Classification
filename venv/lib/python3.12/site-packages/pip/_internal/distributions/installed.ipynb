{
 "cells": [
  {
   "cell_type": "code",
   "execution_count": null,
   "id": "634d6d43",
   "metadata": {},
   "outputs": [],
   "source": [
    "from typing import Optional"
   ]
  },
  {
   "cell_type": "code",
   "execution_count": null,
   "id": "82613b8c",
   "metadata": {},
   "outputs": [],
   "source": [
    "from pip._internal.distributions.base import AbstractDistribution\n",
    "from pip._internal.index.package_finder import PackageFinder\n",
    "from pip._internal.metadata import BaseDistribution"
   ]
  },
  {
   "cell_type": "code",
   "execution_count": null,
   "id": "f6206a7e",
   "metadata": {},
   "outputs": [],
   "source": [
    "class InstalledDistribution(AbstractDistribution):\n",
    "    \"\"\"Represents an installed package.\n",
    "\n",
    "    This does not need any preparation as the required information has already\n",
    "    been computed.\n",
    "    \"\"\"\n",
    "\n",
    "    @property\n",
    "    def build_tracker_id(self) -> Optional[str]:\n",
    "        return None\n",
    "\n",
    "    def get_metadata_distribution(self) -> BaseDistribution:\n",
    "        assert self.req.satisfied_by is not None, \"not actually installed\"\n",
    "        return self.req.satisfied_by\n",
    "\n",
    "    def prepare_distribution_metadata(\n",
    "        self,\n",
    "        finder: PackageFinder,\n",
    "        build_isolation: bool,\n",
    "        check_build_deps: bool,\n",
    "    ) -> None:\n",
    "        pass"
   ]
  }
 ],
 "metadata": {
  "jupytext": {
   "cell_metadata_filter": "-all",
   "main_language": "python",
   "notebook_metadata_filter": "-all"
  }
 },
 "nbformat": 4,
 "nbformat_minor": 5
}
