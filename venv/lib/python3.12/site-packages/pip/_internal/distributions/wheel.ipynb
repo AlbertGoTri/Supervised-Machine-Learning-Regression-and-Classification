{
 "cells": [
  {
   "cell_type": "code",
   "execution_count": null,
   "id": "0318884e",
   "metadata": {},
   "outputs": [],
   "source": [
    "from typing import Optional"
   ]
  },
  {
   "cell_type": "code",
   "execution_count": null,
   "id": "ac5dda6b",
   "metadata": {},
   "outputs": [],
   "source": [
    "from pip._vendor.packaging.utils import canonicalize_name"
   ]
  },
  {
   "cell_type": "code",
   "execution_count": null,
   "id": "9643695b",
   "metadata": {},
   "outputs": [],
   "source": [
    "from pip._internal.distributions.base import AbstractDistribution\n",
    "from pip._internal.index.package_finder import PackageFinder\n",
    "from pip._internal.metadata import (\n",
    "    BaseDistribution,\n",
    "    FilesystemWheel,\n",
    "    get_wheel_distribution,\n",
    ")"
   ]
  },
  {
   "cell_type": "code",
   "execution_count": null,
   "id": "35743e25",
   "metadata": {},
   "outputs": [],
   "source": [
    "class WheelDistribution(AbstractDistribution):\n",
    "    \"\"\"Represents a wheel distribution.\n",
    "\n",
    "    This does not need any preparation as wheels can be directly unpacked.\n",
    "    \"\"\"\n",
    "\n",
    "    @property\n",
    "    def build_tracker_id(self) -> Optional[str]:\n",
    "        return None\n",
    "\n",
    "    def get_metadata_distribution(self) -> BaseDistribution:\n",
    "        \"\"\"Loads the metadata from the wheel file into memory and returns a\n",
    "        Distribution that uses it, not relying on the wheel file or\n",
    "        requirement.\n",
    "        \"\"\"\n",
    "        assert self.req.local_file_path, \"Set as part of preparation during download\"\n",
    "        assert self.req.name, \"Wheels are never unnamed\"\n",
    "        wheel = FilesystemWheel(self.req.local_file_path)\n",
    "        return get_wheel_distribution(wheel, canonicalize_name(self.req.name))\n",
    "\n",
    "    def prepare_distribution_metadata(\n",
    "        self,\n",
    "        finder: PackageFinder,\n",
    "        build_isolation: bool,\n",
    "        check_build_deps: bool,\n",
    "    ) -> None:\n",
    "        pass"
   ]
  }
 ],
 "metadata": {
  "jupytext": {
   "cell_metadata_filter": "-all",
   "main_language": "python",
   "notebook_metadata_filter": "-all"
  }
 },
 "nbformat": 4,
 "nbformat_minor": 5
}
