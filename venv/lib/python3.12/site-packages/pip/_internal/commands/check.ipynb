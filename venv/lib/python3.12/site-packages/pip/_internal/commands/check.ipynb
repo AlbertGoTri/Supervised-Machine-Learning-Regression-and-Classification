{
 "cells": [
  {
   "cell_type": "code",
   "execution_count": null,
   "id": "c7bde15d",
   "metadata": {},
   "outputs": [],
   "source": [
    "import logging\n",
    "from optparse import Values\n",
    "from typing import List"
   ]
  },
  {
   "cell_type": "code",
   "execution_count": null,
   "id": "e3d3d17e",
   "metadata": {},
   "outputs": [],
   "source": [
    "from pip._internal.cli.base_command import Command\n",
    "from pip._internal.cli.status_codes import ERROR, SUCCESS\n",
    "from pip._internal.operations.check import (\n",
    "    check_package_set,\n",
    "    create_package_set_from_installed,\n",
    "    warn_legacy_versions_and_specifiers,\n",
    ")\n",
    "from pip._internal.utils.misc import write_output"
   ]
  },
  {
   "cell_type": "code",
   "execution_count": null,
   "id": "7d52c3b1",
   "metadata": {},
   "outputs": [],
   "source": [
    "logger = logging.getLogger(__name__)"
   ]
  },
  {
   "cell_type": "code",
   "execution_count": null,
   "id": "a2c37096",
   "metadata": {},
   "outputs": [],
   "source": [
    "class CheckCommand(Command):\n",
    "    \"\"\"Verify installed packages have compatible dependencies.\"\"\"\n",
    "\n",
    "    usage = \"\"\"\n",
    "      %prog [options]\"\"\"\n",
    "\n",
    "    def run(self, options: Values, args: List[str]) -> int:\n",
    "        package_set, parsing_probs = create_package_set_from_installed()\n",
    "        warn_legacy_versions_and_specifiers(package_set)\n",
    "        missing, conflicting = check_package_set(package_set)\n",
    "\n",
    "        for project_name in missing:\n",
    "            version = package_set[project_name].version\n",
    "            for dependency in missing[project_name]:\n",
    "                write_output(\n",
    "                    \"%s %s requires %s, which is not installed.\",\n",
    "                    project_name,\n",
    "                    version,\n",
    "                    dependency[0],\n",
    "                )\n",
    "\n",
    "        for project_name in conflicting:\n",
    "            version = package_set[project_name].version\n",
    "            for dep_name, dep_version, req in conflicting[project_name]:\n",
    "                write_output(\n",
    "                    \"%s %s has requirement %s, but you have %s %s.\",\n",
    "                    project_name,\n",
    "                    version,\n",
    "                    req,\n",
    "                    dep_name,\n",
    "                    dep_version,\n",
    "                )\n",
    "\n",
    "        if missing or conflicting or parsing_probs:\n",
    "            return ERROR\n",
    "        else:\n",
    "            write_output(\"No broken requirements found.\")\n",
    "            return SUCCESS"
   ]
  }
 ],
 "metadata": {
  "jupytext": {
   "cell_metadata_filter": "-all",
   "main_language": "python",
   "notebook_metadata_filter": "-all"
  }
 },
 "nbformat": 4,
 "nbformat_minor": 5
}
