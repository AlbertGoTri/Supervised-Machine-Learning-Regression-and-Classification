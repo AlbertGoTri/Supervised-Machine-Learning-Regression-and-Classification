{
 "cells": [
  {
   "cell_type": "code",
   "execution_count": null,
   "id": "b740d83b",
   "metadata": {},
   "outputs": [],
   "source": [
    "import hashlib\n",
    "import logging\n",
    "import sys\n",
    "from optparse import Values\n",
    "from typing import List"
   ]
  },
  {
   "cell_type": "code",
   "execution_count": null,
   "id": "8cd67d41",
   "metadata": {},
   "outputs": [],
   "source": [
    "from pip._internal.cli.base_command import Command\n",
    "from pip._internal.cli.status_codes import ERROR, SUCCESS\n",
    "from pip._internal.utils.hashes import FAVORITE_HASH, STRONG_HASHES\n",
    "from pip._internal.utils.misc import read_chunks, write_output"
   ]
  },
  {
   "cell_type": "code",
   "execution_count": null,
   "id": "80b42c12",
   "metadata": {},
   "outputs": [],
   "source": [
    "logger = logging.getLogger(__name__)"
   ]
  },
  {
   "cell_type": "code",
   "execution_count": null,
   "id": "8f51b8f5",
   "metadata": {},
   "outputs": [],
   "source": [
    "class HashCommand(Command):\n",
    "    \"\"\"\n",
    "    Compute a hash of a local package archive.\n",
    "\n",
    "    These can be used with --hash in a requirements file to do repeatable\n",
    "    installs.\n",
    "    \"\"\"\n",
    "\n",
    "    usage = \"%prog [options] <file> ...\"\n",
    "    ignore_require_venv = True\n",
    "\n",
    "    def add_options(self) -> None:\n",
    "        self.cmd_opts.add_option(\n",
    "            \"-a\",\n",
    "            \"--algorithm\",\n",
    "            dest=\"algorithm\",\n",
    "            choices=STRONG_HASHES,\n",
    "            action=\"store\",\n",
    "            default=FAVORITE_HASH,\n",
    "            help=\"The hash algorithm to use: one of {}\".format(\n",
    "                \", \".join(STRONG_HASHES)\n",
    "            ),\n",
    "        )\n",
    "        self.parser.insert_option_group(0, self.cmd_opts)\n",
    "\n",
    "    def run(self, options: Values, args: List[str]) -> int:\n",
    "        if not args:\n",
    "            self.parser.print_usage(sys.stderr)\n",
    "            return ERROR\n",
    "\n",
    "        algorithm = options.algorithm\n",
    "        for path in args:\n",
    "            write_output(\n",
    "                \"%s:\\n--hash=%s:%s\", path, algorithm, _hash_of_file(path, algorithm)\n",
    "            )\n",
    "        return SUCCESS"
   ]
  },
  {
   "cell_type": "code",
   "execution_count": null,
   "id": "fc6d26c0",
   "metadata": {},
   "outputs": [],
   "source": [
    "def _hash_of_file(path: str, algorithm: str) -> str:\n",
    "    \"\"\"Return the hash digest of a file.\"\"\"\n",
    "    with open(path, \"rb\") as archive:\n",
    "        hash = hashlib.new(algorithm)\n",
    "        for chunk in read_chunks(archive):\n",
    "            hash.update(chunk)\n",
    "    return hash.hexdigest()"
   ]
  }
 ],
 "metadata": {
  "jupytext": {
   "cell_metadata_filter": "-all",
   "main_language": "python",
   "notebook_metadata_filter": "-all"
  }
 },
 "nbformat": 4,
 "nbformat_minor": 5
}
