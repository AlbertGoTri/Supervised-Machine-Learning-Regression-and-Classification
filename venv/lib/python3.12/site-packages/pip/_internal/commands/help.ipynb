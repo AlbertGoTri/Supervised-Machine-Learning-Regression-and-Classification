{
 "cells": [
  {
   "cell_type": "code",
   "execution_count": null,
   "id": "0de7c2aa",
   "metadata": {},
   "outputs": [],
   "source": [
    "from optparse import Values\n",
    "from typing import List"
   ]
  },
  {
   "cell_type": "code",
   "execution_count": null,
   "id": "d5f3351f",
   "metadata": {},
   "outputs": [],
   "source": [
    "from pip._internal.cli.base_command import Command\n",
    "from pip._internal.cli.status_codes import SUCCESS\n",
    "from pip._internal.exceptions import CommandError"
   ]
  },
  {
   "cell_type": "code",
   "execution_count": null,
   "id": "b786c9d8",
   "metadata": {},
   "outputs": [],
   "source": [
    "class HelpCommand(Command):\n",
    "    \"\"\"Show help for commands\"\"\"\n",
    "\n",
    "    usage = \"\"\"\n",
    "      %prog <command>\"\"\"\n",
    "    ignore_require_venv = True\n",
    "\n",
    "    def run(self, options: Values, args: List[str]) -> int:\n",
    "        from pip._internal.commands import (\n",
    "            commands_dict,\n",
    "            create_command,\n",
    "            get_similar_commands,\n",
    "        )\n",
    "\n",
    "        try:\n",
    "            # 'pip help' with no args is handled by pip.__init__.parseopt()\n",
    "            cmd_name = args[0]  # the command we need help for\n",
    "        except IndexError:\n",
    "            return SUCCESS\n",
    "\n",
    "        if cmd_name not in commands_dict:\n",
    "            guess = get_similar_commands(cmd_name)\n",
    "\n",
    "            msg = [f'unknown command \"{cmd_name}\"']\n",
    "            if guess:\n",
    "                msg.append(f'maybe you meant \"{guess}\"')\n",
    "\n",
    "            raise CommandError(\" - \".join(msg))\n",
    "\n",
    "        command = create_command(cmd_name)\n",
    "        command.parser.print_help()\n",
    "\n",
    "        return SUCCESS"
   ]
  }
 ],
 "metadata": {
  "jupytext": {
   "cell_metadata_filter": "-all",
   "main_language": "python",
   "notebook_metadata_filter": "-all"
  }
 },
 "nbformat": 4,
 "nbformat_minor": 5
}
