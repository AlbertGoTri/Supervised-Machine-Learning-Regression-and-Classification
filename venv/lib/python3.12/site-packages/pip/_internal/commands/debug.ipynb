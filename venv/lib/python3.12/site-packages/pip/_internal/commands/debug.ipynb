{
 "cells": [
  {
   "cell_type": "code",
   "execution_count": null,
   "id": "3169bb5b",
   "metadata": {},
   "outputs": [],
   "source": [
    "import importlib.resources\n",
    "import locale\n",
    "import logging\n",
    "import os\n",
    "import sys\n",
    "from optparse import Values\n",
    "from types import ModuleType\n",
    "from typing import Any, Dict, List, Optional"
   ]
  },
  {
   "cell_type": "code",
   "execution_count": null,
   "id": "a7aa920d",
   "metadata": {},
   "outputs": [],
   "source": [
    "import pip._vendor\n",
    "from pip._vendor.certifi import where\n",
    "from pip._vendor.packaging.version import parse as parse_version"
   ]
  },
  {
   "cell_type": "code",
   "execution_count": null,
   "id": "10607940",
   "metadata": {},
   "outputs": [],
   "source": [
    "from pip._internal.cli import cmdoptions\n",
    "from pip._internal.cli.base_command import Command\n",
    "from pip._internal.cli.cmdoptions import make_target_python\n",
    "from pip._internal.cli.status_codes import SUCCESS\n",
    "from pip._internal.configuration import Configuration\n",
    "from pip._internal.metadata import get_environment\n",
    "from pip._internal.utils.logging import indent_log\n",
    "from pip._internal.utils.misc import get_pip_version"
   ]
  },
  {
   "cell_type": "code",
   "execution_count": null,
   "id": "b2b05e29",
   "metadata": {},
   "outputs": [],
   "source": [
    "logger = logging.getLogger(__name__)"
   ]
  },
  {
   "cell_type": "code",
   "execution_count": null,
   "id": "4042697f",
   "metadata": {},
   "outputs": [],
   "source": [
    "def show_value(name: str, value: Any) -> None:\n",
    "    logger.info(\"%s: %s\", name, value)"
   ]
  },
  {
   "cell_type": "code",
   "execution_count": null,
   "id": "f96bdbd8",
   "metadata": {},
   "outputs": [],
   "source": [
    "def show_sys_implementation() -> None:\n",
    "    logger.info(\"sys.implementation:\")\n",
    "    implementation_name = sys.implementation.name\n",
    "    with indent_log():\n",
    "        show_value(\"name\", implementation_name)"
   ]
  },
  {
   "cell_type": "code",
   "execution_count": null,
   "id": "d1280c0e",
   "metadata": {},
   "outputs": [],
   "source": [
    "def create_vendor_txt_map() -> Dict[str, str]:\n",
    "    with importlib.resources.open_text(\"pip._vendor\", \"vendor.txt\") as f:\n",
    "        # Purge non version specifying lines.\n",
    "        # Also, remove any space prefix or suffixes (including comments).\n",
    "        lines = [\n",
    "            line.strip().split(\" \", 1)[0] for line in f.readlines() if \"==\" in line\n",
    "        ]\n",
    "\n",
    "    # Transform into \"module\" -> version dict.\n",
    "    return dict(line.split(\"==\", 1) for line in lines)"
   ]
  },
  {
   "cell_type": "code",
   "execution_count": null,
   "id": "a63bd78e",
   "metadata": {},
   "outputs": [],
   "source": [
    "def get_module_from_module_name(module_name: str) -> Optional[ModuleType]:\n",
    "    # Module name can be uppercase in vendor.txt for some reason...\n",
    "    module_name = module_name.lower().replace(\"-\", \"_\")\n",
    "    # PATCH: setuptools is actually only pkg_resources.\n",
    "    if module_name == \"setuptools\":\n",
    "        module_name = \"pkg_resources\"\n",
    "\n",
    "    try:\n",
    "        __import__(f\"pip._vendor.{module_name}\", globals(), locals(), level=0)\n",
    "        return getattr(pip._vendor, module_name)\n",
    "    except ImportError:\n",
    "        # We allow 'truststore' to fail to import due\n",
    "        # to being unavailable on Python 3.9 and earlier.\n",
    "        if module_name == \"truststore\" and sys.version_info < (3, 10):\n",
    "            return None\n",
    "        raise"
   ]
  },
  {
   "cell_type": "code",
   "execution_count": null,
   "id": "eed6a478",
   "metadata": {},
   "outputs": [],
   "source": [
    "def get_vendor_version_from_module(module_name: str) -> Optional[str]:\n",
    "    module = get_module_from_module_name(module_name)\n",
    "    version = getattr(module, \"__version__\", None)\n",
    "\n",
    "    if module and not version:\n",
    "        # Try to find version in debundled module info.\n",
    "        assert module.__file__ is not None\n",
    "        env = get_environment([os.path.dirname(module.__file__)])\n",
    "        dist = env.get_distribution(module_name)\n",
    "        if dist:\n",
    "            version = str(dist.version)\n",
    "\n",
    "    return version"
   ]
  },
  {
   "cell_type": "code",
   "execution_count": null,
   "id": "18595584",
   "metadata": {},
   "outputs": [],
   "source": [
    "def show_actual_vendor_versions(vendor_txt_versions: Dict[str, str]) -> None:\n",
    "    \"\"\"Log the actual version and print extra info if there is\n",
    "    a conflict or if the actual version could not be imported.\n",
    "    \"\"\"\n",
    "    for module_name, expected_version in vendor_txt_versions.items():\n",
    "        extra_message = \"\"\n",
    "        actual_version = get_vendor_version_from_module(module_name)\n",
    "        if not actual_version:\n",
    "            extra_message = (\n",
    "                \" (Unable to locate actual module version, using\"\n",
    "                \" vendor.txt specified version)\"\n",
    "            )\n",
    "            actual_version = expected_version\n",
    "        elif parse_version(actual_version) != parse_version(expected_version):\n",
    "            extra_message = (\n",
    "                \" (CONFLICT: vendor.txt suggests version should\"\n",
    "                f\" be {expected_version})\"\n",
    "            )\n",
    "        logger.info(\"%s==%s%s\", module_name, actual_version, extra_message)"
   ]
  },
  {
   "cell_type": "code",
   "execution_count": null,
   "id": "d87d4670",
   "metadata": {},
   "outputs": [],
   "source": [
    "def show_vendor_versions() -> None:\n",
    "    logger.info(\"vendored library versions:\")\n",
    "\n",
    "    vendor_txt_versions = create_vendor_txt_map()\n",
    "    with indent_log():\n",
    "        show_actual_vendor_versions(vendor_txt_versions)"
   ]
  },
  {
   "cell_type": "code",
   "execution_count": null,
   "id": "a214fb55",
   "metadata": {},
   "outputs": [],
   "source": [
    "def show_tags(options: Values) -> None:\n",
    "    tag_limit = 10\n",
    "\n",
    "    target_python = make_target_python(options)\n",
    "    tags = target_python.get_sorted_tags()\n",
    "\n",
    "    # Display the target options that were explicitly provided.\n",
    "    formatted_target = target_python.format_given()\n",
    "    suffix = \"\"\n",
    "    if formatted_target:\n",
    "        suffix = f\" (target: {formatted_target})\"\n",
    "\n",
    "    msg = f\"Compatible tags: {len(tags)}{suffix}\"\n",
    "    logger.info(msg)\n",
    "\n",
    "    if options.verbose < 1 and len(tags) > tag_limit:\n",
    "        tags_limited = True\n",
    "        tags = tags[:tag_limit]\n",
    "    else:\n",
    "        tags_limited = False\n",
    "\n",
    "    with indent_log():\n",
    "        for tag in tags:\n",
    "            logger.info(str(tag))\n",
    "\n",
    "        if tags_limited:\n",
    "            msg = f\"...\\n[First {tag_limit} tags shown. Pass --verbose to show all.]\"\n",
    "            logger.info(msg)"
   ]
  },
  {
   "cell_type": "code",
   "execution_count": null,
   "id": "f9608dd3",
   "metadata": {},
   "outputs": [],
   "source": [
    "def ca_bundle_info(config: Configuration) -> str:\n",
    "    levels = {key.split(\".\", 1)[0] for key, _ in config.items()}\n",
    "    if not levels:\n",
    "        return \"Not specified\"\n",
    "\n",
    "    levels_that_override_global = [\"install\", \"wheel\", \"download\"]\n",
    "    global_overriding_level = [\n",
    "        level for level in levels if level in levels_that_override_global\n",
    "    ]\n",
    "    if not global_overriding_level:\n",
    "        return \"global\"\n",
    "\n",
    "    if \"global\" in levels:\n",
    "        levels.remove(\"global\")\n",
    "    return \", \".join(levels)"
   ]
  },
  {
   "cell_type": "code",
   "execution_count": null,
   "id": "4dbe831c",
   "metadata": {},
   "outputs": [],
   "source": [
    "class DebugCommand(Command):\n",
    "    \"\"\"\n",
    "    Display debug information.\n",
    "    \"\"\"\n",
    "\n",
    "    usage = \"\"\"\n",
    "      %prog <options>\"\"\"\n",
    "    ignore_require_venv = True\n",
    "\n",
    "    def add_options(self) -> None:\n",
    "        cmdoptions.add_target_python_options(self.cmd_opts)\n",
    "        self.parser.insert_option_group(0, self.cmd_opts)\n",
    "        self.parser.config.load()\n",
    "\n",
    "    def run(self, options: Values, args: List[str]) -> int:\n",
    "        logger.warning(\n",
    "            \"This command is only meant for debugging. \"\n",
    "            \"Do not use this with automation for parsing and getting these \"\n",
    "            \"details, since the output and options of this command may \"\n",
    "            \"change without notice.\"\n",
    "        )\n",
    "        show_value(\"pip version\", get_pip_version())\n",
    "        show_value(\"sys.version\", sys.version)\n",
    "        show_value(\"sys.executable\", sys.executable)\n",
    "        show_value(\"sys.getdefaultencoding\", sys.getdefaultencoding())\n",
    "        show_value(\"sys.getfilesystemencoding\", sys.getfilesystemencoding())\n",
    "        show_value(\n",
    "            \"locale.getpreferredencoding\",\n",
    "            locale.getpreferredencoding(),\n",
    "        )\n",
    "        show_value(\"sys.platform\", sys.platform)\n",
    "        show_sys_implementation()\n",
    "\n",
    "        show_value(\"'cert' config value\", ca_bundle_info(self.parser.config))\n",
    "        show_value(\"REQUESTS_CA_BUNDLE\", os.environ.get(\"REQUESTS_CA_BUNDLE\"))\n",
    "        show_value(\"CURL_CA_BUNDLE\", os.environ.get(\"CURL_CA_BUNDLE\"))\n",
    "        show_value(\"pip._vendor.certifi.where()\", where())\n",
    "        show_value(\"pip._vendor.DEBUNDLED\", pip._vendor.DEBUNDLED)\n",
    "\n",
    "        show_vendor_versions()\n",
    "\n",
    "        show_tags(options)\n",
    "\n",
    "        return SUCCESS"
   ]
  }
 ],
 "metadata": {
  "jupytext": {
   "cell_metadata_filter": "-all",
   "main_language": "python",
   "notebook_metadata_filter": "-all"
  }
 },
 "nbformat": 4,
 "nbformat_minor": 5
}
