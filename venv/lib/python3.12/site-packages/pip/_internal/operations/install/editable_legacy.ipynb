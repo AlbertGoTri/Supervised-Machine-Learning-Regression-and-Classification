{
 "cells": [
  {
   "cell_type": "code",
   "execution_count": null,
   "id": "867dca57",
   "metadata": {},
   "outputs": [],
   "source": [
    "\"\"\"Legacy editable installation process, i.e. `setup.py develop`.\n",
    "\"\"\"\n",
    "import logging\n",
    "from typing import Optional, Sequence"
   ]
  },
  {
   "cell_type": "code",
   "execution_count": null,
   "id": "180e12d4",
   "metadata": {},
   "outputs": [],
   "source": [
    "from pip._internal.build_env import BuildEnvironment\n",
    "from pip._internal.utils.logging import indent_log\n",
    "from pip._internal.utils.setuptools_build import make_setuptools_develop_args\n",
    "from pip._internal.utils.subprocess import call_subprocess"
   ]
  },
  {
   "cell_type": "code",
   "execution_count": null,
   "id": "19e7d9ca",
   "metadata": {},
   "outputs": [],
   "source": [
    "logger = logging.getLogger(__name__)"
   ]
  },
  {
   "cell_type": "code",
   "execution_count": null,
   "id": "fb9963b2",
   "metadata": {},
   "outputs": [],
   "source": [
    "def install_editable(\n",
    "    *,\n",
    "    global_options: Sequence[str],\n",
    "    prefix: Optional[str],\n",
    "    home: Optional[str],\n",
    "    use_user_site: bool,\n",
    "    name: str,\n",
    "    setup_py_path: str,\n",
    "    isolated: bool,\n",
    "    build_env: BuildEnvironment,\n",
    "    unpacked_source_directory: str,\n",
    ") -> None:\n",
    "    \"\"\"Install a package in editable mode. Most arguments are pass-through\n",
    "    to setuptools.\n",
    "    \"\"\"\n",
    "    logger.info(\"Running setup.py develop for %s\", name)\n",
    "\n",
    "    args = make_setuptools_develop_args(\n",
    "        setup_py_path,\n",
    "        global_options=global_options,\n",
    "        no_user_config=isolated,\n",
    "        prefix=prefix,\n",
    "        home=home,\n",
    "        use_user_site=use_user_site,\n",
    "    )\n",
    "\n",
    "    with indent_log():\n",
    "        with build_env:\n",
    "            call_subprocess(\n",
    "                args,\n",
    "                command_desc=\"python setup.py develop\",\n",
    "                cwd=unpacked_source_directory,\n",
    "            )"
   ]
  }
 ],
 "metadata": {
  "jupytext": {
   "cell_metadata_filter": "-all",
   "main_language": "python",
   "notebook_metadata_filter": "-all"
  }
 },
 "nbformat": 4,
 "nbformat_minor": 5
}
