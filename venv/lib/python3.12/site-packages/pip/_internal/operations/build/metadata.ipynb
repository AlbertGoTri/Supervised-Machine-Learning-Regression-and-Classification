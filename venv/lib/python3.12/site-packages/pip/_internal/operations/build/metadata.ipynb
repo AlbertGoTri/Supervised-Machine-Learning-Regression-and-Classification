{
 "cells": [
  {
   "cell_type": "code",
   "execution_count": null,
   "id": "b9503c54",
   "metadata": {},
   "outputs": [],
   "source": [
    "\"\"\"Metadata generation logic for source distributions.\n",
    "\"\"\""
   ]
  },
  {
   "cell_type": "code",
   "execution_count": null,
   "id": "cb10d49a",
   "metadata": {},
   "outputs": [],
   "source": [
    "import os"
   ]
  },
  {
   "cell_type": "code",
   "execution_count": null,
   "id": "9655f938",
   "metadata": {},
   "outputs": [],
   "source": [
    "from pip._vendor.pyproject_hooks import BuildBackendHookCaller"
   ]
  },
  {
   "cell_type": "code",
   "execution_count": null,
   "id": "49df6fd6",
   "metadata": {},
   "outputs": [],
   "source": [
    "from pip._internal.build_env import BuildEnvironment\n",
    "from pip._internal.exceptions import (\n",
    "    InstallationSubprocessError,\n",
    "    MetadataGenerationFailed,\n",
    ")\n",
    "from pip._internal.utils.subprocess import runner_with_spinner_message\n",
    "from pip._internal.utils.temp_dir import TempDirectory"
   ]
  },
  {
   "cell_type": "code",
   "execution_count": null,
   "id": "18e52697",
   "metadata": {},
   "outputs": [],
   "source": [
    "def generate_metadata(\n",
    "    build_env: BuildEnvironment, backend: BuildBackendHookCaller, details: str\n",
    ") -> str:\n",
    "    \"\"\"Generate metadata using mechanisms described in PEP 517.\n",
    "\n",
    "    Returns the generated metadata directory.\n",
    "    \"\"\"\n",
    "    metadata_tmpdir = TempDirectory(kind=\"modern-metadata\", globally_managed=True)\n",
    "\n",
    "    metadata_dir = metadata_tmpdir.path\n",
    "\n",
    "    with build_env:\n",
    "        # Note that BuildBackendHookCaller implements a fallback for\n",
    "        # prepare_metadata_for_build_wheel, so we don't have to\n",
    "        # consider the possibility that this hook doesn't exist.\n",
    "        runner = runner_with_spinner_message(\"Preparing metadata (pyproject.toml)\")\n",
    "        with backend.subprocess_runner(runner):\n",
    "            try:\n",
    "                distinfo_dir = backend.prepare_metadata_for_build_wheel(metadata_dir)\n",
    "            except InstallationSubprocessError as error:\n",
    "                raise MetadataGenerationFailed(package_details=details) from error\n",
    "\n",
    "    return os.path.join(metadata_dir, distinfo_dir)"
   ]
  }
 ],
 "metadata": {
  "jupytext": {
   "cell_metadata_filter": "-all",
   "main_language": "python",
   "notebook_metadata_filter": "-all"
  }
 },
 "nbformat": 4,
 "nbformat_minor": 5
}
