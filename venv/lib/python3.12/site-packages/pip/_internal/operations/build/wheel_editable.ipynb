{
 "cells": [
  {
   "cell_type": "code",
   "execution_count": null,
   "id": "e894eed4",
   "metadata": {},
   "outputs": [],
   "source": [
    "import logging\n",
    "import os\n",
    "from typing import Optional"
   ]
  },
  {
   "cell_type": "code",
   "execution_count": null,
   "id": "b8001d18",
   "metadata": {},
   "outputs": [],
   "source": [
    "from pip._vendor.pyproject_hooks import BuildBackendHookCaller, HookMissing"
   ]
  },
  {
   "cell_type": "code",
   "execution_count": null,
   "id": "6089f8c2",
   "metadata": {},
   "outputs": [],
   "source": [
    "from pip._internal.utils.subprocess import runner_with_spinner_message"
   ]
  },
  {
   "cell_type": "code",
   "execution_count": null,
   "id": "27bc7ca6",
   "metadata": {},
   "outputs": [],
   "source": [
    "logger = logging.getLogger(__name__)"
   ]
  },
  {
   "cell_type": "code",
   "execution_count": null,
   "id": "98bbaaf6",
   "metadata": {},
   "outputs": [],
   "source": [
    "def build_wheel_editable(\n",
    "    name: str,\n",
    "    backend: BuildBackendHookCaller,\n",
    "    metadata_directory: str,\n",
    "    tempd: str,\n",
    ") -> Optional[str]:\n",
    "    \"\"\"Build one InstallRequirement using the PEP 660 build process.\n",
    "\n",
    "    Returns path to wheel if successfully built. Otherwise, returns None.\n",
    "    \"\"\"\n",
    "    assert metadata_directory is not None\n",
    "    try:\n",
    "        logger.debug(\"Destination directory: %s\", tempd)\n",
    "\n",
    "        runner = runner_with_spinner_message(\n",
    "            f\"Building editable for {name} (pyproject.toml)\"\n",
    "        )\n",
    "        with backend.subprocess_runner(runner):\n",
    "            try:\n",
    "                wheel_name = backend.build_editable(\n",
    "                    tempd,\n",
    "                    metadata_directory=metadata_directory,\n",
    "                )\n",
    "            except HookMissing as e:\n",
    "                logger.error(\n",
    "                    \"Cannot build editable %s because the build \"\n",
    "                    \"backend does not have the %s hook\",\n",
    "                    name,\n",
    "                    e,\n",
    "                )\n",
    "                return None\n",
    "    except Exception:\n",
    "        logger.error(\"Failed building editable for %s\", name)\n",
    "        return None\n",
    "    return os.path.join(tempd, wheel_name)"
   ]
  }
 ],
 "metadata": {
  "jupytext": {
   "cell_metadata_filter": "-all",
   "main_language": "python",
   "notebook_metadata_filter": "-all"
  }
 },
 "nbformat": 4,
 "nbformat_minor": 5
}
