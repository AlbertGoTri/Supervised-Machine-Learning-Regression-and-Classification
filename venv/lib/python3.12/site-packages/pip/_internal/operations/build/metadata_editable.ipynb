{
 "cells": [
  {
   "cell_type": "code",
   "execution_count": null,
   "id": "50ade76b",
   "metadata": {},
   "outputs": [],
   "source": [
    "\"\"\"Metadata generation logic for source distributions.\n",
    "\"\"\""
   ]
  },
  {
   "cell_type": "code",
   "execution_count": null,
   "id": "89e3bfdc",
   "metadata": {},
   "outputs": [],
   "source": [
    "import os"
   ]
  },
  {
   "cell_type": "code",
   "execution_count": null,
   "id": "5b225235",
   "metadata": {},
   "outputs": [],
   "source": [
    "from pip._vendor.pyproject_hooks import BuildBackendHookCaller"
   ]
  },
  {
   "cell_type": "code",
   "execution_count": null,
   "id": "8142e2c6",
   "metadata": {},
   "outputs": [],
   "source": [
    "from pip._internal.build_env import BuildEnvironment\n",
    "from pip._internal.exceptions import (\n",
    "    InstallationSubprocessError,\n",
    "    MetadataGenerationFailed,\n",
    ")\n",
    "from pip._internal.utils.subprocess import runner_with_spinner_message\n",
    "from pip._internal.utils.temp_dir import TempDirectory"
   ]
  },
  {
   "cell_type": "code",
   "execution_count": null,
   "id": "ecf5301a",
   "metadata": {},
   "outputs": [],
   "source": [
    "def generate_editable_metadata(\n",
    "    build_env: BuildEnvironment, backend: BuildBackendHookCaller, details: str\n",
    ") -> str:\n",
    "    \"\"\"Generate metadata using mechanisms described in PEP 660.\n",
    "\n",
    "    Returns the generated metadata directory.\n",
    "    \"\"\"\n",
    "    metadata_tmpdir = TempDirectory(kind=\"modern-metadata\", globally_managed=True)\n",
    "\n",
    "    metadata_dir = metadata_tmpdir.path\n",
    "\n",
    "    with build_env:\n",
    "        # Note that BuildBackendHookCaller implements a fallback for\n",
    "        # prepare_metadata_for_build_wheel/editable, so we don't have to\n",
    "        # consider the possibility that this hook doesn't exist.\n",
    "        runner = runner_with_spinner_message(\n",
    "            \"Preparing editable metadata (pyproject.toml)\"\n",
    "        )\n",
    "        with backend.subprocess_runner(runner):\n",
    "            try:\n",
    "                distinfo_dir = backend.prepare_metadata_for_build_editable(metadata_dir)\n",
    "            except InstallationSubprocessError as error:\n",
    "                raise MetadataGenerationFailed(package_details=details) from error\n",
    "\n",
    "    return os.path.join(metadata_dir, distinfo_dir)"
   ]
  }
 ],
 "metadata": {
  "jupytext": {
   "cell_metadata_filter": "-all",
   "main_language": "python",
   "notebook_metadata_filter": "-all"
  }
 },
 "nbformat": 4,
 "nbformat_minor": 5
}
