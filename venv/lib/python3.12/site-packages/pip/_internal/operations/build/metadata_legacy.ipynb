{
 "cells": [
  {
   "cell_type": "code",
   "execution_count": null,
   "id": "16bb6f07",
   "metadata": {},
   "outputs": [],
   "source": [
    "\"\"\"Metadata generation logic for legacy source distributions.\n",
    "\"\"\""
   ]
  },
  {
   "cell_type": "code",
   "execution_count": null,
   "id": "15f49df5",
   "metadata": {},
   "outputs": [],
   "source": [
    "import logging\n",
    "import os"
   ]
  },
  {
   "cell_type": "code",
   "execution_count": null,
   "id": "1826a096",
   "metadata": {},
   "outputs": [],
   "source": [
    "from pip._internal.build_env import BuildEnvironment\n",
    "from pip._internal.cli.spinners import open_spinner\n",
    "from pip._internal.exceptions import (\n",
    "    InstallationError,\n",
    "    InstallationSubprocessError,\n",
    "    MetadataGenerationFailed,\n",
    ")\n",
    "from pip._internal.utils.setuptools_build import make_setuptools_egg_info_args\n",
    "from pip._internal.utils.subprocess import call_subprocess\n",
    "from pip._internal.utils.temp_dir import TempDirectory"
   ]
  },
  {
   "cell_type": "code",
   "execution_count": null,
   "id": "7a072793",
   "metadata": {},
   "outputs": [],
   "source": [
    "logger = logging.getLogger(__name__)"
   ]
  },
  {
   "cell_type": "code",
   "execution_count": null,
   "id": "625fd073",
   "metadata": {},
   "outputs": [],
   "source": [
    "def _find_egg_info(directory: str) -> str:\n",
    "    \"\"\"Find an .egg-info subdirectory in `directory`.\"\"\"\n",
    "    filenames = [f for f in os.listdir(directory) if f.endswith(\".egg-info\")]\n",
    "\n",
    "    if not filenames:\n",
    "        raise InstallationError(f\"No .egg-info directory found in {directory}\")\n",
    "\n",
    "    if len(filenames) > 1:\n",
    "        raise InstallationError(\n",
    "            \"More than one .egg-info directory found in {}\".format(directory)\n",
    "        )\n",
    "\n",
    "    return os.path.join(directory, filenames[0])"
   ]
  },
  {
   "cell_type": "code",
   "execution_count": null,
   "id": "ed10bf16",
   "metadata": {},
   "outputs": [],
   "source": [
    "def generate_metadata(\n",
    "    build_env: BuildEnvironment,\n",
    "    setup_py_path: str,\n",
    "    source_dir: str,\n",
    "    isolated: bool,\n",
    "    details: str,\n",
    ") -> str:\n",
    "    \"\"\"Generate metadata using setup.py-based defacto mechanisms.\n",
    "\n",
    "    Returns the generated metadata directory.\n",
    "    \"\"\"\n",
    "    logger.debug(\n",
    "        \"Running setup.py (path:%s) egg_info for package %s\",\n",
    "        setup_py_path,\n",
    "        details,\n",
    "    )\n",
    "\n",
    "    egg_info_dir = TempDirectory(kind=\"pip-egg-info\", globally_managed=True).path\n",
    "\n",
    "    args = make_setuptools_egg_info_args(\n",
    "        setup_py_path,\n",
    "        egg_info_dir=egg_info_dir,\n",
    "        no_user_config=isolated,\n",
    "    )\n",
    "\n",
    "    with build_env:\n",
    "        with open_spinner(\"Preparing metadata (setup.py)\") as spinner:\n",
    "            try:\n",
    "                call_subprocess(\n",
    "                    args,\n",
    "                    cwd=source_dir,\n",
    "                    command_desc=\"python setup.py egg_info\",\n",
    "                    spinner=spinner,\n",
    "                )\n",
    "            except InstallationSubprocessError as error:\n",
    "                raise MetadataGenerationFailed(package_details=details) from error\n",
    "\n",
    "    # Return the .egg-info directory.\n",
    "    return _find_egg_info(egg_info_dir)"
   ]
  }
 ],
 "metadata": {
  "jupytext": {
   "cell_metadata_filter": "-all",
   "main_language": "python",
   "notebook_metadata_filter": "-all"
  }
 },
 "nbformat": 4,
 "nbformat_minor": 5
}
