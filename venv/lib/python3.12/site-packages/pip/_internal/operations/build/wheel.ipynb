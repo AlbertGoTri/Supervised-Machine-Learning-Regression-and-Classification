{
 "cells": [
  {
   "cell_type": "code",
   "execution_count": null,
   "id": "33bbf48e",
   "metadata": {},
   "outputs": [],
   "source": [
    "import logging\n",
    "import os\n",
    "from typing import Optional"
   ]
  },
  {
   "cell_type": "code",
   "execution_count": null,
   "id": "96cfbe49",
   "metadata": {},
   "outputs": [],
   "source": [
    "from pip._vendor.pyproject_hooks import BuildBackendHookCaller"
   ]
  },
  {
   "cell_type": "code",
   "execution_count": null,
   "id": "e3306ad9",
   "metadata": {},
   "outputs": [],
   "source": [
    "from pip._internal.utils.subprocess import runner_with_spinner_message"
   ]
  },
  {
   "cell_type": "code",
   "execution_count": null,
   "id": "1e562370",
   "metadata": {},
   "outputs": [],
   "source": [
    "logger = logging.getLogger(__name__)"
   ]
  },
  {
   "cell_type": "code",
   "execution_count": null,
   "id": "966b6a62",
   "metadata": {},
   "outputs": [],
   "source": [
    "def build_wheel_pep517(\n",
    "    name: str,\n",
    "    backend: BuildBackendHookCaller,\n",
    "    metadata_directory: str,\n",
    "    tempd: str,\n",
    ") -> Optional[str]:\n",
    "    \"\"\"Build one InstallRequirement using the PEP 517 build process.\n",
    "\n",
    "    Returns path to wheel if successfully built. Otherwise, returns None.\n",
    "    \"\"\"\n",
    "    assert metadata_directory is not None\n",
    "    try:\n",
    "        logger.debug(\"Destination directory: %s\", tempd)\n",
    "\n",
    "        runner = runner_with_spinner_message(\n",
    "            f\"Building wheel for {name} (pyproject.toml)\"\n",
    "        )\n",
    "        with backend.subprocess_runner(runner):\n",
    "            wheel_name = backend.build_wheel(\n",
    "                tempd,\n",
    "                metadata_directory=metadata_directory,\n",
    "            )\n",
    "    except Exception:\n",
    "        logger.error(\"Failed building wheel for %s\", name)\n",
    "        return None\n",
    "    return os.path.join(tempd, wheel_name)"
   ]
  }
 ],
 "metadata": {
  "jupytext": {
   "cell_metadata_filter": "-all",
   "main_language": "python",
   "notebook_metadata_filter": "-all"
  }
 },
 "nbformat": 4,
 "nbformat_minor": 5
}
