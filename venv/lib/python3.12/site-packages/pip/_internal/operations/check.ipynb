{
 "cells": [
  {
   "cell_type": "code",
   "execution_count": null,
   "id": "72942857",
   "metadata": {},
   "outputs": [],
   "source": [
    "\"\"\"Validation of dependencies of packages\n",
    "\"\"\""
   ]
  },
  {
   "cell_type": "code",
   "execution_count": null,
   "id": "e777b022",
   "metadata": {},
   "outputs": [],
   "source": [
    "import logging\n",
    "from typing import Callable, Dict, List, NamedTuple, Optional, Set, Tuple"
   ]
  },
  {
   "cell_type": "code",
   "execution_count": null,
   "id": "a065a94e",
   "metadata": {},
   "outputs": [],
   "source": [
    "from pip._vendor.packaging.requirements import Requirement\n",
    "from pip._vendor.packaging.specifiers import LegacySpecifier\n",
    "from pip._vendor.packaging.utils import NormalizedName, canonicalize_name\n",
    "from pip._vendor.packaging.version import LegacyVersion"
   ]
  },
  {
   "cell_type": "code",
   "execution_count": null,
   "id": "d9e64233",
   "metadata": {},
   "outputs": [],
   "source": [
    "from pip._internal.distributions import make_distribution_for_install_requirement\n",
    "from pip._internal.metadata import get_default_environment\n",
    "from pip._internal.metadata.base import DistributionVersion\n",
    "from pip._internal.req.req_install import InstallRequirement\n",
    "from pip._internal.utils.deprecation import deprecated"
   ]
  },
  {
   "cell_type": "code",
   "execution_count": null,
   "id": "05189a98",
   "metadata": {},
   "outputs": [],
   "source": [
    "logger = logging.getLogger(__name__)"
   ]
  },
  {
   "cell_type": "code",
   "execution_count": null,
   "id": "9f8df905",
   "metadata": {},
   "outputs": [],
   "source": [
    "class PackageDetails(NamedTuple):\n",
    "    version: DistributionVersion\n",
    "    dependencies: List[Requirement]"
   ]
  },
  {
   "cell_type": "code",
   "execution_count": null,
   "id": "ac22a1f5",
   "metadata": {},
   "outputs": [],
   "source": [
    "# Shorthands\n",
    "PackageSet = Dict[NormalizedName, PackageDetails]\n",
    "Missing = Tuple[NormalizedName, Requirement]\n",
    "Conflicting = Tuple[NormalizedName, DistributionVersion, Requirement]"
   ]
  },
  {
   "cell_type": "code",
   "execution_count": null,
   "id": "fec32681",
   "metadata": {},
   "outputs": [],
   "source": [
    "MissingDict = Dict[NormalizedName, List[Missing]]\n",
    "ConflictingDict = Dict[NormalizedName, List[Conflicting]]\n",
    "CheckResult = Tuple[MissingDict, ConflictingDict]\n",
    "ConflictDetails = Tuple[PackageSet, CheckResult]"
   ]
  },
  {
   "cell_type": "code",
   "execution_count": null,
   "id": "3fd8d5ed",
   "metadata": {},
   "outputs": [],
   "source": [
    "def create_package_set_from_installed() -> Tuple[PackageSet, bool]:\n",
    "    \"\"\"Converts a list of distributions into a PackageSet.\"\"\"\n",
    "    package_set = {}\n",
    "    problems = False\n",
    "    env = get_default_environment()\n",
    "    for dist in env.iter_installed_distributions(local_only=False, skip=()):\n",
    "        name = dist.canonical_name\n",
    "        try:\n",
    "            dependencies = list(dist.iter_dependencies())\n",
    "            package_set[name] = PackageDetails(dist.version, dependencies)\n",
    "        except (OSError, ValueError) as e:\n",
    "            # Don't crash on unreadable or broken metadata.\n",
    "            logger.warning(\"Error parsing requirements for %s: %s\", name, e)\n",
    "            problems = True\n",
    "    return package_set, problems"
   ]
  },
  {
   "cell_type": "code",
   "execution_count": null,
   "id": "50ecb53d",
   "metadata": {},
   "outputs": [],
   "source": [
    "def check_package_set(\n",
    "    package_set: PackageSet, should_ignore: Optional[Callable[[str], bool]] = None\n",
    ") -> CheckResult:\n",
    "    \"\"\"Check if a package set is consistent\n",
    "\n",
    "    If should_ignore is passed, it should be a callable that takes a\n",
    "    package name and returns a boolean.\n",
    "    \"\"\"\n",
    "\n",
    "    warn_legacy_versions_and_specifiers(package_set)\n",
    "\n",
    "    missing = {}\n",
    "    conflicting = {}\n",
    "\n",
    "    for package_name, package_detail in package_set.items():\n",
    "        # Info about dependencies of package_name\n",
    "        missing_deps: Set[Missing] = set()\n",
    "        conflicting_deps: Set[Conflicting] = set()\n",
    "\n",
    "        if should_ignore and should_ignore(package_name):\n",
    "            continue\n",
    "\n",
    "        for req in package_detail.dependencies:\n",
    "            name = canonicalize_name(req.name)\n",
    "\n",
    "            # Check if it's missing\n",
    "            if name not in package_set:\n",
    "                missed = True\n",
    "                if req.marker is not None:\n",
    "                    missed = req.marker.evaluate({\"extra\": \"\"})\n",
    "                if missed:\n",
    "                    missing_deps.add((name, req))\n",
    "                continue\n",
    "\n",
    "            # Check if there's a conflict\n",
    "            version = package_set[name].version\n",
    "            if not req.specifier.contains(version, prereleases=True):\n",
    "                conflicting_deps.add((name, version, req))\n",
    "\n",
    "        if missing_deps:\n",
    "            missing[package_name] = sorted(missing_deps, key=str)\n",
    "        if conflicting_deps:\n",
    "            conflicting[package_name] = sorted(conflicting_deps, key=str)\n",
    "\n",
    "    return missing, conflicting"
   ]
  },
  {
   "cell_type": "code",
   "execution_count": null,
   "id": "810f7a71",
   "metadata": {},
   "outputs": [],
   "source": [
    "def check_install_conflicts(to_install: List[InstallRequirement]) -> ConflictDetails:\n",
    "    \"\"\"For checking if the dependency graph would be consistent after \\\n",
    "    installing given requirements\n",
    "    \"\"\"\n",
    "    # Start from the current state\n",
    "    package_set, _ = create_package_set_from_installed()\n",
    "    # Install packages\n",
    "    would_be_installed = _simulate_installation_of(to_install, package_set)\n",
    "\n",
    "    # Only warn about directly-dependent packages; create a whitelist of them\n",
    "    whitelist = _create_whitelist(would_be_installed, package_set)\n",
    "\n",
    "    return (\n",
    "        package_set,\n",
    "        check_package_set(\n",
    "            package_set, should_ignore=lambda name: name not in whitelist\n",
    "        ),\n",
    "    )"
   ]
  },
  {
   "cell_type": "code",
   "execution_count": null,
   "id": "7d62dcf5",
   "metadata": {},
   "outputs": [],
   "source": [
    "def _simulate_installation_of(\n",
    "    to_install: List[InstallRequirement], package_set: PackageSet\n",
    ") -> Set[NormalizedName]:\n",
    "    \"\"\"Computes the version of packages after installing to_install.\"\"\"\n",
    "    # Keep track of packages that were installed\n",
    "    installed = set()\n",
    "\n",
    "    # Modify it as installing requirement_set would (assuming no errors)\n",
    "    for inst_req in to_install:\n",
    "        abstract_dist = make_distribution_for_install_requirement(inst_req)\n",
    "        dist = abstract_dist.get_metadata_distribution()\n",
    "        name = dist.canonical_name\n",
    "        package_set[name] = PackageDetails(dist.version, list(dist.iter_dependencies()))\n",
    "\n",
    "        installed.add(name)\n",
    "\n",
    "    return installed"
   ]
  },
  {
   "cell_type": "code",
   "execution_count": null,
   "id": "67dac0c0",
   "metadata": {},
   "outputs": [],
   "source": [
    "def _create_whitelist(\n",
    "    would_be_installed: Set[NormalizedName], package_set: PackageSet\n",
    ") -> Set[NormalizedName]:\n",
    "    packages_affected = set(would_be_installed)\n",
    "\n",
    "    for package_name in package_set:\n",
    "        if package_name in packages_affected:\n",
    "            continue\n",
    "\n",
    "        for req in package_set[package_name].dependencies:\n",
    "            if canonicalize_name(req.name) in packages_affected:\n",
    "                packages_affected.add(package_name)\n",
    "                break\n",
    "\n",
    "    return packages_affected"
   ]
  },
  {
   "cell_type": "code",
   "execution_count": null,
   "id": "488d38ed",
   "metadata": {},
   "outputs": [],
   "source": [
    "def warn_legacy_versions_and_specifiers(package_set: PackageSet) -> None:\n",
    "    for project_name, package_details in package_set.items():\n",
    "        if isinstance(package_details.version, LegacyVersion):\n",
    "            deprecated(\n",
    "                reason=(\n",
    "                    f\"{project_name} {package_details.version} \"\n",
    "                    f\"has a non-standard version number.\"\n",
    "                ),\n",
    "                replacement=(\n",
    "                    f\"to upgrade to a newer version of {project_name} \"\n",
    "                    f\"or contact the author to suggest that they \"\n",
    "                    f\"release a version with a conforming version number\"\n",
    "                ),\n",
    "                issue=12063,\n",
    "                gone_in=\"24.1\",\n",
    "            )\n",
    "        for dep in package_details.dependencies:\n",
    "            if any(isinstance(spec, LegacySpecifier) for spec in dep.specifier):\n",
    "                deprecated(\n",
    "                    reason=(\n",
    "                        f\"{project_name} {package_details.version} \"\n",
    "                        f\"has a non-standard dependency specifier {dep}.\"\n",
    "                    ),\n",
    "                    replacement=(\n",
    "                        f\"to upgrade to a newer version of {project_name} \"\n",
    "                        f\"or contact the author to suggest that they \"\n",
    "                        f\"release a version with a conforming dependency specifiers\"\n",
    "                    ),\n",
    "                    issue=12063,\n",
    "                    gone_in=\"24.1\",\n",
    "                )"
   ]
  }
 ],
 "metadata": {
  "jupytext": {
   "cell_metadata_filter": "-all",
   "main_language": "python",
   "notebook_metadata_filter": "-all"
  }
 },
 "nbformat": 4,
 "nbformat_minor": 5
}
