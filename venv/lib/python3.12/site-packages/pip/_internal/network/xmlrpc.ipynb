{
 "cells": [
  {
   "cell_type": "code",
   "execution_count": null,
   "id": "fed7eb89",
   "metadata": {},
   "outputs": [],
   "source": [
    "\"\"\"xmlrpclib.Transport implementation\n",
    "\"\"\""
   ]
  },
  {
   "cell_type": "code",
   "execution_count": null,
   "id": "a7b7c632",
   "metadata": {},
   "outputs": [],
   "source": [
    "import logging\n",
    "import urllib.parse\n",
    "import xmlrpc.client\n",
    "from typing import TYPE_CHECKING, Tuple"
   ]
  },
  {
   "cell_type": "code",
   "execution_count": null,
   "id": "2e12787f",
   "metadata": {},
   "outputs": [],
   "source": [
    "from pip._internal.exceptions import NetworkConnectionError\n",
    "from pip._internal.network.session import PipSession\n",
    "from pip._internal.network.utils import raise_for_status"
   ]
  },
  {
   "cell_type": "code",
   "execution_count": null,
   "id": "98d8a4f2",
   "metadata": {},
   "outputs": [],
   "source": [
    "if TYPE_CHECKING:\n",
    "    from xmlrpc.client import _HostType, _Marshallable\n",
    "\n",
    "    from _typeshed import SizedBuffer"
   ]
  },
  {
   "cell_type": "code",
   "execution_count": null,
   "id": "a7a1a6ae",
   "metadata": {},
   "outputs": [],
   "source": [
    "logger = logging.getLogger(__name__)"
   ]
  },
  {
   "cell_type": "code",
   "execution_count": null,
   "id": "5b25d1e2",
   "metadata": {},
   "outputs": [],
   "source": [
    "class PipXmlrpcTransport(xmlrpc.client.Transport):\n",
    "    \"\"\"Provide a `xmlrpclib.Transport` implementation via a `PipSession`\n",
    "    object.\n",
    "    \"\"\"\n",
    "\n",
    "    def __init__(\n",
    "        self, index_url: str, session: PipSession, use_datetime: bool = False\n",
    "    ) -> None:\n",
    "        super().__init__(use_datetime)\n",
    "        index_parts = urllib.parse.urlparse(index_url)\n",
    "        self._scheme = index_parts.scheme\n",
    "        self._session = session\n",
    "\n",
    "    def request(\n",
    "        self,\n",
    "        host: \"_HostType\",\n",
    "        handler: str,\n",
    "        request_body: \"SizedBuffer\",\n",
    "        verbose: bool = False,\n",
    "    ) -> Tuple[\"_Marshallable\", ...]:\n",
    "        assert isinstance(host, str)\n",
    "        parts = (self._scheme, host, handler, None, None, None)\n",
    "        url = urllib.parse.urlunparse(parts)\n",
    "        try:\n",
    "            headers = {\"Content-Type\": \"text/xml\"}\n",
    "            response = self._session.post(\n",
    "                url,\n",
    "                data=request_body,\n",
    "                headers=headers,\n",
    "                stream=True,\n",
    "            )\n",
    "            raise_for_status(response)\n",
    "            self.verbose = verbose\n",
    "            return self.parse_response(response.raw)\n",
    "        except NetworkConnectionError as exc:\n",
    "            assert exc.response\n",
    "            logger.critical(\n",
    "                \"HTTP error %s while getting %s\",\n",
    "                exc.response.status_code,\n",
    "                url,\n",
    "            )\n",
    "            raise"
   ]
  }
 ],
 "metadata": {
  "jupytext": {
   "cell_metadata_filter": "-all",
   "main_language": "python",
   "notebook_metadata_filter": "-all"
  }
 },
 "nbformat": 4,
 "nbformat_minor": 5
}
