{
 "cells": [
  {
   "cell_type": "code",
   "execution_count": null,
   "id": "0a7b92ac",
   "metadata": {},
   "outputs": [],
   "source": [
    "import collections\n",
    "import logging\n",
    "from typing import Generator, List, Optional, Sequence, Tuple"
   ]
  },
  {
   "cell_type": "code",
   "execution_count": null,
   "id": "4f1cc6d8",
   "metadata": {},
   "outputs": [],
   "source": [
    "from pip._internal.utils.logging import indent_log"
   ]
  },
  {
   "cell_type": "code",
   "execution_count": null,
   "id": "1832df62",
   "metadata": {},
   "outputs": [],
   "source": [
    "from .req_file import parse_requirements\n",
    "from .req_install import InstallRequirement\n",
    "from .req_set import RequirementSet"
   ]
  },
  {
   "cell_type": "code",
   "execution_count": null,
   "id": "ca164633",
   "metadata": {},
   "outputs": [],
   "source": [
    "__all__ = [\n",
    "    \"RequirementSet\",\n",
    "    \"InstallRequirement\",\n",
    "    \"parse_requirements\",\n",
    "    \"install_given_reqs\",\n",
    "]"
   ]
  },
  {
   "cell_type": "code",
   "execution_count": null,
   "id": "4ac4341b",
   "metadata": {},
   "outputs": [],
   "source": [
    "logger = logging.getLogger(__name__)"
   ]
  },
  {
   "cell_type": "code",
   "execution_count": null,
   "id": "d7dd28d5",
   "metadata": {},
   "outputs": [],
   "source": [
    "class InstallationResult:\n",
    "    def __init__(self, name: str) -> None:\n",
    "        self.name = name\n",
    "\n",
    "    def __repr__(self) -> str:\n",
    "        return f\"InstallationResult(name={self.name!r})\""
   ]
  },
  {
   "cell_type": "code",
   "execution_count": null,
   "id": "ec28d3b9",
   "metadata": {},
   "outputs": [],
   "source": [
    "def _validate_requirements(\n",
    "    requirements: List[InstallRequirement],\n",
    ") -> Generator[Tuple[str, InstallRequirement], None, None]:\n",
    "    for req in requirements:\n",
    "        assert req.name, f\"invalid to-be-installed requirement: {req}\"\n",
    "        yield req.name, req"
   ]
  },
  {
   "cell_type": "code",
   "execution_count": null,
   "id": "52f38c67",
   "metadata": {},
   "outputs": [],
   "source": [
    "def install_given_reqs(\n",
    "    requirements: List[InstallRequirement],\n",
    "    global_options: Sequence[str],\n",
    "    root: Optional[str],\n",
    "    home: Optional[str],\n",
    "    prefix: Optional[str],\n",
    "    warn_script_location: bool,\n",
    "    use_user_site: bool,\n",
    "    pycompile: bool,\n",
    ") -> List[InstallationResult]:\n",
    "    \"\"\"\n",
    "    Install everything in the given list.\n",
    "\n",
    "    (to be called after having downloaded and unpacked the packages)\n",
    "    \"\"\"\n",
    "    to_install = collections.OrderedDict(_validate_requirements(requirements))\n",
    "\n",
    "    if to_install:\n",
    "        logger.info(\n",
    "            \"Installing collected packages: %s\",\n",
    "            \", \".join(to_install.keys()),\n",
    "        )\n",
    "\n",
    "    installed = []\n",
    "\n",
    "    with indent_log():\n",
    "        for req_name, requirement in to_install.items():\n",
    "            if requirement.should_reinstall:\n",
    "                logger.info(\"Attempting uninstall: %s\", req_name)\n",
    "                with indent_log():\n",
    "                    uninstalled_pathset = requirement.uninstall(auto_confirm=True)\n",
    "            else:\n",
    "                uninstalled_pathset = None\n",
    "\n",
    "            try:\n",
    "                requirement.install(\n",
    "                    global_options,\n",
    "                    root=root,\n",
    "                    home=home,\n",
    "                    prefix=prefix,\n",
    "                    warn_script_location=warn_script_location,\n",
    "                    use_user_site=use_user_site,\n",
    "                    pycompile=pycompile,\n",
    "                )\n",
    "            except Exception:\n",
    "                # if install did not succeed, rollback previous uninstall\n",
    "                if uninstalled_pathset and not requirement.install_succeeded:\n",
    "                    uninstalled_pathset.rollback()\n",
    "                raise\n",
    "            else:\n",
    "                if uninstalled_pathset and requirement.install_succeeded:\n",
    "                    uninstalled_pathset.commit()\n",
    "\n",
    "            installed.append(InstallationResult(req_name))\n",
    "\n",
    "    return installed"
   ]
  }
 ],
 "metadata": {
  "jupytext": {
   "cell_metadata_filter": "-all",
   "main_language": "python",
   "notebook_metadata_filter": "-all"
  }
 },
 "nbformat": 4,
 "nbformat_minor": 5
}
