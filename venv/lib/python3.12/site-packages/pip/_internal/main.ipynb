{
 "cells": [
  {
   "cell_type": "code",
   "execution_count": null,
   "id": "3f9c5771",
   "metadata": {},
   "outputs": [],
   "source": [
    "from typing import List, Optional"
   ]
  },
  {
   "cell_type": "code",
   "execution_count": null,
   "id": "32c990f7",
   "metadata": {},
   "outputs": [],
   "source": [
    "def main(args: Optional[List[str]] = None) -> int:\n",
    "    \"\"\"This is preserved for old console scripts that may still be referencing\n",
    "    it.\n",
    "\n",
    "    For additional details, see https://github.com/pypa/pip/issues/7498.\n",
    "    \"\"\"\n",
    "    from pip._internal.utils.entrypoints import _wrapper\n",
    "\n",
    "    return _wrapper(args)"
   ]
  }
 ],
 "metadata": {
  "jupytext": {
   "cell_metadata_filter": "-all",
   "main_language": "python",
   "notebook_metadata_filter": "-all"
  }
 },
 "nbformat": 4,
 "nbformat_minor": 5
}
