{
 "cells": [
  {
   "cell_type": "code",
   "execution_count": null,
   "id": "cd4ceff4",
   "metadata": {},
   "outputs": [],
   "source": [
    "from typing import Callable, List, Optional"
   ]
  },
  {
   "cell_type": "code",
   "execution_count": null,
   "id": "6a9a9eea",
   "metadata": {},
   "outputs": [],
   "source": [
    "from pip._internal.req.req_install import InstallRequirement\n",
    "from pip._internal.req.req_set import RequirementSet"
   ]
  },
  {
   "cell_type": "code",
   "execution_count": null,
   "id": "7dc29453",
   "metadata": {},
   "outputs": [],
   "source": [
    "InstallRequirementProvider = Callable[\n",
    "    [str, Optional[InstallRequirement]], InstallRequirement\n",
    "]"
   ]
  },
  {
   "cell_type": "code",
   "execution_count": null,
   "id": "527974fd",
   "metadata": {},
   "outputs": [],
   "source": [
    "class BaseResolver:\n",
    "    def resolve(\n",
    "        self, root_reqs: List[InstallRequirement], check_supported_wheels: bool\n",
    "    ) -> RequirementSet:\n",
    "        raise NotImplementedError()\n",
    "\n",
    "    def get_installation_order(\n",
    "        self, req_set: RequirementSet\n",
    "    ) -> List[InstallRequirement]:\n",
    "        raise NotImplementedError()"
   ]
  }
 ],
 "metadata": {
  "jupytext": {
   "cell_metadata_filter": "-all",
   "main_language": "python",
   "notebook_metadata_filter": "-all"
  }
 },
 "nbformat": 4,
 "nbformat_minor": 5
}
