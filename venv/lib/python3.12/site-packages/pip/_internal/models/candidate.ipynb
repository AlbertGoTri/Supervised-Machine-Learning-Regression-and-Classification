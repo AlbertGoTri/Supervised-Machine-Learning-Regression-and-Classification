{
 "cells": [
  {
   "cell_type": "code",
   "execution_count": null,
   "id": "c9d93bec",
   "metadata": {},
   "outputs": [],
   "source": [
    "from pip._vendor.packaging.version import parse as parse_version"
   ]
  },
  {
   "cell_type": "code",
   "execution_count": null,
   "id": "1ee9d7bc",
   "metadata": {},
   "outputs": [],
   "source": [
    "from pip._internal.models.link import Link\n",
    "from pip._internal.utils.models import KeyBasedCompareMixin"
   ]
  },
  {
   "cell_type": "code",
   "execution_count": null,
   "id": "e8cdf342",
   "metadata": {},
   "outputs": [],
   "source": [
    "class InstallationCandidate(KeyBasedCompareMixin):\n",
    "    \"\"\"Represents a potential \"candidate\" for installation.\"\"\"\n",
    "\n",
    "    __slots__ = [\"name\", \"version\", \"link\"]\n",
    "\n",
    "    def __init__(self, name: str, version: str, link: Link) -> None:\n",
    "        self.name = name\n",
    "        self.version = parse_version(version)\n",
    "        self.link = link\n",
    "\n",
    "        super().__init__(\n",
    "            key=(self.name, self.version, self.link),\n",
    "            defining_class=InstallationCandidate,\n",
    "        )\n",
    "\n",
    "    def __repr__(self) -> str:\n",
    "        return \"<InstallationCandidate({!r}, {!r}, {!r})>\".format(\n",
    "            self.name,\n",
    "            self.version,\n",
    "            self.link,\n",
    "        )\n",
    "\n",
    "    def __str__(self) -> str:\n",
    "        return f\"{self.name!r} candidate (version {self.version} at {self.link})\""
   ]
  }
 ],
 "metadata": {
  "jupytext": {
   "cell_metadata_filter": "-all",
   "main_language": "python",
   "notebook_metadata_filter": "-all"
  }
 },
 "nbformat": 4,
 "nbformat_minor": 5
}
