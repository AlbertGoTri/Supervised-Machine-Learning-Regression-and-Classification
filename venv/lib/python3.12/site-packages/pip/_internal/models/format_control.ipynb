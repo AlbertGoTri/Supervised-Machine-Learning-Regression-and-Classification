{
 "cells": [
  {
   "cell_type": "code",
   "execution_count": null,
   "id": "a0c41390",
   "metadata": {},
   "outputs": [],
   "source": [
    "from typing import FrozenSet, Optional, Set"
   ]
  },
  {
   "cell_type": "code",
   "execution_count": null,
   "id": "10f10c05",
   "metadata": {},
   "outputs": [],
   "source": [
    "from pip._vendor.packaging.utils import canonicalize_name"
   ]
  },
  {
   "cell_type": "code",
   "execution_count": null,
   "id": "80bdba3b",
   "metadata": {},
   "outputs": [],
   "source": [
    "from pip._internal.exceptions import CommandError"
   ]
  },
  {
   "cell_type": "code",
   "execution_count": null,
   "id": "79d00910",
   "metadata": {},
   "outputs": [],
   "source": [
    "class FormatControl:\n",
    "    \"\"\"Helper for managing formats from which a package can be installed.\"\"\"\n",
    "\n",
    "    __slots__ = [\"no_binary\", \"only_binary\"]\n",
    "\n",
    "    def __init__(\n",
    "        self,\n",
    "        no_binary: Optional[Set[str]] = None,\n",
    "        only_binary: Optional[Set[str]] = None,\n",
    "    ) -> None:\n",
    "        if no_binary is None:\n",
    "            no_binary = set()\n",
    "        if only_binary is None:\n",
    "            only_binary = set()\n",
    "\n",
    "        self.no_binary = no_binary\n",
    "        self.only_binary = only_binary\n",
    "\n",
    "    def __eq__(self, other: object) -> bool:\n",
    "        if not isinstance(other, self.__class__):\n",
    "            return NotImplemented\n",
    "\n",
    "        if self.__slots__ != other.__slots__:\n",
    "            return False\n",
    "\n",
    "        return all(getattr(self, k) == getattr(other, k) for k in self.__slots__)\n",
    "\n",
    "    def __repr__(self) -> str:\n",
    "        return f\"{self.__class__.__name__}({self.no_binary}, {self.only_binary})\"\n",
    "\n",
    "    @staticmethod\n",
    "    def handle_mutual_excludes(value: str, target: Set[str], other: Set[str]) -> None:\n",
    "        if value.startswith(\"-\"):\n",
    "            raise CommandError(\n",
    "                \"--no-binary / --only-binary option requires 1 argument.\"\n",
    "            )\n",
    "        new = value.split(\",\")\n",
    "        while \":all:\" in new:\n",
    "            other.clear()\n",
    "            target.clear()\n",
    "            target.add(\":all:\")\n",
    "            del new[: new.index(\":all:\") + 1]\n",
    "            # Without a none, we want to discard everything as :all: covers it\n",
    "            if \":none:\" not in new:\n",
    "                return\n",
    "        for name in new:\n",
    "            if name == \":none:\":\n",
    "                target.clear()\n",
    "                continue\n",
    "            name = canonicalize_name(name)\n",
    "            other.discard(name)\n",
    "            target.add(name)\n",
    "\n",
    "    def get_allowed_formats(self, canonical_name: str) -> FrozenSet[str]:\n",
    "        result = {\"binary\", \"source\"}\n",
    "        if canonical_name in self.only_binary:\n",
    "            result.discard(\"source\")\n",
    "        elif canonical_name in self.no_binary:\n",
    "            result.discard(\"binary\")\n",
    "        elif \":all:\" in self.only_binary:\n",
    "            result.discard(\"source\")\n",
    "        elif \":all:\" in self.no_binary:\n",
    "            result.discard(\"binary\")\n",
    "        return frozenset(result)\n",
    "\n",
    "    def disallow_binaries(self) -> None:\n",
    "        self.handle_mutual_excludes(\n",
    "            \":all:\",\n",
    "            self.no_binary,\n",
    "            self.only_binary,\n",
    "        )"
   ]
  }
 ],
 "metadata": {
  "jupytext": {
   "cell_metadata_filter": "-all",
   "main_language": "python",
   "notebook_metadata_filter": "-all"
  }
 },
 "nbformat": 4,
 "nbformat_minor": 5
}
