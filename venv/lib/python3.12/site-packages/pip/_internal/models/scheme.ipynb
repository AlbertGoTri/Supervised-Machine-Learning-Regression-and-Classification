{
 "cells": [
  {
   "cell_type": "code",
   "execution_count": null,
   "id": "fc214e29",
   "metadata": {
    "lines_to_next_cell": 2
   },
   "outputs": [],
   "source": [
    "\"\"\"\n",
    "For types associated with installation schemes.\n",
    "\n",
    "For a general overview of available schemes and their context, see\n",
    "https://docs.python.org/3/install/index.html#alternate-installation.\n",
    "\"\"\""
   ]
  },
  {
   "cell_type": "code",
   "execution_count": null,
   "id": "97ce02ee",
   "metadata": {},
   "outputs": [],
   "source": [
    "SCHEME_KEYS = [\"platlib\", \"purelib\", \"headers\", \"scripts\", \"data\"]"
   ]
  },
  {
   "cell_type": "code",
   "execution_count": null,
   "id": "eb0f6c9f",
   "metadata": {},
   "outputs": [],
   "source": [
    "class Scheme:\n",
    "    \"\"\"A Scheme holds paths which are used as the base directories for\n",
    "    artifacts associated with a Python package.\n",
    "    \"\"\"\n",
    "\n",
    "    __slots__ = SCHEME_KEYS\n",
    "\n",
    "    def __init__(\n",
    "        self,\n",
    "        platlib: str,\n",
    "        purelib: str,\n",
    "        headers: str,\n",
    "        scripts: str,\n",
    "        data: str,\n",
    "    ) -> None:\n",
    "        self.platlib = platlib\n",
    "        self.purelib = purelib\n",
    "        self.headers = headers\n",
    "        self.scripts = scripts\n",
    "        self.data = data"
   ]
  }
 ],
 "metadata": {
  "jupytext": {
   "cell_metadata_filter": "-all",
   "main_language": "python",
   "notebook_metadata_filter": "-all"
  }
 },
 "nbformat": 4,
 "nbformat_minor": 5
}
