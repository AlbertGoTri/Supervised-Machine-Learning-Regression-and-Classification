{
 "cells": [
  {
   "cell_type": "code",
   "execution_count": null,
   "id": "4fdc3987",
   "metadata": {},
   "outputs": [],
   "source": [
    "import urllib.parse"
   ]
  },
  {
   "cell_type": "code",
   "execution_count": null,
   "id": "1e1e559e",
   "metadata": {},
   "outputs": [],
   "source": [
    "class PackageIndex:\n",
    "    \"\"\"Represents a Package Index and provides easier access to endpoints\"\"\"\n",
    "\n",
    "    __slots__ = [\"url\", \"netloc\", \"simple_url\", \"pypi_url\", \"file_storage_domain\"]\n",
    "\n",
    "    def __init__(self, url: str, file_storage_domain: str) -> None:\n",
    "        super().__init__()\n",
    "        self.url = url\n",
    "        self.netloc = urllib.parse.urlsplit(url).netloc\n",
    "        self.simple_url = self._url_for_path(\"simple\")\n",
    "        self.pypi_url = self._url_for_path(\"pypi\")\n",
    "\n",
    "        # This is part of a temporary hack used to block installs of PyPI\n",
    "        # packages which depend on external urls only necessary until PyPI can\n",
    "        # block such packages themselves\n",
    "        self.file_storage_domain = file_storage_domain\n",
    "\n",
    "    def _url_for_path(self, path: str) -> str:\n",
    "        return urllib.parse.urljoin(self.url, path)"
   ]
  },
  {
   "cell_type": "code",
   "execution_count": null,
   "id": "526bb90e",
   "metadata": {},
   "outputs": [],
   "source": [
    "PyPI = PackageIndex(\"https://pypi.org/\", file_storage_domain=\"files.pythonhosted.org\")\n",
    "TestPyPI = PackageIndex(\n",
    "    \"https://test.pypi.org/\", file_storage_domain=\"test-files.pythonhosted.org\"\n",
    ")"
   ]
  }
 ],
 "metadata": {
  "jupytext": {
   "cell_metadata_filter": "-all",
   "main_language": "python",
   "notebook_metadata_filter": "-all"
  }
 },
 "nbformat": 4,
 "nbformat_minor": 5
}
