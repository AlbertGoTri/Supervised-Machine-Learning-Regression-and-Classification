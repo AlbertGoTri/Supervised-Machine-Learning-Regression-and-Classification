{
 "cells": [
  {
   "cell_type": "code",
   "execution_count": null,
   "id": "4cf157fe",
   "metadata": {},
   "outputs": [],
   "source": [
    "import functools\n",
    "import os\n",
    "import site\n",
    "import sys\n",
    "import sysconfig\n",
    "import typing"
   ]
  },
  {
   "cell_type": "code",
   "execution_count": null,
   "id": "801b5c2c",
   "metadata": {},
   "outputs": [],
   "source": [
    "from pip._internal.exceptions import InstallationError\n",
    "from pip._internal.utils import appdirs\n",
    "from pip._internal.utils.virtualenv import running_under_virtualenv"
   ]
  },
  {
   "cell_type": "code",
   "execution_count": null,
   "id": "69943af8",
   "metadata": {},
   "outputs": [],
   "source": [
    "# Application Directories\n",
    "USER_CACHE_DIR = appdirs.user_cache_dir(\"pip\")"
   ]
  },
  {
   "cell_type": "code",
   "execution_count": null,
   "id": "13f6836a",
   "metadata": {},
   "outputs": [],
   "source": [
    "# FIXME doesn't account for venv linked to global site-packages\n",
    "site_packages: str = sysconfig.get_path(\"purelib\")"
   ]
  },
  {
   "cell_type": "code",
   "execution_count": null,
   "id": "b4bb5cf0",
   "metadata": {},
   "outputs": [],
   "source": [
    "def get_major_minor_version() -> str:\n",
    "    \"\"\"\n",
    "    Return the major-minor version of the current Python as a string, e.g.\n",
    "    \"3.7\" or \"3.10\".\n",
    "    \"\"\"\n",
    "    return \"{}.{}\".format(*sys.version_info)"
   ]
  },
  {
   "cell_type": "code",
   "execution_count": null,
   "id": "266049df",
   "metadata": {},
   "outputs": [],
   "source": [
    "def change_root(new_root: str, pathname: str) -> str:\n",
    "    \"\"\"Return 'pathname' with 'new_root' prepended.\n",
    "\n",
    "    If 'pathname' is relative, this is equivalent to os.path.join(new_root, pathname).\n",
    "    Otherwise, it requires making 'pathname' relative and then joining the\n",
    "    two, which is tricky on DOS/Windows and Mac OS.\n",
    "\n",
    "    This is borrowed from Python's standard library's distutils module.\n",
    "    \"\"\"\n",
    "    if os.name == \"posix\":\n",
    "        if not os.path.isabs(pathname):\n",
    "            return os.path.join(new_root, pathname)\n",
    "        else:\n",
    "            return os.path.join(new_root, pathname[1:])\n",
    "\n",
    "    elif os.name == \"nt\":\n",
    "        (drive, path) = os.path.splitdrive(pathname)\n",
    "        if path[0] == \"\\\\\":\n",
    "            path = path[1:]\n",
    "        return os.path.join(new_root, path)\n",
    "\n",
    "    else:\n",
    "        raise InstallationError(\n",
    "            f\"Unknown platform: {os.name}\\n\"\n",
    "            \"Can not change root path prefix on unknown platform.\"\n",
    "        )"
   ]
  },
  {
   "cell_type": "code",
   "execution_count": null,
   "id": "81a04342",
   "metadata": {},
   "outputs": [],
   "source": [
    "def get_src_prefix() -> str:\n",
    "    if running_under_virtualenv():\n",
    "        src_prefix = os.path.join(sys.prefix, \"src\")\n",
    "    else:\n",
    "        # FIXME: keep src in cwd for now (it is not a temporary folder)\n",
    "        try:\n",
    "            src_prefix = os.path.join(os.getcwd(), \"src\")\n",
    "        except OSError:\n",
    "            # In case the current working directory has been renamed or deleted\n",
    "            sys.exit(\"The folder you are executing pip from can no longer be found.\")\n",
    "\n",
    "    # under macOS + virtualenv sys.prefix is not properly resolved\n",
    "    # it is something like /path/to/python/bin/..\n",
    "    return os.path.abspath(src_prefix)"
   ]
  },
  {
   "cell_type": "code",
   "execution_count": null,
   "id": "94a1d1f1",
   "metadata": {},
   "outputs": [],
   "source": [
    "try:\n",
    "    # Use getusersitepackages if this is present, as it ensures that the\n",
    "    # value is initialised properly.\n",
    "    user_site: typing.Optional[str] = site.getusersitepackages()\n",
    "except AttributeError:\n",
    "    user_site = site.USER_SITE"
   ]
  },
  {
   "cell_type": "code",
   "execution_count": null,
   "id": "79f59c27",
   "metadata": {},
   "outputs": [],
   "source": [
    "@functools.lru_cache(maxsize=None)\n",
    "def is_osx_framework() -> bool:\n",
    "    return bool(sysconfig.get_config_var(\"PYTHONFRAMEWORK\"))"
   ]
  }
 ],
 "metadata": {
  "jupytext": {
   "cell_metadata_filter": "-all",
   "main_language": "python",
   "notebook_metadata_filter": "-all"
  }
 },
 "nbformat": 4,
 "nbformat_minor": 5
}
