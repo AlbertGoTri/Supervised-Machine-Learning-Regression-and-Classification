{
 "cells": [
  {
   "cell_type": "code",
   "execution_count": null,
   "id": "4c16c44c",
   "metadata": {},
   "outputs": [],
   "source": [
    "from typing import List, Optional"
   ]
  },
  {
   "cell_type": "code",
   "execution_count": null,
   "id": "99a94172",
   "metadata": {},
   "outputs": [],
   "source": [
    "from pip._internal.utils import _log"
   ]
  },
  {
   "cell_type": "code",
   "execution_count": null,
   "id": "7aef7fc2",
   "metadata": {},
   "outputs": [],
   "source": [
    "# init_logging() must be called before any call to logging.getLogger()\n",
    "# which happens at import of most modules.\n",
    "_log.init_logging()"
   ]
  },
  {
   "cell_type": "code",
   "execution_count": null,
   "id": "76a96b22",
   "metadata": {},
   "outputs": [],
   "source": [
    "def main(args: (Optional[List[str]]) = None) -> int:\n",
    "    \"\"\"This is preserved for old console scripts that may still be referencing\n",
    "    it.\n",
    "\n",
    "    For additional details, see https://github.com/pypa/pip/issues/7498.\n",
    "    \"\"\"\n",
    "    from pip._internal.utils.entrypoints import _wrapper\n",
    "\n",
    "    return _wrapper(args)"
   ]
  }
 ],
 "metadata": {
  "jupytext": {
   "cell_metadata_filter": "-all",
   "main_language": "python",
   "notebook_metadata_filter": "-all"
  }
 },
 "nbformat": 4,
 "nbformat_minor": 5
}
