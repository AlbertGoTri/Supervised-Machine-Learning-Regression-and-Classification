{
 "cells": [
  {
   "cell_type": "code",
   "execution_count": null,
   "id": "c767138a",
   "metadata": {},
   "outputs": [],
   "source": [
    "# Expose a limited set of classes and functions so callers outside of\n",
    "# the vcs package don't need to import deeper than `pip._internal.vcs`.\n",
    "# (The test directory may still need to import from a vcs sub-package.)\n",
    "# Import all vcs modules to register each VCS in the VcsSupport object.\n",
    "import pip._internal.vcs.bazaar\n",
    "import pip._internal.vcs.git\n",
    "import pip._internal.vcs.mercurial\n",
    "import pip._internal.vcs.subversion  # noqa: F401\n",
    "from pip._internal.vcs.versioncontrol import (  # noqa: F401\n",
    "    RemoteNotFoundError,\n",
    "    RemoteNotValidError,\n",
    "    is_url,\n",
    "    make_vcs_requirement_url,\n",
    "    vcs,\n",
    ")"
   ]
  }
 ],
 "metadata": {
  "jupytext": {
   "cell_metadata_filter": "-all",
   "main_language": "python",
   "notebook_metadata_filter": "-all"
  }
 },
 "nbformat": 4,
 "nbformat_minor": 5
}
