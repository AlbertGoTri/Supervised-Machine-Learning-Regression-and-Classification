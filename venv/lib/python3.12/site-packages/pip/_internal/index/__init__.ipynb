{
 "cells": [
  {
   "cell_type": "code",
   "execution_count": null,
   "id": "227d3fd2",
   "metadata": {},
   "outputs": [],
   "source": [
    "\"\"\"Index interaction code\n",
    "\"\"\""
   ]
  }
 ],
 "metadata": {
  "jupytext": {
   "cell_metadata_filter": "-all",
   "main_language": "python",
   "notebook_metadata_filter": "-all"
  }
 },
 "nbformat": 4,
 "nbformat_minor": 5
}
