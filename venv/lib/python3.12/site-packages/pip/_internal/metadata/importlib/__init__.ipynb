{
 "cells": [
  {
   "cell_type": "code",
   "execution_count": null,
   "id": "06a2cea4",
   "metadata": {},
   "outputs": [],
   "source": [
    "from ._dists import Distribution\n",
    "from ._envs import Environment"
   ]
  },
  {
   "cell_type": "code",
   "execution_count": null,
   "id": "4f3f2430",
   "metadata": {},
   "outputs": [],
   "source": [
    "__all__ = [\"NAME\", \"Distribution\", \"Environment\"]"
   ]
  },
  {
   "cell_type": "code",
   "execution_count": null,
   "id": "84843441",
   "metadata": {},
   "outputs": [],
   "source": [
    "NAME = \"importlib\""
   ]
  }
 ],
 "metadata": {
  "jupytext": {
   "cell_metadata_filter": "-all",
   "main_language": "python",
   "notebook_metadata_filter": "-all"
  }
 },
 "nbformat": 4,
 "nbformat_minor": 5
}
