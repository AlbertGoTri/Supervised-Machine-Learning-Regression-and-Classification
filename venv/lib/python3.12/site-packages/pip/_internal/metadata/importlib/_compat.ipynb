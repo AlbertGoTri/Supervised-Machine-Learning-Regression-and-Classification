{
 "cells": [
  {
   "cell_type": "code",
   "execution_count": null,
   "id": "b1f7c8c3",
   "metadata": {},
   "outputs": [],
   "source": [
    "import importlib.metadata\n",
    "from typing import Any, Optional, Protocol, cast"
   ]
  },
  {
   "cell_type": "code",
   "execution_count": null,
   "id": "cd691ee7",
   "metadata": {},
   "outputs": [],
   "source": [
    "class BadMetadata(ValueError):\n",
    "    def __init__(self, dist: importlib.metadata.Distribution, *, reason: str) -> None:\n",
    "        self.dist = dist\n",
    "        self.reason = reason\n",
    "\n",
    "    def __str__(self) -> str:\n",
    "        return f\"Bad metadata in {self.dist} ({self.reason})\""
   ]
  },
  {
   "cell_type": "code",
   "execution_count": null,
   "id": "7abd3165",
   "metadata": {},
   "outputs": [],
   "source": [
    "class BasePath(Protocol):\n",
    "    \"\"\"A protocol that various path objects conform.\n",
    "\n",
    "    This exists because importlib.metadata uses both ``pathlib.Path`` and\n",
    "    ``zipfile.Path``, and we need a common base for type hints (Union does not\n",
    "    work well since ``zipfile.Path`` is too new for our linter setup).\n",
    "\n",
    "    This does not mean to be exhaustive, but only contains things that present\n",
    "    in both classes *that we need*.\n",
    "    \"\"\"\n",
    "\n",
    "    @property\n",
    "    def name(self) -> str:\n",
    "        raise NotImplementedError()\n",
    "\n",
    "    @property\n",
    "    def parent(self) -> \"BasePath\":\n",
    "        raise NotImplementedError()"
   ]
  },
  {
   "cell_type": "code",
   "execution_count": null,
   "id": "c0f24653",
   "metadata": {},
   "outputs": [],
   "source": [
    "def get_info_location(d: importlib.metadata.Distribution) -> Optional[BasePath]:\n",
    "    \"\"\"Find the path to the distribution's metadata directory.\n",
    "\n",
    "    HACK: This relies on importlib.metadata's private ``_path`` attribute. Not\n",
    "    all distributions exist on disk, so importlib.metadata is correct to not\n",
    "    expose the attribute as public. But pip's code base is old and not as clean,\n",
    "    so we do this to avoid having to rewrite too many things. Hopefully we can\n",
    "    eliminate this some day.\n",
    "    \"\"\"\n",
    "    return getattr(d, \"_path\", None)"
   ]
  },
  {
   "cell_type": "code",
   "execution_count": null,
   "id": "d89efade",
   "metadata": {},
   "outputs": [],
   "source": [
    "def get_dist_name(dist: importlib.metadata.Distribution) -> str:\n",
    "    \"\"\"Get the distribution's project name.\n",
    "\n",
    "    The ``name`` attribute is only available in Python 3.10 or later. We are\n",
    "    targeting exactly that, but Mypy does not know this.\n",
    "    \"\"\"\n",
    "    name = cast(Any, dist).name\n",
    "    if not isinstance(name, str):\n",
    "        raise BadMetadata(dist, reason=\"invalid metadata entry 'name'\")\n",
    "    return name"
   ]
  }
 ],
 "metadata": {
  "jupytext": {
   "cell_metadata_filter": "-all",
   "main_language": "python",
   "notebook_metadata_filter": "-all"
  }
 },
 "nbformat": 4,
 "nbformat_minor": 5
}
