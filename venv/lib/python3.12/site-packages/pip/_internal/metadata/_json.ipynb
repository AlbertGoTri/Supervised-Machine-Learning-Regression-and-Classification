{
 "cells": [
  {
   "cell_type": "markdown",
   "id": "e6796e13",
   "metadata": {},
   "source": [
    "Extracted from https://github.com/pfmoore/pkg_metadata"
   ]
  },
  {
   "cell_type": "code",
   "execution_count": null,
   "id": "22d68e2f",
   "metadata": {},
   "outputs": [],
   "source": [
    "from email.header import Header, decode_header, make_header\n",
    "from email.message import Message\n",
    "from typing import Any, Dict, List, Union"
   ]
  },
  {
   "cell_type": "code",
   "execution_count": null,
   "id": "5b93da3e",
   "metadata": {},
   "outputs": [],
   "source": [
    "METADATA_FIELDS = [\n",
    "    # Name, Multiple-Use\n",
    "    (\"Metadata-Version\", False),\n",
    "    (\"Name\", False),\n",
    "    (\"Version\", False),\n",
    "    (\"Dynamic\", True),\n",
    "    (\"Platform\", True),\n",
    "    (\"Supported-Platform\", True),\n",
    "    (\"Summary\", False),\n",
    "    (\"Description\", False),\n",
    "    (\"Description-Content-Type\", False),\n",
    "    (\"Keywords\", False),\n",
    "    (\"Home-page\", False),\n",
    "    (\"Download-URL\", False),\n",
    "    (\"Author\", False),\n",
    "    (\"Author-email\", False),\n",
    "    (\"Maintainer\", False),\n",
    "    (\"Maintainer-email\", False),\n",
    "    (\"License\", False),\n",
    "    (\"Classifier\", True),\n",
    "    (\"Requires-Dist\", True),\n",
    "    (\"Requires-Python\", False),\n",
    "    (\"Requires-External\", True),\n",
    "    (\"Project-URL\", True),\n",
    "    (\"Provides-Extra\", True),\n",
    "    (\"Provides-Dist\", True),\n",
    "    (\"Obsoletes-Dist\", True),\n",
    "]"
   ]
  },
  {
   "cell_type": "code",
   "execution_count": null,
   "id": "e734d065",
   "metadata": {},
   "outputs": [],
   "source": [
    "def json_name(field: str) -> str:\n",
    "    return field.lower().replace(\"-\", \"_\")"
   ]
  },
  {
   "cell_type": "code",
   "execution_count": null,
   "id": "89e57f38",
   "metadata": {},
   "outputs": [],
   "source": [
    "def msg_to_json(msg: Message) -> Dict[str, Any]:\n",
    "    \"\"\"Convert a Message object into a JSON-compatible dictionary.\"\"\"\n",
    "\n",
    "    def sanitise_header(h: Union[Header, str]) -> str:\n",
    "        if isinstance(h, Header):\n",
    "            chunks = []\n",
    "            for bytes, encoding in decode_header(h):\n",
    "                if encoding == \"unknown-8bit\":\n",
    "                    try:\n",
    "                        # See if UTF-8 works\n",
    "                        bytes.decode(\"utf-8\")\n",
    "                        encoding = \"utf-8\"\n",
    "                    except UnicodeDecodeError:\n",
    "                        # If not, latin1 at least won't fail\n",
    "                        encoding = \"latin1\"\n",
    "                chunks.append((bytes, encoding))\n",
    "            return str(make_header(chunks))\n",
    "        return str(h)\n",
    "\n",
    "    result = {}\n",
    "    for field, multi in METADATA_FIELDS:\n",
    "        if field not in msg:\n",
    "            continue\n",
    "        key = json_name(field)\n",
    "        if multi:\n",
    "            value: Union[str, List[str]] = [\n",
    "                sanitise_header(v) for v in msg.get_all(field)  # type: ignore\n",
    "            ]\n",
    "        else:\n",
    "            value = sanitise_header(msg.get(field))  # type: ignore\n",
    "            if key == \"keywords\":\n",
    "                # Accept both comma-separated and space-separated\n",
    "                # forms, for better compatibility with old data.\n",
    "                if \",\" in value:\n",
    "                    value = [v.strip() for v in value.split(\",\")]\n",
    "                else:\n",
    "                    value = value.split()\n",
    "        result[key] = value\n",
    "\n",
    "    payload = msg.get_payload()\n",
    "    if payload:\n",
    "        result[\"description\"] = payload\n",
    "\n",
    "    return result"
   ]
  }
 ],
 "metadata": {
  "jupytext": {
   "cell_metadata_filter": "-all",
   "main_language": "python",
   "notebook_metadata_filter": "-all"
  }
 },
 "nbformat": 4,
 "nbformat_minor": 5
}
