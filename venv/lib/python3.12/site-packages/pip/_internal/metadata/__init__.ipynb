{
 "cells": [
  {
   "cell_type": "code",
   "execution_count": null,
   "id": "5521a3eb",
   "metadata": {},
   "outputs": [],
   "source": [
    "import contextlib\n",
    "import functools\n",
    "import os\n",
    "import sys\n",
    "from typing import TYPE_CHECKING, List, Optional, Type, cast"
   ]
  },
  {
   "cell_type": "code",
   "execution_count": null,
   "id": "d2f02eb5",
   "metadata": {},
   "outputs": [],
   "source": [
    "from pip._internal.utils.misc import strtobool"
   ]
  },
  {
   "cell_type": "code",
   "execution_count": null,
   "id": "9ae97ffb",
   "metadata": {},
   "outputs": [],
   "source": [
    "from .base import BaseDistribution, BaseEnvironment, FilesystemWheel, MemoryWheel, Wheel"
   ]
  },
  {
   "cell_type": "code",
   "execution_count": null,
   "id": "289c6a01",
   "metadata": {},
   "outputs": [],
   "source": [
    "if TYPE_CHECKING:\n",
    "    from typing import Literal, Protocol\n",
    "else:\n",
    "    Protocol = object"
   ]
  },
  {
   "cell_type": "code",
   "execution_count": null,
   "id": "535dd712",
   "metadata": {},
   "outputs": [],
   "source": [
    "__all__ = [\n",
    "    \"BaseDistribution\",\n",
    "    \"BaseEnvironment\",\n",
    "    \"FilesystemWheel\",\n",
    "    \"MemoryWheel\",\n",
    "    \"Wheel\",\n",
    "    \"get_default_environment\",\n",
    "    \"get_environment\",\n",
    "    \"get_wheel_distribution\",\n",
    "    \"select_backend\",\n",
    "]"
   ]
  },
  {
   "cell_type": "code",
   "execution_count": null,
   "id": "2e02cedb",
   "metadata": {},
   "outputs": [],
   "source": [
    "def _should_use_importlib_metadata() -> bool:\n",
    "    \"\"\"Whether to use the ``importlib.metadata`` or ``pkg_resources`` backend.\n",
    "\n",
    "    By default, pip uses ``importlib.metadata`` on Python 3.11+, and\n",
    "    ``pkg_resourcess`` otherwise. This can be overridden by a couple of ways:\n",
    "\n",
    "    * If environment variable ``_PIP_USE_IMPORTLIB_METADATA`` is set, it\n",
    "      dictates whether ``importlib.metadata`` is used, regardless of Python\n",
    "      version.\n",
    "    * On Python 3.11+, Python distributors can patch ``importlib.metadata``\n",
    "      to add a global constant ``_PIP_USE_IMPORTLIB_METADATA = False``. This\n",
    "      makes pip use ``pkg_resources`` (unless the user set the aforementioned\n",
    "      environment variable to *True*).\n",
    "    \"\"\"\n",
    "    with contextlib.suppress(KeyError, ValueError):\n",
    "        return bool(strtobool(os.environ[\"_PIP_USE_IMPORTLIB_METADATA\"]))\n",
    "    if sys.version_info < (3, 11):\n",
    "        return False\n",
    "    import importlib.metadata\n",
    "\n",
    "    return bool(getattr(importlib.metadata, \"_PIP_USE_IMPORTLIB_METADATA\", True))"
   ]
  },
  {
   "cell_type": "code",
   "execution_count": null,
   "id": "ca078301",
   "metadata": {},
   "outputs": [],
   "source": [
    "class Backend(Protocol):\n",
    "    NAME: 'Literal[\"importlib\", \"pkg_resources\"]'\n",
    "    Distribution: Type[BaseDistribution]\n",
    "    Environment: Type[BaseEnvironment]"
   ]
  },
  {
   "cell_type": "code",
   "execution_count": null,
   "id": "4588c0b2",
   "metadata": {},
   "outputs": [],
   "source": [
    "@functools.lru_cache(maxsize=None)\n",
    "def select_backend() -> Backend:\n",
    "    if _should_use_importlib_metadata():\n",
    "        from . import importlib\n",
    "\n",
    "        return cast(Backend, importlib)\n",
    "    from . import pkg_resources\n",
    "\n",
    "    return cast(Backend, pkg_resources)"
   ]
  },
  {
   "cell_type": "code",
   "execution_count": null,
   "id": "86fe4d47",
   "metadata": {},
   "outputs": [],
   "source": [
    "def get_default_environment() -> BaseEnvironment:\n",
    "    \"\"\"Get the default representation for the current environment.\n",
    "\n",
    "    This returns an Environment instance from the chosen backend. The default\n",
    "    Environment instance should be built from ``sys.path`` and may use caching\n",
    "    to share instance state accorss calls.\n",
    "    \"\"\"\n",
    "    return select_backend().Environment.default()"
   ]
  },
  {
   "cell_type": "code",
   "execution_count": null,
   "id": "7ce9e2d6",
   "metadata": {},
   "outputs": [],
   "source": [
    "def get_environment(paths: Optional[List[str]]) -> BaseEnvironment:\n",
    "    \"\"\"Get a representation of the environment specified by ``paths``.\n",
    "\n",
    "    This returns an Environment instance from the chosen backend based on the\n",
    "    given import paths. The backend must build a fresh instance representing\n",
    "    the state of installed distributions when this function is called.\n",
    "    \"\"\"\n",
    "    return select_backend().Environment.from_paths(paths)"
   ]
  },
  {
   "cell_type": "code",
   "execution_count": null,
   "id": "9e8c4eef",
   "metadata": {},
   "outputs": [],
   "source": [
    "def get_directory_distribution(directory: str) -> BaseDistribution:\n",
    "    \"\"\"Get the distribution metadata representation in the specified directory.\n",
    "\n",
    "    This returns a Distribution instance from the chosen backend based on\n",
    "    the given on-disk ``.dist-info`` directory.\n",
    "    \"\"\"\n",
    "    return select_backend().Distribution.from_directory(directory)"
   ]
  },
  {
   "cell_type": "code",
   "execution_count": null,
   "id": "17b0ba2a",
   "metadata": {},
   "outputs": [],
   "source": [
    "def get_wheel_distribution(wheel: Wheel, canonical_name: str) -> BaseDistribution:\n",
    "    \"\"\"Get the representation of the specified wheel's distribution metadata.\n",
    "\n",
    "    This returns a Distribution instance from the chosen backend based on\n",
    "    the given wheel's ``.dist-info`` directory.\n",
    "\n",
    "    :param canonical_name: Normalized project name of the given wheel.\n",
    "    \"\"\"\n",
    "    return select_backend().Distribution.from_wheel(wheel, canonical_name)"
   ]
  },
  {
   "cell_type": "code",
   "execution_count": null,
   "id": "23b5c523",
   "metadata": {},
   "outputs": [],
   "source": [
    "def get_metadata_distribution(\n",
    "    metadata_contents: bytes,\n",
    "    filename: str,\n",
    "    canonical_name: str,\n",
    ") -> BaseDistribution:\n",
    "    \"\"\"Get the dist representation of the specified METADATA file contents.\n",
    "\n",
    "    This returns a Distribution instance from the chosen backend sourced from the data\n",
    "    in `metadata_contents`.\n",
    "\n",
    "    :param metadata_contents: Contents of a METADATA file within a dist, or one served\n",
    "                              via PEP 658.\n",
    "    :param filename: Filename for the dist this metadata represents.\n",
    "    :param canonical_name: Normalized project name of the given dist.\n",
    "    \"\"\"\n",
    "    return select_backend().Distribution.from_metadata_file_contents(\n",
    "        metadata_contents,\n",
    "        filename,\n",
    "        canonical_name,\n",
    "    )"
   ]
  }
 ],
 "metadata": {
  "jupytext": {
   "cell_metadata_filter": "-all",
   "main_language": "python",
   "notebook_metadata_filter": "-all"
  }
 },
 "nbformat": 4,
 "nbformat_minor": 5
}
