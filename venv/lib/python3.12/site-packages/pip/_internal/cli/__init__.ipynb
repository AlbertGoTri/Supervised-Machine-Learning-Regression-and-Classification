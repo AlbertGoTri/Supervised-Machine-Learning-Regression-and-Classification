{
 "cells": [
  {
   "cell_type": "code",
   "execution_count": null,
   "id": "61a7cdcb",
   "metadata": {},
   "outputs": [],
   "source": [
    "\"\"\"Subpackage containing all of pip's command line interface related code\n",
    "\"\"\""
   ]
  },
  {
   "cell_type": "markdown",
   "id": "517ea9d3",
   "metadata": {},
   "source": [
    "This file intentionally does not import submodules"
   ]
  }
 ],
 "metadata": {
  "jupytext": {
   "cell_metadata_filter": "-all",
   "main_language": "python",
   "notebook_metadata_filter": "-all"
  }
 },
 "nbformat": 4,
 "nbformat_minor": 5
}
