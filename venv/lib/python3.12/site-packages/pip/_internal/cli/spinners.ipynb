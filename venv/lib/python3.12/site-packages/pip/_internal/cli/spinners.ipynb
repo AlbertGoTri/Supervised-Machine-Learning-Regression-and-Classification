{
 "cells": [
  {
   "cell_type": "code",
   "execution_count": null,
   "id": "0169d54d",
   "metadata": {},
   "outputs": [],
   "source": [
    "import contextlib\n",
    "import itertools\n",
    "import logging\n",
    "import sys\n",
    "import time\n",
    "from typing import IO, Generator, Optional"
   ]
  },
  {
   "cell_type": "code",
   "execution_count": null,
   "id": "ac1694ef",
   "metadata": {},
   "outputs": [],
   "source": [
    "from pip._internal.utils.compat import WINDOWS\n",
    "from pip._internal.utils.logging import get_indentation"
   ]
  },
  {
   "cell_type": "code",
   "execution_count": null,
   "id": "117e40df",
   "metadata": {},
   "outputs": [],
   "source": [
    "logger = logging.getLogger(__name__)"
   ]
  },
  {
   "cell_type": "code",
   "execution_count": null,
   "id": "41a7ee51",
   "metadata": {},
   "outputs": [],
   "source": [
    "class SpinnerInterface:\n",
    "    def spin(self) -> None:\n",
    "        raise NotImplementedError()\n",
    "\n",
    "    def finish(self, final_status: str) -> None:\n",
    "        raise NotImplementedError()"
   ]
  },
  {
   "cell_type": "code",
   "execution_count": null,
   "id": "f3c99d8e",
   "metadata": {},
   "outputs": [],
   "source": [
    "class InteractiveSpinner(SpinnerInterface):\n",
    "    def __init__(\n",
    "        self,\n",
    "        message: str,\n",
    "        file: Optional[IO[str]] = None,\n",
    "        spin_chars: str = \"-\\\\|/\",\n",
    "        # Empirically, 8 updates/second looks nice\n",
    "        min_update_interval_seconds: float = 0.125,\n",
    "    ):\n",
    "        self._message = message\n",
    "        if file is None:\n",
    "            file = sys.stdout\n",
    "        self._file = file\n",
    "        self._rate_limiter = RateLimiter(min_update_interval_seconds)\n",
    "        self._finished = False\n",
    "\n",
    "        self._spin_cycle = itertools.cycle(spin_chars)\n",
    "\n",
    "        self._file.write(\" \" * get_indentation() + self._message + \" ... \")\n",
    "        self._width = 0\n",
    "\n",
    "    def _write(self, status: str) -> None:\n",
    "        assert not self._finished\n",
    "        # Erase what we wrote before by backspacing to the beginning, writing\n",
    "        # spaces to overwrite the old text, and then backspacing again\n",
    "        backup = \"\\b\" * self._width\n",
    "        self._file.write(backup + \" \" * self._width + backup)\n",
    "        # Now we have a blank slate to add our status\n",
    "        self._file.write(status)\n",
    "        self._width = len(status)\n",
    "        self._file.flush()\n",
    "        self._rate_limiter.reset()\n",
    "\n",
    "    def spin(self) -> None:\n",
    "        if self._finished:\n",
    "            return\n",
    "        if not self._rate_limiter.ready():\n",
    "            return\n",
    "        self._write(next(self._spin_cycle))\n",
    "\n",
    "    def finish(self, final_status: str) -> None:\n",
    "        if self._finished:\n",
    "            return\n",
    "        self._write(final_status)\n",
    "        self._file.write(\"\\n\")\n",
    "        self._file.flush()\n",
    "        self._finished = True"
   ]
  },
  {
   "cell_type": "code",
   "execution_count": null,
   "id": "c8d08466",
   "metadata": {},
   "outputs": [],
   "source": [
    "# Used for dumb terminals, non-interactive installs (no tty), etc.\n",
    "# We still print updates occasionally (once every 60 seconds by default) to\n",
    "# act as a keep-alive for systems like Travis-CI that take lack-of-output as\n",
    "# an indication that a task has frozen.\n",
    "class NonInteractiveSpinner(SpinnerInterface):\n",
    "    def __init__(self, message: str, min_update_interval_seconds: float = 60.0) -> None:\n",
    "        self._message = message\n",
    "        self._finished = False\n",
    "        self._rate_limiter = RateLimiter(min_update_interval_seconds)\n",
    "        self._update(\"started\")\n",
    "\n",
    "    def _update(self, status: str) -> None:\n",
    "        assert not self._finished\n",
    "        self._rate_limiter.reset()\n",
    "        logger.info(\"%s: %s\", self._message, status)\n",
    "\n",
    "    def spin(self) -> None:\n",
    "        if self._finished:\n",
    "            return\n",
    "        if not self._rate_limiter.ready():\n",
    "            return\n",
    "        self._update(\"still running...\")\n",
    "\n",
    "    def finish(self, final_status: str) -> None:\n",
    "        if self._finished:\n",
    "            return\n",
    "        self._update(f\"finished with status '{final_status}'\")\n",
    "        self._finished = True"
   ]
  },
  {
   "cell_type": "code",
   "execution_count": null,
   "id": "7c3dbf5c",
   "metadata": {},
   "outputs": [],
   "source": [
    "class RateLimiter:\n",
    "    def __init__(self, min_update_interval_seconds: float) -> None:\n",
    "        self._min_update_interval_seconds = min_update_interval_seconds\n",
    "        self._last_update: float = 0\n",
    "\n",
    "    def ready(self) -> bool:\n",
    "        now = time.time()\n",
    "        delta = now - self._last_update\n",
    "        return delta >= self._min_update_interval_seconds\n",
    "\n",
    "    def reset(self) -> None:\n",
    "        self._last_update = time.time()"
   ]
  },
  {
   "cell_type": "code",
   "execution_count": null,
   "id": "3d9494ee",
   "metadata": {},
   "outputs": [],
   "source": [
    "@contextlib.contextmanager\n",
    "def open_spinner(message: str) -> Generator[SpinnerInterface, None, None]:\n",
    "    # Interactive spinner goes directly to sys.stdout rather than being routed\n",
    "    # through the logging system, but it acts like it has level INFO,\n",
    "    # i.e. it's only displayed if we're at level INFO or better.\n",
    "    # Non-interactive spinner goes through the logging system, so it is always\n",
    "    # in sync with logging configuration.\n",
    "    if sys.stdout.isatty() and logger.getEffectiveLevel() <= logging.INFO:\n",
    "        spinner: SpinnerInterface = InteractiveSpinner(message)\n",
    "    else:\n",
    "        spinner = NonInteractiveSpinner(message)\n",
    "    try:\n",
    "        with hidden_cursor(sys.stdout):\n",
    "            yield spinner\n",
    "    except KeyboardInterrupt:\n",
    "        spinner.finish(\"canceled\")\n",
    "        raise\n",
    "    except Exception:\n",
    "        spinner.finish(\"error\")\n",
    "        raise\n",
    "    else:\n",
    "        spinner.finish(\"done\")"
   ]
  },
  {
   "cell_type": "code",
   "execution_count": null,
   "id": "96564fe0",
   "metadata": {},
   "outputs": [],
   "source": [
    "HIDE_CURSOR = \"\\x1b[?25l\"\n",
    "SHOW_CURSOR = \"\\x1b[?25h\""
   ]
  },
  {
   "cell_type": "code",
   "execution_count": null,
   "id": "74a6b8e1",
   "metadata": {},
   "outputs": [],
   "source": [
    "@contextlib.contextmanager\n",
    "def hidden_cursor(file: IO[str]) -> Generator[None, None, None]:\n",
    "    # The Windows terminal does not support the hide/show cursor ANSI codes,\n",
    "    # even via colorama. So don't even try.\n",
    "    if WINDOWS:\n",
    "        yield\n",
    "    # We don't want to clutter the output with control characters if we're\n",
    "    # writing to a file, or if the user is running with --quiet.\n",
    "    # See https://github.com/pypa/pip/issues/3418\n",
    "    elif not file.isatty() or logger.getEffectiveLevel() > logging.INFO:\n",
    "        yield\n",
    "    else:\n",
    "        file.write(HIDE_CURSOR)\n",
    "        try:\n",
    "            yield\n",
    "        finally:\n",
    "            file.write(SHOW_CURSOR)"
   ]
  }
 ],
 "metadata": {
  "jupytext": {
   "cell_metadata_filter": "-all",
   "main_language": "python",
   "notebook_metadata_filter": "-all"
  }
 },
 "nbformat": 4,
 "nbformat_minor": 5
}
