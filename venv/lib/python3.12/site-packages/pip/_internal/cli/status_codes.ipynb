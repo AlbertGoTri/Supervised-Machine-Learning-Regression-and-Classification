{
 "cells": [
  {
   "cell_type": "code",
   "execution_count": null,
   "id": "25d765c1",
   "metadata": {},
   "outputs": [],
   "source": [
    "SUCCESS = 0\n",
    "ERROR = 1\n",
    "UNKNOWN_ERROR = 2\n",
    "VIRTUALENV_NOT_FOUND = 3\n",
    "PREVIOUS_BUILD_DIR_ERROR = 4\n",
    "NO_MATCHES_FOUND = 23"
   ]
  }
 ],
 "metadata": {
  "jupytext": {
   "cell_metadata_filter": "-all",
   "main_language": "python",
   "notebook_metadata_filter": "-all"
  }
 },
 "nbformat": 4,
 "nbformat_minor": 5
}
