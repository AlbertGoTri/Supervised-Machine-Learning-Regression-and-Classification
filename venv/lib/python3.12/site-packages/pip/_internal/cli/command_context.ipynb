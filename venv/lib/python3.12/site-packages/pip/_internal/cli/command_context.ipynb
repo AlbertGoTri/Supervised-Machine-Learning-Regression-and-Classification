{
 "cells": [
  {
   "cell_type": "code",
   "execution_count": null,
   "id": "77a5a14d",
   "metadata": {},
   "outputs": [],
   "source": [
    "from contextlib import ExitStack, contextmanager\n",
    "from typing import ContextManager, Generator, TypeVar"
   ]
  },
  {
   "cell_type": "code",
   "execution_count": null,
   "id": "5874a94a",
   "metadata": {},
   "outputs": [],
   "source": [
    "_T = TypeVar(\"_T\", covariant=True)"
   ]
  },
  {
   "cell_type": "code",
   "execution_count": null,
   "id": "9ac5fa93",
   "metadata": {},
   "outputs": [],
   "source": [
    "class CommandContextMixIn:\n",
    "    def __init__(self) -> None:\n",
    "        super().__init__()\n",
    "        self._in_main_context = False\n",
    "        self._main_context = ExitStack()\n",
    "\n",
    "    @contextmanager\n",
    "    def main_context(self) -> Generator[None, None, None]:\n",
    "        assert not self._in_main_context\n",
    "\n",
    "        self._in_main_context = True\n",
    "        try:\n",
    "            with self._main_context:\n",
    "                yield\n",
    "        finally:\n",
    "            self._in_main_context = False\n",
    "\n",
    "    def enter_context(self, context_provider: ContextManager[_T]) -> _T:\n",
    "        assert self._in_main_context\n",
    "\n",
    "        return self._main_context.enter_context(context_provider)"
   ]
  }
 ],
 "metadata": {
  "jupytext": {
   "cell_metadata_filter": "-all",
   "main_language": "python",
   "notebook_metadata_filter": "-all"
  }
 },
 "nbformat": 4,
 "nbformat_minor": 5
}
