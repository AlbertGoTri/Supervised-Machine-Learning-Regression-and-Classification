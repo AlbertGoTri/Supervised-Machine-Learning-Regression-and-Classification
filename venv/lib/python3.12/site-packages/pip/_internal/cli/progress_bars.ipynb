{
 "cells": [
  {
   "cell_type": "code",
   "execution_count": null,
   "id": "adabcacd",
   "metadata": {},
   "outputs": [],
   "source": [
    "import functools\n",
    "from typing import Callable, Generator, Iterable, Iterator, Optional, Tuple"
   ]
  },
  {
   "cell_type": "code",
   "execution_count": null,
   "id": "91f5848c",
   "metadata": {},
   "outputs": [],
   "source": [
    "from pip._vendor.rich.progress import (\n",
    "    BarColumn,\n",
    "    DownloadColumn,\n",
    "    FileSizeColumn,\n",
    "    Progress,\n",
    "    ProgressColumn,\n",
    "    SpinnerColumn,\n",
    "    TextColumn,\n",
    "    TimeElapsedColumn,\n",
    "    TimeRemainingColumn,\n",
    "    TransferSpeedColumn,\n",
    ")"
   ]
  },
  {
   "cell_type": "code",
   "execution_count": null,
   "id": "98dce57d",
   "metadata": {},
   "outputs": [],
   "source": [
    "from pip._internal.utils.logging import get_indentation"
   ]
  },
  {
   "cell_type": "code",
   "execution_count": null,
   "id": "21cba50e",
   "metadata": {},
   "outputs": [],
   "source": [
    "DownloadProgressRenderer = Callable[[Iterable[bytes]], Iterator[bytes]]"
   ]
  },
  {
   "cell_type": "code",
   "execution_count": null,
   "id": "a03bedf5",
   "metadata": {},
   "outputs": [],
   "source": [
    "def _rich_progress_bar(\n",
    "    iterable: Iterable[bytes],\n",
    "    *,\n",
    "    bar_type: str,\n",
    "    size: int,\n",
    ") -> Generator[bytes, None, None]:\n",
    "    assert bar_type == \"on\", \"This should only be used in the default mode.\"\n",
    "\n",
    "    if not size:\n",
    "        total = float(\"inf\")\n",
    "        columns: Tuple[ProgressColumn, ...] = (\n",
    "            TextColumn(\"[progress.description]{task.description}\"),\n",
    "            SpinnerColumn(\"line\", speed=1.5),\n",
    "            FileSizeColumn(),\n",
    "            TransferSpeedColumn(),\n",
    "            TimeElapsedColumn(),\n",
    "        )\n",
    "    else:\n",
    "        total = size\n",
    "        columns = (\n",
    "            TextColumn(\"[progress.description]{task.description}\"),\n",
    "            BarColumn(),\n",
    "            DownloadColumn(),\n",
    "            TransferSpeedColumn(),\n",
    "            TextColumn(\"eta\"),\n",
    "            TimeRemainingColumn(),\n",
    "        )\n",
    "\n",
    "    progress = Progress(*columns, refresh_per_second=30)\n",
    "    task_id = progress.add_task(\" \" * (get_indentation() + 2), total=total)\n",
    "    with progress:\n",
    "        for chunk in iterable:\n",
    "            yield chunk\n",
    "            progress.update(task_id, advance=len(chunk))"
   ]
  },
  {
   "cell_type": "code",
   "execution_count": null,
   "id": "fe7a1bb1",
   "metadata": {},
   "outputs": [],
   "source": [
    "def get_download_progress_renderer(\n",
    "    *, bar_type: str, size: Optional[int] = None\n",
    ") -> DownloadProgressRenderer:\n",
    "    \"\"\"Get an object that can be used to render the download progress.\n",
    "\n",
    "    Returns a callable, that takes an iterable to \"wrap\".\n",
    "    \"\"\"\n",
    "    if bar_type == \"on\":\n",
    "        return functools.partial(_rich_progress_bar, bar_type=bar_type, size=size)\n",
    "    else:\n",
    "        return iter  # no-op, when passed an iterator"
   ]
  }
 ],
 "metadata": {
  "jupytext": {
   "cell_metadata_filter": "-all",
   "main_language": "python",
   "notebook_metadata_filter": "-all"
  }
 },
 "nbformat": 4,
 "nbformat_minor": 5
}
