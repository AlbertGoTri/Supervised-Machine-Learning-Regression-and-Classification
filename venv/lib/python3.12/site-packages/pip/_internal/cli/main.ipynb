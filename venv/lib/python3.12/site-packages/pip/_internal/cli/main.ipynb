{
 "cells": [
  {
   "cell_type": "code",
   "execution_count": null,
   "id": "7d64362f",
   "metadata": {},
   "outputs": [],
   "source": [
    "\"\"\"Primary application entrypoint.\n",
    "\"\"\"\n",
    "import locale\n",
    "import logging\n",
    "import os\n",
    "import sys\n",
    "import warnings\n",
    "from typing import List, Optional"
   ]
  },
  {
   "cell_type": "code",
   "execution_count": null,
   "id": "91991579",
   "metadata": {},
   "outputs": [],
   "source": [
    "from pip._internal.cli.autocompletion import autocomplete\n",
    "from pip._internal.cli.main_parser import parse_command\n",
    "from pip._internal.commands import create_command\n",
    "from pip._internal.exceptions import PipError\n",
    "from pip._internal.utils import deprecation"
   ]
  },
  {
   "cell_type": "code",
   "execution_count": null,
   "id": "bea5f0b7",
   "metadata": {
    "lines_to_next_cell": 2
   },
   "outputs": [],
   "source": [
    "logger = logging.getLogger(__name__)"
   ]
  },
  {
   "cell_type": "markdown",
   "id": "47a821b3",
   "metadata": {},
   "source": [
    "Do not import and use main() directly! Using it directly is actively\n",
    "discouraged by pip's maintainers. The name, location and behavior of\n",
    "this function is subject to change, so calling it directly is not\n",
    "portable across different pip versions."
   ]
  },
  {
   "cell_type": "markdown",
   "id": "23d117a8",
   "metadata": {},
   "source": [
    "In addition, running pip in-process is unsupported and unsafe. This is\n",
    "elaborated in detail at\n",
    "https://pip.pypa.io/en/stable/user_guide/#using-pip-from-your-program.\n",
    "That document also provides suggestions that should work for nearly\n",
    "all users that are considering importing and using main() directly."
   ]
  },
  {
   "cell_type": "markdown",
   "id": "9570c4a7",
   "metadata": {},
   "source": [
    "However, we know that certain users will still want to invoke pip\n",
    "in-process. If you understand and accept the implications of using pip\n",
    "in an unsupported manner, the best approach is to use runpy to avoid\n",
    "depending on the exact location of this entry point."
   ]
  },
  {
   "cell_type": "markdown",
   "id": "775b8685",
   "metadata": {
    "lines_to_next_cell": 2
   },
   "source": [
    "The following example shows how to use runpy to invoke pip in that\n",
    "case:\n",
    "\n",
    "    sys.argv = [\"pip\", your, args, here]\n",
    "    runpy.run_module(\"pip\", run_name=\"__main__\")\n",
    "\n",
    "Note that this will exit the process after running, unlike a direct\n",
    "call to main. As it is not safe to do any processing after calling\n",
    "main, this should not be an issue in practice."
   ]
  },
  {
   "cell_type": "code",
   "execution_count": null,
   "id": "c260621a",
   "metadata": {},
   "outputs": [],
   "source": [
    "def main(args: Optional[List[str]] = None) -> int:\n",
    "    if args is None:\n",
    "        args = sys.argv[1:]\n",
    "\n",
    "    # Suppress the pkg_resources deprecation warning\n",
    "    # Note - we use a module of .*pkg_resources to cover\n",
    "    # the normal case (pip._vendor.pkg_resources) and the\n",
    "    # devendored case (a bare pkg_resources)\n",
    "    warnings.filterwarnings(\n",
    "        action=\"ignore\", category=DeprecationWarning, module=\".*pkg_resources\"\n",
    "    )\n",
    "\n",
    "    # Configure our deprecation warnings to be sent through loggers\n",
    "    deprecation.install_warning_logger()\n",
    "\n",
    "    autocomplete()\n",
    "\n",
    "    try:\n",
    "        cmd_name, cmd_args = parse_command(args)\n",
    "    except PipError as exc:\n",
    "        sys.stderr.write(f\"ERROR: {exc}\")\n",
    "        sys.stderr.write(os.linesep)\n",
    "        sys.exit(1)\n",
    "\n",
    "    # Needed for locale.getpreferredencoding(False) to work\n",
    "    # in pip._internal.utils.encoding.auto_decode\n",
    "    try:\n",
    "        locale.setlocale(locale.LC_ALL, \"\")\n",
    "    except locale.Error as e:\n",
    "        # setlocale can apparently crash if locale are uninitialized\n",
    "        logger.debug(\"Ignoring error %s when setting locale\", e)\n",
    "    command = create_command(cmd_name, isolated=(\"--isolated\" in cmd_args))\n",
    "\n",
    "    return command.main(cmd_args)"
   ]
  }
 ],
 "metadata": {
  "jupytext": {
   "cell_metadata_filter": "-all",
   "main_language": "python",
   "notebook_metadata_filter": "-all"
  }
 },
 "nbformat": 4,
 "nbformat_minor": 5
}
