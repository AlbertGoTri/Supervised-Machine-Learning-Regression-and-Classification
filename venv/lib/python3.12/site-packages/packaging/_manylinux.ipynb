{
 "cells": [
  {
   "cell_type": "code",
   "execution_count": null,
   "id": "8fd004b7",
   "metadata": {},
   "outputs": [],
   "source": [
    "from __future__ import annotations"
   ]
  },
  {
   "cell_type": "code",
   "execution_count": null,
   "id": "1a2b0a2e",
   "metadata": {},
   "outputs": [],
   "source": [
    "import collections\n",
    "import contextlib\n",
    "import functools\n",
    "import os\n",
    "import re\n",
    "import sys\n",
    "import warnings\n",
    "from typing import Generator, Iterator, NamedTuple, Sequence"
   ]
  },
  {
   "cell_type": "code",
   "execution_count": null,
   "id": "eb635509",
   "metadata": {},
   "outputs": [],
   "source": [
    "from ._elffile import EIClass, EIData, ELFFile, EMachine"
   ]
  },
  {
   "cell_type": "code",
   "execution_count": null,
   "id": "a334f59f",
   "metadata": {},
   "outputs": [],
   "source": [
    "EF_ARM_ABIMASK = 0xFF000000\n",
    "EF_ARM_ABI_VER5 = 0x05000000\n",
    "EF_ARM_ABI_FLOAT_HARD = 0x00000400"
   ]
  },
  {
   "cell_type": "code",
   "execution_count": null,
   "id": "82560bc2",
   "metadata": {},
   "outputs": [],
   "source": [
    "# `os.PathLike` not a generic type until Python 3.9, so sticking with `str`\n",
    "# as the type for `path` until then.\n",
    "@contextlib.contextmanager\n",
    "def _parse_elf(path: str) -> Generator[ELFFile | None, None, None]:\n",
    "    try:\n",
    "        with open(path, \"rb\") as f:\n",
    "            yield ELFFile(f)\n",
    "    except (OSError, TypeError, ValueError):\n",
    "        yield None"
   ]
  },
  {
   "cell_type": "code",
   "execution_count": null,
   "id": "8c01e974",
   "metadata": {},
   "outputs": [],
   "source": [
    "def _is_linux_armhf(executable: str) -> bool:\n",
    "    # hard-float ABI can be detected from the ELF header of the running\n",
    "    # process\n",
    "    # https://static.docs.arm.com/ihi0044/g/aaelf32.pdf\n",
    "    with _parse_elf(executable) as f:\n",
    "        return (\n",
    "            f is not None\n",
    "            and f.capacity == EIClass.C32\n",
    "            and f.encoding == EIData.Lsb\n",
    "            and f.machine == EMachine.Arm\n",
    "            and f.flags & EF_ARM_ABIMASK == EF_ARM_ABI_VER5\n",
    "            and f.flags & EF_ARM_ABI_FLOAT_HARD == EF_ARM_ABI_FLOAT_HARD\n",
    "        )"
   ]
  },
  {
   "cell_type": "code",
   "execution_count": null,
   "id": "0a133c63",
   "metadata": {},
   "outputs": [],
   "source": [
    "def _is_linux_i686(executable: str) -> bool:\n",
    "    with _parse_elf(executable) as f:\n",
    "        return (\n",
    "            f is not None\n",
    "            and f.capacity == EIClass.C32\n",
    "            and f.encoding == EIData.Lsb\n",
    "            and f.machine == EMachine.I386\n",
    "        )"
   ]
  },
  {
   "cell_type": "code",
   "execution_count": null,
   "id": "d9acbfed",
   "metadata": {},
   "outputs": [],
   "source": [
    "def _have_compatible_abi(executable: str, archs: Sequence[str]) -> bool:\n",
    "    if \"armv7l\" in archs:\n",
    "        return _is_linux_armhf(executable)\n",
    "    if \"i686\" in archs:\n",
    "        return _is_linux_i686(executable)\n",
    "    allowed_archs = {\n",
    "        \"x86_64\",\n",
    "        \"aarch64\",\n",
    "        \"ppc64\",\n",
    "        \"ppc64le\",\n",
    "        \"s390x\",\n",
    "        \"loongarch64\",\n",
    "        \"riscv64\",\n",
    "    }\n",
    "    return any(arch in allowed_archs for arch in archs)"
   ]
  },
  {
   "cell_type": "code",
   "execution_count": null,
   "id": "baea8a0d",
   "metadata": {},
   "outputs": [],
   "source": [
    "# If glibc ever changes its major version, we need to know what the last\n",
    "# minor version was, so we can build the complete list of all versions.\n",
    "# For now, guess what the highest minor version might be, assume it will\n",
    "# be 50 for testing. Once this actually happens, update the dictionary\n",
    "# with the actual value.\n",
    "_LAST_GLIBC_MINOR: dict[int, int] = collections.defaultdict(lambda: 50)"
   ]
  },
  {
   "cell_type": "code",
   "execution_count": null,
   "id": "963ac289",
   "metadata": {},
   "outputs": [],
   "source": [
    "class _GLibCVersion(NamedTuple):\n",
    "    major: int\n",
    "    minor: int"
   ]
  },
  {
   "cell_type": "code",
   "execution_count": null,
   "id": "9abb215f",
   "metadata": {},
   "outputs": [],
   "source": [
    "def _glibc_version_string_confstr() -> str | None:\n",
    "    \"\"\"\n",
    "    Primary implementation of glibc_version_string using os.confstr.\n",
    "    \"\"\"\n",
    "    # os.confstr is quite a bit faster than ctypes.DLL. It's also less likely\n",
    "    # to be broken or missing. This strategy is used in the standard library\n",
    "    # platform module.\n",
    "    # https://github.com/python/cpython/blob/fcf1d003bf4f0100c/Lib/platform.py#L175-L183\n",
    "    try:\n",
    "        # Should be a string like \"glibc 2.17\".\n",
    "        version_string: str | None = os.confstr(\"CS_GNU_LIBC_VERSION\")\n",
    "        assert version_string is not None\n",
    "        _, version = version_string.rsplit()\n",
    "    except (AssertionError, AttributeError, OSError, ValueError):\n",
    "        # os.confstr() or CS_GNU_LIBC_VERSION not available (or a bad value)...\n",
    "        return None\n",
    "    return version"
   ]
  },
  {
   "cell_type": "code",
   "execution_count": null,
   "id": "116a1386",
   "metadata": {},
   "outputs": [],
   "source": [
    "def _glibc_version_string_ctypes() -> str | None:\n",
    "    \"\"\"\n",
    "    Fallback implementation of glibc_version_string using ctypes.\n",
    "    \"\"\"\n",
    "    try:\n",
    "        import ctypes\n",
    "    except ImportError:\n",
    "        return None\n",
    "\n",
    "    # ctypes.CDLL(None) internally calls dlopen(NULL), and as the dlopen\n",
    "    # manpage says, \"If filename is NULL, then the returned handle is for the\n",
    "    # main program\". This way we can let the linker do the work to figure out\n",
    "    # which libc our process is actually using.\n",
    "    #\n",
    "    # We must also handle the special case where the executable is not a\n",
    "    # dynamically linked executable. This can occur when using musl libc,\n",
    "    # for example. In this situation, dlopen() will error, leading to an\n",
    "    # OSError. Interestingly, at least in the case of musl, there is no\n",
    "    # errno set on the OSError. The single string argument used to construct\n",
    "    # OSError comes from libc itself and is therefore not portable to\n",
    "    # hard code here. In any case, failure to call dlopen() means we\n",
    "    # can proceed, so we bail on our attempt.\n",
    "    try:\n",
    "        process_namespace = ctypes.CDLL(None)\n",
    "    except OSError:\n",
    "        return None\n",
    "\n",
    "    try:\n",
    "        gnu_get_libc_version = process_namespace.gnu_get_libc_version\n",
    "    except AttributeError:\n",
    "        # Symbol doesn't exist -> therefore, we are not linked to\n",
    "        # glibc.\n",
    "        return None\n",
    "\n",
    "    # Call gnu_get_libc_version, which returns a string like \"2.5\"\n",
    "    gnu_get_libc_version.restype = ctypes.c_char_p\n",
    "    version_str: str = gnu_get_libc_version()\n",
    "    # py2 / py3 compatibility:\n",
    "    if not isinstance(version_str, str):\n",
    "        version_str = version_str.decode(\"ascii\")\n",
    "\n",
    "    return version_str"
   ]
  },
  {
   "cell_type": "code",
   "execution_count": null,
   "id": "7e3d371c",
   "metadata": {},
   "outputs": [],
   "source": [
    "def _glibc_version_string() -> str | None:\n",
    "    \"\"\"Returns glibc version string, or None if not using glibc.\"\"\"\n",
    "    return _glibc_version_string_confstr() or _glibc_version_string_ctypes()"
   ]
  },
  {
   "cell_type": "code",
   "execution_count": null,
   "id": "1a81957d",
   "metadata": {},
   "outputs": [],
   "source": [
    "def _parse_glibc_version(version_str: str) -> tuple[int, int]:\n",
    "    \"\"\"Parse glibc version.\n",
    "\n",
    "    We use a regexp instead of str.split because we want to discard any\n",
    "    random junk that might come after the minor version -- this might happen\n",
    "    in patched/forked versions of glibc (e.g. Linaro's version of glibc\n",
    "    uses version strings like \"2.20-2014.11\"). See gh-3588.\n",
    "    \"\"\"\n",
    "    m = re.match(r\"(?P<major>[0-9]+)\\.(?P<minor>[0-9]+)\", version_str)\n",
    "    if not m:\n",
    "        warnings.warn(\n",
    "            f\"Expected glibc version with 2 components major.minor, got: {version_str}\",\n",
    "            RuntimeWarning,\n",
    "            stacklevel=2,\n",
    "        )\n",
    "        return -1, -1\n",
    "    return int(m.group(\"major\")), int(m.group(\"minor\"))"
   ]
  },
  {
   "cell_type": "code",
   "execution_count": null,
   "id": "05973b20",
   "metadata": {},
   "outputs": [],
   "source": [
    "@functools.lru_cache\n",
    "def _get_glibc_version() -> tuple[int, int]:\n",
    "    version_str = _glibc_version_string()\n",
    "    if version_str is None:\n",
    "        return (-1, -1)\n",
    "    return _parse_glibc_version(version_str)"
   ]
  },
  {
   "cell_type": "code",
   "execution_count": null,
   "id": "6bb0567c",
   "metadata": {},
   "outputs": [],
   "source": [
    "# From PEP 513, PEP 600\n",
    "def _is_compatible(arch: str, version: _GLibCVersion) -> bool:\n",
    "    sys_glibc = _get_glibc_version()\n",
    "    if sys_glibc < version:\n",
    "        return False\n",
    "    # Check for presence of _manylinux module.\n",
    "    try:\n",
    "        import _manylinux\n",
    "    except ImportError:\n",
    "        return True\n",
    "    if hasattr(_manylinux, \"manylinux_compatible\"):\n",
    "        result = _manylinux.manylinux_compatible(version[0], version[1], arch)\n",
    "        if result is not None:\n",
    "            return bool(result)\n",
    "        return True\n",
    "    if version == _GLibCVersion(2, 5):\n",
    "        if hasattr(_manylinux, \"manylinux1_compatible\"):\n",
    "            return bool(_manylinux.manylinux1_compatible)\n",
    "    if version == _GLibCVersion(2, 12):\n",
    "        if hasattr(_manylinux, \"manylinux2010_compatible\"):\n",
    "            return bool(_manylinux.manylinux2010_compatible)\n",
    "    if version == _GLibCVersion(2, 17):\n",
    "        if hasattr(_manylinux, \"manylinux2014_compatible\"):\n",
    "            return bool(_manylinux.manylinux2014_compatible)\n",
    "    return True"
   ]
  },
  {
   "cell_type": "code",
   "execution_count": null,
   "id": "41f16681",
   "metadata": {},
   "outputs": [],
   "source": [
    "_LEGACY_MANYLINUX_MAP = {\n",
    "    # CentOS 7 w/ glibc 2.17 (PEP 599)\n",
    "    (2, 17): \"manylinux2014\",\n",
    "    # CentOS 6 w/ glibc 2.12 (PEP 571)\n",
    "    (2, 12): \"manylinux2010\",\n",
    "    # CentOS 5 w/ glibc 2.5 (PEP 513)\n",
    "    (2, 5): \"manylinux1\",\n",
    "}"
   ]
  },
  {
   "cell_type": "code",
   "execution_count": null,
   "id": "d5aeaf21",
   "metadata": {},
   "outputs": [],
   "source": [
    "def platform_tags(archs: Sequence[str]) -> Iterator[str]:\n",
    "    \"\"\"Generate manylinux tags compatible to the current platform.\n",
    "\n",
    "    :param archs: Sequence of compatible architectures.\n",
    "        The first one shall be the closest to the actual architecture and be the part of\n",
    "        platform tag after the ``linux_`` prefix, e.g. ``x86_64``.\n",
    "        The ``linux_`` prefix is assumed as a prerequisite for the current platform to\n",
    "        be manylinux-compatible.\n",
    "\n",
    "    :returns: An iterator of compatible manylinux tags.\n",
    "    \"\"\"\n",
    "    if not _have_compatible_abi(sys.executable, archs):\n",
    "        return\n",
    "    # Oldest glibc to be supported regardless of architecture is (2, 17).\n",
    "    too_old_glibc2 = _GLibCVersion(2, 16)\n",
    "    if set(archs) & {\"x86_64\", \"i686\"}:\n",
    "        # On x86/i686 also oldest glibc to be supported is (2, 5).\n",
    "        too_old_glibc2 = _GLibCVersion(2, 4)\n",
    "    current_glibc = _GLibCVersion(*_get_glibc_version())\n",
    "    glibc_max_list = [current_glibc]\n",
    "    # We can assume compatibility across glibc major versions.\n",
    "    # https://sourceware.org/bugzilla/show_bug.cgi?id=24636\n",
    "    #\n",
    "    # Build a list of maximum glibc versions so that we can\n",
    "    # output the canonical list of all glibc from current_glibc\n",
    "    # down to too_old_glibc2, including all intermediary versions.\n",
    "    for glibc_major in range(current_glibc.major - 1, 1, -1):\n",
    "        glibc_minor = _LAST_GLIBC_MINOR[glibc_major]\n",
    "        glibc_max_list.append(_GLibCVersion(glibc_major, glibc_minor))\n",
    "    for arch in archs:\n",
    "        for glibc_max in glibc_max_list:\n",
    "            if glibc_max.major == too_old_glibc2.major:\n",
    "                min_minor = too_old_glibc2.minor\n",
    "            else:\n",
    "                # For other glibc major versions oldest supported is (x, 0).\n",
    "                min_minor = -1\n",
    "            for glibc_minor in range(glibc_max.minor, min_minor, -1):\n",
    "                glibc_version = _GLibCVersion(glibc_max.major, glibc_minor)\n",
    "                tag = \"manylinux_{}_{}\".format(*glibc_version)\n",
    "                if _is_compatible(arch, glibc_version):\n",
    "                    yield f\"{tag}_{arch}\"\n",
    "                # Handle the legacy manylinux1, manylinux2010, manylinux2014 tags.\n",
    "                if glibc_version in _LEGACY_MANYLINUX_MAP:\n",
    "                    legacy_tag = _LEGACY_MANYLINUX_MAP[glibc_version]\n",
    "                    if _is_compatible(arch, glibc_version):\n",
    "                        yield f\"{legacy_tag}_{arch}\""
   ]
  }
 ],
 "metadata": {
  "jupytext": {
   "cell_metadata_filter": "-all",
   "main_language": "python",
   "notebook_metadata_filter": "-all"
  }
 },
 "nbformat": 4,
 "nbformat_minor": 5
}
