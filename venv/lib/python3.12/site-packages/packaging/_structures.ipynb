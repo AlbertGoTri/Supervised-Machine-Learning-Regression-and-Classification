{
 "cells": [
  {
   "cell_type": "markdown",
   "id": "9b1b3161",
   "metadata": {
    "lines_to_next_cell": 2
   },
   "source": [
    "This file is dual licensed under the terms of the Apache License, Version\n",
    "2.0, and the BSD License. See the LICENSE file in the root of this repository\n",
    "for complete details."
   ]
  },
  {
   "cell_type": "code",
   "execution_count": null,
   "id": "c55183b4",
   "metadata": {},
   "outputs": [],
   "source": [
    "class InfinityType:\n",
    "    def __repr__(self) -> str:\n",
    "        return \"Infinity\"\n",
    "\n",
    "    def __hash__(self) -> int:\n",
    "        return hash(repr(self))\n",
    "\n",
    "    def __lt__(self, other: object) -> bool:\n",
    "        return False\n",
    "\n",
    "    def __le__(self, other: object) -> bool:\n",
    "        return False\n",
    "\n",
    "    def __eq__(self, other: object) -> bool:\n",
    "        return isinstance(other, self.__class__)\n",
    "\n",
    "    def __gt__(self, other: object) -> bool:\n",
    "        return True\n",
    "\n",
    "    def __ge__(self, other: object) -> bool:\n",
    "        return True\n",
    "\n",
    "    def __neg__(self: object) -> \"NegativeInfinityType\":\n",
    "        return NegativeInfinity"
   ]
  },
  {
   "cell_type": "code",
   "execution_count": null,
   "id": "22874723",
   "metadata": {},
   "outputs": [],
   "source": [
    "Infinity = InfinityType()"
   ]
  },
  {
   "cell_type": "code",
   "execution_count": null,
   "id": "f9b92eb5",
   "metadata": {},
   "outputs": [],
   "source": [
    "class NegativeInfinityType:\n",
    "    def __repr__(self) -> str:\n",
    "        return \"-Infinity\"\n",
    "\n",
    "    def __hash__(self) -> int:\n",
    "        return hash(repr(self))\n",
    "\n",
    "    def __lt__(self, other: object) -> bool:\n",
    "        return True\n",
    "\n",
    "    def __le__(self, other: object) -> bool:\n",
    "        return True\n",
    "\n",
    "    def __eq__(self, other: object) -> bool:\n",
    "        return isinstance(other, self.__class__)\n",
    "\n",
    "    def __gt__(self, other: object) -> bool:\n",
    "        return False\n",
    "\n",
    "    def __ge__(self, other: object) -> bool:\n",
    "        return False\n",
    "\n",
    "    def __neg__(self: object) -> InfinityType:\n",
    "        return Infinity"
   ]
  },
  {
   "cell_type": "code",
   "execution_count": null,
   "id": "c720c377",
   "metadata": {},
   "outputs": [],
   "source": [
    "NegativeInfinity = NegativeInfinityType()"
   ]
  }
 ],
 "metadata": {
  "jupytext": {
   "cell_metadata_filter": "-all",
   "main_language": "python",
   "notebook_metadata_filter": "-all"
  }
 },
 "nbformat": 4,
 "nbformat_minor": 5
}
