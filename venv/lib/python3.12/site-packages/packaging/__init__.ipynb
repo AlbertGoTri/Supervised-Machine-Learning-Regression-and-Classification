{
 "cells": [
  {
   "cell_type": "markdown",
   "id": "b91616e7",
   "metadata": {},
   "source": [
    "This file is dual licensed under the terms of the Apache License, Version\n",
    "2.0, and the BSD License. See the LICENSE file in the root of this repository\n",
    "for complete details."
   ]
  },
  {
   "cell_type": "code",
   "execution_count": null,
   "id": "2d652d78",
   "metadata": {},
   "outputs": [],
   "source": [
    "__title__ = \"packaging\"\n",
    "__summary__ = \"Core utilities for Python packages\"\n",
    "__uri__ = \"https://github.com/pypa/packaging\""
   ]
  },
  {
   "cell_type": "code",
   "execution_count": null,
   "id": "954dc954",
   "metadata": {},
   "outputs": [],
   "source": [
    "__version__ = \"25.0\""
   ]
  },
  {
   "cell_type": "code",
   "execution_count": null,
   "id": "118f799d",
   "metadata": {},
   "outputs": [],
   "source": [
    "__author__ = \"Donald Stufft and individual contributors\"\n",
    "__email__ = \"donald@stufft.io\""
   ]
  },
  {
   "cell_type": "code",
   "execution_count": null,
   "id": "ae57b58b",
   "metadata": {},
   "outputs": [],
   "source": [
    "__license__ = \"BSD-2-Clause or Apache-2.0\"\n",
    "__copyright__ = f\"2014 {__author__}\""
   ]
  }
 ],
 "metadata": {
  "jupytext": {
   "cell_metadata_filter": "-all",
   "main_language": "python",
   "notebook_metadata_filter": "-all"
  }
 },
 "nbformat": 4,
 "nbformat_minor": 5
}
