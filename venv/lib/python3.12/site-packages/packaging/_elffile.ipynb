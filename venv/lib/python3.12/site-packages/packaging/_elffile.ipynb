{
 "cells": [
  {
   "cell_type": "code",
   "execution_count": null,
   "id": "05689bc7",
   "metadata": {},
   "outputs": [],
   "source": [
    "\"\"\"\n",
    "ELF file parser.\n",
    "\n",
    "This provides a class ``ELFFile`` that parses an ELF executable in a similar\n",
    "interface to ``ZipFile``. Only the read interface is implemented.\n",
    "\n",
    "Based on: https://gist.github.com/lyssdod/f51579ae8d93c8657a5564aefc2ffbca\n",
    "ELF header: https://refspecs.linuxfoundation.org/elf/gabi4+/ch4.eheader.html\n",
    "\"\"\""
   ]
  },
  {
   "cell_type": "code",
   "execution_count": null,
   "id": "8c4a41ad",
   "metadata": {},
   "outputs": [],
   "source": [
    "from __future__ import annotations"
   ]
  },
  {
   "cell_type": "code",
   "execution_count": null,
   "id": "954cafa7",
   "metadata": {},
   "outputs": [],
   "source": [
    "import enum\n",
    "import os\n",
    "import struct\n",
    "from typing import IO"
   ]
  },
  {
   "cell_type": "code",
   "execution_count": null,
   "id": "a72be09c",
   "metadata": {},
   "outputs": [],
   "source": [
    "class ELFInvalid(ValueError):\n",
    "    pass"
   ]
  },
  {
   "cell_type": "code",
   "execution_count": null,
   "id": "57907736",
   "metadata": {},
   "outputs": [],
   "source": [
    "class EIClass(enum.IntEnum):\n",
    "    C32 = 1\n",
    "    C64 = 2"
   ]
  },
  {
   "cell_type": "code",
   "execution_count": null,
   "id": "9aefc75c",
   "metadata": {},
   "outputs": [],
   "source": [
    "class EIData(enum.IntEnum):\n",
    "    Lsb = 1\n",
    "    Msb = 2"
   ]
  },
  {
   "cell_type": "code",
   "execution_count": null,
   "id": "db8b16a2",
   "metadata": {},
   "outputs": [],
   "source": [
    "class EMachine(enum.IntEnum):\n",
    "    I386 = 3\n",
    "    S390 = 22\n",
    "    Arm = 40\n",
    "    X8664 = 62\n",
    "    AArc64 = 183"
   ]
  },
  {
   "cell_type": "code",
   "execution_count": null,
   "id": "0c564a1a",
   "metadata": {},
   "outputs": [],
   "source": [
    "class ELFFile:\n",
    "    \"\"\"\n",
    "    Representation of an ELF executable.\n",
    "    \"\"\"\n",
    "\n",
    "    def __init__(self, f: IO[bytes]) -> None:\n",
    "        self._f = f\n",
    "\n",
    "        try:\n",
    "            ident = self._read(\"16B\")\n",
    "        except struct.error as e:\n",
    "            raise ELFInvalid(\"unable to parse identification\") from e\n",
    "        magic = bytes(ident[:4])\n",
    "        if magic != b\"\\x7fELF\":\n",
    "            raise ELFInvalid(f\"invalid magic: {magic!r}\")\n",
    "\n",
    "        self.capacity = ident[4]  # Format for program header (bitness).\n",
    "        self.encoding = ident[5]  # Data structure encoding (endianness).\n",
    "\n",
    "        try:\n",
    "            # e_fmt: Format for program header.\n",
    "            # p_fmt: Format for section header.\n",
    "            # p_idx: Indexes to find p_type, p_offset, and p_filesz.\n",
    "            e_fmt, self._p_fmt, self._p_idx = {\n",
    "                (1, 1): (\"<HHIIIIIHHH\", \"<IIIIIIII\", (0, 1, 4)),  # 32-bit LSB.\n",
    "                (1, 2): (\">HHIIIIIHHH\", \">IIIIIIII\", (0, 1, 4)),  # 32-bit MSB.\n",
    "                (2, 1): (\"<HHIQQQIHHH\", \"<IIQQQQQQ\", (0, 2, 5)),  # 64-bit LSB.\n",
    "                (2, 2): (\">HHIQQQIHHH\", \">IIQQQQQQ\", (0, 2, 5)),  # 64-bit MSB.\n",
    "            }[(self.capacity, self.encoding)]\n",
    "        except KeyError as e:\n",
    "            raise ELFInvalid(\n",
    "                f\"unrecognized capacity ({self.capacity}) or encoding ({self.encoding})\"\n",
    "            ) from e\n",
    "\n",
    "        try:\n",
    "            (\n",
    "                _,\n",
    "                self.machine,  # Architecture type.\n",
    "                _,\n",
    "                _,\n",
    "                self._e_phoff,  # Offset of program header.\n",
    "                _,\n",
    "                self.flags,  # Processor-specific flags.\n",
    "                _,\n",
    "                self._e_phentsize,  # Size of section.\n",
    "                self._e_phnum,  # Number of sections.\n",
    "            ) = self._read(e_fmt)\n",
    "        except struct.error as e:\n",
    "            raise ELFInvalid(\"unable to parse machine and section information\") from e\n",
    "\n",
    "    def _read(self, fmt: str) -> tuple[int, ...]:\n",
    "        return struct.unpack(fmt, self._f.read(struct.calcsize(fmt)))\n",
    "\n",
    "    @property\n",
    "    def interpreter(self) -> str | None:\n",
    "        \"\"\"\n",
    "        The path recorded in the ``PT_INTERP`` section header.\n",
    "        \"\"\"\n",
    "        for index in range(self._e_phnum):\n",
    "            self._f.seek(self._e_phoff + self._e_phentsize * index)\n",
    "            try:\n",
    "                data = self._read(self._p_fmt)\n",
    "            except struct.error:\n",
    "                continue\n",
    "            if data[self._p_idx[0]] != 3:  # Not PT_INTERP.\n",
    "                continue\n",
    "            self._f.seek(data[self._p_idx[1]])\n",
    "            return os.fsdecode(self._f.read(data[self._p_idx[2]])).strip(\"\\0\")\n",
    "        return None"
   ]
  }
 ],
 "metadata": {
  "jupytext": {
   "cell_metadata_filter": "-all",
   "main_language": "python",
   "notebook_metadata_filter": "-all"
  }
 },
 "nbformat": 4,
 "nbformat_minor": 5
}
