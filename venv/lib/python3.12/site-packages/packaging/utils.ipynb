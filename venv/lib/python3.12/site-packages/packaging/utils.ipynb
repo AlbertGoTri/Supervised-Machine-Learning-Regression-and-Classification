{
 "cells": [
  {
   "cell_type": "markdown",
   "id": "c122d10f",
   "metadata": {},
   "source": [
    "This file is dual licensed under the terms of the Apache License, Version\n",
    "2.0, and the BSD License. See the LICENSE file in the root of this repository\n",
    "for complete details."
   ]
  },
  {
   "cell_type": "code",
   "execution_count": null,
   "id": "fd76d876",
   "metadata": {},
   "outputs": [],
   "source": [
    "from __future__ import annotations"
   ]
  },
  {
   "cell_type": "code",
   "execution_count": null,
   "id": "dcffb771",
   "metadata": {},
   "outputs": [],
   "source": [
    "import functools\n",
    "import re\n",
    "from typing import NewType, Tuple, Union, cast"
   ]
  },
  {
   "cell_type": "code",
   "execution_count": null,
   "id": "2cd651bf",
   "metadata": {},
   "outputs": [],
   "source": [
    "from .tags import Tag, parse_tag\n",
    "from .version import InvalidVersion, Version, _TrimmedRelease"
   ]
  },
  {
   "cell_type": "code",
   "execution_count": null,
   "id": "856adfa5",
   "metadata": {},
   "outputs": [],
   "source": [
    "BuildTag = Union[Tuple[()], Tuple[int, str]]\n",
    "NormalizedName = NewType(\"NormalizedName\", str)"
   ]
  },
  {
   "cell_type": "code",
   "execution_count": null,
   "id": "384be6ab",
   "metadata": {},
   "outputs": [],
   "source": [
    "class InvalidName(ValueError):\n",
    "    \"\"\"\n",
    "    An invalid distribution name; users should refer to the packaging user guide.\n",
    "    \"\"\""
   ]
  },
  {
   "cell_type": "code",
   "execution_count": null,
   "id": "198e3afc",
   "metadata": {},
   "outputs": [],
   "source": [
    "class InvalidWheelFilename(ValueError):\n",
    "    \"\"\"\n",
    "    An invalid wheel filename was found, users should refer to PEP 427.\n",
    "    \"\"\""
   ]
  },
  {
   "cell_type": "code",
   "execution_count": null,
   "id": "5d7b1579",
   "metadata": {},
   "outputs": [],
   "source": [
    "class InvalidSdistFilename(ValueError):\n",
    "    \"\"\"\n",
    "    An invalid sdist filename was found, users should refer to the packaging user guide.\n",
    "    \"\"\""
   ]
  },
  {
   "cell_type": "code",
   "execution_count": null,
   "id": "9ef5bafa",
   "metadata": {},
   "outputs": [],
   "source": [
    "# Core metadata spec for `Name`\n",
    "_validate_regex = re.compile(\n",
    "    r\"^([A-Z0-9]|[A-Z0-9][A-Z0-9._-]*[A-Z0-9])$\", re.IGNORECASE\n",
    ")\n",
    "_canonicalize_regex = re.compile(r\"[-_.]+\")\n",
    "_normalized_regex = re.compile(r\"^([a-z0-9]|[a-z0-9]([a-z0-9-](?!--))*[a-z0-9])$\")\n",
    "# PEP 427: The build number must start with a digit.\n",
    "_build_tag_regex = re.compile(r\"(\\d+)(.*)\")"
   ]
  },
  {
   "cell_type": "code",
   "execution_count": null,
   "id": "1f33e49b",
   "metadata": {},
   "outputs": [],
   "source": [
    "def canonicalize_name(name: str, *, validate: bool = False) -> NormalizedName:\n",
    "    if validate and not _validate_regex.match(name):\n",
    "        raise InvalidName(f\"name is invalid: {name!r}\")\n",
    "    # This is taken from PEP 503.\n",
    "    value = _canonicalize_regex.sub(\"-\", name).lower()\n",
    "    return cast(NormalizedName, value)"
   ]
  },
  {
   "cell_type": "code",
   "execution_count": null,
   "id": "e8f8b43f",
   "metadata": {},
   "outputs": [],
   "source": [
    "def is_normalized_name(name: str) -> bool:\n",
    "    return _normalized_regex.match(name) is not None"
   ]
  },
  {
   "cell_type": "code",
   "execution_count": null,
   "id": "5c1b213a",
   "metadata": {},
   "outputs": [],
   "source": [
    "@functools.singledispatch\n",
    "def canonicalize_version(\n",
    "    version: Version | str, *, strip_trailing_zero: bool = True\n",
    ") -> str:\n",
    "    \"\"\"\n",
    "    Return a canonical form of a version as a string.\n",
    "\n",
    "    >>> canonicalize_version('1.0.1')\n",
    "    '1.0.1'\n",
    "\n",
    "    Per PEP 625, versions may have multiple canonical forms, differing\n",
    "    only by trailing zeros.\n",
    "\n",
    "    >>> canonicalize_version('1.0.0')\n",
    "    '1'\n",
    "    >>> canonicalize_version('1.0.0', strip_trailing_zero=False)\n",
    "    '1.0.0'\n",
    "\n",
    "    Invalid versions are returned unaltered.\n",
    "\n",
    "    >>> canonicalize_version('foo bar baz')\n",
    "    'foo bar baz'\n",
    "    \"\"\"\n",
    "    return str(_TrimmedRelease(str(version)) if strip_trailing_zero else version)"
   ]
  },
  {
   "cell_type": "code",
   "execution_count": null,
   "id": "f2ef6371",
   "metadata": {},
   "outputs": [],
   "source": [
    "@canonicalize_version.register\n",
    "def _(version: str, *, strip_trailing_zero: bool = True) -> str:\n",
    "    try:\n",
    "        parsed = Version(version)\n",
    "    except InvalidVersion:\n",
    "        # Legacy versions cannot be normalized\n",
    "        return version\n",
    "    return canonicalize_version(parsed, strip_trailing_zero=strip_trailing_zero)"
   ]
  },
  {
   "cell_type": "code",
   "execution_count": null,
   "id": "8c9f8449",
   "metadata": {},
   "outputs": [],
   "source": [
    "def parse_wheel_filename(\n",
    "    filename: str,\n",
    ") -> tuple[NormalizedName, Version, BuildTag, frozenset[Tag]]:\n",
    "    if not filename.endswith(\".whl\"):\n",
    "        raise InvalidWheelFilename(\n",
    "            f\"Invalid wheel filename (extension must be '.whl'): {filename!r}\"\n",
    "        )\n",
    "\n",
    "    filename = filename[:-4]\n",
    "    dashes = filename.count(\"-\")\n",
    "    if dashes not in (4, 5):\n",
    "        raise InvalidWheelFilename(\n",
    "            f\"Invalid wheel filename (wrong number of parts): {filename!r}\"\n",
    "        )\n",
    "\n",
    "    parts = filename.split(\"-\", dashes - 2)\n",
    "    name_part = parts[0]\n",
    "    # See PEP 427 for the rules on escaping the project name.\n",
    "    if \"__\" in name_part or re.match(r\"^[\\w\\d._]*$\", name_part, re.UNICODE) is None:\n",
    "        raise InvalidWheelFilename(f\"Invalid project name: {filename!r}\")\n",
    "    name = canonicalize_name(name_part)\n",
    "\n",
    "    try:\n",
    "        version = Version(parts[1])\n",
    "    except InvalidVersion as e:\n",
    "        raise InvalidWheelFilename(\n",
    "            f\"Invalid wheel filename (invalid version): {filename!r}\"\n",
    "        ) from e\n",
    "\n",
    "    if dashes == 5:\n",
    "        build_part = parts[2]\n",
    "        build_match = _build_tag_regex.match(build_part)\n",
    "        if build_match is None:\n",
    "            raise InvalidWheelFilename(\n",
    "                f\"Invalid build number: {build_part} in {filename!r}\"\n",
    "            )\n",
    "        build = cast(BuildTag, (int(build_match.group(1)), build_match.group(2)))\n",
    "    else:\n",
    "        build = ()\n",
    "    tags = parse_tag(parts[-1])\n",
    "    return (name, version, build, tags)"
   ]
  },
  {
   "cell_type": "code",
   "execution_count": null,
   "id": "e3121d59",
   "metadata": {},
   "outputs": [],
   "source": [
    "def parse_sdist_filename(filename: str) -> tuple[NormalizedName, Version]:\n",
    "    if filename.endswith(\".tar.gz\"):\n",
    "        file_stem = filename[: -len(\".tar.gz\")]\n",
    "    elif filename.endswith(\".zip\"):\n",
    "        file_stem = filename[: -len(\".zip\")]\n",
    "    else:\n",
    "        raise InvalidSdistFilename(\n",
    "            f\"Invalid sdist filename (extension must be '.tar.gz' or '.zip'):\"\n",
    "            f\" {filename!r}\"\n",
    "        )\n",
    "\n",
    "    # We are requiring a PEP 440 version, which cannot contain dashes,\n",
    "    # so we split on the last dash.\n",
    "    name_part, sep, version_part = file_stem.rpartition(\"-\")\n",
    "    if not sep:\n",
    "        raise InvalidSdistFilename(f\"Invalid sdist filename: {filename!r}\")\n",
    "\n",
    "    name = canonicalize_name(name_part)\n",
    "\n",
    "    try:\n",
    "        version = Version(version_part)\n",
    "    except InvalidVersion as e:\n",
    "        raise InvalidSdistFilename(\n",
    "            f\"Invalid sdist filename (invalid version): {filename!r}\"\n",
    "        ) from e\n",
    "\n",
    "    return (name, version)"
   ]
  }
 ],
 "metadata": {
  "jupytext": {
   "cell_metadata_filter": "-all",
   "main_language": "python",
   "notebook_metadata_filter": "-all"
  }
 },
 "nbformat": 4,
 "nbformat_minor": 5
}
