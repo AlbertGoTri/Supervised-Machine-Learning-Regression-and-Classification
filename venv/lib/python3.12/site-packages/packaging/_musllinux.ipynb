{
 "cells": [
  {
   "cell_type": "code",
   "execution_count": null,
   "id": "269a2bec",
   "metadata": {},
   "outputs": [],
   "source": [
    "\"\"\"PEP 656 support.\n",
    "\n",
    "This module implements logic to detect if the currently running Python is\n",
    "linked against musl, and what musl version is used.\n",
    "\"\"\""
   ]
  },
  {
   "cell_type": "code",
   "execution_count": null,
   "id": "af3d6c50",
   "metadata": {},
   "outputs": [],
   "source": [
    "from __future__ import annotations"
   ]
  },
  {
   "cell_type": "code",
   "execution_count": null,
   "id": "7047f19c",
   "metadata": {},
   "outputs": [],
   "source": [
    "import functools\n",
    "import re\n",
    "import subprocess\n",
    "import sys\n",
    "from typing import Iterator, NamedTuple, Sequence"
   ]
  },
  {
   "cell_type": "code",
   "execution_count": null,
   "id": "7afd701f",
   "metadata": {},
   "outputs": [],
   "source": [
    "from ._elffile import ELFFile"
   ]
  },
  {
   "cell_type": "code",
   "execution_count": null,
   "id": "050cf4b0",
   "metadata": {},
   "outputs": [],
   "source": [
    "class _MuslVersion(NamedTuple):\n",
    "    major: int\n",
    "    minor: int"
   ]
  },
  {
   "cell_type": "code",
   "execution_count": null,
   "id": "ce8e1013",
   "metadata": {},
   "outputs": [],
   "source": [
    "def _parse_musl_version(output: str) -> _MuslVersion | None:\n",
    "    lines = [n for n in (n.strip() for n in output.splitlines()) if n]\n",
    "    if len(lines) < 2 or lines[0][:4] != \"musl\":\n",
    "        return None\n",
    "    m = re.match(r\"Version (\\d+)\\.(\\d+)\", lines[1])\n",
    "    if not m:\n",
    "        return None\n",
    "    return _MuslVersion(major=int(m.group(1)), minor=int(m.group(2)))"
   ]
  },
  {
   "cell_type": "code",
   "execution_count": null,
   "id": "bdc361f9",
   "metadata": {},
   "outputs": [],
   "source": [
    "@functools.lru_cache\n",
    "def _get_musl_version(executable: str) -> _MuslVersion | None:\n",
    "    \"\"\"Detect currently-running musl runtime version.\n",
    "\n",
    "    This is done by checking the specified executable's dynamic linking\n",
    "    information, and invoking the loader to parse its output for a version\n",
    "    string. If the loader is musl, the output would be something like::\n",
    "\n",
    "        musl libc (x86_64)\n",
    "        Version 1.2.2\n",
    "        Dynamic Program Loader\n",
    "    \"\"\"\n",
    "    try:\n",
    "        with open(executable, \"rb\") as f:\n",
    "            ld = ELFFile(f).interpreter\n",
    "    except (OSError, TypeError, ValueError):\n",
    "        return None\n",
    "    if ld is None or \"musl\" not in ld:\n",
    "        return None\n",
    "    proc = subprocess.run([ld], stderr=subprocess.PIPE, text=True)\n",
    "    return _parse_musl_version(proc.stderr)"
   ]
  },
  {
   "cell_type": "code",
   "execution_count": null,
   "id": "244339cf",
   "metadata": {},
   "outputs": [],
   "source": [
    "def platform_tags(archs: Sequence[str]) -> Iterator[str]:\n",
    "    \"\"\"Generate musllinux tags compatible to the current platform.\n",
    "\n",
    "    :param archs: Sequence of compatible architectures.\n",
    "        The first one shall be the closest to the actual architecture and be the part of\n",
    "        platform tag after the ``linux_`` prefix, e.g. ``x86_64``.\n",
    "        The ``linux_`` prefix is assumed as a prerequisite for the current platform to\n",
    "        be musllinux-compatible.\n",
    "\n",
    "    :returns: An iterator of compatible musllinux tags.\n",
    "    \"\"\"\n",
    "    sys_musl = _get_musl_version(sys.executable)\n",
    "    if sys_musl is None:  # Python not dynamically linked against musl.\n",
    "        return\n",
    "    for arch in archs:\n",
    "        for minor in range(sys_musl.minor, -1, -1):\n",
    "            yield f\"musllinux_{sys_musl.major}_{minor}_{arch}\""
   ]
  },
  {
   "cell_type": "code",
   "execution_count": null,
   "id": "bf018777",
   "metadata": {},
   "outputs": [],
   "source": [
    "if __name__ == \"__main__\":  # pragma: no cover\n",
    "    import sysconfig\n",
    "\n",
    "    plat = sysconfig.get_platform()\n",
    "    assert plat.startswith(\"linux-\"), \"not linux\"\n",
    "\n",
    "    print(\"plat:\", plat)\n",
    "    print(\"musl:\", _get_musl_version(sys.executable))\n",
    "    print(\"tags:\", end=\" \")\n",
    "    for t in platform_tags(re.sub(r\"[.-]\", \"_\", plat.split(\"-\", 1)[-1])):\n",
    "        print(t, end=\"\\n      \")"
   ]
  }
 ],
 "metadata": {
  "jupytext": {
   "cell_metadata_filter": "-all",
   "main_language": "python",
   "notebook_metadata_filter": "-all"
  }
 },
 "nbformat": 4,
 "nbformat_minor": 5
}
