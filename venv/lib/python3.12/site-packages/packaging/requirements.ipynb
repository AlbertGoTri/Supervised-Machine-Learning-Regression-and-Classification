{
 "cells": [
  {
   "cell_type": "code",
   "execution_count": null,
   "id": "a7e02ce1",
   "metadata": {},
   "outputs": [],
   "source": [
    "# This file is dual licensed under the terms of the Apache License, Version\n",
    "# 2.0, and the BSD License. See the LICENSE file in the root of this repository\n",
    "# for complete details.\n",
    "from __future__ import annotations"
   ]
  },
  {
   "cell_type": "code",
   "execution_count": null,
   "id": "50f9deab",
   "metadata": {},
   "outputs": [],
   "source": [
    "from typing import Any, Iterator"
   ]
  },
  {
   "cell_type": "code",
   "execution_count": null,
   "id": "f6fe14d2",
   "metadata": {},
   "outputs": [],
   "source": [
    "from ._parser import parse_requirement as _parse_requirement\n",
    "from ._tokenizer import ParserSyntaxError\n",
    "from .markers import Marker, _normalize_extra_values\n",
    "from .specifiers import SpecifierSet\n",
    "from .utils import canonicalize_name"
   ]
  },
  {
   "cell_type": "code",
   "execution_count": null,
   "id": "0b68c15a",
   "metadata": {},
   "outputs": [],
   "source": [
    "class InvalidRequirement(ValueError):\n",
    "    \"\"\"\n",
    "    An invalid requirement was found, users should refer to PEP 508.\n",
    "    \"\"\""
   ]
  },
  {
   "cell_type": "code",
   "execution_count": null,
   "id": "c7468e09",
   "metadata": {},
   "outputs": [],
   "source": [
    "class Requirement:\n",
    "    \"\"\"Parse a requirement.\n",
    "\n",
    "    Parse a given requirement string into its parts, such as name, specifier,\n",
    "    URL, and extras. Raises InvalidRequirement on a badly-formed requirement\n",
    "    string.\n",
    "    \"\"\"\n",
    "\n",
    "    # TODO: Can we test whether something is contained within a requirement?\n",
    "    #       If so how do we do that? Do we need to test against the _name_ of\n",
    "    #       the thing as well as the version? What about the markers?\n",
    "    # TODO: Can we normalize the name and extra name?\n",
    "\n",
    "    def __init__(self, requirement_string: str) -> None:\n",
    "        try:\n",
    "            parsed = _parse_requirement(requirement_string)\n",
    "        except ParserSyntaxError as e:\n",
    "            raise InvalidRequirement(str(e)) from e\n",
    "\n",
    "        self.name: str = parsed.name\n",
    "        self.url: str | None = parsed.url or None\n",
    "        self.extras: set[str] = set(parsed.extras or [])\n",
    "        self.specifier: SpecifierSet = SpecifierSet(parsed.specifier)\n",
    "        self.marker: Marker | None = None\n",
    "        if parsed.marker is not None:\n",
    "            self.marker = Marker.__new__(Marker)\n",
    "            self.marker._markers = _normalize_extra_values(parsed.marker)\n",
    "\n",
    "    def _iter_parts(self, name: str) -> Iterator[str]:\n",
    "        yield name\n",
    "\n",
    "        if self.extras:\n",
    "            formatted_extras = \",\".join(sorted(self.extras))\n",
    "            yield f\"[{formatted_extras}]\"\n",
    "\n",
    "        if self.specifier:\n",
    "            yield str(self.specifier)\n",
    "\n",
    "        if self.url:\n",
    "            yield f\"@ {self.url}\"\n",
    "            if self.marker:\n",
    "                yield \" \"\n",
    "\n",
    "        if self.marker:\n",
    "            yield f\"; {self.marker}\"\n",
    "\n",
    "    def __str__(self) -> str:\n",
    "        return \"\".join(self._iter_parts(self.name))\n",
    "\n",
    "    def __repr__(self) -> str:\n",
    "        return f\"<Requirement('{self}')>\"\n",
    "\n",
    "    def __hash__(self) -> int:\n",
    "        return hash(\n",
    "            (\n",
    "                self.__class__.__name__,\n",
    "                *self._iter_parts(canonicalize_name(self.name)),\n",
    "            )\n",
    "        )\n",
    "\n",
    "    def __eq__(self, other: Any) -> bool:\n",
    "        if not isinstance(other, Requirement):\n",
    "            return NotImplemented\n",
    "\n",
    "        return (\n",
    "            canonicalize_name(self.name) == canonicalize_name(other.name)\n",
    "            and self.extras == other.extras\n",
    "            and self.specifier == other.specifier\n",
    "            and self.url == other.url\n",
    "            and self.marker == other.marker\n",
    "        )"
   ]
  }
 ],
 "metadata": {
  "jupytext": {
   "cell_metadata_filter": "-all",
   "main_language": "python",
   "notebook_metadata_filter": "-all"
  }
 },
 "nbformat": 4,
 "nbformat_minor": 5
}
