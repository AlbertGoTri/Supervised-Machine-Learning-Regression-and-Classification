{
 "cells": [
  {
   "cell_type": "code",
   "execution_count": null,
   "id": "65f93141",
   "metadata": {},
   "outputs": [],
   "source": [
    "import numpy as np    # it is an unofficial standard to use np for numpy\n",
    "import time"
   ]
  },
  {
   "cell_type": "code",
   "execution_count": null,
   "id": "5c3fdcba",
   "metadata": {},
   "outputs": [],
   "source": [
    "# NumPy routines which allocate memory and fill arrays with value\n",
    "a = np.zeros(4);                print(f\"np.zeros(4) :   a = {a}, a shape = {a.shape}, a data type = {a.dtype}\")\n",
    "a = np.zeros((4,));             print(f\"np.zeros(4,) :  a = {a}, a shape = {a.shape}, a data type = {a.dtype}\")\n",
    "a = np.random.random_sample(4); print(f\"np.random.random_sample(4): a = {a}, a shape = {a.shape}, a data type = {a.dtype}\")"
   ]
  },
  {
   "cell_type": "code",
   "execution_count": null,
   "id": "20221014",
   "metadata": {},
   "outputs": [],
   "source": [
    "# NumPy routines which allocate memory and fill arrays with value but do not accept shape as input argument\n",
    "a = np.arange(4.);              print(f\"np.arange(4.):     a = {a}, a shape = {a.shape}, a data type = {a.dtype}\")\n",
    "a = np.random.rand(4);          print(f\"np.random.rand(4): a = {a}, a shape = {a.shape}, a data type = {a.dtype}\")"
   ]
  },
  {
   "cell_type": "code",
   "execution_count": null,
   "id": "df6b7edc",
   "metadata": {},
   "outputs": [],
   "source": [
    "# NumPy routines which allocate memory and fill with user specified values\n",
    "a = np.array([5,4,3,2]);  print(f\"np.array([5,4,3,2]):  a = {a},     a shape = {a.shape}, a data type = {a.dtype}\")\n",
    "a = np.array([5.,4,3,2]); print(f\"np.array([5.,4,3,2]): a = {a}, a shape = {a.shape}, a data type = {a.dtype}\")"
   ]
  },
  {
   "cell_type": "code",
   "execution_count": null,
   "id": "9af71ea3",
   "metadata": {},
   "outputs": [],
   "source": [
    "#vector indexing operations on 1-D vectors\n",
    "a = np.arange(10)\n",
    "print(a)"
   ]
  },
  {
   "cell_type": "code",
   "execution_count": null,
   "id": "60e44715",
   "metadata": {},
   "outputs": [],
   "source": [
    "#access an element\n",
    "print(f\"a[2].shape: {a[2].shape} a[2]  = {a[2]}, Accessing an element returns a scalar\")"
   ]
  },
  {
   "cell_type": "code",
   "execution_count": null,
   "id": "127b2bd6",
   "metadata": {},
   "outputs": [],
   "source": [
    "# access the last element, negative indexes count from the end\n",
    "print(f\"a[-1] = {a[-1]}\")"
   ]
  },
  {
   "cell_type": "code",
   "execution_count": null,
   "id": "5decd145",
   "metadata": {},
   "outputs": [],
   "source": [
    "#indexs must be within the range of the vector or they will produce and error\n",
    "try:\n",
    "    c = a[10]\n",
    "except Exception as e:\n",
    "    print(\"The error message you'll see is:\")\n",
    "    print(e)"
   ]
  },
  {
   "cell_type": "code",
   "execution_count": null,
   "id": "46e7dccf",
   "metadata": {},
   "outputs": [],
   "source": [
    "#vector slicing operations\n",
    "a = np.arange(10)\n",
    "print(f\"a         = {a}\")"
   ]
  },
  {
   "cell_type": "code",
   "execution_count": null,
   "id": "4042cf67",
   "metadata": {},
   "outputs": [],
   "source": [
    "#access 5 consecutive elements (start:stop:step)\n",
    "c = a[2:7:1];     print(\"a[2:7:1] = \", c)"
   ]
  },
  {
   "cell_type": "code",
   "execution_count": null,
   "id": "aa7f4862",
   "metadata": {},
   "outputs": [],
   "source": [
    "# access 3 elements separated by two \n",
    "c = a[2:7:2];     print(\"a[2:7:2] = \", c)"
   ]
  },
  {
   "cell_type": "code",
   "execution_count": null,
   "id": "7373d3fd",
   "metadata": {},
   "outputs": [],
   "source": [
    "# access all elements index 3 and above\n",
    "c = a[3:];        print(\"a[3:]    = \", c)"
   ]
  },
  {
   "cell_type": "code",
   "execution_count": null,
   "id": "f7fbc165",
   "metadata": {},
   "outputs": [],
   "source": [
    "# access all elements below index 3\n",
    "c = a[:3];        print(\"a[:3]    = \", c)"
   ]
  },
  {
   "cell_type": "code",
   "execution_count": null,
   "id": "a28693a5",
   "metadata": {},
   "outputs": [],
   "source": [
    "# access all elements\n",
    "c = a[:];         print(\"a[:]     = \", c)"
   ]
  },
  {
   "cell_type": "code",
   "execution_count": null,
   "id": "2134e57a",
   "metadata": {},
   "outputs": [],
   "source": [
    "# Single vector operations\n",
    "a = np.array([1,2,3,4])\n",
    "print(f\"a             : {a}\")\n",
    "# negate elements of a\n",
    "b = -a \n",
    "print(f\"b = -a        : {b}\")"
   ]
  },
  {
   "cell_type": "code",
   "execution_count": null,
   "id": "04f04374",
   "metadata": {},
   "outputs": [],
   "source": [
    "# sum all elements of a, returns a scalar\n",
    "b = np.sum(a) \n",
    "print(f\"b = np.sum(a) : {b}\")"
   ]
  },
  {
   "cell_type": "code",
   "execution_count": null,
   "id": "929b4d04",
   "metadata": {},
   "outputs": [],
   "source": [
    "b = np.mean(a)\n",
    "print(f\"b = np.mean(a): {b}\")"
   ]
  },
  {
   "cell_type": "code",
   "execution_count": null,
   "id": "aeaa95ce",
   "metadata": {},
   "outputs": [],
   "source": [
    "b = a**2\n",
    "print(f\"b = a**2      : {b}\")"
   ]
  },
  {
   "cell_type": "code",
   "execution_count": null,
   "id": "ed16e430",
   "metadata": {},
   "outputs": [],
   "source": [
    "# Vector Vector element-wise operations\n",
    "a = np.array([ 1, 2, 3, 4])\n",
    "b = np.array([-1,-2, 3, 4])\n",
    "print(f\"Binary operators work element wise: {a + b}\")"
   ]
  },
  {
   "cell_type": "code",
   "execution_count": null,
   "id": "f8ceccff",
   "metadata": {},
   "outputs": [],
   "source": [
    "# try a mismatched vector operation\n",
    "c = np.array([1, 2])\n",
    "try:\n",
    "    d = a + c\n",
    "except Exception as e:\n",
    "    print(\"The error message you'll see is:\")\n",
    "    print(e)"
   ]
  },
  {
   "cell_type": "code",
   "execution_count": null,
   "id": "e5bed0f5",
   "metadata": {},
   "outputs": [],
   "source": [
    "# Scalar vector operations\n",
    "a = np.array([1, 2, 3, 4])"
   ]
  },
  {
   "cell_type": "code",
   "execution_count": null,
   "id": "11f4f9eb",
   "metadata": {
    "lines_to_next_cell": 1
   },
   "outputs": [],
   "source": [
    "# multiply a by a scalar\n",
    "b = 5 * a \n",
    "print(f\"b = 5 * a : {b}\")"
   ]
  },
  {
   "cell_type": "markdown",
   "id": "3d213ae7",
   "metadata": {},
   "source": [
    "Vector Vector dot product"
   ]
  },
  {
   "cell_type": "code",
   "execution_count": null,
   "id": "6f88a9f8",
   "metadata": {
    "lines_to_next_cell": 1
   },
   "outputs": [],
   "source": [
    "def my_dot(a, b): \n",
    "    \"\"\"\n",
    "   Compute the dot product of two vectors\n",
    " \n",
    "    Args:\n",
    "      a (ndarray (n,)):  input vector \n",
    "      b (ndarray (n,)):  input vector with same dimension as a\n",
    "    \n",
    "    Returns:\n",
    "      x (scalar): \n",
    "    \"\"\"\n",
    "    x=0\n",
    "    for i in range(a.shape[0]):\n",
    "        x = x + a[i] * b[i]\n",
    "    return x"
   ]
  },
  {
   "cell_type": "code",
   "execution_count": null,
   "id": "75074acd",
   "metadata": {},
   "outputs": [],
   "source": [
    "# test 1-D\n",
    "a = np.array([1, 2, 3, 4])\n",
    "b = np.array([-1, 4, 3, 2])\n",
    "print(f\"my_dot(a, b) = {my_dot(a, b)}\")"
   ]
  },
  {
   "cell_type": "code",
   "execution_count": null,
   "id": "cce494ba",
   "metadata": {},
   "outputs": [],
   "source": [
    "# test 1-D\n",
    "a = np.array([1, 2, 3, 4])\n",
    "b = np.array([-1, 4, 3, 2])\n",
    "c = np.dot(a, b)\n",
    "print(f\"NumPy 1-D np.dot(a, b) = {c}, np.dot(a, b).shape = {c.shape} \") \n",
    "c = np.dot(b, a)\n",
    "print(f\"NumPy 1-D np.dot(b, a) = {c}, np.dot(a, b).shape = {c.shape} \")"
   ]
  },
  {
   "cell_type": "code",
   "execution_count": null,
   "id": "a04ed77a",
   "metadata": {},
   "outputs": [],
   "source": [
    "# vector vs for loop\n",
    "np.random.seed(1)\n",
    "a = np.random.rand(10000000)  # very large arrays\n",
    "b = np.random.rand(10000000)"
   ]
  },
  {
   "cell_type": "code",
   "execution_count": null,
   "id": "81f4d01f",
   "metadata": {},
   "outputs": [],
   "source": [
    "tic = time.time()  # capture start time\n",
    "c = np.dot(a, b)\n",
    "toc = time.time()  # capture end time"
   ]
  },
  {
   "cell_type": "code",
   "execution_count": null,
   "id": "8c1a2fee",
   "metadata": {},
   "outputs": [],
   "source": [
    "print(f\"np.dot(a, b) =  {c:.4f}\")\n",
    "print(f\"Vectorized version duration: {1000*(toc-tic):.4f} ms \")"
   ]
  },
  {
   "cell_type": "code",
   "execution_count": null,
   "id": "2e59fbff",
   "metadata": {},
   "outputs": [],
   "source": [
    "tic = time.time()  # capture start time\n",
    "c = my_dot(a,b)\n",
    "toc = time.time()  # capture end time"
   ]
  },
  {
   "cell_type": "code",
   "execution_count": null,
   "id": "e6ec4cac",
   "metadata": {},
   "outputs": [],
   "source": [
    "print(f\"my_dot(a, b) =  {c:.4f}\")\n",
    "print(f\"loop version duration: {1000*(toc-tic):.4f} ms \")"
   ]
  },
  {
   "cell_type": "code",
   "execution_count": null,
   "id": "bfe2fc63",
   "metadata": {
    "lines_to_next_cell": 2
   },
   "outputs": [],
   "source": [
    "del(a);del(b)  #remove these big arrays from memory"
   ]
  },
  {
   "cell_type": "markdown",
   "id": "fb14948a",
   "metadata": {
    "lines_to_next_cell": 2
   },
   "source": [
    "Going forward, our examples will be stored in an array, X_train of dimension (m,n). This will be explained more in context, but here it is important to note it is a 2 Dimensional array or matrix (see next section on matrices).\n",
    "w will be a 1-dimensional vector of shape (n,).\n",
    "we will perform operations by looping through the examples, extracting each example to work on individually by indexing X. For example:X[i]\n",
    "X[i] returns a value of shape (n,), a 1-dimensional vector. Consequently, operations involving X[i] are often vector-vector."
   ]
  },
  {
   "cell_type": "code",
   "execution_count": null,
   "id": "7efeb4d2",
   "metadata": {},
   "outputs": [],
   "source": [
    "# show common Course 1 example\n",
    "X = np.array([[1],[2],[3],[4]])\n",
    "w = np.array([2])\n",
    "c = np.dot(X[1], w)"
   ]
  },
  {
   "cell_type": "code",
   "execution_count": null,
   "id": "876078a3",
   "metadata": {},
   "outputs": [],
   "source": [
    "print(f\"X[1] has shape {X[1].shape}\")\n",
    "print(f\"w has shape {w.shape}\")\n",
    "print(f\"c has shape {c.shape}\")"
   ]
  },
  {
   "cell_type": "code",
   "execution_count": null,
   "id": "22bee884",
   "metadata": {},
   "outputs": [],
   "source": [
    "# Matrices\n",
    "a = np.zeros((1, 5))                                       \n",
    "print(f\"a shape = {a.shape}, a = {a}\")                     "
   ]
  },
  {
   "cell_type": "code",
   "execution_count": null,
   "id": "30954ac0",
   "metadata": {},
   "outputs": [],
   "source": [
    "a = np.zeros((2, 1))                                                                   \n",
    "print(f\"a shape = {a.shape}, a = {a}\") "
   ]
  },
  {
   "cell_type": "code",
   "execution_count": null,
   "id": "7ca0ff27",
   "metadata": {},
   "outputs": [],
   "source": [
    "a = np.random.random_sample((1, 1))  \n",
    "print(f\"a shape = {a.shape}, a = {a}\") "
   ]
  },
  {
   "cell_type": "code",
   "execution_count": null,
   "id": "67cc7dc5",
   "metadata": {},
   "outputs": [],
   "source": [
    "# NumPy routines which allocate memory and fill with user specified values\n",
    "a = np.array([[5], [4], [3]]);   print(f\" a shape = {a.shape}, np.array: a = {a}\")\n",
    "a = np.array([[5],   # One can also\n",
    "              [4],   # separate values\n",
    "              [3]]); #into separate rows\n",
    "print(f\" a shape = {a.shape}, np.array: a = {a}\")"
   ]
  },
  {
   "cell_type": "code",
   "execution_count": null,
   "id": "246b7b89",
   "metadata": {},
   "outputs": [],
   "source": [
    "#vector indexing operations on matrices\n",
    "a = np.arange(6).reshape(-1, 2)   #reshape is a convenient way to create matrices\n",
    "print(f\"a.shape: {a.shape}, \\na= {a}\")"
   ]
  },
  {
   "cell_type": "code",
   "execution_count": null,
   "id": "0fbc2ede",
   "metadata": {},
   "outputs": [],
   "source": [
    "#access an element\n",
    "print(f\"\\na[2,0].shape:   {a[2, 0].shape}, a[2,0] = {a[2, 0]},     type(a[2,0]) = {type(a[2, 0])} Accessing an element returns a scalar\\n\")"
   ]
  },
  {
   "cell_type": "code",
   "execution_count": null,
   "id": "edaaf85d",
   "metadata": {},
   "outputs": [],
   "source": [
    "#access a row\n",
    "print(f\"a[2].shape:   {a[2].shape}, a[2]   = {a[2]}, type(a[2])   = {type(a[2])}\")"
   ]
  },
  {
   "cell_type": "code",
   "execution_count": null,
   "id": "a17d305f",
   "metadata": {},
   "outputs": [],
   "source": [
    "#vector 2-D slicing operations\n",
    "a = np.arange(20).reshape(-1, 10)\n",
    "print(f\"a = \\n{a}\")"
   ]
  },
  {
   "cell_type": "code",
   "execution_count": null,
   "id": "b034314b",
   "metadata": {},
   "outputs": [],
   "source": [
    "#access 5 consecutive elements (start:stop:step)\n",
    "print(\"a[0, 2:7:1] = \", a[0, 2:7:1], \",  a[0, 2:7:1].shape =\", a[0, 2:7:1].shape, \"a 1-D array\")"
   ]
  },
  {
   "cell_type": "code",
   "execution_count": null,
   "id": "07fa7f45",
   "metadata": {},
   "outputs": [],
   "source": [
    "#access 5 consecutive elements (start:stop:step) in two rows\n",
    "print(\"a[:, 2:7:1] = \\n\", a[:, 2:7:1], \",  a[:, 2:7:1].shape =\", a[:, 2:7:1].shape, \"a 2-D array\")"
   ]
  },
  {
   "cell_type": "code",
   "execution_count": null,
   "id": "a97673c5",
   "metadata": {},
   "outputs": [],
   "source": [
    "# access all elements\n",
    "print(\"a[:,:] = \\n\", a[:,:], \",  a[:,:].shape =\", a[:,:].shape)"
   ]
  },
  {
   "cell_type": "code",
   "execution_count": null,
   "id": "f327b1ec",
   "metadata": {},
   "outputs": [],
   "source": [
    "# access all elements in one row (very common usage)\n",
    "print(\"a[1,:] = \", a[1,:], \",  a[1,:].shape =\", a[1,:].shape, \"a 1-D array\")\n",
    "# same as\n",
    "print(\"a[1]   = \", a[1],   \",  a[1].shape   =\", a[1].shape, \"a 1-D array\")"
   ]
  }
 ],
 "metadata": {
  "jupytext": {
   "cell_metadata_filter": "-all",
   "main_language": "python",
   "notebook_metadata_filter": "-all"
  }
 },
 "nbformat": 4,
 "nbformat_minor": 5
}
